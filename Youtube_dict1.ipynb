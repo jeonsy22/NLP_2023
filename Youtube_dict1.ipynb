{
  "nbformat": 4,
  "nbformat_minor": 0,
  "metadata": {
    "colab": {
      "provenance": [],
      "authorship_tag": "ABX9TyNXkxlun8c3ypM3c+G77vTt",
      "include_colab_link": true
    },
    "kernelspec": {
      "name": "python3",
      "display_name": "Python 3"
    },
    "language_info": {
      "name": "python"
    }
  },
  "cells": [
    {
      "cell_type": "markdown",
      "metadata": {
        "id": "view-in-github",
        "colab_type": "text"
      },
      "source": [
        "<a href=\"https://colab.research.google.com/github/jeonsy22/NLP_2023/blob/main/Youtube_dict1.ipynb\" target=\"_parent\"><img src=\"https://colab.research.google.com/assets/colab-badge.svg\" alt=\"Open In Colab\"/></a>"
      ]
    },
    {
      "cell_type": "markdown",
      "source": [
        "딕셔너리(dictionary)\n",
        "* 순서를 가지지 않는다.\n",
        "* 키(key)와 값(value)의 쌍으로 이루어져 있다.\n",
        "* type은 dict로 표시된다.\n",
        "* key를 사용하여 값을 조회할 수 있다.\n",
        "* 딕셔너리는 **수정, 삭제, 추가가 가능**하다."
      ],
      "metadata": {
        "id": "-6ktdv1yf3Gz"
      }
    },
    {
      "cell_type": "code",
      "source": [
        "mydict = dict()\n",
        "print(type(mydict))\n",
        "mydict"
      ],
      "metadata": {
        "colab": {
          "base_uri": "https://localhost:8080/"
        },
        "id": "r1nJ0aRFg4An",
        "outputId": "a7868f9e-3523-4b98-aba2-ebd1eaa53229"
      },
      "execution_count": 16,
      "outputs": [
        {
          "output_type": "stream",
          "name": "stdout",
          "text": [
            "<class 'dict'>\n"
          ]
        },
        {
          "output_type": "execute_result",
          "data": {
            "text/plain": [
              "{}"
            ]
          },
          "metadata": {},
          "execution_count": 16
        }
      ]
    },
    {
      "cell_type": "code",
      "source": [
        "mydict = {'a': 1, 'b': 2, 'c': 3}\n",
        "print(type(mydict))\n",
        "mydict\n"
      ],
      "metadata": {
        "colab": {
          "base_uri": "https://localhost:8080/"
        },
        "id": "EA3oe0UZgdBg",
        "outputId": "ef48bd0c-8dd3-42ca-db44-547f781f2311"
      },
      "execution_count": 17,
      "outputs": [
        {
          "output_type": "stream",
          "name": "stdout",
          "text": [
            "<class 'dict'>\n"
          ]
        },
        {
          "output_type": "execute_result",
          "data": {
            "text/plain": [
              "{'a': 1, 'b': 2, 'c': 3}"
            ]
          },
          "metadata": {},
          "execution_count": 17
        }
      ]
    },
    {
      "cell_type": "markdown",
      "source": [
        "딕셔너리는 여러 타입의 key를 가질 수 있다."
      ],
      "metadata": {
        "id": "HSy5ipkbhDr9"
      }
    },
    {
      "cell_type": "code",
      "source": [
        "mydict = {'a': 1, '가':2, 100: 3, 3.14: 4, True: 5}\n",
        "print(mydict)"
      ],
      "metadata": {
        "colab": {
          "base_uri": "https://localhost:8080/"
        },
        "id": "EslAw_V_g42r",
        "outputId": "5688ee03-f939-4031-ee94-ae7b05a66975"
      },
      "execution_count": 18,
      "outputs": [
        {
          "output_type": "stream",
          "name": "stdout",
          "text": [
            "{'a': 1, '가': 2, 100: 3, 3.14: 4, True: 5}\n"
          ]
        }
      ]
    },
    {
      "cell_type": "markdown",
      "source": [
        "값 조회\n",
        "* key 값으로 값을 조회할 수 있다."
      ],
      "metadata": {
        "id": "O4lkeZqAhXXo"
      }
    },
    {
      "cell_type": "code",
      "source": [
        "mydict = {'a': 1, '가':2, 100: 3, 3.14: 4, True: 5}\n",
        "print(mydict)"
      ],
      "metadata": {
        "colab": {
          "base_uri": "https://localhost:8080/"
        },
        "id": "yM5ihJa9hV_a",
        "outputId": "de11487b-9bf9-4730-fa96-d1792b63b22b"
      },
      "execution_count": 19,
      "outputs": [
        {
          "output_type": "stream",
          "name": "stdout",
          "text": [
            "{'a': 1, '가': 2, 100: 3, 3.14: 4, True: 5}\n"
          ]
        }
      ]
    },
    {
      "cell_type": "code",
      "source": [
        "#@markdown key를 지정하여 값을 조회할 수 있다.\n",
        "mydict['a']"
      ],
      "metadata": {
        "colab": {
          "base_uri": "https://localhost:8080/"
        },
        "id": "Olz0PXrnhfr1",
        "outputId": "e5c621ed-e2d3-494f-ad72-6c0c4e19e4ba"
      },
      "execution_count": 20,
      "outputs": [
        {
          "output_type": "execute_result",
          "data": {
            "text/plain": [
              "1"
            ]
          },
          "metadata": {},
          "execution_count": 20
        }
      ]
    },
    {
      "cell_type": "code",
      "source": [
        "#@markdown key가 없는 경우 Error가 발생.\n",
        "mydict['전']"
      ],
      "metadata": {
        "colab": {
          "base_uri": "https://localhost:8080/",
          "height": 199
        },
        "id": "iZfog4sdi-dJ",
        "outputId": "85799d21-0f7a-4aa3-b3e5-7c4e390484dd"
      },
      "execution_count": 21,
      "outputs": [
        {
          "output_type": "error",
          "ename": "KeyError",
          "evalue": "ignored",
          "traceback": [
            "\u001b[0;31m---------------------------------------------------------------------------\u001b[0m",
            "\u001b[0;31mKeyError\u001b[0m                                  Traceback (most recent call last)",
            "\u001b[0;32m<ipython-input-21-b370fb0c7e11>\u001b[0m in \u001b[0;36m<cell line: 2>\u001b[0;34m()\u001b[0m\n\u001b[1;32m      1\u001b[0m \u001b[0;31m#@markdown key가 없는 경우 Error가 발생.\u001b[0m\u001b[0;34m\u001b[0m\u001b[0;34m\u001b[0m\u001b[0m\n\u001b[0;32m----> 2\u001b[0;31m \u001b[0mmydict\u001b[0m\u001b[0;34m[\u001b[0m\u001b[0;34m'전'\u001b[0m\u001b[0;34m]\u001b[0m\u001b[0;34m\u001b[0m\u001b[0;34m\u001b[0m\u001b[0m\n\u001b[0m",
            "\u001b[0;31mKeyError\u001b[0m: '전'"
          ]
        }
      ]
    },
    {
      "cell_type": "code",
      "source": [
        "#@markdown get() 메서드를 활용하여 값 조회 가능\n",
        "mydict.get('a')"
      ],
      "metadata": {
        "colab": {
          "base_uri": "https://localhost:8080/"
        },
        "id": "JAePVcasjK5V",
        "outputId": "0bc5b4e1-ee63-46aa-fc89-e0122abcff0e"
      },
      "execution_count": 22,
      "outputs": [
        {
          "output_type": "execute_result",
          "data": {
            "text/plain": [
              "1"
            ]
          },
          "metadata": {},
          "execution_count": 22
        }
      ]
    },
    {
      "cell_type": "code",
      "source": [
        "#@markdown get()를 사용하면 key가 없더라도 Error가 발생하지 않는다. 단지 None이 반환된다.\n",
        "mydict.get('전')"
      ],
      "metadata": {
        "id": "MkjcUvgWkMe9"
      },
      "execution_count": 23,
      "outputs": []
    },
    {
      "cell_type": "code",
      "source": [
        "#@markdown keys(): 모든 key 조회\n",
        "mydict = {'a': 100, 'b': 200, 'c': 300, 'd': 400, 'e': 500}\n",
        "print(mydict)"
      ],
      "metadata": {
        "colab": {
          "base_uri": "https://localhost:8080/"
        },
        "id": "z54501oBkgSs",
        "outputId": "25b645af-5da9-4942-a6b4-7399509014b5"
      },
      "execution_count": 27,
      "outputs": [
        {
          "output_type": "stream",
          "name": "stdout",
          "text": [
            "{'a': 100, 'b': 200, 'c': 300, 'd': 400, 'e': 500}\n"
          ]
        }
      ]
    },
    {
      "cell_type": "code",
      "source": [
        "mydict.keys()"
      ],
      "metadata": {
        "colab": {
          "base_uri": "https://localhost:8080/"
        },
        "id": "A7nv9wXNlVJY",
        "outputId": "c04f984c-c0c5-4491-a75e-50ab8ff98a81"
      },
      "execution_count": 25,
      "outputs": [
        {
          "output_type": "execute_result",
          "data": {
            "text/plain": [
              "dict_keys(['a', 'b', 'c', 'd', 'e'])"
            ]
          },
          "metadata": {},
          "execution_count": 25
        }
      ]
    },
    {
      "cell_type": "code",
      "source": [
        "#@markdown values(): 모든 value 조회\n",
        "mydict.values()"
      ],
      "metadata": {
        "colab": {
          "base_uri": "https://localhost:8080/"
        },
        "id": "rTh3cYM7lXpg",
        "outputId": "38b93016-b878-452d-95e4-8209a0244139"
      },
      "execution_count": 26,
      "outputs": [
        {
          "output_type": "execute_result",
          "data": {
            "text/plain": [
              "dict_values([100, 200, 300, 400, 500])"
            ]
          },
          "metadata": {},
          "execution_count": 26
        }
      ]
    },
    {
      "cell_type": "code",
      "source": [
        "#@markdown items() 모든 key, value 조회\n",
        "#@markdown * key, value가 튜플로 묶여서 조회.\n",
        "mydict.items()"
      ],
      "metadata": {
        "colab": {
          "base_uri": "https://localhost:8080/"
        },
        "id": "6q4k4HvAl6kp",
        "outputId": "2cf543a2-13f1-43be-d500-494139f9324e"
      },
      "execution_count": 28,
      "outputs": [
        {
          "output_type": "execute_result",
          "data": {
            "text/plain": [
              "dict_items([('a', 100), ('b', 200), ('c', 300), ('d', 400), ('e', 500)])"
            ]
          },
          "metadata": {},
          "execution_count": 28
        }
      ]
    },
    {
      "cell_type": "code",
      "source": [
        "list(mydict.items())"
      ],
      "metadata": {
        "colab": {
          "base_uri": "https://localhost:8080/"
        },
        "id": "ra81DtmrmlLQ",
        "outputId": "4ef312f1-f47f-4fc2-9712-78e43259f3f6"
      },
      "execution_count": 30,
      "outputs": [
        {
          "output_type": "execute_result",
          "data": {
            "text/plain": [
              "[('a', 100), ('b', 200), ('c', 300), ('d', 400), ('e', 500)]"
            ]
          },
          "metadata": {},
          "execution_count": 30
        }
      ]
    }
  ]
}