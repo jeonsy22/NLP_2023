{
  "nbformat": 4,
  "nbformat_minor": 0,
  "metadata": {
    "colab": {
      "provenance": [],
      "authorship_tag": "ABX9TyPJ+ozp4p6Ht7kvLyC+Gdbi",
      "include_colab_link": true
    },
    "kernelspec": {
      "name": "python3",
      "display_name": "Python 3"
    },
    "language_info": {
      "name": "python"
    }
  },
  "cells": [
    {
      "cell_type": "markdown",
      "metadata": {
        "id": "view-in-github",
        "colab_type": "text"
      },
      "source": [
        "<a href=\"https://colab.research.google.com/github/jeonsy22/NLP_2023/blob/main/youtube_for_in%EA%B5%AC%EB%AC%B8.ipynb\" target=\"_parent\"><img src=\"https://colab.research.google.com/assets/colab-badge.svg\" alt=\"Open In Colab\"/></a>"
      ]
    },
    {
      "cell_type": "markdown",
      "source": [
        "반복문\n",
        "* 1회 이상 반복해서 수행하는 일을 반복문으로 통해 쉽게 해결 가능.\n",
        "* 반드시 list, tupie, dict, set 등 집합에 대한 순회를 돌며 일을 처리할 때 자주 사용.\n",
        "* list, tuple, dict, set, 문자열까지 모두 **순회가능한(iterable) 객체**이다.\n",
        "* 순회가능한 객체는 반복문을 통해 순회 가능."
      ],
      "metadata": {
        "id": "LrQCqm808vf9"
      }
    },
    {
      "cell_type": "markdown",
      "source": [
        "for와 in 구문(반복문)\n",
        "\n",
        "[기본 문법]\n",
        "for 하나씩 꺼내올 때 변수 in [꺼내올 집합]:\n",
        "(indent)\n",
        "* list, tuple, set, dictionary, 문자열 형태 모두 가능\n",
        "* range와 결합하여 사용 가능"
      ],
      "metadata": {
        "id": "sZVphLnt-J4B"
      }
    },
    {
      "cell_type": "code",
      "source": [
        "#@markdown 리스트(list)\n",
        "mylist = [1, 2, 3, 4, 5]"
      ],
      "metadata": {
        "id": "IPWTCNUe-JrD"
      },
      "execution_count": 2,
      "outputs": []
    },
    {
      "cell_type": "code",
      "source": [
        "for i in mylist:\n",
        "  print(i)"
      ],
      "metadata": {
        "colab": {
          "base_uri": "https://localhost:8080/"
        },
        "id": "-_K9daqg-EJ5",
        "outputId": "8fab73ff-0678-4829-dcff-985676277b17"
      },
      "execution_count": 3,
      "outputs": [
        {
          "output_type": "stream",
          "name": "stdout",
          "text": [
            "1\n",
            "2\n",
            "3\n",
            "4\n",
            "5\n"
          ]
        }
      ]
    },
    {
      "cell_type": "code",
      "source": [
        "#@markdown 튜플(tuple)\n",
        "for i in (1, 2, 3, 4, 5):\n",
        "  print(i)"
      ],
      "metadata": {
        "colab": {
          "base_uri": "https://localhost:8080/"
        },
        "id": "I4_AORNw-ugX",
        "outputId": "c5982d3b-c19c-4ee1-d0af-4f1f443d4b63"
      },
      "execution_count": 4,
      "outputs": [
        {
          "output_type": "stream",
          "name": "stdout",
          "text": [
            "1\n",
            "2\n",
            "3\n",
            "4\n",
            "5\n"
          ]
        }
      ]
    },
    {
      "cell_type": "markdown",
      "source": [
        "tuple + list"
      ],
      "metadata": {
        "id": "sOKAJjKLBE1Z"
      }
    },
    {
      "cell_type": "code",
      "source": [
        "mytuplelist = [('전서윤', 10), ('전하영', 20), ('김소라', 30)]\n",
        "\n",
        "for name, age in mytuplelist:\n",
        "  print(name, age)"
      ],
      "metadata": {
        "colab": {
          "base_uri": "https://localhost:8080/"
        },
        "id": "ZyoVWvuN_W-O",
        "outputId": "252d98cb-83b9-4e50-b8bf-c6ec45d67987"
      },
      "execution_count": 5,
      "outputs": [
        {
          "output_type": "stream",
          "name": "stdout",
          "text": [
            "전서윤 10\n",
            "전하영 20\n",
            "김소라 30\n"
          ]
        }
      ]
    },
    {
      "cell_type": "markdown",
      "source": [
        "딕셔너리(dictionary)"
      ],
      "metadata": {
        "id": "bcEsaqQJBg26"
      }
    },
    {
      "cell_type": "code",
      "source": [
        "mydict = {'헐크': 50, '아이언맨': 60, '스파이더맨': 70}"
      ],
      "metadata": {
        "id": "Cp3JIFZPBe_o"
      },
      "execution_count": 6,
      "outputs": []
    },
    {
      "cell_type": "code",
      "source": [
        "mydict.keys()"
      ],
      "metadata": {
        "colab": {
          "base_uri": "https://localhost:8080/"
        },
        "id": "dVAPdbRUBu-s",
        "outputId": "de7289be-e3d8-4186-ad76-f4c86160508c"
      },
      "execution_count": 7,
      "outputs": [
        {
          "output_type": "execute_result",
          "data": {
            "text/plain": [
              "dict_keys(['헐크', '아이언맨', '스파이더맨'])"
            ]
          },
          "metadata": {},
          "execution_count": 7
        }
      ]
    },
    {
      "cell_type": "code",
      "source": [
        "for key in mydict.keys():\n",
        "  print(key)"
      ],
      "metadata": {
        "colab": {
          "base_uri": "https://localhost:8080/"
        },
        "id": "xmLwvc5hBz1O",
        "outputId": "e0650f92-5f9b-46f9-8d9a-19617d93580d"
      },
      "execution_count": 8,
      "outputs": [
        {
          "output_type": "stream",
          "name": "stdout",
          "text": [
            "헐크\n",
            "아이언맨\n",
            "스파이더맨\n"
          ]
        }
      ]
    },
    {
      "cell_type": "code",
      "source": [
        "for value in mydict.values():\n",
        "  print(value)"
      ],
      "metadata": {
        "colab": {
          "base_uri": "https://localhost:8080/"
        },
        "id": "jo9idLxbB9RR",
        "outputId": "decf1af4-258f-4b82-f461-b8c140e87275"
      },
      "execution_count": 10,
      "outputs": [
        {
          "output_type": "stream",
          "name": "stdout",
          "text": [
            "50\n",
            "60\n",
            "70\n"
          ]
        }
      ]
    },
    {
      "cell_type": "code",
      "source": [
        "mydict.items()"
      ],
      "metadata": {
        "colab": {
          "base_uri": "https://localhost:8080/"
        },
        "id": "-hTOfoHjCIM0",
        "outputId": "c26b3167-091a-477c-d1e4-3c848277724f"
      },
      "execution_count": 11,
      "outputs": [
        {
          "output_type": "execute_result",
          "data": {
            "text/plain": [
              "dict_items([('헐크', 50), ('아이언맨', 60), ('스파이더맨', 70)])"
            ]
          },
          "metadata": {},
          "execution_count": 11
        }
      ]
    },
    {
      "cell_type": "code",
      "source": [
        "for name, age in mydict.items():\n",
        "  print(name, age)"
      ],
      "metadata": {
        "colab": {
          "base_uri": "https://localhost:8080/"
        },
        "id": "avZupjcnCR2P",
        "outputId": "e085bfd8-45d9-45f3-cef2-dc2ae73e5c4e"
      },
      "execution_count": 12,
      "outputs": [
        {
          "output_type": "stream",
          "name": "stdout",
          "text": [
            "헐크 50\n",
            "아이언맨 60\n",
            "스파이더맨 70\n"
          ]
        }
      ]
    },
    {
      "cell_type": "markdown",
      "source": [
        "문자열(str)"
      ],
      "metadata": {
        "id": "emV_vWWRCjPY"
      }
    },
    {
      "cell_type": "code",
      "source": [
        "for a in \"Hello\":\n",
        "  print(a)"
      ],
      "metadata": {
        "colab": {
          "base_uri": "https://localhost:8080/"
        },
        "id": "j17o4Rq4CfhF",
        "outputId": "fb8f812e-04e1-47d2-bf87-b7ae5d1b9781"
      },
      "execution_count": 13,
      "outputs": [
        {
          "output_type": "stream",
          "name": "stdout",
          "text": [
            "H\n",
            "e\n",
            "l\n",
            "l\n",
            "o\n"
          ]
        }
      ]
    }
  ]
}