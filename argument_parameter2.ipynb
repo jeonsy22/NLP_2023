{
  "nbformat": 4,
  "nbformat_minor": 0,
  "metadata": {
    "colab": {
      "provenance": [],
      "authorship_tag": "ABX9TyMHDcaEZmNKbdd1KXk0HbAS",
      "include_colab_link": true
    },
    "kernelspec": {
      "name": "python3",
      "display_name": "Python 3"
    },
    "language_info": {
      "name": "python"
    }
  },
  "cells": [
    {
      "cell_type": "markdown",
      "metadata": {
        "id": "view-in-github",
        "colab_type": "text"
      },
      "source": [
        "<a href=\"https://colab.research.google.com/github/jeonsy22/NLP_2023/blob/main/argument_parameter2.ipynb\" target=\"_parent\"><img src=\"https://colab.research.google.com/assets/colab-badge.svg\" alt=\"Open In Colab\"/></a>"
      ]
    },
    {
      "cell_type": "markdown",
      "source": [
        "키워드 인수(keyword arguments)\n",
        "* 위치 인수의 위치를 정확히 기억하지 못하고 혼란을 야기할 수 있기 때문에 **인수명에 값을 직접 지정**한다."
      ],
      "metadata": {
        "id": "iERaVQc9MPIW"
      }
    },
    {
      "cell_type": "code",
      "execution_count": 1,
      "metadata": {
        "id": "ZtIKDHl0L-xJ"
      },
      "outputs": [],
      "source": [
        "def add_function(a, b, c):\n",
        "  result = a + b + c\n",
        "  print(f'a: {a}, b: {b}, c: {c}')\n",
        "  print(f'sum: {result}')\n",
        "  return result"
      ]
    },
    {
      "cell_type": "code",
      "source": [
        "#@markdown 키워드로 매개변수에 대한 값을 지정하는 예시\n",
        "add_function(b = 3, a = 5, c = 1)"
      ],
      "metadata": {
        "colab": {
          "base_uri": "https://localhost:8080/"
        },
        "id": "pIv-AjNBM_4o",
        "outputId": "61e07a56-305e-41be-e8c4-825e642b6c5e"
      },
      "execution_count": 2,
      "outputs": [
        {
          "output_type": "stream",
          "name": "stdout",
          "text": [
            "a: 5, b: 3, c: 1\n",
            "sum: 9\n"
          ]
        },
        {
          "output_type": "execute_result",
          "data": {
            "text/plain": [
              "9"
            ]
          },
          "metadata": {},
          "execution_count": 2
        }
      ]
    },
    {
      "cell_type": "markdown",
      "source": [
        "기본 매개변수(default parameter)\n",
        "* 매개변수에 **기본 값을 지정**할 수 있다.\n",
        "* 기본값을 지정시 인수에 값을 **생략 가능**하다.\n",
        "* 단, 기본값이 지정된 인수는 위치 인수보다 다음에 위치해야한다."
      ],
      "metadata": {
        "id": "M_r8qVGINQu2"
      }
    },
    {
      "cell_type": "code",
      "source": [
        "def add_function(a, b = 0, c = 0):\n",
        "  result = a + b + c\n",
        "  print(f'a: {a}, b: {b}, c: {c}')\n",
        "  print(f'sum: {result}')\n",
        "  return result"
      ],
      "metadata": {
        "id": "9pk59yW1NPJ6"
      },
      "execution_count": 3,
      "outputs": []
    },
    {
      "cell_type": "code",
      "source": [
        "add_function(1)"
      ],
      "metadata": {
        "colab": {
          "base_uri": "https://localhost:8080/"
        },
        "id": "6rEFWcozONhS",
        "outputId": "a38c8fad-c54a-494c-d3a8-d28582aaabe0"
      },
      "execution_count": 4,
      "outputs": [
        {
          "output_type": "stream",
          "name": "stdout",
          "text": [
            "a: 1, b: 0, c: 0\n",
            "sum: 1\n"
          ]
        },
        {
          "output_type": "execute_result",
          "data": {
            "text/plain": [
              "1"
            ]
          },
          "metadata": {},
          "execution_count": 4
        }
      ]
    },
    {
      "cell_type": "code",
      "source": [
        "add_function(1, 2)"
      ],
      "metadata": {
        "colab": {
          "base_uri": "https://localhost:8080/"
        },
        "id": "CbkgS4NPOUan",
        "outputId": "6f44dc84-6ff7-46d6-d6fe-066bacac18b2"
      },
      "execution_count": 5,
      "outputs": [
        {
          "output_type": "stream",
          "name": "stdout",
          "text": [
            "a: 1, b: 2, c: 0\n",
            "sum: 3\n"
          ]
        },
        {
          "output_type": "execute_result",
          "data": {
            "text/plain": [
              "3"
            ]
          },
          "metadata": {},
          "execution_count": 5
        }
      ]
    },
    {
      "cell_type": "code",
      "source": [
        "add_function(1, 2, 3)"
      ],
      "metadata": {
        "colab": {
          "base_uri": "https://localhost:8080/"
        },
        "id": "zjj5LSa4OYk4",
        "outputId": "b5b37d62-c63e-4a8b-bb82-40faa5c67c0d"
      },
      "execution_count": 6,
      "outputs": [
        {
          "output_type": "stream",
          "name": "stdout",
          "text": [
            "a: 1, b: 2, c: 3\n",
            "sum: 6\n"
          ]
        },
        {
          "output_type": "execute_result",
          "data": {
            "text/plain": [
              "6"
            ]
          },
          "metadata": {},
          "execution_count": 6
        }
      ]
    },
    {
      "cell_type": "code",
      "source": [
        "add_function(c = 3, a = 1, b = 2)"
      ],
      "metadata": {
        "colab": {
          "base_uri": "https://localhost:8080/"
        },
        "id": "YXl3FxC5OeKm",
        "outputId": "69439ab9-8f91-45ec-f217-b6f23523c2a2"
      },
      "execution_count": 7,
      "outputs": [
        {
          "output_type": "stream",
          "name": "stdout",
          "text": [
            "a: 1, b: 2, c: 3\n",
            "sum: 6\n"
          ]
        },
        {
          "output_type": "execute_result",
          "data": {
            "text/plain": [
              "6"
            ]
          },
          "metadata": {},
          "execution_count": 7
        }
      ]
    },
    {
      "cell_type": "markdown",
      "source": [
        "기본 매개변수가 **위치 인수보다 앞 쪽에 위치한 경우 Error**가 발생"
      ],
      "metadata": {
        "id": "XmBY1ZL5OnIB"
      }
    },
    {
      "cell_type": "code",
      "source": [
        "def add_function(a = 0, b, c):\n",
        "  result = a + b + c\n",
        "  print(f'a: {a}, b: {b}, c: {c}')\n",
        "  print(f'sum: {result}')\n",
        "  return result"
      ],
      "metadata": {
        "colab": {
          "base_uri": "https://localhost:8080/",
          "height": 145
        },
        "id": "BsGSnE38Okml",
        "outputId": "9f691084-e096-491a-9d27-7ebaaa200210"
      },
      "execution_count": 8,
      "outputs": [
        {
          "output_type": "error",
          "ename": "SyntaxError",
          "evalue": "ignored",
          "traceback": [
            "\u001b[0;36m  File \u001b[0;32m\"<ipython-input-8-734cc1b351a6>\"\u001b[0;36m, line \u001b[0;32m1\u001b[0m\n\u001b[0;31m    def add_function(a = 0, b, c):\u001b[0m\n\u001b[0m                            ^\u001b[0m\n\u001b[0;31mSyntaxError\u001b[0m\u001b[0;31m:\u001b[0m non-default argument follows default argument\n"
          ]
        }
      ]
    },
    {
      "cell_type": "code",
      "source": [
        "def add_function(b, c, a = 0):\n",
        "  result = a + b + c\n",
        "  print(f'a: {a}, b: {b}, c: {c}')\n",
        "  print(f'sum: {result}')\n",
        "  return result"
      ],
      "metadata": {
        "id": "_Ttu-m_-PJcO"
      },
      "execution_count": 10,
      "outputs": []
    }
  ]
}