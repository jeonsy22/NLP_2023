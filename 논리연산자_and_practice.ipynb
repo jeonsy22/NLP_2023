{
  "nbformat": 4,
  "nbformat_minor": 0,
  "metadata": {
    "colab": {
      "provenance": [],
      "authorship_tag": "ABX9TyNsGTsBGkBqoHvWWboJoVAf",
      "include_colab_link": true
    },
    "kernelspec": {
      "name": "python3",
      "display_name": "Python 3"
    },
    "language_info": {
      "name": "python"
    }
  },
  "cells": [
    {
      "cell_type": "markdown",
      "metadata": {
        "id": "view-in-github",
        "colab_type": "text"
      },
      "source": [
        "<a href=\"https://colab.research.google.com/github/jeonsy22/NLP_2023/blob/main/%EB%85%BC%EB%A6%AC%EC%97%B0%EC%82%B0%EC%9E%90_and_practice.ipynb\" target=\"_parent\"><img src=\"https://colab.research.google.com/assets/colab-badge.svg\" alt=\"Open In Colab\"/></a>"
      ]
    },
    {
      "cell_type": "markdown",
      "source": [
        "논리 연산자 (and, or, not)\n",
        "\n",
        "**and**나 **or** 조건은 두 가지 이상 조건을 다룰 때 활용."
      ],
      "metadata": {
        "id": "ox38RTjUKJiR"
      }
    },
    {
      "cell_type": "markdown",
      "source": [
        "and\n",
        "* and 조건은 **모두 만족**할 때 참으로 인식"
      ],
      "metadata": {
        "id": "IzmotfkOKcec"
      }
    },
    {
      "cell_type": "code",
      "source": [
        "True and True and True"
      ],
      "metadata": {
        "colab": {
          "base_uri": "https://localhost:8080/"
        },
        "id": "DooZ1aYaKiEK",
        "outputId": "afa543a5-016a-4e5b-9a49-834bf248849c"
      },
      "execution_count": 1,
      "outputs": [
        {
          "output_type": "execute_result",
          "data": {
            "text/plain": [
              "True"
            ]
          },
          "metadata": {},
          "execution_count": 1
        }
      ]
    },
    {
      "cell_type": "code",
      "source": [
        "True and False and True"
      ],
      "metadata": {
        "colab": {
          "base_uri": "https://localhost:8080/"
        },
        "id": "UGEwYhDwKpHZ",
        "outputId": "6dec3000-ee21-4fb2-9380-c12b3f337d8b"
      },
      "execution_count": 2,
      "outputs": [
        {
          "output_type": "execute_result",
          "data": {
            "text/plain": [
              "False"
            ]
          },
          "metadata": {},
          "execution_count": 2
        }
      ]
    },
    {
      "cell_type": "code",
      "source": [
        "2 > 4 and 4 < 5"
      ],
      "metadata": {
        "colab": {
          "base_uri": "https://localhost:8080/"
        },
        "id": "T-WlPYKsNGrH",
        "outputId": "79829bd2-bf3d-4df8-d6d8-4321c99d827f"
      },
      "execution_count": 5,
      "outputs": [
        {
          "output_type": "execute_result",
          "data": {
            "text/plain": [
              "False"
            ]
          },
          "metadata": {},
          "execution_count": 5
        }
      ]
    },
    {
      "cell_type": "code",
      "source": [
        "1 < 5 and 5 > 3"
      ],
      "metadata": {
        "id": "A1OCFCr8NNpE",
        "outputId": "2894389e-a2ce-46ae-8ccf-4abcd98ac4e6",
        "colab": {
          "base_uri": "https://localhost:8080/"
        }
      },
      "execution_count": 6,
      "outputs": [
        {
          "output_type": "execute_result",
          "data": {
            "text/plain": [
              "True"
            ]
          },
          "metadata": {},
          "execution_count": 6
        }
      ]
    },
    {
      "cell_type": "code",
      "source": [
        "if (0 < 1) and (0 < 2):\n",
        "  print('모두 참')\n",
        "else:\n",
        "  print('거짓')"
      ],
      "metadata": {
        "colab": {
          "base_uri": "https://localhost:8080/"
        },
        "id": "43DKV1goLFEs",
        "outputId": "770838d2-b3a7-4c5c-b4c5-45c216e40ebc"
      },
      "execution_count": 3,
      "outputs": [
        {
          "output_type": "stream",
          "name": "stdout",
          "text": [
            "모두 참\n"
          ]
        }
      ]
    },
    {
      "cell_type": "code",
      "source": [
        "if (0 < 1) and (0 > 2):\n",
        "  print('모두 참')\n",
        "else:\n",
        "  print('허참')"
      ],
      "metadata": {
        "colab": {
          "base_uri": "https://localhost:8080/"
        },
        "id": "DwDy21CuLTuv",
        "outputId": "7ab5abb7-f124-49c7-b2f8-d46c68212db2"
      },
      "execution_count": 4,
      "outputs": [
        {
          "output_type": "stream",
          "name": "stdout",
          "text": [
            "허참\n"
          ]
        }
      ]
    }
  ]
}