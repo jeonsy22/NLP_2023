{
  "nbformat": 4,
  "nbformat_minor": 0,
  "metadata": {
    "colab": {
      "provenance": [],
      "authorship_tag": "ABX9TyM9wa3GGuwQ6WkzcBGDMNwA",
      "include_colab_link": true
    },
    "kernelspec": {
      "name": "python3",
      "display_name": "Python 3"
    },
    "language_info": {
      "name": "python"
    }
  },
  "cells": [
    {
      "cell_type": "markdown",
      "metadata": {
        "id": "view-in-github",
        "colab_type": "text"
      },
      "source": [
        "<a href=\"https://colab.research.google.com/github/jeonsy22/NLP_2023/blob/main/%EA%B0%80%EB%B3%80%EC%9D%B8%EC%9E%90.ipynb\" target=\"_parent\"><img src=\"https://colab.research.google.com/assets/colab-badge.svg\" alt=\"Open In Colab\"/></a>"
      ]
    },
    {
      "cell_type": "code",
      "source": [
        "def sum(a, b):\n",
        "  return a + b"
      ],
      "metadata": {
        "id": "aklA2H5UbKns"
      },
      "execution_count": 16,
      "outputs": []
    },
    {
      "cell_type": "code",
      "source": [
        "d = {'a': 3, 'b': 4}"
      ],
      "metadata": {
        "id": "FEEEQOyxbPrH"
      },
      "execution_count": 17,
      "outputs": []
    },
    {
      "cell_type": "code",
      "source": [
        "sum(**d)"
      ],
      "metadata": {
        "colab": {
          "base_uri": "https://localhost:8080/"
        },
        "id": "X9zLAZmlbUYp",
        "outputId": "cee72985-5c82-4073-cf78-b9933c295bb7"
      },
      "execution_count": 18,
      "outputs": [
        {
          "output_type": "execute_result",
          "data": {
            "text/plain": [
              "7"
            ]
          },
          "metadata": {},
          "execution_count": 18
        }
      ]
    },
    {
      "cell_type": "code",
      "source": [
        "def person(**kwargs):\n",
        "  for k, v in kwargs.items():\n",
        "    print(k, v)"
      ],
      "metadata": {
        "id": "LbLZYc0cbXQZ"
      },
      "execution_count": 19,
      "outputs": []
    },
    {
      "cell_type": "code",
      "source": [
        "person(name = 'jeon seo yoon', age = 21, weight = 50)"
      ],
      "metadata": {
        "colab": {
          "base_uri": "https://localhost:8080/"
        },
        "id": "IZp8jx2dbm_z",
        "outputId": "fc6428af-f4de-4545-b25f-9f8fda21d201"
      },
      "execution_count": 21,
      "outputs": [
        {
          "output_type": "stream",
          "name": "stdout",
          "text": [
            "name jeon seo yoon\n",
            "age 21\n",
            "weight 50\n"
          ]
        }
      ]
    },
    {
      "cell_type": "code",
      "source": [
        "p = {'name': 'jeon seo yoon', 'age': 21, 'weight': 50}"
      ],
      "metadata": {
        "id": "gfS9wjXmb9UY"
      },
      "execution_count": 22,
      "outputs": []
    },
    {
      "cell_type": "code",
      "source": [
        "person(p)"
      ],
      "metadata": {
        "colab": {
          "base_uri": "https://localhost:8080/",
          "height": 181
        },
        "id": "zWPKobfFcRTc",
        "outputId": "9eda8cdb-5dc3-4fc1-81cb-f5577a84da11"
      },
      "execution_count": 23,
      "outputs": [
        {
          "output_type": "error",
          "ename": "TypeError",
          "evalue": "ignored",
          "traceback": [
            "\u001b[0;31m---------------------------------------------------------------------------\u001b[0m",
            "\u001b[0;31mTypeError\u001b[0m                                 Traceback (most recent call last)",
            "\u001b[0;32m<ipython-input-23-41b7ab077f85>\u001b[0m in \u001b[0;36m<cell line: 1>\u001b[0;34m()\u001b[0m\n\u001b[0;32m----> 1\u001b[0;31m \u001b[0mperson\u001b[0m\u001b[0;34m(\u001b[0m\u001b[0mp\u001b[0m\u001b[0;34m)\u001b[0m\u001b[0;34m\u001b[0m\u001b[0;34m\u001b[0m\u001b[0m\n\u001b[0m",
            "\u001b[0;31mTypeError\u001b[0m: person() takes 0 positional arguments but 1 was given"
          ]
        }
      ]
    },
    {
      "cell_type": "code",
      "source": [
        "person(**p)"
      ],
      "metadata": {
        "colab": {
          "base_uri": "https://localhost:8080/"
        },
        "id": "9UCrpwS9cTKW",
        "outputId": "2c1cb769-0f3c-456b-a496-3855b1c1a919"
      },
      "execution_count": 24,
      "outputs": [
        {
          "output_type": "stream",
          "name": "stdout",
          "text": [
            "name jeon seo yoon\n",
            "age 21\n",
            "weight 50\n"
          ]
        }
      ]
    }
  ]
}