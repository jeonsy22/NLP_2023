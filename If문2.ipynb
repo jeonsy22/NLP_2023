{
  "nbformat": 4,
  "nbformat_minor": 0,
  "metadata": {
    "colab": {
      "provenance": [],
      "authorship_tag": "ABX9TyPDc4dLpbtBXcm6SLLpHGKd",
      "include_colab_link": true
    },
    "kernelspec": {
      "name": "python3",
      "display_name": "Python 3"
    },
    "language_info": {
      "name": "python"
    }
  },
  "cells": [
    {
      "cell_type": "markdown",
      "metadata": {
        "id": "view-in-github",
        "colab_type": "text"
      },
      "source": [
        "<a href=\"https://colab.research.google.com/github/jeonsy22/NLP_2023/blob/main/If%EB%AC%B82.ipynb\" target=\"_parent\"><img src=\"https://colab.research.google.com/assets/colab-badge.svg\" alt=\"Open In Colab\"/></a>"
      ]
    },
    {
      "cell_type": "markdown",
      "source": [
        "#📎If문 연습하기📎"
      ],
      "metadata": {
        "id": "nddrpouDUESk"
      }
    },
    {
      "cell_type": "code",
      "execution_count": null,
      "metadata": {
        "id": "R0MCw_BlOZ-K"
      },
      "outputs": [],
      "source": [
        "birthday = True"
      ]
    },
    {
      "cell_type": "code",
      "source": [
        "if birthday:\n",
        "  print('생일 축하해')\n",
        "else:\n",
        "   print('생일이 언제야?')"
      ],
      "metadata": {
        "colab": {
          "base_uri": "https://localhost:8080/"
        },
        "id": "F5yzZYZiOzcU",
        "outputId": "9500a723-c716-41f2-b77f-3899d0568f54"
      },
      "execution_count": null,
      "outputs": [
        {
          "output_type": "stream",
          "name": "stdout",
          "text": [
            "생일 축하해\n"
          ]
        }
      ]
    },
    {
      "cell_type": "code",
      "source": [
        "love = True"
      ],
      "metadata": {
        "id": "2PxuUsAET4LP"
      },
      "execution_count": null,
      "outputs": []
    },
    {
      "cell_type": "code",
      "source": [
        "if love:\n",
        "  print('I love you')\n",
        "  print('나는 ')\n",
        "  print('너를 ')\n",
        "  print('사랑해')\n",
        "else:\n",
        "   print('I hate you')\n",
        "   print('나는 ')\n",
        "   print('너를 ')\n",
        "   print('싫어해')"
      ],
      "metadata": {
        "colab": {
          "base_uri": "https://localhost:8080/"
        },
        "id": "T3c96MrRUOPO",
        "outputId": "7f236b1b-c91c-40d9-dc26-2e2b849b3859"
      },
      "execution_count": null,
      "outputs": [
        {
          "output_type": "stream",
          "name": "stdout",
          "text": [
            "I love you\n",
            "나는 \n",
            "너를 \n",
            "사랑해\n"
          ]
        }
      ]
    },
    {
      "cell_type": "code",
      "source": [
        "movie = False"
      ],
      "metadata": {
        "id": "VW5ngcGwU-vq"
      },
      "execution_count": null,
      "outputs": []
    },
    {
      "cell_type": "code",
      "source": [
        "if movie:\n",
        "  print('영화')\n",
        "else:\n",
        "  print('책')"
      ],
      "metadata": {
        "colab": {
          "base_uri": "https://localhost:8080/"
        },
        "id": "PJQSh0mzVqY3",
        "outputId": "ecd7b0d5-ed5e-4157-ba4e-fd1057d783f7"
      },
      "execution_count": null,
      "outputs": [
        {
          "output_type": "stream",
          "name": "stdout",
          "text": [
            "책\n"
          ]
        }
      ]
    },
    {
      "cell_type": "code",
      "source": [
        "food = 5000"
      ],
      "metadata": {
        "id": "j4qlnmhYWXYx"
      },
      "execution_count": null,
      "outputs": []
    },
    {
      "cell_type": "code",
      "source": [
        "if food < 6000:\n",
        "  print('very good')\n",
        "else:\n",
        "  print('so expencive')"
      ],
      "metadata": {
        "colab": {
          "base_uri": "https://localhost:8080/"
        },
        "id": "XXGu_lnNWdNx",
        "outputId": "ed86c77b-41ab-403a-af00-8587f2f499dd"
      },
      "execution_count": null,
      "outputs": [
        {
          "output_type": "stream",
          "name": "stdout",
          "text": [
            "very good\n"
          ]
        }
      ]
    },
    {
      "cell_type": "code",
      "source": [
        "food = 4000"
      ],
      "metadata": {
        "id": "bL7e-Zk_W-5z"
      },
      "execution_count": null,
      "outputs": []
    },
    {
      "cell_type": "code",
      "source": [
        "if food < 3000:\n",
        "  print('very good')\n",
        "else:\n",
        "  print('so expensive')"
      ],
      "metadata": {
        "colab": {
          "base_uri": "https://localhost:8080/"
        },
        "id": "lbaCEJ5oXKTJ",
        "outputId": "d814eea7-f2aa-46eb-cdc1-b8d4bcd81266"
      },
      "execution_count": null,
      "outputs": [
        {
          "output_type": "stream",
          "name": "stdout",
          "text": [
            "so expensive\n"
          ]
        }
      ]
    },
    {
      "cell_type": "code",
      "source": [
        "money = 3000"
      ],
      "metadata": {
        "id": "hvgtaf5TELh3"
      },
      "execution_count": 1,
      "outputs": []
    },
    {
      "cell_type": "code",
      "source": [
        "card = True"
      ],
      "metadata": {
        "id": "Aw1cPAttE5gH"
      },
      "execution_count": 2,
      "outputs": []
    },
    {
      "cell_type": "code",
      "source": [
        "if money > 3000 or card:\n",
        "  print('커피랑 케이크를 먹어라')\n",
        "else:\n",
        "  print('커피만 먹어라')"
      ],
      "metadata": {
        "colab": {
          "base_uri": "https://localhost:8080/"
        },
        "id": "kZ4Rm-NgE7bD",
        "outputId": "9151878f-dcfb-4897-813b-a8456649618a"
      },
      "execution_count": 3,
      "outputs": [
        {
          "output_type": "stream",
          "name": "stdout",
          "text": [
            "커피랑 케이크를 먹어라\n"
          ]
        }
      ]
    },
    {
      "cell_type": "code",
      "source": [
        "money = 3000"
      ],
      "metadata": {
        "id": "EXdzUmGkFRUc"
      },
      "execution_count": 4,
      "outputs": []
    },
    {
      "cell_type": "code",
      "source": [
        "card = False"
      ],
      "metadata": {
        "id": "zmwewNPHFVof"
      },
      "execution_count": 6,
      "outputs": []
    },
    {
      "cell_type": "code",
      "source": [
        "if money < 4000 or card:\n",
        "  print('커피랑 케이크를 먹어라')\n",
        "else:\n",
        "  print('커피만 먹어라')"
      ],
      "metadata": {
        "colab": {
          "base_uri": "https://localhost:8080/"
        },
        "id": "9_DqVNBVFYf2",
        "outputId": "88d4ee81-1305-4bbc-d97d-be8a47edd613"
      },
      "execution_count": 8,
      "outputs": [
        {
          "output_type": "stream",
          "name": "stdout",
          "text": [
            "커피랑 케이크를 먹어라\n"
          ]
        }
      ]
    },
    {
      "cell_type": "code",
      "source": [
        "money = 2000"
      ],
      "metadata": {
        "id": "ast8M-NOFiJy"
      },
      "execution_count": 9,
      "outputs": []
    },
    {
      "cell_type": "code",
      "source": [
        "card = False"
      ],
      "metadata": {
        "id": "Q36WIDgVFwfL"
      },
      "execution_count": 10,
      "outputs": []
    },
    {
      "cell_type": "code",
      "source": [
        "if money > 3000 or card:\n",
        "  print('커피랑 케이크를 먹어라')\n",
        "else:\n",
        "  print('커피만 먹어라')"
      ],
      "metadata": {
        "colab": {
          "base_uri": "https://localhost:8080/"
        },
        "id": "krDpbNUMFych",
        "outputId": "eba9cc59-8087-4ac4-8c4c-b543ab5856ce"
      },
      "execution_count": 12,
      "outputs": [
        {
          "output_type": "stream",
          "name": "stdout",
          "text": [
            "커피만 먹어라\n"
          ]
        }
      ]
    },
    {
      "cell_type": "code",
      "source": [
        "1 in [1, 2, 3]"
      ],
      "metadata": {
        "colab": {
          "base_uri": "https://localhost:8080/"
        },
        "id": "_YkJPFgNGAJZ",
        "outputId": "c251416a-7c91-49d2-c8b6-3c6aa4bf5cf2"
      },
      "execution_count": 13,
      "outputs": [
        {
          "output_type": "execute_result",
          "data": {
            "text/plain": [
              "True"
            ]
          },
          "metadata": {},
          "execution_count": 13
        }
      ]
    },
    {
      "cell_type": "code",
      "source": [
        "1 not in [1, 2, 3]"
      ],
      "metadata": {
        "colab": {
          "base_uri": "https://localhost:8080/"
        },
        "id": "8L3E0MWUGKGY",
        "outputId": "096e5e2c-f24f-4695-e22e-f7a1327bf517"
      },
      "execution_count": 14,
      "outputs": [
        {
          "output_type": "execute_result",
          "data": {
            "text/plain": [
              "False"
            ]
          },
          "metadata": {},
          "execution_count": 14
        }
      ]
    },
    {
      "cell_type": "code",
      "source": [
        "'빵' in ['아이스크림', '빵', '과자', '젤리']"
      ],
      "metadata": {
        "colab": {
          "base_uri": "https://localhost:8080/"
        },
        "id": "p2gvNPjgGNCa",
        "outputId": "7ec04376-a545-4cfb-af6a-17bae0932278"
      },
      "execution_count": 15,
      "outputs": [
        {
          "output_type": "execute_result",
          "data": {
            "text/plain": [
              "True"
            ]
          },
          "metadata": {},
          "execution_count": 15
        }
      ]
    },
    {
      "cell_type": "code",
      "source": [
        "'빵' not in ['아이스크림', '과자', '젤리', '껌']"
      ],
      "metadata": {
        "colab": {
          "base_uri": "https://localhost:8080/"
        },
        "id": "OcK7hf7xGbtM",
        "outputId": "ed1d30f5-bf36-4e5f-94eb-06241764ddf1"
      },
      "execution_count": 16,
      "outputs": [
        {
          "output_type": "execute_result",
          "data": {
            "text/plain": [
              "True"
            ]
          },
          "metadata": {},
          "execution_count": 16
        }
      ]
    },
    {
      "cell_type": "code",
      "source": [
        "'빵' not in ['아이스크림','빵', '과자', '젤리', '껌']"
      ],
      "metadata": {
        "colab": {
          "base_uri": "https://localhost:8080/"
        },
        "id": "pZw3FRdDGr8E",
        "outputId": "fee218ec-2277-4ba2-cd8a-dd13d1c3ac51"
      },
      "execution_count": 17,
      "outputs": [
        {
          "output_type": "execute_result",
          "data": {
            "text/plain": [
              "False"
            ]
          },
          "metadata": {},
          "execution_count": 17
        }
      ]
    },
    {
      "cell_type": "code",
      "source": [
        "bag = ['money', 'card', 'key', 'snack', 'lipstick']"
      ],
      "metadata": {
        "id": "GzM2Dr7fGzLF"
      },
      "execution_count": 22,
      "outputs": []
    },
    {
      "cell_type": "code",
      "source": [
        "if 'card' in bag:\n",
        "  print('영화를 보러 가라')\n",
        "else:\n",
        "  print('집에 가라')"
      ],
      "metadata": {
        "colab": {
          "base_uri": "https://localhost:8080/"
        },
        "id": "Oz2AN-a9HZWT",
        "outputId": "b6ecc748-607d-4310-a61f-547e069d2057"
      },
      "execution_count": 23,
      "outputs": [
        {
          "output_type": "stream",
          "name": "stdout",
          "text": [
            "영화를 보러 가라\n"
          ]
        }
      ]
    },
    {
      "cell_type": "code",
      "source": [
        "bag = ['money', 'card', 'key', 'snack', 'lipstick']"
      ],
      "metadata": {
        "id": "150rSxzGHpc0"
      },
      "execution_count": 20,
      "outputs": []
    },
    {
      "cell_type": "code",
      "source": [
        "if 'wallet' in bag:\n",
        "  print('영화를 보러 가라')\n",
        "else:\n",
        "  print('집에 가라')"
      ],
      "metadata": {
        "colab": {
          "base_uri": "https://localhost:8080/"
        },
        "id": "gwNIdyPYIBV8",
        "outputId": "a88c9dcd-1c09-42f2-8a75-74288566e2ff"
      },
      "execution_count": 24,
      "outputs": [
        {
          "output_type": "stream",
          "name": "stdout",
          "text": [
            "집에 가라\n"
          ]
        }
      ]
    },
    {
      "cell_type": "code",
      "source": [
        "bag = ['money', 'card', 'snack', 'wallet', 'lipstick']"
      ],
      "metadata": {
        "id": "YSiWaeLbIdP5"
      },
      "execution_count": 25,
      "outputs": []
    },
    {
      "cell_type": "code",
      "source": [
        "if 'key' not in bag:\n",
        "  pass\n",
        "else:\n",
        "  print('집에 돌아가라')"
      ],
      "metadata": {
        "colab": {
          "base_uri": "https://localhost:8080/"
        },
        "id": "RYQr-vA7Ipnq",
        "outputId": "7eacae3e-38a4-44cb-9148-541064f369b3"
      },
      "execution_count": 27,
      "outputs": [
        {
          "output_type": "stream",
          "name": "stdout",
          "text": [
            "집에 돌아가라\n"
          ]
        }
      ]
    },
    {
      "cell_type": "code",
      "source": [
        "if 'lipstick' in bag:\n",
        "  pass\n",
        "else:\n",
        "  print('집에 돌아가라')"
      ],
      "metadata": {
        "id": "bbYA_3NoJAl7"
      },
      "execution_count": 28,
      "outputs": []
    },
    {
      "cell_type": "code",
      "source": [
        "minibag = ['wallet', 'lipstick', 'perfume', 'handcream', 'cellphone']"
      ],
      "metadata": {
        "id": "vhiCbngVJUOF"
      },
      "execution_count": 29,
      "outputs": []
    },
    {
      "cell_type": "code",
      "source": [
        "card = True"
      ],
      "metadata": {
        "id": "IzTk5f1HKDJ4"
      },
      "execution_count": 30,
      "outputs": []
    },
    {
      "cell_type": "code",
      "source": [
        "if 'snack' in minibag:\n",
        "  print('친구들을 만나라')\n",
        "elif card:\n",
        "  print('친구들을 만나라')\n",
        "else:\n",
        "  ('집에 들려라')"
      ],
      "metadata": {
        "colab": {
          "base_uri": "https://localhost:8080/"
        },
        "id": "rfuLkldZKMWH",
        "outputId": "3d856d87-d7fa-4d98-d131-c3d164a1c480"
      },
      "execution_count": 31,
      "outputs": [
        {
          "output_type": "stream",
          "name": "stdout",
          "text": [
            "친구들을 만나라\n"
          ]
        }
      ]
    },
    {
      "cell_type": "code",
      "source": [
        "minibag = ['wallet', 'lipstick', 'perfume', 'handcream', 'cellphone']"
      ],
      "metadata": {
        "id": "Cm_pH-AAK8fO"
      },
      "execution_count": 32,
      "outputs": []
    },
    {
      "cell_type": "code",
      "source": [
        "card = False"
      ],
      "metadata": {
        "id": "TRq_KebCK9CI"
      },
      "execution_count": 33,
      "outputs": []
    },
    {
      "cell_type": "code",
      "source": [
        "if 'snack' in minibag:\n",
        "  print('친구들을 만나라')\n",
        "elif card:\n",
        "  print('친구들을 만나라')\n",
        "else:\n",
        "  print('집에 들려라')"
      ],
      "metadata": {
        "colab": {
          "base_uri": "https://localhost:8080/"
        },
        "id": "rAGfjwEoK3jh",
        "outputId": "ac894b76-33d3-4bf1-fe14-10758bab5f97"
      },
      "execution_count": 35,
      "outputs": [
        {
          "output_type": "stream",
          "name": "stdout",
          "text": [
            "집에 들려라\n"
          ]
        }
      ]
    }
  ]
}