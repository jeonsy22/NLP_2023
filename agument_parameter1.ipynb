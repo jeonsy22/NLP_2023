{
  "nbformat": 4,
  "nbformat_minor": 0,
  "metadata": {
    "colab": {
      "provenance": [],
      "authorship_tag": "ABX9TyPJQbQDTn5+h8pxtNNe1+g1",
      "include_colab_link": true
    },
    "kernelspec": {
      "name": "python3",
      "display_name": "Python 3"
    },
    "language_info": {
      "name": "python"
    }
  },
  "cells": [
    {
      "cell_type": "markdown",
      "metadata": {
        "id": "view-in-github",
        "colab_type": "text"
      },
      "source": [
        "<a href=\"https://colab.research.google.com/github/jeonsy22/NLP_2023/blob/main/agument_parameter1.ipynb\" target=\"_parent\"><img src=\"https://colab.research.google.com/assets/colab-badge.svg\" alt=\"Open In Colab\"/></a>"
      ]
    },
    {
      "cell_type": "markdown",
      "source": [
        "함수의 인수(매개변수)\n",
        "\n",
        "[참고]\n",
        "* **인수(agument)**: 값, 변수, 참조 등 전달되는 값\n",
        "* **매개변수(parameter)**: 함수 등에서 사용되는 전달된 값을 받는 변수\n",
        "\n",
        "\n",
        "* 10, 20 이라는 값은 인수\n",
        "* a, b는 매개변수"
      ],
      "metadata": {
        "id": "kISnG3F3JBq5"
      }
    },
    {
      "cell_type": "code",
      "execution_count": 3,
      "metadata": {
        "colab": {
          "base_uri": "https://localhost:8080/"
        },
        "id": "pSEES3XlI3QU",
        "outputId": "aef67883-ee58-421e-8381-ef5f6ed7497e"
      },
      "outputs": [
        {
          "output_type": "execute_result",
          "data": {
            "text/plain": [
              "30"
            ]
          },
          "metadata": {},
          "execution_count": 3
        }
      ],
      "source": [
        "def some_function(a, b):\n",
        "  result = a + b\n",
        "  return result\n",
        "\n",
        "some_function(10, 20)"
      ]
    },
    {
      "cell_type": "markdown",
      "source": [
        "위치 인수(positional arguments)\n",
        "* 가장 보편적인 인수\n",
        "* 변수명을 인수로 지정\n",
        "* 위치가 중요"
      ],
      "metadata": {
        "id": "cmCzoBsfKFW2"
      }
    },
    {
      "cell_type": "code",
      "source": [
        "#@markdown a, b, c를 위치인수로 지정한 경우\n",
        "def add_function(a, b, c):\n",
        "  result = a + b + c\n",
        "  print(f'a: {a}, b:{b}, c: {c}')\n",
        "  print(f'sum: {result}')\n",
        "  return result"
      ],
      "metadata": {
        "id": "Yt3xkH83KEBU"
      },
      "execution_count": 9,
      "outputs": []
    },
    {
      "cell_type": "code",
      "source": [
        "add_function(1, 3, 5)"
      ],
      "metadata": {
        "colab": {
          "base_uri": "https://localhost:8080/"
        },
        "id": "vHsJGq1VLAQi",
        "outputId": "8b810ade-c836-45d0-af83-1010de91a04d"
      },
      "execution_count": 10,
      "outputs": [
        {
          "output_type": "stream",
          "name": "stdout",
          "text": [
            "a: 1, b:3, c: 5\n",
            "sum: 9\n"
          ]
        },
        {
          "output_type": "execute_result",
          "data": {
            "text/plain": [
              "9"
            ]
          },
          "metadata": {},
          "execution_count": 10
        }
      ]
    },
    {
      "cell_type": "code",
      "source": [
        "add_function(1, 3)"
      ],
      "metadata": {
        "colab": {
          "base_uri": "https://localhost:8080/",
          "height": 181
        },
        "id": "i8AzTiVjLE2w",
        "outputId": "d789a814-1381-4b4b-9404-c24b8c8204e2"
      },
      "execution_count": 11,
      "outputs": [
        {
          "output_type": "error",
          "ename": "TypeError",
          "evalue": "ignored",
          "traceback": [
            "\u001b[0;31m---------------------------------------------------------------------------\u001b[0m",
            "\u001b[0;31mTypeError\u001b[0m                                 Traceback (most recent call last)",
            "\u001b[0;32m<ipython-input-11-bc3c8c6a0ba0>\u001b[0m in \u001b[0;36m<cell line: 1>\u001b[0;34m()\u001b[0m\n\u001b[0;32m----> 1\u001b[0;31m \u001b[0madd_function\u001b[0m\u001b[0;34m(\u001b[0m\u001b[0;36m1\u001b[0m\u001b[0;34m,\u001b[0m \u001b[0;36m3\u001b[0m\u001b[0;34m)\u001b[0m\u001b[0;34m\u001b[0m\u001b[0;34m\u001b[0m\u001b[0m\n\u001b[0m",
            "\u001b[0;31mTypeError\u001b[0m: add_function() missing 1 required positional argument: 'c'"
          ]
        }
      ]
    },
    {
      "cell_type": "code",
      "source": [
        "add_function(1, 3, 5, 7)"
      ],
      "metadata": {
        "colab": {
          "base_uri": "https://localhost:8080/",
          "height": 181
        },
        "id": "NOTe6WqCLhow",
        "outputId": "812f60a0-7f46-4175-ecae-f108257ad16a"
      },
      "execution_count": 12,
      "outputs": [
        {
          "output_type": "error",
          "ename": "TypeError",
          "evalue": "ignored",
          "traceback": [
            "\u001b[0;31m---------------------------------------------------------------------------\u001b[0m",
            "\u001b[0;31mTypeError\u001b[0m                                 Traceback (most recent call last)",
            "\u001b[0;32m<ipython-input-12-1f13995083aa>\u001b[0m in \u001b[0;36m<cell line: 1>\u001b[0;34m()\u001b[0m\n\u001b[0;32m----> 1\u001b[0;31m \u001b[0madd_function\u001b[0m\u001b[0;34m(\u001b[0m\u001b[0;36m1\u001b[0m\u001b[0;34m,\u001b[0m \u001b[0;36m3\u001b[0m\u001b[0;34m,\u001b[0m \u001b[0;36m5\u001b[0m\u001b[0;34m,\u001b[0m \u001b[0;36m7\u001b[0m\u001b[0;34m)\u001b[0m\u001b[0;34m\u001b[0m\u001b[0;34m\u001b[0m\u001b[0m\n\u001b[0m",
            "\u001b[0;31mTypeError\u001b[0m: add_function() takes 3 positional arguments but 4 were given"
          ]
        }
      ]
    }
  ]
}