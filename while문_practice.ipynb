{
  "nbformat": 4,
  "nbformat_minor": 0,
  "metadata": {
    "colab": {
      "provenance": [],
      "authorship_tag": "ABX9TyMuOGcL4FokKPRIguQHUpeV",
      "include_colab_link": true
    },
    "kernelspec": {
      "name": "python3",
      "display_name": "Python 3"
    },
    "language_info": {
      "name": "python"
    }
  },
  "cells": [
    {
      "cell_type": "markdown",
      "metadata": {
        "id": "view-in-github",
        "colab_type": "text"
      },
      "source": [
        "<a href=\"https://colab.research.google.com/github/jeonsy22/NLP_2023/blob/main/while%EB%AC%B8_practice.ipynb\" target=\"_parent\"><img src=\"https://colab.research.google.com/assets/colab-badge.svg\" alt=\"Open In Colab\"/></a>"
      ]
    },
    {
      "cell_type": "code",
      "execution_count": 1,
      "metadata": {
        "colab": {
          "base_uri": "https://localhost:8080/"
        },
        "id": "AYQRm6_ptlsM",
        "outputId": "37ba9278-e096-4dcd-e558-a9641eda4c58"
      },
      "outputs": [
        {
          "output_type": "stream",
          "name": "stdout",
          "text": [
            "1\n",
            "2\n",
            "3\n",
            "4\n",
            "5\n"
          ]
        }
      ],
      "source": [
        "number = 1\n",
        "while number <= 5:\n",
        "  print(number)\n",
        "  number += 1"
      ]
    },
    {
      "cell_type": "code",
      "source": [
        "#@markdown while문 예제\n",
        "number = 1\n",
        "while number <= 13:\n",
        "  print(\"파이썬 최고!\")\n",
        "  number += 1"
      ],
      "metadata": {
        "colab": {
          "base_uri": "https://localhost:8080/"
        },
        "id": "QdGYu_B0vFUw",
        "outputId": "f9e3ba3b-f632-4a59-e0c6-f193d15ddae5"
      },
      "execution_count": 4,
      "outputs": [
        {
          "output_type": "stream",
          "name": "stdout",
          "text": [
            "파이썬 최고!\n",
            "파이썬 최고!\n",
            "파이썬 최고!\n",
            "파이썬 최고!\n",
            "파이썬 최고!\n",
            "파이썬 최고!\n",
            "파이썬 최고!\n",
            "파이썬 최고!\n",
            "파이썬 최고!\n",
            "파이썬 최고!\n",
            "파이썬 최고!\n",
            "파이썬 최고!\n",
            "파이썬 최고!\n"
          ]
        }
      ]
    },
    {
      "cell_type": "code",
      "source": [
        "while True:\n",
        "  print(\"무한루프\")\n",
        "  break"
      ],
      "metadata": {
        "colab": {
          "base_uri": "https://localhost:8080/"
        },
        "id": "-D1scj-OvcEG",
        "outputId": "440ab546-31ad-4af1-e23f-b3deae1718f5"
      },
      "execution_count": 5,
      "outputs": [
        {
          "output_type": "stream",
          "name": "stdout",
          "text": [
            "무한루프\n"
          ]
        }
      ]
    },
    {
      "cell_type": "code",
      "source": [
        "number = 1\n",
        "while True:\n",
        "  print(number)\n",
        "  number += 1\n",
        "  if number > 8:\n",
        "    break"
      ],
      "metadata": {
        "colab": {
          "base_uri": "https://localhost:8080/"
        },
        "id": "kCdXDF5FwL7W",
        "outputId": "d5428fe4-1e73-411e-85c4-cfac147ea3e8"
      },
      "execution_count": 7,
      "outputs": [
        {
          "output_type": "stream",
          "name": "stdout",
          "text": [
            "1\n",
            "2\n",
            "3\n",
            "4\n",
            "5\n",
            "6\n",
            "7\n",
            "8\n"
          ]
        }
      ]
    }
  ]
}