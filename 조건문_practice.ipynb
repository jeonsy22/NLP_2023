{
  "nbformat": 4,
  "nbformat_minor": 0,
  "metadata": {
    "colab": {
      "provenance": [],
      "authorship_tag": "ABX9TyNtneGQ5qnC2u2B2MgQ5yHr",
      "include_colab_link": true
    },
    "kernelspec": {
      "name": "python3",
      "display_name": "Python 3"
    },
    "language_info": {
      "name": "python"
    }
  },
  "cells": [
    {
      "cell_type": "markdown",
      "metadata": {
        "id": "view-in-github",
        "colab_type": "text"
      },
      "source": [
        "<a href=\"https://colab.research.google.com/github/jeonsy22/NLP_2023/blob/main/%EC%A1%B0%EA%B1%B4%EB%AC%B8_practice.ipynb\" target=\"_parent\"><img src=\"https://colab.research.google.com/assets/colab-badge.svg\" alt=\"Open In Colab\"/></a>"
      ]
    },
    {
      "cell_type": "markdown",
      "source": [
        "조건문"
      ],
      "metadata": {
        "id": "1TkKpO_SXBj1"
      }
    },
    {
      "cell_type": "markdown",
      "source": [
        "조건문이란?\n",
        "주어진 조건이 **참**인 경우 그 다음 내가 정한 규칙(로직)을 실행하는 개념이다."
      ],
      "metadata": {
        "id": "dMJE2fcDXLKE"
      }
    },
    {
      "cell_type": "markdown",
      "source": [
        "if\n",
        "* if는 어떤 조건이 성립한다면 ~이라는 뜻\n",
        "* if 구문 끝에는 반드시 콜론(:)을 잊지 않아야한다."
      ],
      "metadata": {
        "id": "JHadhIr5XNo_"
      }
    },
    {
      "cell_type": "code",
      "source": [
        "if 5 > 3:\n",
        "  print('참')"
      ],
      "metadata": {
        "colab": {
          "base_uri": "https://localhost:8080/"
        },
        "id": "STntqwTdXKJd",
        "outputId": "70c8ca1c-549c-4ab2-fcdd-e40cbf36b88e"
      },
      "execution_count": null,
      "outputs": [
        {
          "output_type": "stream",
          "name": "stdout",
          "text": [
            "참\n"
          ]
        }
      ]
    },
    {
      "cell_type": "code",
      "source": [
        "if 5 > 3:\n",
        "  print('참')\n",
        "  print('참')\n",
        "  print('참')\n",
        "\n",
        "print('끝')"
      ],
      "metadata": {
        "colab": {
          "base_uri": "https://localhost:8080/"
        },
        "id": "TmPvzcdUXgro",
        "outputId": "993a325e-f09f-42c8-a2b7-b6bc3244913c"
      },
      "execution_count": null,
      "outputs": [
        {
          "output_type": "stream",
          "name": "stdout",
          "text": [
            "참\n",
            "참\n",
            "참\n",
            "끝\n"
          ]
        }
      ]
    },
    {
      "cell_type": "code",
      "source": [
        "if 5 < 3:\n",
        "  print('참')"
      ],
      "metadata": {
        "id": "tIKNBPFNXi0Q"
      },
      "execution_count": null,
      "outputs": []
    },
    {
      "cell_type": "code",
      "source": [
        "if 5 < 3:\n",
        "  print('참')\n",
        "  print('참')\n",
        "  print('참')\n",
        "\n",
        "print('끝')"
      ],
      "metadata": {
        "colab": {
          "base_uri": "https://localhost:8080/"
        },
        "id": "7ILI29nzX1nq",
        "outputId": "ef61f8c9-3405-404f-b6a0-4512da5322b0"
      },
      "execution_count": null,
      "outputs": [
        {
          "output_type": "stream",
          "name": "stdout",
          "text": [
            "끝\n"
          ]
        }
      ]
    },
    {
      "cell_type": "markdown",
      "source": [
        "else\n",
        "* else는 if 조건 후에 따라오며, if가 아닌 경우에 실행된다."
      ],
      "metadata": {
        "id": "0-hVqPavYM9p"
      }
    },
    {
      "cell_type": "code",
      "source": [
        "if 5 < 3:\n",
        "  print('if 구문실행')\n",
        "else:\n",
        "  print('else 구문 실행')"
      ],
      "metadata": {
        "colab": {
          "base_uri": "https://localhost:8080/"
        },
        "id": "hrKOY5zVYMWX",
        "outputId": "63d3a40f-1a0f-436a-b1e2-e6f6dc34f7d9"
      },
      "execution_count": null,
      "outputs": [
        {
          "output_type": "stream",
          "name": "stdout",
          "text": [
            "else 구문 실행\n"
          ]
        }
      ]
    },
    {
      "cell_type": "markdown",
      "source": [
        "else만 단독으로 실행한다면?"
      ],
      "metadata": {
        "id": "_hC04x1hYyOF"
      }
    },
    {
      "cell_type": "code",
      "source": [
        "else:\n",
        "  print('else 구문 실행')"
      ],
      "metadata": {
        "id": "BdFsJqeXYcU6",
        "colab": {
          "base_uri": "https://localhost:8080/",
          "height": 145
        },
        "outputId": "fa57a82b-852c-4400-fba7-2a7e15ac1c70"
      },
      "execution_count": 10,
      "outputs": [
        {
          "output_type": "error",
          "ename": "SyntaxError",
          "evalue": "ignored",
          "traceback": [
            "\u001b[0;36m  File \u001b[0;32m\"<ipython-input-10-f940342b0f6e>\"\u001b[0;36m, line \u001b[0;32m1\u001b[0m\n\u001b[0;31m    else:\u001b[0m\n\u001b[0m    ^\u001b[0m\n\u001b[0;31mSyntaxError\u001b[0m\u001b[0;31m:\u001b[0m invalid syntax\n"
          ]
        }
      ]
    },
    {
      "cell_type": "markdown",
      "source": [
        "elif\n",
        "* elif 구문은 3가지 이상 분기(조건)의 동작을 수행할 때 사용"
      ],
      "metadata": {
        "id": "-Op78iY_Y-ES"
      }
    },
    {
      "cell_type": "code",
      "source": [
        "if 3 > 5:\n",
        "  print('if 구문')\n",
        "elif 3 < 4:\n",
        "  print('elif 구문')\n",
        "else:\n",
        "  print('else 구문')"
      ],
      "metadata": {
        "colab": {
          "base_uri": "https://localhost:8080/"
        },
        "id": "yp_NCDoyY9DP",
        "outputId": "00747d92-45eb-4ed4-be72-93b79f2c5119"
      },
      "execution_count": 11,
      "outputs": [
        {
          "output_type": "stream",
          "name": "stdout",
          "text": [
            "elif 구문\n"
          ]
        }
      ]
    },
    {
      "cell_type": "code",
      "source": [
        "if 3 > 5:\n",
        "  print('if 구문')\n",
        "elif 3 > 4:\n",
        "  print('elif 구문')\n",
        "else:\n",
        "  print('else 구문')"
      ],
      "metadata": {
        "colab": {
          "base_uri": "https://localhost:8080/"
        },
        "id": "GdBuT57AZYSb",
        "outputId": "d2a24904-31e8-4e24-f32a-7e82dd3684ee"
      },
      "execution_count": 12,
      "outputs": [
        {
          "output_type": "stream",
          "name": "stdout",
          "text": [
            "else 구문\n"
          ]
        }
      ]
    },
    {
      "cell_type": "code",
      "source": [
        "if 3 > 5:\n",
        "  print('if 구문')\n",
        "elif 3 < 4:\n",
        "  print('elif 구문1')\n",
        "elif 3 < 5:\n",
        "  print('elif 구문2')\n",
        "elif 3 < 6:\n",
        "  print('elif 구문3')\n",
        "else:\n",
        "  print('이것도 저것도 아니다')"
      ],
      "metadata": {
        "colab": {
          "base_uri": "https://localhost:8080/"
        },
        "id": "gHe7aTsxZbAg",
        "outputId": "74f1d661-005e-46f8-e0e9-1de59f1fa2f7"
      },
      "execution_count": 14,
      "outputs": [
        {
          "output_type": "stream",
          "name": "stdout",
          "text": [
            "elif 구문1\n"
          ]
        }
      ]
    }
  ]
}