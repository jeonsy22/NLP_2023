{
  "nbformat": 4,
  "nbformat_minor": 0,
  "metadata": {
    "colab": {
      "provenance": [],
      "authorship_tag": "ABX9TyM+BvVPJ+lmAHV01hcxbA6N",
      "include_colab_link": true
    },
    "kernelspec": {
      "name": "python3",
      "display_name": "Python 3"
    },
    "language_info": {
      "name": "python"
    }
  },
  "cells": [
    {
      "cell_type": "markdown",
      "metadata": {
        "id": "view-in-github",
        "colab_type": "text"
      },
      "source": [
        "<a href=\"https://colab.research.google.com/github/jeonsy22/NLP_2023/blob/main/numpy.ipynb\" target=\"_parent\"><img src=\"https://colab.research.google.com/assets/colab-badge.svg\" alt=\"Open In Colab\"/></a>"
      ]
    },
    {
      "cell_type": "markdown",
      "source": [
        "Numpy\n",
        "* c언어 기반이 내부반복문을 사용한 속도가 매우 빠른 라이브러리\n",
        "* 다차원 배열(ndarray)을 편리하게 사용하게 해주는 파이썬 라이브러리\n",
        "* python은 list만 지원할 뿐, array 기능 자체가 없다.\n",
        "* numpy를 가져와서 다차원배열에 대한 논리적계산, 정렬, 통계, 시물레이션 등을 할 수 있도록 한다\n",
        "* <import numpy as np> numpy를 라이브러리로부터 호출해서 'np'라고 부르기로 함."
      ],
      "metadata": {
        "id": "4rmnqBOe2lx_"
      }
    },
    {
      "cell_type": "markdown",
      "source": [
        "list VS array\n",
        "* array: 적은 메모리로 데이터를 빠르게 처리하고 모든 원소는 자료형을 가진다\n",
        "* list: 상대적으로 속도가 매우 느리고 원소가 각각 다른 자료형을 가질 수 있다."
      ],
      "metadata": {
        "id": "D9BXuLyE3a_C"
      }
    },
    {
      "cell_type": "markdown",
      "source": [
        "ndarray\n",
        "* N-dimensional Array(다차원배열)\n",
        "* 데이터 타입은 모두 동일\n",
        "* 내부반복문을 사용함으로써 속도라 빠르다.\n",
        "* 배열 간에 산술 연산이 가능"
      ],
      "metadata": {
        "id": "Tiln1yMN3rDE"
      }
    },
    {
      "cell_type": "code",
      "source": [
        "import numpy as np\n",
        "a = np.array([1, 2, 3])\n",
        "a"
      ],
      "metadata": {
        "colab": {
          "base_uri": "https://localhost:8080/"
        },
        "id": "7W_ydUhO1Vor",
        "outputId": "4ec89ad6-32e3-459a-97c2-3492e4deba5a"
      },
      "execution_count": 4,
      "outputs": [
        {
          "output_type": "execute_result",
          "data": {
            "text/plain": [
              "array([1, 2, 3])"
            ]
          },
          "metadata": {},
          "execution_count": 4
        }
      ]
    },
    {
      "cell_type": "code",
      "source": [
        "print(a)"
      ],
      "metadata": {
        "colab": {
          "base_uri": "https://localhost:8080/"
        },
        "id": "UD7CNTQS4H3X",
        "outputId": "4a54e74a-4725-478d-e7ed-96e107b3b52d"
      },
      "execution_count": 5,
      "outputs": [
        {
          "output_type": "stream",
          "name": "stdout",
          "text": [
            "[1 2 3]\n"
          ]
        }
      ]
    },
    {
      "cell_type": "code",
      "source": [
        "a = ['1', '2', '3']\n",
        "b = np.array(a, dtype = int)\n",
        "b"
      ],
      "metadata": {
        "colab": {
          "base_uri": "https://localhost:8080/"
        },
        "id": "iTxIyjbB4Pcq",
        "outputId": "649aa50d-bfa1-41dd-9845-df147b70b5bf"
      },
      "execution_count": 7,
      "outputs": [
        {
          "output_type": "execute_result",
          "data": {
            "text/plain": [
              "array([1, 2, 3])"
            ]
          },
          "metadata": {},
          "execution_count": 7
        }
      ]
    },
    {
      "cell_type": "code",
      "source": [
        "import numpy as np\n",
        "data = [[1, 2, 3], [4, 5, 6], [7, 8, 9]]\n",
        "a = np.array(data)\n",
        "a"
      ],
      "metadata": {
        "colab": {
          "base_uri": "https://localhost:8080/"
        },
        "id": "h397FR6U4aec",
        "outputId": "7dc19188-81fe-49d9-9f8c-4c4409e4dd22"
      },
      "execution_count": 8,
      "outputs": [
        {
          "output_type": "execute_result",
          "data": {
            "text/plain": [
              "array([[1, 2, 3],\n",
              "       [4, 5, 6],\n",
              "       [7, 8, 9]])"
            ]
          },
          "metadata": {},
          "execution_count": 8
        }
      ]
    },
    {
      "cell_type": "code",
      "source": [
        "x = np.arange(1, 10, 2)\n",
        "x"
      ],
      "metadata": {
        "colab": {
          "base_uri": "https://localhost:8080/"
        },
        "id": "KgxngFKQ4qTb",
        "outputId": "a0de9b68-52a2-4431-f8ba-cea15ad4b5f7"
      },
      "execution_count": 9,
      "outputs": [
        {
          "output_type": "execute_result",
          "data": {
            "text/plain": [
              "array([1, 3, 5, 7, 9])"
            ]
          },
          "metadata": {},
          "execution_count": 9
        }
      ]
    },
    {
      "cell_type": "code",
      "source": [
        "y = np.arange(1, 10).reshape(3, 3)\n",
        "y"
      ],
      "metadata": {
        "colab": {
          "base_uri": "https://localhost:8080/"
        },
        "id": "4-MwvFRj4_wE",
        "outputId": "a2f7cb3a-2c31-4709-983f-ebfedee0e2dd"
      },
      "execution_count": 10,
      "outputs": [
        {
          "output_type": "execute_result",
          "data": {
            "text/plain": [
              "array([[1, 2, 3],\n",
              "       [4, 5, 6],\n",
              "       [7, 8, 9]])"
            ]
          },
          "metadata": {},
          "execution_count": 10
        }
      ]
    },
    {
      "cell_type": "code",
      "source": [
        "x2 = np.arange(1, 9).reshape(2, 4)\n",
        "x2"
      ],
      "metadata": {
        "colab": {
          "base_uri": "https://localhost:8080/"
        },
        "id": "_ZXLG1qd5Jkl",
        "outputId": "7ff598de-69b4-47e5-f3ef-c94a608c0321"
      },
      "execution_count": 11,
      "outputs": [
        {
          "output_type": "execute_result",
          "data": {
            "text/plain": [
              "array([[1, 2, 3, 4],\n",
              "       [5, 6, 7, 8]])"
            ]
          },
          "metadata": {},
          "execution_count": 11
        }
      ]
    },
    {
      "cell_type": "code",
      "source": [
        "x3 = np.arange(1, 9).reshape(4, 2)\n",
        "x3"
      ],
      "metadata": {
        "colab": {
          "base_uri": "https://localhost:8080/"
        },
        "id": "gW6ciaZv5Qwf",
        "outputId": "fb4302d5-bf14-4374-c1f9-a21d98878f19"
      },
      "execution_count": 12,
      "outputs": [
        {
          "output_type": "execute_result",
          "data": {
            "text/plain": [
              "array([[1, 2],\n",
              "       [3, 4],\n",
              "       [5, 6],\n",
              "       [7, 8]])"
            ]
          },
          "metadata": {},
          "execution_count": 12
        }
      ]
    },
    {
      "cell_type": "code",
      "source": [
        "x4 = np.arange(1, 13).reshape(3, 2, 2)\n",
        "x4"
      ],
      "metadata": {
        "colab": {
          "base_uri": "https://localhost:8080/"
        },
        "id": "q3jRX76P5YKi",
        "outputId": "f7f4ab0e-7efe-4897-bd78-1305e970ebd9"
      },
      "execution_count": 13,
      "outputs": [
        {
          "output_type": "execute_result",
          "data": {
            "text/plain": [
              "array([[[ 1,  2],\n",
              "        [ 3,  4]],\n",
              "\n",
              "       [[ 5,  6],\n",
              "        [ 7,  8]],\n",
              "\n",
              "       [[ 9, 10],\n",
              "        [11, 12]]])"
            ]
          },
          "metadata": {},
          "execution_count": 13
        }
      ]
    }
  ]
}