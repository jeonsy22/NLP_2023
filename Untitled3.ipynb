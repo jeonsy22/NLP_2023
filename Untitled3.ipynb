{
  "nbformat": 4,
  "nbformat_minor": 0,
  "metadata": {
    "colab": {
      "provenance": [],
      "authorship_tag": "ABX9TyMiCKyB+d/yxr0w3Nd//hs2",
      "include_colab_link": true
    },
    "kernelspec": {
      "name": "python3",
      "display_name": "Python 3"
    },
    "language_info": {
      "name": "python"
    }
  },
  "cells": [
    {
      "cell_type": "markdown",
      "metadata": {
        "id": "view-in-github",
        "colab_type": "text"
      },
      "source": [
        "<a href=\"https://colab.research.google.com/github/jeonsy22/NLP_2023/blob/main/Untitled3.ipynb\" target=\"_parent\"><img src=\"https://colab.research.google.com/assets/colab-badge.svg\" alt=\"Open In Colab\"/></a>"
      ]
    },
    {
      "cell_type": "code",
      "execution_count": 6,
      "metadata": {
        "id": "i0S7hF09xQH0"
      },
      "outputs": [],
      "source": [
        "_myname = 'jsy'"
      ]
    },
    {
      "cell_type": "code",
      "source": [
        "n = _myname"
      ],
      "metadata": {
        "id": "J5zRJe0IxpQf"
      },
      "execution_count": 7,
      "outputs": []
    },
    {
      "cell_type": "code",
      "source": [
        "print (n)"
      ],
      "metadata": {
        "colab": {
          "base_uri": "https://localhost:8080/"
        },
        "id": "s56VuT6nxwgu",
        "outputId": "3d0e57ba-431b-443a-c0eb-996abd75861f"
      },
      "execution_count": 14,
      "outputs": [
        {
          "output_type": "stream",
          "name": "stdout",
          "text": [
            "jsy\n"
          ]
        }
      ]
    },
    {
      "cell_type": "code",
      "source": [
        "_myage = 21"
      ],
      "metadata": {
        "id": "yMWnY1mzx1_P"
      },
      "execution_count": 9,
      "outputs": []
    },
    {
      "cell_type": "code",
      "source": [
        "a = _myage"
      ],
      "metadata": {
        "id": "kd7RRqppx8Qe"
      },
      "execution_count": 10,
      "outputs": []
    },
    {
      "cell_type": "code",
      "source": [
        "print (a)"
      ],
      "metadata": {
        "colab": {
          "base_uri": "https://localhost:8080/"
        },
        "id": "X5RHDHTex_Lb",
        "outputId": "4b2b8c09-f326-4ed8-e9ab-22f3cd7ffdf3"
      },
      "execution_count": 13,
      "outputs": [
        {
          "output_type": "stream",
          "name": "stdout",
          "text": [
            "21\n"
          ]
        }
      ]
    },
    {
      "cell_type": "code",
      "source": [
        "print ('안녕하세요. 저는 전서윤입니다.')"
      ],
      "metadata": {
        "colab": {
          "base_uri": "https://localhost:8080/"
        },
        "id": "90r8ka-PyM_X",
        "outputId": "1f89e1cb-0697-4b8f-b05b-85b143857387"
      },
      "execution_count": 16,
      "outputs": [
        {
          "output_type": "stream",
          "name": "stdout",
          "text": [
            "안녕하세요. 저는 전서윤입니다.\n"
          ]
        }
      ]
    }
  ]
}