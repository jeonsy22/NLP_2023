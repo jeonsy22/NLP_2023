{
  "nbformat": 4,
  "nbformat_minor": 0,
  "metadata": {
    "colab": {
      "provenance": [],
      "authorship_tag": "ABX9TyMBq+gHHfitpG2nn/xEDu/C",
      "include_colab_link": true
    },
    "kernelspec": {
      "name": "python3",
      "display_name": "Python 3"
    },
    "language_info": {
      "name": "python"
    }
  },
  "cells": [
    {
      "cell_type": "markdown",
      "metadata": {
        "id": "view-in-github",
        "colab_type": "text"
      },
      "source": [
        "<a href=\"https://colab.research.google.com/github/jeonsy22/NLP_2023/blob/main/or_not_%EC%A1%B0%EA%B1%B4%EB%AC%B8.ipynb\" target=\"_parent\"><img src=\"https://colab.research.google.com/assets/colab-badge.svg\" alt=\"Open In Colab\"/></a>"
      ]
    },
    {
      "cell_type": "markdown",
      "source": [
        "or\n",
        "* or 조건은 조건 중 하나라도 만족할 때"
      ],
      "metadata": {
        "id": "BBDeFz14OpRk"
      }
    },
    {
      "cell_type": "code",
      "execution_count": 1,
      "metadata": {
        "id": "yBSlV7wRNntH",
        "colab": {
          "base_uri": "https://localhost:8080/"
        },
        "outputId": "893351a0-85fd-4374-98ea-d7f4c88437d2"
      },
      "outputs": [
        {
          "output_type": "execute_result",
          "data": {
            "text/plain": [
              "True"
            ]
          },
          "metadata": {},
          "execution_count": 1
        }
      ],
      "source": [
        "True or False or False"
      ]
    },
    {
      "cell_type": "code",
      "source": [
        "True or True or False"
      ],
      "metadata": {
        "colab": {
          "base_uri": "https://localhost:8080/"
        },
        "id": "_Hc9oBwCqQ-t",
        "outputId": "e902a16d-4bfa-4728-89f0-7570b85d1b00"
      },
      "execution_count": 2,
      "outputs": [
        {
          "output_type": "execute_result",
          "data": {
            "text/plain": [
              "True"
            ]
          },
          "metadata": {},
          "execution_count": 2
        }
      ]
    },
    {
      "cell_type": "code",
      "source": [
        "False or False or False"
      ],
      "metadata": {
        "colab": {
          "base_uri": "https://localhost:8080/"
        },
        "id": "vFMWjN5QqU5h",
        "outputId": "5e404d9c-c20d-47a8-c324-37e09f4fb987"
      },
      "execution_count": 3,
      "outputs": [
        {
          "output_type": "execute_result",
          "data": {
            "text/plain": [
              "False"
            ]
          },
          "metadata": {},
          "execution_count": 3
        }
      ]
    },
    {
      "cell_type": "code",
      "source": [
        "if (0 < 1) or (1 < 0):\n",
        "  print('하나라도 참')\n",
        "else:\n",
        "  print('허참')"
      ],
      "metadata": {
        "colab": {
          "base_uri": "https://localhost:8080/"
        },
        "id": "rPRYX9rpqXSZ",
        "outputId": "3d6d5177-7395-4cbf-e3c3-3b60341d5e05"
      },
      "execution_count": 4,
      "outputs": [
        {
          "output_type": "stream",
          "name": "stdout",
          "text": [
            "하나라도 참\n"
          ]
        }
      ]
    },
    {
      "cell_type": "code",
      "source": [
        "if (10 < 1) or (1 < 0):\n",
        "  print('하나라도 참')\n",
        "else:\n",
        "  print('허참')"
      ],
      "metadata": {
        "colab": {
          "base_uri": "https://localhost:8080/"
        },
        "id": "EjfEqgM3qljl",
        "outputId": "9316bf93-c612-4578-ddb9-5f72ad06a6c1"
      },
      "execution_count": 5,
      "outputs": [
        {
          "output_type": "stream",
          "name": "stdout",
          "text": [
            "허참\n"
          ]
        }
      ]
    },
    {
      "cell_type": "markdown",
      "source": [
        "not\n",
        "* bool 값을 반전시킨다."
      ],
      "metadata": {
        "id": "Bsezcyfnq2vH"
      }
    },
    {
      "cell_type": "code",
      "source": [
        "not True"
      ],
      "metadata": {
        "colab": {
          "base_uri": "https://localhost:8080/"
        },
        "id": "tkUGUhLeqvbb",
        "outputId": "423eaadf-56db-4455-e29a-b11e91493069"
      },
      "execution_count": 6,
      "outputs": [
        {
          "output_type": "execute_result",
          "data": {
            "text/plain": [
              "False"
            ]
          },
          "metadata": {},
          "execution_count": 6
        }
      ]
    },
    {
      "cell_type": "code",
      "source": [
        "not False"
      ],
      "metadata": {
        "colab": {
          "base_uri": "https://localhost:8080/"
        },
        "id": "-sOq2eJ_q8An",
        "outputId": "3f35a6a6-b395-4d22-8367-980a84f6e1e4"
      },
      "execution_count": 7,
      "outputs": [
        {
          "output_type": "execute_result",
          "data": {
            "text/plain": [
              "True"
            ]
          },
          "metadata": {},
          "execution_count": 7
        }
      ]
    },
    {
      "cell_type": "code",
      "source": [
        "if not True:\n",
        "  print('not True')"
      ],
      "metadata": {
        "id": "oKIhrDpUq9D1"
      },
      "execution_count": 10,
      "outputs": []
    },
    {
      "cell_type": "code",
      "source": [
        "if not False:\n",
        "  print('not False')"
      ],
      "metadata": {
        "colab": {
          "base_uri": "https://localhost:8080/"
        },
        "id": "MmU9_LuzrBBU",
        "outputId": "f7890f46-52ef-4308-e9eb-36e1dbf22b58"
      },
      "execution_count": 9,
      "outputs": [
        {
          "output_type": "stream",
          "name": "stdout",
          "text": [
            "not False\n"
          ]
        }
      ]
    }
  ]
}