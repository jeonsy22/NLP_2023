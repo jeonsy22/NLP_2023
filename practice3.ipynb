{
  "nbformat": 4,
  "nbformat_minor": 0,
  "metadata": {
    "colab": {
      "provenance": [],
      "authorship_tag": "ABX9TyNCeGXaPw4JA4hjiFdTry07",
      "include_colab_link": true
    },
    "kernelspec": {
      "name": "python3",
      "display_name": "Python 3"
    },
    "language_info": {
      "name": "python"
    }
  },
  "cells": [
    {
      "cell_type": "markdown",
      "metadata": {
        "id": "view-in-github",
        "colab_type": "text"
      },
      "source": [
        "<a href=\"https://colab.research.google.com/github/jeonsy22/NLP_2023/blob/main/practice3.ipynb\" target=\"_parent\"><img src=\"https://colab.research.google.com/assets/colab-badge.svg\" alt=\"Open In Colab\"/></a>"
      ]
    },
    {
      "cell_type": "markdown",
      "source": [
        "#**⭐유튜브 파이썬 강의 참고 연습 자료⭐**"
      ],
      "metadata": {
        "id": "Xgmj3VNf5iJ4"
      }
    },
    {
      "cell_type": "code",
      "execution_count": 1,
      "metadata": {
        "id": "lwrpfbD9rLAX"
      },
      "outputs": [],
      "source": [
        "#@markdown 아무것도 아닌 NONE 타입\n",
        "a = None"
      ]
    },
    {
      "cell_type": "code",
      "source": [
        "type(a)"
      ],
      "metadata": {
        "colab": {
          "base_uri": "https://localhost:8080/"
        },
        "id": "P1yvAoA8vTR1",
        "outputId": "448e1cc6-b026-459e-a981-cc7933f00838"
      },
      "execution_count": 2,
      "outputs": [
        {
          "output_type": "execute_result",
          "data": {
            "text/plain": [
              "NoneType"
            ]
          },
          "metadata": {},
          "execution_count": 2
        }
      ]
    },
    {
      "cell_type": "code",
      "source": [
        "print(a)"
      ],
      "metadata": {
        "colab": {
          "base_uri": "https://localhost:8080/"
        },
        "id": "P0IrbqQpvVQ6",
        "outputId": "f22c8173-ea93-4990-ae42-057eceb28078"
      },
      "execution_count": 3,
      "outputs": [
        {
          "output_type": "stream",
          "name": "stdout",
          "text": [
            "None\n"
          ]
        }
      ]
    },
    {
      "cell_type": "markdown",
      "source": [
        "타입 변환"
      ],
      "metadata": {
        "id": "cqD6dWC1xXit"
      }
    },
    {
      "cell_type": "code",
      "source": [
        "#@markdown int를 float로 변환한 경우\n",
        "a = 1"
      ],
      "metadata": {
        "id": "QhZkvZjWvWtW"
      },
      "execution_count": 4,
      "outputs": []
    },
    {
      "cell_type": "code",
      "source": [
        "type(a)"
      ],
      "metadata": {
        "colab": {
          "base_uri": "https://localhost:8080/"
        },
        "id": "xP6Mt0BJxErm",
        "outputId": "3e06ee1d-106f-4c22-888f-1d50268e9a7f"
      },
      "execution_count": 5,
      "outputs": [
        {
          "output_type": "execute_result",
          "data": {
            "text/plain": [
              "int"
            ]
          },
          "metadata": {},
          "execution_count": 5
        }
      ]
    },
    {
      "cell_type": "code",
      "source": [
        "float(a)"
      ],
      "metadata": {
        "colab": {
          "base_uri": "https://localhost:8080/"
        },
        "id": "oGqSbTc6xHbh",
        "outputId": "9d5d9b1a-532b-4288-ac46-f73212efbcca"
      },
      "execution_count": 6,
      "outputs": [
        {
          "output_type": "execute_result",
          "data": {
            "text/plain": [
              "1.0"
            ]
          },
          "metadata": {},
          "execution_count": 6
        }
      ]
    },
    {
      "cell_type": "code",
      "source": [
        "#@markdown float를 int로 변환한 경우\n",
        "\n",
        "#@markdown - float를 int로 변환시 반올림이 아닌 값이 버림되어진다.(소수점 이하 절삭)\n",
        "b = 3.99"
      ],
      "metadata": {
        "cellView": "form",
        "id": "Mh0214xTxLVZ"
      },
      "execution_count": 7,
      "outputs": []
    },
    {
      "cell_type": "code",
      "source": [
        "print(b)"
      ],
      "metadata": {
        "colab": {
          "base_uri": "https://localhost:8080/"
        },
        "id": "1fLEOtnvyAjC",
        "outputId": "9c40c083-21f3-4f58-87ad-50f00ee609ba"
      },
      "execution_count": 8,
      "outputs": [
        {
          "output_type": "stream",
          "name": "stdout",
          "text": [
            "3.99\n"
          ]
        }
      ]
    },
    {
      "cell_type": "code",
      "source": [
        "type(b)"
      ],
      "metadata": {
        "colab": {
          "base_uri": "https://localhost:8080/"
        },
        "id": "YjwVo6sryCBe",
        "outputId": "85cd84d8-745c-475e-ebd0-a466d88b3d74"
      },
      "execution_count": 9,
      "outputs": [
        {
          "output_type": "execute_result",
          "data": {
            "text/plain": [
              "float"
            ]
          },
          "metadata": {},
          "execution_count": 9
        }
      ]
    },
    {
      "cell_type": "code",
      "source": [
        "int(b)"
      ],
      "metadata": {
        "colab": {
          "base_uri": "https://localhost:8080/"
        },
        "id": "p7-MJZLkyD-z",
        "outputId": "ab01264b-4877-470b-8aac-90225b95edf7"
      },
      "execution_count": 10,
      "outputs": [
        {
          "output_type": "execute_result",
          "data": {
            "text/plain": [
              "3"
            ]
          },
          "metadata": {},
          "execution_count": 10
        }
      ]
    },
    {
      "cell_type": "code",
      "source": [
        "#@markdown bool을 int로 변환한 경우\n",
        "c = True"
      ],
      "metadata": {
        "id": "un8LceM6yFHI"
      },
      "execution_count": 11,
      "outputs": []
    },
    {
      "cell_type": "code",
      "source": [
        "int(c)"
      ],
      "metadata": {
        "colab": {
          "base_uri": "https://localhost:8080/"
        },
        "id": "XuAUSqnpyXc5",
        "outputId": "2ca540a9-42e5-49b7-8951-8e5e299fc0e7"
      },
      "execution_count": 12,
      "outputs": [
        {
          "output_type": "execute_result",
          "data": {
            "text/plain": [
              "1"
            ]
          },
          "metadata": {},
          "execution_count": 12
        }
      ]
    },
    {
      "cell_type": "code",
      "source": [
        "d = False"
      ],
      "metadata": {
        "id": "ilgVvaa-yYtP"
      },
      "execution_count": 13,
      "outputs": []
    },
    {
      "cell_type": "code",
      "source": [
        "int(d)"
      ],
      "metadata": {
        "colab": {
          "base_uri": "https://localhost:8080/"
        },
        "id": "GxQov5SEyb5H",
        "outputId": "9c1f359b-282c-4d83-8643-17c12c39761e"
      },
      "execution_count": 14,
      "outputs": [
        {
          "output_type": "execute_result",
          "data": {
            "text/plain": [
              "0"
            ]
          },
          "metadata": {},
          "execution_count": 14
        }
      ]
    },
    {
      "cell_type": "code",
      "source": [
        "#@markdown bool을 float로 변환한 경우\n",
        "float(True)"
      ],
      "metadata": {
        "colab": {
          "base_uri": "https://localhost:8080/"
        },
        "id": "KxzCdWMKycvc",
        "outputId": "7a661581-2801-4e07-e39d-a861a18ec264"
      },
      "execution_count": 15,
      "outputs": [
        {
          "output_type": "execute_result",
          "data": {
            "text/plain": [
              "1.0"
            ]
          },
          "metadata": {},
          "execution_count": 15
        }
      ]
    },
    {
      "cell_type": "markdown",
      "source": [
        "파이썬에서 **0이 아닌 값은 모두 True로 간주**한다."
      ],
      "metadata": {
        "id": "JMmaYHzZzDWb"
      }
    },
    {
      "cell_type": "code",
      "source": [
        "bool(1)"
      ],
      "metadata": {
        "colab": {
          "base_uri": "https://localhost:8080/"
        },
        "id": "r_9IhUN7y_4M",
        "outputId": "18be6606-d029-4686-d104-1fe22b5ce389"
      },
      "execution_count": 17,
      "outputs": [
        {
          "output_type": "execute_result",
          "data": {
            "text/plain": [
              "True"
            ]
          },
          "metadata": {},
          "execution_count": 17
        }
      ]
    },
    {
      "cell_type": "code",
      "source": [
        "bool(-10)"
      ],
      "metadata": {
        "colab": {
          "base_uri": "https://localhost:8080/"
        },
        "id": "X-PsXCyozFAI",
        "outputId": "6dd582bd-2b78-40ec-9e1e-5424f919fe7d"
      },
      "execution_count": 18,
      "outputs": [
        {
          "output_type": "execute_result",
          "data": {
            "text/plain": [
              "True"
            ]
          },
          "metadata": {},
          "execution_count": 18
        }
      ]
    },
    {
      "cell_type": "code",
      "source": [
        "bool(3.14)"
      ],
      "metadata": {
        "colab": {
          "base_uri": "https://localhost:8080/"
        },
        "id": "X7FsnAEkzHdV",
        "outputId": "317d1e1c-5fc2-467b-9701-3bb458620db6"
      },
      "execution_count": 19,
      "outputs": [
        {
          "output_type": "execute_result",
          "data": {
            "text/plain": [
              "True"
            ]
          },
          "metadata": {},
          "execution_count": 19
        }
      ]
    },
    {
      "cell_type": "code",
      "source": [
        "bool(0)"
      ],
      "metadata": {
        "colab": {
          "base_uri": "https://localhost:8080/"
        },
        "id": "001mnsKbzJb3",
        "outputId": "3a9df9be-ce59-4e17-c0ba-7db4ef484b9d"
      },
      "execution_count": 20,
      "outputs": [
        {
          "output_type": "execute_result",
          "data": {
            "text/plain": [
              "False"
            ]
          },
          "metadata": {},
          "execution_count": 20
        }
      ]
    },
    {
      "cell_type": "code",
      "source": [
        "bool(0.0)"
      ],
      "metadata": {
        "colab": {
          "base_uri": "https://localhost:8080/"
        },
        "id": "51GhHJAYzLY4",
        "outputId": "c174221b-abf2-4319-caa0-a0579f0eacec"
      },
      "execution_count": 21,
      "outputs": [
        {
          "output_type": "execute_result",
          "data": {
            "text/plain": [
              "False"
            ]
          },
          "metadata": {},
          "execution_count": 21
        }
      ]
    },
    {
      "cell_type": "markdown",
      "source": [
        "#리스트(list)\n",
        "* 리스트는 데이터의 요소를 순차적으로 파악하는데 용이한 자료형.\n",
        "* 리스트는 다양한 메서드(method) 혹은 함수를 지원하며 메서드를 활용하여 요소를 추가, 삭제 및 변경 가능\n",
        "\n",
        "**메서드**:객체(object)가 포함하는 함수 혹은 기능이다."
      ],
      "metadata": {
        "id": "Qjc3tT8lzbd5"
      }
    },
    {
      "cell_type": "code",
      "source": [
        "mylist = []\n",
        "print(mylist)"
      ],
      "metadata": {
        "colab": {
          "base_uri": "https://localhost:8080/"
        },
        "id": "j9HVubYQ0Bx8",
        "outputId": "bca69851-a576-4ab8-bef5-6260404a3e0c"
      },
      "execution_count": 24,
      "outputs": [
        {
          "output_type": "stream",
          "name": "stdout",
          "text": [
            "[]\n"
          ]
        }
      ]
    },
    {
      "cell_type": "code",
      "source": [
        "mylist = list()\n",
        "print(mylist)"
      ],
      "metadata": {
        "colab": {
          "base_uri": "https://localhost:8080/"
        },
        "id": "Fihh_mFt0gnR",
        "outputId": "3d161727-8281-4574-f70f-362b0bdd6bd9"
      },
      "execution_count": 25,
      "outputs": [
        {
          "output_type": "stream",
          "name": "stdout",
          "text": [
            "[]\n"
          ]
        }
      ]
    },
    {
      "cell_type": "code",
      "source": [
        "#@markdown 리스트를 생성하면서 값을 포함한다.\n",
        "mylist = [1, 2, 3, 4, 5]\n",
        "print(mylist)"
      ],
      "metadata": {
        "colab": {
          "base_uri": "https://localhost:8080/"
        },
        "id": "XPH6SthZ0lJJ",
        "outputId": "e4417e5b-3881-4306-999a-e505ed6e5b28"
      },
      "execution_count": 26,
      "outputs": [
        {
          "output_type": "stream",
          "name": "stdout",
          "text": [
            "[1, 2, 3, 4, 5]\n"
          ]
        }
      ]
    },
    {
      "cell_type": "markdown",
      "source": [
        "#list 규칙\n",
        "* list는 다양한 type의 데이터를 집합으로 가질 수도 있음.\n",
        "* list 안에 list도 허용.\n",
        "* list는 순서(order)의 개념이 존재."
      ],
      "metadata": {
        "id": "sm8QBzWF1Ak-"
      }
    },
    {
      "cell_type": "code",
      "source": [
        "a = []\n",
        "print(a)"
      ],
      "metadata": {
        "colab": {
          "base_uri": "https://localhost:8080/"
        },
        "id": "R0txjO-H1WIS",
        "outputId": "450e2227-06f1-4231-d40e-c190ad776142"
      },
      "execution_count": 28,
      "outputs": [
        {
          "output_type": "stream",
          "name": "stdout",
          "text": [
            "[]\n"
          ]
        }
      ]
    },
    {
      "cell_type": "code",
      "source": [
        "a = [1, 2, 3]\n",
        "print(a)"
      ],
      "metadata": {
        "colab": {
          "base_uri": "https://localhost:8080/"
        },
        "id": "BdPJ7KO61f2J",
        "outputId": "7dbb1bee-30b9-48b5-ea84-60ef41fccefd"
      },
      "execution_count": 29,
      "outputs": [
        {
          "output_type": "stream",
          "name": "stdout",
          "text": [
            "[1, 2, 3]\n"
          ]
        }
      ]
    },
    {
      "cell_type": "code",
      "source": [
        "a = [1, 'hello', 3, 3.14, True]\n",
        "print(a)"
      ],
      "metadata": {
        "colab": {
          "base_uri": "https://localhost:8080/"
        },
        "id": "fe7ChPAP1luT",
        "outputId": "456c7bcf-6361-4e42-bbe0-a6774a36399a"
      },
      "execution_count": 30,
      "outputs": [
        {
          "output_type": "stream",
          "name": "stdout",
          "text": [
            "[1, 'hello', 3, 3.14, True]\n"
          ]
        }
      ]
    },
    {
      "cell_type": "markdown",
      "source": [
        "리스트 안에 리스트로 포함 가능."
      ],
      "metadata": {
        "id": "KIV66xBO1102"
      }
    },
    {
      "cell_type": "code",
      "source": [
        "a = [1, 'hello', 3, 3.14, [6, 7, 8]]\n",
        "print(a)"
      ],
      "metadata": {
        "colab": {
          "base_uri": "https://localhost:8080/"
        },
        "id": "00Hg8iV01tdD",
        "outputId": "4a03001d-6a10-4710-8035-3a0a0f83af21"
      },
      "execution_count": 31,
      "outputs": [
        {
          "output_type": "stream",
          "name": "stdout",
          "text": [
            "[1, 'hello', 3, 3.14, [6, 7, 8]]\n"
          ]
        }
      ]
    },
    {
      "cell_type": "markdown",
      "source": [
        "#관련 함수\n",
        "* .점 연산자로 함수를 실행할 수 있음.\n",
        "* 함수는 어떤 작업을 수행하는 코드를 모아 이름을 붙인 것이다."
      ],
      "metadata": {
        "id": "4SVPiAVj2J--"
      }
    },
    {
      "cell_type": "markdown",
      "source": [
        "append(): 값 추가"
      ],
      "metadata": {
        "id": "L2WZ1RX92a_z"
      }
    },
    {
      "cell_type": "code",
      "source": [
        "#@markdown 빈 리스트를 생성\n",
        "mylist = []\n",
        "print(mylist)"
      ],
      "metadata": {
        "colab": {
          "base_uri": "https://localhost:8080/"
        },
        "id": "B6ioCiKA2g0a",
        "outputId": "b14b82ca-2829-41da-e243-18b7a475ce99"
      },
      "execution_count": 32,
      "outputs": [
        {
          "output_type": "stream",
          "name": "stdout",
          "text": [
            "[]\n"
          ]
        }
      ]
    },
    {
      "cell_type": "code",
      "source": [
        "#@markdown appemd()는 값을 맨 뒤에 추가\n",
        "mylist.append(1)\n",
        "print(mylist)"
      ],
      "metadata": {
        "colab": {
          "base_uri": "https://localhost:8080/"
        },
        "id": "4ajGts3N2k4d",
        "outputId": "b54cd042-39eb-4ee5-f1c0-267bec99bfd8"
      },
      "execution_count": 33,
      "outputs": [
        {
          "output_type": "stream",
          "name": "stdout",
          "text": [
            "[1]\n"
          ]
        }
      ]
    },
    {
      "cell_type": "code",
      "source": [
        "mylist.append(2)\n",
        "mylist.append(3)\n",
        "mylist.append(4)\n",
        "mylist.append(5)\n",
        "mylist.append(6)\n",
        "mylist.append(7)\n",
        "mylist.append(8)\n",
        "print(mylist)"
      ],
      "metadata": {
        "colab": {
          "base_uri": "https://localhost:8080/"
        },
        "id": "_3-x3MuH2yF8",
        "outputId": "9a007d0a-3e88-4778-89b7-85040f95d05d"
      },
      "execution_count": 35,
      "outputs": [
        {
          "output_type": "stream",
          "name": "stdout",
          "text": [
            "[1, 2, 3, 4, 5, 6, 7, 8, 2, 3, 4, 5, 6, 7, 8]\n"
          ]
        }
      ]
    },
    {
      "cell_type": "markdown",
      "source": [
        "#sort(): 정렬\n",
        "* 요소를 순서대로 정렬(오름차순)\n",
        "* sort()는 내부적으로 정렬."
      ],
      "metadata": {
        "id": "Bvaf4_783ciu"
      }
    },
    {
      "cell_type": "code",
      "source": [
        "mylist = [1, 5, 6, 8, 4, 9]\n",
        "mylist.sort()"
      ],
      "metadata": {
        "id": "aedv5WP-3ssO"
      },
      "execution_count": 37,
      "outputs": []
    },
    {
      "cell_type": "code",
      "source": [
        "print(mylist)"
      ],
      "metadata": {
        "colab": {
          "base_uri": "https://localhost:8080/"
        },
        "id": "_O3vAg3p3xgj",
        "outputId": "52d940f0-e360-4198-ccc1-53f59b2d7a61"
      },
      "execution_count": 38,
      "outputs": [
        {
          "output_type": "stream",
          "name": "stdout",
          "text": [
            "[1, 4, 5, 6, 8, 9]\n"
          ]
        }
      ]
    },
    {
      "cell_type": "code",
      "source": [
        "#@markdown 역정렬도 가능 (reverse = True 를 지정.)\n",
        "mylist = [1, 4, 7, 3, 8, 9]\n",
        "mylist.sort(reverse = True)"
      ],
      "metadata": {
        "id": "NYc0Jssa33IX"
      },
      "execution_count": 39,
      "outputs": []
    },
    {
      "cell_type": "code",
      "source": [
        "print(mylist)"
      ],
      "metadata": {
        "colab": {
          "base_uri": "https://localhost:8080/"
        },
        "id": "0DDu6vRG4LEL",
        "outputId": "f72ce781-ea2c-412f-dabf-294f1f93816f"
      },
      "execution_count": 40,
      "outputs": [
        {
          "output_type": "stream",
          "name": "stdout",
          "text": [
            "[9, 8, 7, 4, 3, 1]\n"
          ]
        }
      ]
    },
    {
      "cell_type": "markdown",
      "source": [
        "#sorted(): 정렬\n",
        "* 요소를 순서대로 정렬\n",
        "* 내부적으로 정렬하지 않고 정렬된 복사본을 반환\n",
        "* 즉 원본 데이터는 정렬 X"
      ],
      "metadata": {
        "id": "zP2WdCiZ4cfh"
      }
    },
    {
      "cell_type": "code",
      "source": [
        "mylist = [1, 5, 8, 3, 2, 6]\n",
        "sorted(mylist)"
      ],
      "metadata": {
        "colab": {
          "base_uri": "https://localhost:8080/"
        },
        "id": "-SB_s93g4M8Q",
        "outputId": "a4832ec4-2b06-454c-9046-483e71c3609e"
      },
      "execution_count": 41,
      "outputs": [
        {
          "output_type": "execute_result",
          "data": {
            "text/plain": [
              "[1, 2, 3, 5, 6, 8]"
            ]
          },
          "metadata": {},
          "execution_count": 41
        }
      ]
    },
    {
      "cell_type": "code",
      "source": [
        "print(mylist)"
      ],
      "metadata": {
        "colab": {
          "base_uri": "https://localhost:8080/"
        },
        "id": "SUOqDDfo42ud",
        "outputId": "5a7d4169-992f-4b10-bba3-e73628b0f91f"
      },
      "execution_count": 42,
      "outputs": [
        {
          "output_type": "stream",
          "name": "stdout",
          "text": [
            "[1, 5, 8, 3, 2, 6]\n"
          ]
        }
      ]
    },
    {
      "cell_type": "code",
      "source": [
        "#@markdown 마찬가지로 reverse = True를 지정하여 역정렬 가능\n",
        "mylist = [1, 2, 5, 7, 3, 8, 9]\n",
        "sorted(mylist, reverse = True)"
      ],
      "metadata": {
        "colab": {
          "base_uri": "https://localhost:8080/"
        },
        "id": "3vo6d5Mi44WL",
        "outputId": "1b942912-2308-4428-b701-ce635d76ecf0"
      },
      "execution_count": 43,
      "outputs": [
        {
          "output_type": "execute_result",
          "data": {
            "text/plain": [
              "[9, 8, 7, 5, 3, 2, 1]"
            ]
          },
          "metadata": {},
          "execution_count": 43
        }
      ]
    },
    {
      "cell_type": "code",
      "source": [
        "print(mylist)"
      ],
      "metadata": {
        "colab": {
          "base_uri": "https://localhost:8080/"
        },
        "id": "GdiqurTo5aNB",
        "outputId": "5966e867-1116-4a46-b138-07fb6ce73f52"
      },
      "execution_count": 44,
      "outputs": [
        {
          "output_type": "stream",
          "name": "stdout",
          "text": [
            "[1, 2, 5, 7, 3, 8, 9]\n"
          ]
        }
      ]
    }
  ]
}