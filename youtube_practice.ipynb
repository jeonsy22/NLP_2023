{
  "nbformat": 4,
  "nbformat_minor": 0,
  "metadata": {
    "colab": {
      "provenance": [],
      "authorship_tag": "ABX9TyOPEko4BZM/ZicJF1XstjZn",
      "include_colab_link": true
    },
    "kernelspec": {
      "name": "python3",
      "display_name": "Python 3"
    },
    "language_info": {
      "name": "python"
    }
  },
  "cells": [
    {
      "cell_type": "markdown",
      "metadata": {
        "id": "view-in-github",
        "colab_type": "text"
      },
      "source": [
        "<a href=\"https://colab.research.google.com/github/jeonsy22/NLP_2023/blob/main/youtube_practice.ipynb\" target=\"_parent\"><img src=\"https://colab.research.google.com/assets/colab-badge.svg\" alt=\"Open In Colab\"/></a>"
      ]
    },
    {
      "cell_type": "markdown",
      "source": [
        "인덱싱(indexing): 색인"
      ],
      "metadata": {
        "id": "zOQhg1ugHQOS"
      }
    },
    {
      "cell_type": "code",
      "execution_count": 1,
      "metadata": {
        "id": "5gDBJP9zHO7u"
      },
      "outputs": [],
      "source": [
        "mylist = [1, 2, 3, 4]"
      ]
    },
    {
      "cell_type": "code",
      "source": [
        "#@markdown 인덱스는 **0번부터 시작**\n",
        "mylist[0]"
      ],
      "metadata": {
        "colab": {
          "base_uri": "https://localhost:8080/"
        },
        "id": "AH7PinWnHaMw",
        "outputId": "aa09af95-2869-4efe-d627-8fd1f3276c04"
      },
      "execution_count": 5,
      "outputs": [
        {
          "output_type": "execute_result",
          "data": {
            "text/plain": [
              "1"
            ]
          },
          "metadata": {},
          "execution_count": 5
        }
      ]
    },
    {
      "cell_type": "code",
      "source": [
        "mylist[3]"
      ],
      "metadata": {
        "colab": {
          "base_uri": "https://localhost:8080/"
        },
        "id": "fZSeLXsjHiM-",
        "outputId": "d653505f-cb67-4fec-97a2-aa2ff5f076d1"
      },
      "execution_count": 6,
      "outputs": [
        {
          "output_type": "execute_result",
          "data": {
            "text/plain": [
              "4"
            ]
          },
          "metadata": {},
          "execution_count": 6
        }
      ]
    },
    {
      "cell_type": "code",
      "source": [
        "mylist[4]"
      ],
      "metadata": {
        "colab": {
          "base_uri": "https://localhost:8080/",
          "height": 181
        },
        "id": "I407q9ztHsky",
        "outputId": "2a8eabff-c7dc-453c-f228-329c93c3015e"
      },
      "execution_count": 7,
      "outputs": [
        {
          "output_type": "error",
          "ename": "IndexError",
          "evalue": "ignored",
          "traceback": [
            "\u001b[0;31m---------------------------------------------------------------------------\u001b[0m",
            "\u001b[0;31mIndexError\u001b[0m                                Traceback (most recent call last)",
            "\u001b[0;32m<ipython-input-7-88b11041aa4f>\u001b[0m in \u001b[0;36m<cell line: 1>\u001b[0;34m()\u001b[0m\n\u001b[0;32m----> 1\u001b[0;31m \u001b[0mmylist\u001b[0m\u001b[0;34m[\u001b[0m\u001b[0;36m4\u001b[0m\u001b[0;34m]\u001b[0m\u001b[0;34m\u001b[0m\u001b[0;34m\u001b[0m\u001b[0m\n\u001b[0m",
            "\u001b[0;31mIndexError\u001b[0m: list index out of range"
          ]
        }
      ]
    },
    {
      "cell_type": "markdown",
      "source": [
        "역순 인덱싱\n",
        "파이썬은 음수 인덱싱을 지원함"
      ],
      "metadata": {
        "id": "r_OXA9HlHyVE"
      }
    },
    {
      "cell_type": "code",
      "source": [
        "mylist = [1, 2, 3, 4, 5, 6, 7, 8]"
      ],
      "metadata": {
        "id": "uRs8DJtOHuls"
      },
      "execution_count": 8,
      "outputs": []
    },
    {
      "cell_type": "code",
      "source": [
        "mylist[-1]"
      ],
      "metadata": {
        "colab": {
          "base_uri": "https://localhost:8080/"
        },
        "id": "JbiJn-jSH6QI",
        "outputId": "c2a3197a-0cdb-4e3d-dace-473f1347039f"
      },
      "execution_count": 9,
      "outputs": [
        {
          "output_type": "execute_result",
          "data": {
            "text/plain": [
              "8"
            ]
          },
          "metadata": {},
          "execution_count": 9
        }
      ]
    },
    {
      "cell_type": "code",
      "source": [
        "mylist[-5]"
      ],
      "metadata": {
        "colab": {
          "base_uri": "https://localhost:8080/"
        },
        "id": "bofVshNHH8HS",
        "outputId": "462d26cb-872c-4c9d-9242-a31b18e84a82"
      },
      "execution_count": 10,
      "outputs": [
        {
          "output_type": "execute_result",
          "data": {
            "text/plain": [
              "4"
            ]
          },
          "metadata": {},
          "execution_count": 10
        }
      ]
    },
    {
      "cell_type": "code",
      "source": [
        "mylist[-10]"
      ],
      "metadata": {
        "colab": {
          "base_uri": "https://localhost:8080/",
          "height": 181
        },
        "id": "oKRX-gu0H9xg",
        "outputId": "5185d632-5bbf-41a2-c399-dc05a39b48e4"
      },
      "execution_count": 11,
      "outputs": [
        {
          "output_type": "error",
          "ename": "IndexError",
          "evalue": "ignored",
          "traceback": [
            "\u001b[0;31m---------------------------------------------------------------------------\u001b[0m",
            "\u001b[0;31mIndexError\u001b[0m                                Traceback (most recent call last)",
            "\u001b[0;32m<ipython-input-11-796b9002b6d1>\u001b[0m in \u001b[0;36m<cell line: 1>\u001b[0;34m()\u001b[0m\n\u001b[0;32m----> 1\u001b[0;31m \u001b[0mmylist\u001b[0m\u001b[0;34m[\u001b[0m\u001b[0;34m-\u001b[0m\u001b[0;36m10\u001b[0m\u001b[0;34m]\u001b[0m\u001b[0;34m\u001b[0m\u001b[0;34m\u001b[0m\u001b[0m\n\u001b[0m",
            "\u001b[0;31mIndexError\u001b[0m: list index out of range"
          ]
        }
      ]
    },
    {
      "cell_type": "markdown",
      "source": [
        "인덱스로 접근하여 값 바꾸기"
      ],
      "metadata": {
        "id": "ysY_3hMOIArH"
      }
    },
    {
      "cell_type": "code",
      "source": [
        "mylist = [1, 2, 3, 4, 5]\n",
        "print(mylist)"
      ],
      "metadata": {
        "colab": {
          "base_uri": "https://localhost:8080/"
        },
        "id": "pQ5Ot0MLH_eQ",
        "outputId": "8f1d4f51-ac17-4846-9040-d1f994d07397"
      },
      "execution_count": 12,
      "outputs": [
        {
          "output_type": "stream",
          "name": "stdout",
          "text": [
            "[1, 2, 3, 4, 5]\n"
          ]
        }
      ]
    },
    {
      "cell_type": "code",
      "source": [
        "mylist[0]"
      ],
      "metadata": {
        "colab": {
          "base_uri": "https://localhost:8080/"
        },
        "id": "xRxZt8XWII2L",
        "outputId": "96380038-8904-4670-f899-1563aa29a2fd"
      },
      "execution_count": 13,
      "outputs": [
        {
          "output_type": "execute_result",
          "data": {
            "text/plain": [
              "1"
            ]
          },
          "metadata": {},
          "execution_count": 13
        }
      ]
    },
    {
      "cell_type": "code",
      "source": [
        "mylist[0] = 18"
      ],
      "metadata": {
        "id": "YL-tbP8dIKUy"
      },
      "execution_count": 14,
      "outputs": []
    },
    {
      "cell_type": "code",
      "source": [
        "print(mylist)"
      ],
      "metadata": {
        "colab": {
          "base_uri": "https://localhost:8080/"
        },
        "id": "E1865Zw_IOpE",
        "outputId": "4e06a8bf-ec2c-4ecd-bd18-9e7f9dfd3b71"
      },
      "execution_count": 15,
      "outputs": [
        {
          "output_type": "stream",
          "name": "stdout",
          "text": [
            "[18, 2, 3, 4, 5]\n"
          ]
        }
      ]
    },
    {
      "cell_type": "code",
      "source": [
        "mylist[-3] = 77"
      ],
      "metadata": {
        "id": "0Hq5NGtmIQ0r"
      },
      "execution_count": 17,
      "outputs": []
    },
    {
      "cell_type": "code",
      "source": [
        "print(mylist)"
      ],
      "metadata": {
        "colab": {
          "base_uri": "https://localhost:8080/"
        },
        "id": "p7iAvStZITaw",
        "outputId": "d3bcc03c-1abd-48cf-de84-9ebfca54ed06"
      },
      "execution_count": 18,
      "outputs": [
        {
          "output_type": "stream",
          "name": "stdout",
          "text": [
            "[18, 2, 77, 4, 5]\n"
          ]
        }
      ]
    },
    {
      "cell_type": "markdown",
      "source": [
        "중첩된 리스트 인덱싱\n",
        "중첩된 리스트에 대한 리스트는 중첩 인덱싱으로 접근. 값을 변경하는 것도 가능."
      ],
      "metadata": {
        "id": "uySuoXSgIdo6"
      }
    },
    {
      "cell_type": "code",
      "source": [
        "mylist = [['전', '서', '윤'], [1, 2, 3], 'a', 'b', 'c']"
      ],
      "metadata": {
        "id": "Tw67W5FKIX7e"
      },
      "execution_count": 21,
      "outputs": []
    },
    {
      "cell_type": "code",
      "source": [
        "print(mylist)"
      ],
      "metadata": {
        "colab": {
          "base_uri": "https://localhost:8080/"
        },
        "id": "_uEEfgCgI0bn",
        "outputId": "11fb3757-99f5-492b-85cf-f2c72bd6c968"
      },
      "execution_count": 22,
      "outputs": [
        {
          "output_type": "stream",
          "name": "stdout",
          "text": [
            "[['전', '서', '윤'], [1, 2, 3], 'a', 'b', 'c']\n"
          ]
        }
      ]
    },
    {
      "cell_type": "code",
      "source": [
        "#@markdown 1번째 리스트 요소를 가져온다.\n",
        "mylist[1]"
      ],
      "metadata": {
        "colab": {
          "base_uri": "https://localhost:8080/"
        },
        "id": "dNRs4j0HJCmq",
        "outputId": "3e42addd-ce11-4219-88c8-a4c6476db4fc"
      },
      "execution_count": 23,
      "outputs": [
        {
          "output_type": "execute_result",
          "data": {
            "text/plain": [
              "[1, 2, 3]"
            ]
          },
          "metadata": {},
          "execution_count": 23
        }
      ]
    },
    {
      "cell_type": "code",
      "source": [
        "#@markdown 1번째 리스트의 요소 중 1번째 요소를 가져오기 위해 중첩 인덱싱으로 접근\n",
        "mylist[1][2]"
      ],
      "metadata": {
        "colab": {
          "base_uri": "https://localhost:8080/"
        },
        "id": "G6OhW_IAJHxZ",
        "outputId": "014e471d-83df-4f12-af7b-2ae43c2788fd"
      },
      "execution_count": 24,
      "outputs": [
        {
          "output_type": "execute_result",
          "data": {
            "text/plain": [
              "3"
            ]
          },
          "metadata": {},
          "execution_count": 24
        }
      ]
    },
    {
      "cell_type": "code",
      "source": [
        "mylist[0][2] = '똥'"
      ],
      "metadata": {
        "id": "9Vrl3UQZJUGl"
      },
      "execution_count": 26,
      "outputs": []
    },
    {
      "cell_type": "code",
      "source": [
        "print(mylist)"
      ],
      "metadata": {
        "colab": {
          "base_uri": "https://localhost:8080/"
        },
        "id": "PgT7bBcnJbEe",
        "outputId": "4143668e-244c-436d-b509-eba0a75bcb37"
      },
      "execution_count": 27,
      "outputs": [
        {
          "output_type": "stream",
          "name": "stdout",
          "text": [
            "[['전', '서', '똥'], [1, 2, 3], 'a', 'b', 'c']\n"
          ]
        }
      ]
    },
    {
      "cell_type": "markdown",
      "source": [
        "슬라이싱(slicing): 범위 추출"
      ],
      "metadata": {
        "id": "pAf5eOduJl3f"
      }
    },
    {
      "cell_type": "code",
      "source": [
        "mylist = [1, 2, 3, 4, 5, 6, 7]"
      ],
      "metadata": {
        "id": "CryVqGSsJhza"
      },
      "execution_count": 28,
      "outputs": []
    },
    {
      "cell_type": "code",
      "source": [
        "mylist[:]"
      ],
      "metadata": {
        "colab": {
          "base_uri": "https://localhost:8080/"
        },
        "id": "b-6Nm6oPJvpr",
        "outputId": "140b6b13-f417-4bbf-f7fe-8b080422274a"
      },
      "execution_count": 29,
      "outputs": [
        {
          "output_type": "execute_result",
          "data": {
            "text/plain": [
              "[1, 2, 3, 4, 5, 6, 7]"
            ]
          },
          "metadata": {},
          "execution_count": 29
        }
      ]
    },
    {
      "cell_type": "code",
      "source": [
        "mylist[2:]"
      ],
      "metadata": {
        "colab": {
          "base_uri": "https://localhost:8080/"
        },
        "id": "tM9AYYjYJxQt",
        "outputId": "6a3b43d9-64cf-4829-af6a-eac1fed876a5"
      },
      "execution_count": 30,
      "outputs": [
        {
          "output_type": "execute_result",
          "data": {
            "text/plain": [
              "[3, 4, 5, 6, 7]"
            ]
          },
          "metadata": {},
          "execution_count": 30
        }
      ]
    },
    {
      "cell_type": "code",
      "source": [
        "mylist[-4:]"
      ],
      "metadata": {
        "colab": {
          "base_uri": "https://localhost:8080/"
        },
        "id": "moqR4vZLJ0SM",
        "outputId": "4098803c-7124-4734-eb81-da15bc93af84"
      },
      "execution_count": 31,
      "outputs": [
        {
          "output_type": "execute_result",
          "data": {
            "text/plain": [
              "[4, 5, 6, 7]"
            ]
          },
          "metadata": {},
          "execution_count": 31
        }
      ]
    },
    {
      "cell_type": "code",
      "source": [
        "mylist[:5]"
      ],
      "metadata": {
        "colab": {
          "base_uri": "https://localhost:8080/"
        },
        "id": "e_iqTI8XKIMe",
        "outputId": "d6acf31a-4bf0-44ef-eb8c-995735dcfc49"
      },
      "execution_count": 33,
      "outputs": [
        {
          "output_type": "execute_result",
          "data": {
            "text/plain": [
              "[1, 2, 3, 4, 5]"
            ]
          },
          "metadata": {},
          "execution_count": 33
        }
      ]
    },
    {
      "cell_type": "code",
      "source": [
        "mylist[2:6]"
      ],
      "metadata": {
        "colab": {
          "base_uri": "https://localhost:8080/"
        },
        "id": "ExxavCI4J2NF",
        "outputId": "7de110f2-c4a6-4081-b3ab-e7ab708bcffd"
      },
      "execution_count": 32,
      "outputs": [
        {
          "output_type": "execute_result",
          "data": {
            "text/plain": [
              "[3, 4, 5, 6]"
            ]
          },
          "metadata": {},
          "execution_count": 32
        }
      ]
    },
    {
      "cell_type": "markdown",
      "source": [
        "indexing에 step 활용하기\n",
        "* step은 몇 칸씩 건너뛰는지 지정.\n"
      ],
      "metadata": {
        "id": "JaEXSyZgKUJR"
      }
    },
    {
      "cell_type": "code",
      "source": [
        "mylist = [1, 2, 3, 4, 5, 6, 7, 8]"
      ],
      "metadata": {
        "id": "rv1eGMM8KCr-"
      },
      "execution_count": 34,
      "outputs": []
    },
    {
      "cell_type": "code",
      "source": [
        "#@markdown 2칸씩 건너뛰기\n",
        "mylist[::2]"
      ],
      "metadata": {
        "colab": {
          "base_uri": "https://localhost:8080/"
        },
        "id": "5gjoZg7jKjEp",
        "outputId": "68a308c9-dad2-4dd9-efc9-fb66695e5543"
      },
      "execution_count": 36,
      "outputs": [
        {
          "output_type": "execute_result",
          "data": {
            "text/plain": [
              "[1, 3, 5, 7]"
            ]
          },
          "metadata": {},
          "execution_count": 36
        }
      ]
    },
    {
      "cell_type": "code",
      "source": [
        "mylist[1::2]"
      ],
      "metadata": {
        "colab": {
          "base_uri": "https://localhost:8080/"
        },
        "id": "hYzM2i1lK981",
        "outputId": "fda7a78f-eba1-476a-ce9b-026234289cea"
      },
      "execution_count": 39,
      "outputs": [
        {
          "output_type": "execute_result",
          "data": {
            "text/plain": [
              "[2, 4, 6, 8]"
            ]
          },
          "metadata": {},
          "execution_count": 39
        }
      ]
    },
    {
      "cell_type": "code",
      "source": [
        "#@markdown 역순 출력\n",
        "mylist[::-1]"
      ],
      "metadata": {
        "colab": {
          "base_uri": "https://localhost:8080/"
        },
        "id": "NfJSNbiZKmdc",
        "outputId": "0c4cbb6d-e954-4b02-bba8-3c38bf83da41"
      },
      "execution_count": 37,
      "outputs": [
        {
          "output_type": "execute_result",
          "data": {
            "text/plain": [
              "[8, 7, 6, 5, 4, 3, 2, 1]"
            ]
          },
          "metadata": {},
          "execution_count": 37
        }
      ]
    },
    {
      "cell_type": "code",
      "source": [
        "mylist[::-2]"
      ],
      "metadata": {
        "colab": {
          "base_uri": "https://localhost:8080/"
        },
        "id": "lnp5fe-TKzb6",
        "outputId": "4718a32e-b224-482d-94fd-02858debcef5"
      },
      "execution_count": 38,
      "outputs": [
        {
          "output_type": "execute_result",
          "data": {
            "text/plain": [
              "[8, 6, 4, 2]"
            ]
          },
          "metadata": {},
          "execution_count": 38
        }
      ]
    },
    {
      "cell_type": "code",
      "source": [
        "mylist[-2::-2]"
      ],
      "metadata": {
        "colab": {
          "base_uri": "https://localhost:8080/"
        },
        "id": "tlYfCsndK4SE",
        "outputId": "5f3bb6f9-b73f-474c-aaab-a8ecaf3463ad"
      },
      "execution_count": 40,
      "outputs": [
        {
          "output_type": "execute_result",
          "data": {
            "text/plain": [
              "[7, 5, 3, 1]"
            ]
          },
          "metadata": {},
          "execution_count": 40
        }
      ]
    },
    {
      "cell_type": "code",
      "source": [],
      "metadata": {
        "id": "DaXI_-8SLIKe"
      },
      "execution_count": null,
      "outputs": []
    }
  ]
}