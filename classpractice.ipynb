{
  "nbformat": 4,
  "nbformat_minor": 0,
  "metadata": {
    "colab": {
      "provenance": [],
      "authorship_tag": "ABX9TyOClAUiOSBq6wElAp9/H5te",
      "include_colab_link": true
    },
    "kernelspec": {
      "name": "python3",
      "display_name": "Python 3"
    },
    "language_info": {
      "name": "python"
    }
  },
  "cells": [
    {
      "cell_type": "markdown",
      "metadata": {
        "id": "view-in-github",
        "colab_type": "text"
      },
      "source": [
        "<a href=\"https://colab.research.google.com/github/jeonsy22/NLP_2023/blob/main/classpractice.ipynb\" target=\"_parent\"><img src=\"https://colab.research.google.com/assets/colab-badge.svg\" alt=\"Open In Colab\"/></a>"
      ]
    },
    {
      "cell_type": "code",
      "source": [
        "class Person:\n",
        "  \"\"\"Super Class\"\"\"\n",
        "  total_count = 0\n",
        "  def __init__(self):\n",
        "    self.name = '전서윤'\n",
        "    self.age = 21\n",
        "    Person.total_count+= 1\n",
        "\n",
        "  def introduce(self):\n",
        "    print(f'제 이름은 {self.name} 이고, 나이는 {self.age}살 입니다.')"
      ],
      "metadata": {
        "id": "oriWmgqquzLL"
      },
      "execution_count": 21,
      "outputs": []
    },
    {
      "cell_type": "code",
      "source": [
        "p1 = Person()"
      ],
      "metadata": {
        "id": "8Rf04S-uxIqv"
      },
      "execution_count": 22,
      "outputs": []
    },
    {
      "cell_type": "code",
      "source": [
        "p1.introduce()"
      ],
      "metadata": {
        "colab": {
          "base_uri": "https://localhost:8080/"
        },
        "id": "jjT2KLXPxMQ6",
        "outputId": "9fef8c2e-6a21-48c4-9449-93e6b96dc3b5"
      },
      "execution_count": 23,
      "outputs": [
        {
          "output_type": "stream",
          "name": "stdout",
          "text": [
            "제 이름은 전서윤 이고, 나이는 21살 입니다.\n"
          ]
        }
      ]
    },
    {
      "cell_type": "code",
      "source": [
        "p2 = Person()"
      ],
      "metadata": {
        "id": "ocwg_EU8yC2c"
      },
      "execution_count": 25,
      "outputs": []
    },
    {
      "cell_type": "code",
      "source": [
        "p3 = Person()"
      ],
      "metadata": {
        "id": "RJ-FU_XNyCB9"
      },
      "execution_count": 27,
      "outputs": []
    },
    {
      "cell_type": "code",
      "source": [
        "p3.__class__.total_count"
      ],
      "metadata": {
        "colab": {
          "base_uri": "https://localhost:8080/"
        },
        "id": "HprIiGtqyLT4",
        "outputId": "766bd8c2-ab63-433a-b850-82ad44f91472"
      },
      "execution_count": 29,
      "outputs": [
        {
          "output_type": "execute_result",
          "data": {
            "text/plain": [
              "3"
            ]
          },
          "metadata": {},
          "execution_count": 29
        }
      ]
    },
    {
      "cell_type": "code",
      "source": [
        "class Student(Person):\n",
        "  \"\"\"Sub Class\"\"\"\n",
        "\n",
        "  def __init__(self):\n",
        "    super().__init__()"
      ],
      "metadata": {
        "id": "pf0GScaCwnN1"
      },
      "execution_count": 30,
      "outputs": []
    },
    {
      "cell_type": "code",
      "source": [
        "student = Student()\n",
        "student.introduce()"
      ],
      "metadata": {
        "colab": {
          "base_uri": "https://localhost:8080/"
        },
        "id": "DvdKz-KsvWgn",
        "outputId": "15e68b6f-da2b-4060-91d3-5f71edd5f3c7"
      },
      "execution_count": 32,
      "outputs": [
        {
          "output_type": "stream",
          "name": "stdout",
          "text": [
            "제 이름은 전서윤 이고, 나이는 21살 입니다.\n"
          ]
        }
      ]
    }
  ]
}