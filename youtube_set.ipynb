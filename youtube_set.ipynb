{
  "nbformat": 4,
  "nbformat_minor": 0,
  "metadata": {
    "colab": {
      "provenance": [],
      "authorship_tag": "ABX9TyN2JNuMcl8UpPMxuFVK6tId",
      "include_colab_link": true
    },
    "kernelspec": {
      "name": "python3",
      "display_name": "Python 3"
    },
    "language_info": {
      "name": "python"
    }
  },
  "cells": [
    {
      "cell_type": "markdown",
      "metadata": {
        "id": "view-in-github",
        "colab_type": "text"
      },
      "source": [
        "<a href=\"https://colab.research.google.com/github/jeonsy22/NLP_2023/blob/main/youtube_set.ipynb\" target=\"_parent\"><img src=\"https://colab.research.google.com/assets/colab-badge.svg\" alt=\"Open In Colab\"/></a>"
      ]
    },
    {
      "cell_type": "markdown",
      "source": [
        "세트(set)\n",
        "* 세트는 순서가 보장되지 않는다.\n",
        "* 세트는 요소의 **중복을 허용하지 않는다.**\n",
        "* 세트는 {}를 활용하여 생성할 수 있다."
      ],
      "metadata": {
        "id": "3u21ATwU5Ia-"
      }
    },
    {
      "cell_type": "code",
      "execution_count": null,
      "metadata": {
        "colab": {
          "base_uri": "https://localhost:8080/"
        },
        "id": "lMt7RIk-5DKV",
        "outputId": "20bfd9f5-d398-45b2-88a7-2df37c58d01d"
      },
      "outputs": [
        {
          "output_type": "stream",
          "name": "stdout",
          "text": [
            "set()\n"
          ]
        }
      ],
      "source": [
        "myset = set()\n",
        "print(myset)"
      ]
    },
    {
      "cell_type": "code",
      "source": [
        "myset = set([1, 1, 1, 2, 2, 3, 3, 3, 3])\n",
        "print(myset)"
      ],
      "metadata": {
        "colab": {
          "base_uri": "https://localhost:8080/"
        },
        "id": "KHEWwsv45kk5",
        "outputId": "b8a0cbf4-f41c-47de-da01-1d0916b723da"
      },
      "execution_count": null,
      "outputs": [
        {
          "output_type": "stream",
          "name": "stdout",
          "text": [
            "{1, 2, 3}\n"
          ]
        }
      ]
    },
    {
      "cell_type": "code",
      "source": [
        "myset = set((1, 1, 1, 2, 2, 3, 3, 3, 3))\n",
        "print(myset)"
      ],
      "metadata": {
        "colab": {
          "base_uri": "https://localhost:8080/"
        },
        "id": "PBiy22Xu5q6Q",
        "outputId": "43c3d63f-63dd-4adf-f5af-fafc3e40094c"
      },
      "execution_count": null,
      "outputs": [
        {
          "output_type": "stream",
          "name": "stdout",
          "text": [
            "{1, 2, 3}\n"
          ]
        }
      ]
    },
    {
      "cell_type": "code",
      "source": [
        "myset = {1, 1, 1, 2, 2, 3, 3, 3, 3}\n",
        "print(myset)"
      ],
      "metadata": {
        "id": "--7zklfW50Sj"
      },
      "execution_count": null,
      "outputs": []
    },
    {
      "cell_type": "markdown",
      "source": [
        "add(): 값 추가\n",
        "* set에 요소 추가"
      ],
      "metadata": {
        "id": "-6b0yE70jUJY"
      }
    },
    {
      "cell_type": "code",
      "source": [
        "myset = set()"
      ],
      "metadata": {
        "id": "1Uk3altYjaJ3"
      },
      "execution_count": 1,
      "outputs": []
    },
    {
      "cell_type": "code",
      "source": [
        "#@markdown add()로 요소 추가\n",
        "myset.add(1)\n",
        "myset.add(2)\n",
        "myset.add(3)\n",
        "\n",
        "myset.add(1)\n",
        "myset.add(2)\n",
        "myset.add(3)\n",
        "\n",
        "myset.add(1)\n",
        "myset.add(2)\n",
        "myset.add(3)"
      ],
      "metadata": {
        "id": "ZNC0lDHWjczZ"
      },
      "execution_count": 2,
      "outputs": []
    },
    {
      "cell_type": "code",
      "source": [
        "print(myset)"
      ],
      "metadata": {
        "colab": {
          "base_uri": "https://localhost:8080/"
        },
        "id": "Q99-1JLijww-",
        "outputId": "fb0a25b7-6667-47c9-f642-bf90d9f09f11"
      },
      "execution_count": 3,
      "outputs": [
        {
          "output_type": "stream",
          "name": "stdout",
          "text": [
            "{1, 2, 3}\n"
          ]
        }
      ]
    },
    {
      "cell_type": "markdown",
      "source": [
        "update(): 여러개 갑 추가\n",
        "* 여러개의 값을 한번에 추가하고자 할 때는 update() 메서드를 사용."
      ],
      "metadata": {
        "id": "Pzgvngzpj0wc"
      }
    },
    {
      "cell_type": "code",
      "source": [
        "myset = {1, 2, 3}"
      ],
      "metadata": {
        "id": "bETQWctQjzm9"
      },
      "execution_count": 4,
      "outputs": []
    },
    {
      "cell_type": "code",
      "source": [
        "#@markdown list 요소들을 **한번에 update**\n",
        "myset.update([4, 5, 6])\n",
        "print(myset)"
      ],
      "metadata": {
        "colab": {
          "base_uri": "https://localhost:8080/"
        },
        "id": "lYHOQB7ekCIx",
        "outputId": "8b87bc05-00ae-455a-f8bb-e8688307800d"
      },
      "execution_count": 5,
      "outputs": [
        {
          "output_type": "stream",
          "name": "stdout",
          "text": [
            "{1, 2, 3, 4, 5, 6}\n"
          ]
        }
      ]
    },
    {
      "cell_type": "code",
      "source": [
        "#@markdown tuple 요소들을 **한번에 update**\n",
        "myset.update((7, 8, 9))\n",
        "print(myset)"
      ],
      "metadata": {
        "colab": {
          "base_uri": "https://localhost:8080/"
        },
        "id": "tG_VWAmfkPEH",
        "outputId": "61fbe29c-a0e7-4e45-b130-ec2a6ae6e0c7"
      },
      "execution_count": 6,
      "outputs": [
        {
          "output_type": "stream",
          "name": "stdout",
          "text": [
            "{1, 2, 3, 4, 5, 6, 7, 8, 9}\n"
          ]
        }
      ]
    },
    {
      "cell_type": "code",
      "source": [
        "#@markdown set의 요소들을 **한번에 update**\n",
        "myset.update({10, 11, 12})\n",
        "print(myset)"
      ],
      "metadata": {
        "colab": {
          "base_uri": "https://localhost:8080/"
        },
        "id": "D3YUHktBkaLU",
        "outputId": "05f89c45-a9ca-4942-ad63-c389191596e8"
      },
      "execution_count": 8,
      "outputs": [
        {
          "output_type": "stream",
          "name": "stdout",
          "text": [
            "{1, 2, 3, 4, 5, 6, 7, 8, 9, 10, 11, 12}\n"
          ]
        }
      ]
    },
    {
      "cell_type": "markdown",
      "source": [
        "removw(): 값 제거\n",
        "* 단일 요소를 제거."
      ],
      "metadata": {
        "id": "gL5tbkF7nH07"
      }
    },
    {
      "cell_type": "code",
      "source": [
        "myset = {1, 2, 3, 4, 5}"
      ],
      "metadata": {
        "id": "6yDo3vD9knVD"
      },
      "execution_count": 13,
      "outputs": []
    },
    {
      "cell_type": "code",
      "source": [
        "myset.remove(3)\n",
        "print(myset)"
      ],
      "metadata": {
        "colab": {
          "base_uri": "https://localhost:8080/"
        },
        "id": "FwSfuSJTopDw",
        "outputId": "883d978e-f98c-4b45-d2a5-7fb074956e65"
      },
      "execution_count": 14,
      "outputs": [
        {
          "output_type": "stream",
          "name": "stdout",
          "text": [
            "{1, 2, 4, 5}\n"
          ]
        }
      ]
    },
    {
      "cell_type": "markdown",
      "source": [
        "교집합(intersection)\n",
        "* 교집합은 집합A와 B가 주어졌을 때 **공통된 요소**를 말한다.\n",
        "* & 기호나 intersection() 메서드를 활용하여 교집합을 구할 수 있다."
      ],
      "metadata": {
        "id": "0cv-7hpIo_4C"
      }
    },
    {
      "cell_type": "code",
      "source": [
        "a = {1, 2, 3, 4, 5}\n",
        "b = {3, 4, 5, 6, 7}"
      ],
      "metadata": {
        "id": "Z1QXFugPous3"
      },
      "execution_count": 16,
      "outputs": []
    },
    {
      "cell_type": "code",
      "source": [
        "a & b"
      ],
      "metadata": {
        "colab": {
          "base_uri": "https://localhost:8080/"
        },
        "id": "VJdJwE3zphCh",
        "outputId": "3d3c1488-e20c-4076-ab4d-7962b5aa5ae4"
      },
      "execution_count": 17,
      "outputs": [
        {
          "output_type": "execute_result",
          "data": {
            "text/plain": [
              "{3, 4, 5}"
            ]
          },
          "metadata": {},
          "execution_count": 17
        }
      ]
    },
    {
      "cell_type": "code",
      "source": [
        "a.intersection(b)"
      ],
      "metadata": {
        "colab": {
          "base_uri": "https://localhost:8080/"
        },
        "id": "OihHNmFtpk66",
        "outputId": "63e8ce2b-0b2f-462a-f29e-d3037427cf58"
      },
      "execution_count": 19,
      "outputs": [
        {
          "output_type": "execute_result",
          "data": {
            "text/plain": [
              "{3, 4, 5}"
            ]
          },
          "metadata": {},
          "execution_count": 19
        }
      ]
    },
    {
      "cell_type": "markdown",
      "source": [
        "합집합(union)\n",
        "* 합집합은 집합A와 B가 주어졌을 때 집합 A, B 요소 모두를 포함하는 것을 말한다.\n",
        "* | 기호나 union() 메서드를 활용하여 합집합을 구할 수 있다."
      ],
      "metadata": {
        "id": "GUx7j0w1ptzT"
      }
    },
    {
      "cell_type": "code",
      "source": [
        "a = {1, 2, 3, 4, 5}\n",
        "b = {3, 4, 5, 6, 7}"
      ],
      "metadata": {
        "id": "E9uzF8t5pp7L"
      },
      "execution_count": 20,
      "outputs": []
    },
    {
      "cell_type": "code",
      "source": [
        "a | b"
      ],
      "metadata": {
        "colab": {
          "base_uri": "https://localhost:8080/"
        },
        "id": "iCiKUPZqqOT0",
        "outputId": "8c2c8815-b8b2-48bb-cf5a-dfa5ce61e22e"
      },
      "execution_count": 21,
      "outputs": [
        {
          "output_type": "execute_result",
          "data": {
            "text/plain": [
              "{1, 2, 3, 4, 5, 6, 7}"
            ]
          },
          "metadata": {},
          "execution_count": 21
        }
      ]
    },
    {
      "cell_type": "code",
      "source": [
        "a.union(b)"
      ],
      "metadata": {
        "colab": {
          "base_uri": "https://localhost:8080/"
        },
        "id": "hiw6qxAGqPVf",
        "outputId": "167f9c9c-3c5d-4316-a279-7601d00ec782"
      },
      "execution_count": 22,
      "outputs": [
        {
          "output_type": "execute_result",
          "data": {
            "text/plain": [
              "{1, 2, 3, 4, 5, 6, 7}"
            ]
          },
          "metadata": {},
          "execution_count": 22
        }
      ]
    },
    {
      "cell_type": "markdown",
      "source": [
        "차칩합(difference)\n",
        "* 두 집합에서, 하나의 집합에 포함되고 다른 집합에는 포함되지 않는 모든 원소의 집합.\n",
        "* -연산자를 활용하거나 difference() 메서드를 활용하여 구할 수 있다."
      ],
      "metadata": {
        "id": "sGA2ysdpqSpE"
      }
    },
    {
      "cell_type": "code",
      "source": [
        "a = {1, 2, 3, 4, 5}\n",
        "b = {3, 4, 5, 6, 7}"
      ],
      "metadata": {
        "id": "xc6yqHBDqRf3"
      },
      "execution_count": 23,
      "outputs": []
    },
    {
      "cell_type": "code",
      "source": [
        "#@markdown a 집합에서 b 집합을 뺀 차집합\n",
        "a - b"
      ],
      "metadata": {
        "colab": {
          "base_uri": "https://localhost:8080/"
        },
        "id": "uYkDN07drBP3",
        "outputId": "50aed20f-2da4-4eb8-ab68-39439d67b7ff"
      },
      "execution_count": 25,
      "outputs": [
        {
          "output_type": "execute_result",
          "data": {
            "text/plain": [
              "{1, 2}"
            ]
          },
          "metadata": {},
          "execution_count": 25
        }
      ]
    },
    {
      "cell_type": "code",
      "source": [
        "a.difference(b)"
      ],
      "metadata": {
        "colab": {
          "base_uri": "https://localhost:8080/"
        },
        "id": "H-zfnY8HrF_9",
        "outputId": "d19f5585-796d-4ad3-a7ce-a3690f70ba73"
      },
      "execution_count": 26,
      "outputs": [
        {
          "output_type": "execute_result",
          "data": {
            "text/plain": [
              "{1, 2}"
            ]
          },
          "metadata": {},
          "execution_count": 26
        }
      ]
    },
    {
      "cell_type": "code",
      "source": [
        "#@markdown b 집합에서 a 집합을 뺀 차집합\n",
        "b - a"
      ],
      "metadata": {
        "colab": {
          "base_uri": "https://localhost:8080/"
        },
        "id": "fTYLuyV-rLyt",
        "outputId": "186c6b0c-136f-4ef7-b1ec-19c5a0824cc0"
      },
      "execution_count": 27,
      "outputs": [
        {
          "output_type": "execute_result",
          "data": {
            "text/plain": [
              "{6, 7}"
            ]
          },
          "metadata": {},
          "execution_count": 27
        }
      ]
    },
    {
      "cell_type": "code",
      "source": [
        "b.difference(a)"
      ],
      "metadata": {
        "colab": {
          "base_uri": "https://localhost:8080/"
        },
        "id": "-RxCsEjLrR5_",
        "outputId": "7cd79929-8a67-4503-ac29-8e687774b8bb"
      },
      "execution_count": 28,
      "outputs": [
        {
          "output_type": "execute_result",
          "data": {
            "text/plain": [
              "{6, 7}"
            ]
          },
          "metadata": {},
          "execution_count": 28
        }
      ]
    }
  ]
}