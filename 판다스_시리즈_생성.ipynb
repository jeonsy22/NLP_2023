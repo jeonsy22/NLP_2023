{
  "nbformat": 4,
  "nbformat_minor": 0,
  "metadata": {
    "colab": {
      "provenance": [],
      "authorship_tag": "ABX9TyPI3K/o2vAnI8RfQBOXLKq+",
      "include_colab_link": true
    },
    "kernelspec": {
      "name": "python3",
      "display_name": "Python 3"
    },
    "language_info": {
      "name": "python"
    }
  },
  "cells": [
    {
      "cell_type": "markdown",
      "metadata": {
        "id": "view-in-github",
        "colab_type": "text"
      },
      "source": [
        "<a href=\"https://colab.research.google.com/github/jeonsy22/NLP_2023/blob/main/%ED%8C%90%EB%8B%A4%EC%8A%A4_%EC%8B%9C%EB%A6%AC%EC%A6%88_%EC%83%9D%EC%84%B1.ipynb\" target=\"_parent\"><img src=\"https://colab.research.google.com/assets/colab-badge.svg\" alt=\"Open In Colab\"/></a>"
      ]
    },
    {
      "cell_type": "markdown",
      "source": [
        "판다스 시리즈(Series)생성"
      ],
      "metadata": {
        "id": "G5SiINXzMunO"
      }
    },
    {
      "cell_type": "markdown",
      "source": [
        "임포트 방식\n",
        "* froom pandas import Series, DataFrame\n",
        "* Series()\n",
        "* DataFrame()"
      ],
      "metadata": {
        "id": "pN7PKHWsM0Dc"
      }
    },
    {
      "cell_type": "markdown",
      "source": [
        "* import pandas as pd\n",
        "* pd.Series()\n",
        "* pd.DataFrame()"
      ],
      "metadata": {
        "id": "OvOMeOl7NBs0"
      }
    },
    {
      "cell_type": "markdown",
      "source": [
        "Series 객체 생성\n",
        "* 1차원 데이터를 위한 자료구조\n",
        "* Raw 데이터를 파이썬 리스트로 표현\n",
        "* Series 클래스의 객체를 생성"
      ],
      "metadata": {
        "id": "ouvaCdAgNKu6"
      }
    },
    {
      "cell_type": "code",
      "source": [
        "import pandas as pd\n",
        "\n",
        "arr = [0, 1, 2, 3]"
      ],
      "metadata": {
        "id": "dA2_7VpbNfbk"
      },
      "execution_count": 2,
      "outputs": []
    },
    {
      "cell_type": "code",
      "source": [
        "type(arr)"
      ],
      "metadata": {
        "colab": {
          "base_uri": "https://localhost:8080/"
        },
        "id": "E8d0yjbfNlLW",
        "outputId": "0900335a-94b4-4436-a23a-8b385833c58d"
      },
      "execution_count": 3,
      "outputs": [
        {
          "output_type": "execute_result",
          "data": {
            "text/plain": [
              "list"
            ]
          },
          "metadata": {},
          "execution_count": 3
        }
      ]
    },
    {
      "cell_type": "code",
      "source": [
        "pd.Series(arr)"
      ],
      "metadata": {
        "id": "i5JacxtfNnMP"
      },
      "execution_count": null,
      "outputs": []
    },
    {
      "cell_type": "code",
      "source": [
        "s = pd.Series(arr)\n",
        "s"
      ],
      "metadata": {
        "colab": {
          "base_uri": "https://localhost:8080/"
        },
        "id": "aSiOuXCoNuhb",
        "outputId": "2c3ecd8e-0860-448d-828e-c2cfc6717ea9"
      },
      "execution_count": 6,
      "outputs": [
        {
          "output_type": "execute_result",
          "data": {
            "text/plain": [
              "0    0\n",
              "1    1\n",
              "2    2\n",
              "3    3\n",
              "dtype: int64"
            ]
          },
          "metadata": {},
          "execution_count": 6
        }
      ]
    },
    {
      "cell_type": "code",
      "source": [
        "type(s)"
      ],
      "metadata": {
        "colab": {
          "base_uri": "https://localhost:8080/"
        },
        "id": "2-mGNvNtNzQM",
        "outputId": "1fa097aa-26be-45c9-8b57-d05ffbf139a1"
      },
      "execution_count": 7,
      "outputs": [
        {
          "output_type": "execute_result",
          "data": {
            "text/plain": [
              "pandas.core.series.Series"
            ]
          },
          "metadata": {},
          "execution_count": 7
        }
      ]
    },
    {
      "cell_type": "markdown",
      "source": [
        "Series 내부 구조(1/2)\n",
        "* 행 번호와 인덱스를 사용해서 데이터를 관리\n",
        "* 자동으로 부여되는 행 번호\n",
        "* 인덱스는 문자 혹인 숫자로 설정 가능"
      ],
      "metadata": {
        "id": "T_W-RECdN3cm"
      }
    },
    {
      "cell_type": "markdown",
      "source": [
        "Series 내부 구조(2/2)\n",
        "* Series 생성 시 index를 지정할 수 있다."
      ],
      "metadata": {
        "id": "crjl3MtAOGgo"
      }
    },
    {
      "cell_type": "code",
      "source": [
        "data = [100, 200, 300]"
      ],
      "metadata": {
        "id": "ScPV3g3eNpAF"
      },
      "execution_count": 5,
      "outputs": []
    },
    {
      "cell_type": "code",
      "source": [
        "index = [\"월\", \"화\", \"수\"]"
      ],
      "metadata": {
        "id": "gl3TZaP4ODFb"
      },
      "execution_count": 8,
      "outputs": []
    },
    {
      "cell_type": "code",
      "source": [
        "data = [100, 200, 300]\n",
        "index = [\"월\", \"화\", \"수\"]\n",
        "\n",
        "s = pd.Series(data, index)"
      ],
      "metadata": {
        "id": "bzck0SziOXZD"
      },
      "execution_count": 9,
      "outputs": []
    },
    {
      "cell_type": "code",
      "source": [
        "s"
      ],
      "metadata": {
        "colab": {
          "base_uri": "https://localhost:8080/"
        },
        "id": "dTgdiOnBOd-m",
        "outputId": "c3214cbd-aa56-4b06-c99b-76c2873b1b7f"
      },
      "execution_count": 10,
      "outputs": [
        {
          "output_type": "execute_result",
          "data": {
            "text/plain": [
              "월    100\n",
              "화    200\n",
              "수    300\n",
              "dtype: int64"
            ]
          },
          "metadata": {},
          "execution_count": 10
        }
      ]
    },
    {
      "cell_type": "markdown",
      "source": [
        "Series 속성\n",
        "* Series 클래스의 속성\n",
        "* index\n",
        "* vaiues"
      ],
      "metadata": {
        "id": "oRngMa4tOgZB"
      }
    },
    {
      "cell_type": "code",
      "source": [
        "s.index"
      ],
      "metadata": {
        "colab": {
          "base_uri": "https://localhost:8080/"
        },
        "id": "Kqq8wt01Oe2S",
        "outputId": "14afefda-179d-4574-c29b-df3263bc7456"
      },
      "execution_count": 12,
      "outputs": [
        {
          "output_type": "execute_result",
          "data": {
            "text/plain": [
              "Index(['월', '화', '수'], dtype='object')"
            ]
          },
          "metadata": {},
          "execution_count": 12
        }
      ]
    },
    {
      "cell_type": "code",
      "source": [
        "s.values"
      ],
      "metadata": {
        "colab": {
          "base_uri": "https://localhost:8080/"
        },
        "id": "SybdgDhTOpmg",
        "outputId": "9f675006-ed37-4164-fa1c-b2e860a08f94"
      },
      "execution_count": 13,
      "outputs": [
        {
          "output_type": "execute_result",
          "data": {
            "text/plain": [
              "array([100, 200, 300])"
            ]
          },
          "metadata": {},
          "execution_count": 13
        }
      ]
    },
    {
      "cell_type": "code",
      "source": [
        "s.array"
      ],
      "metadata": {
        "colab": {
          "base_uri": "https://localhost:8080/"
        },
        "id": "-iReHuEYOs3g",
        "outputId": "6a8e068b-fe82-40c3-f16f-0e4263a7efb5"
      },
      "execution_count": 14,
      "outputs": [
        {
          "output_type": "execute_result",
          "data": {
            "text/plain": [
              "<PandasArray>\n",
              "[100, 200, 300]\n",
              "Length: 3, dtype: int64"
            ]
          },
          "metadata": {},
          "execution_count": 14
        }
      ]
    },
    {
      "cell_type": "code",
      "source": [
        "#연습문제\n",
        "#메로나 400\n",
        "#누가바 500\n",
        "#빠삐코 800"
      ],
      "metadata": {
        "id": "uu_zU2GfOxGP"
      },
      "execution_count": 15,
      "outputs": []
    },
    {
      "cell_type": "code",
      "source": [
        "import pandas as pd\n",
        "\n",
        "data = [400, 500, 800]\n",
        "index = [\"메로나\", \"누가바\", \"빠삐코\"]\n",
        "s = pd.Series(data, index)"
      ],
      "metadata": {
        "id": "vVArJSdmO3Op"
      },
      "execution_count": 17,
      "outputs": []
    },
    {
      "cell_type": "code",
      "source": [
        "s"
      ],
      "metadata": {
        "colab": {
          "base_uri": "https://localhost:8080/"
        },
        "id": "oFyYqFE-PCtN",
        "outputId": "8544f6a4-41bd-4fbe-8daa-f080c2f8b5e9"
      },
      "execution_count": 18,
      "outputs": [
        {
          "output_type": "execute_result",
          "data": {
            "text/plain": [
              "메로나    400\n",
              "누가바    500\n",
              "빠삐코    800\n",
              "dtype: int64"
            ]
          },
          "metadata": {},
          "execution_count": 18
        }
      ]
    },
    {
      "cell_type": "code",
      "source": [
        "type(s)"
      ],
      "metadata": {
        "colab": {
          "base_uri": "https://localhost:8080/"
        },
        "id": "VEHeGZvkPJHT",
        "outputId": "8527724c-a577-45a4-8599-a3457642add8"
      },
      "execution_count": 19,
      "outputs": [
        {
          "output_type": "execute_result",
          "data": {
            "text/plain": [
              "pandas.core.series.Series"
            ]
          },
          "metadata": {},
          "execution_count": 19
        }
      ]
    },
    {
      "cell_type": "code",
      "source": [
        "s.index"
      ],
      "metadata": {
        "colab": {
          "base_uri": "https://localhost:8080/"
        },
        "id": "J17Cey35PLTc",
        "outputId": "68eea13c-7ae6-4ad6-8af2-613ab69de0fc"
      },
      "execution_count": 20,
      "outputs": [
        {
          "output_type": "execute_result",
          "data": {
            "text/plain": [
              "Index(['메로나', '누가바', '빠삐코'], dtype='object')"
            ]
          },
          "metadata": {},
          "execution_count": 20
        }
      ]
    },
    {
      "cell_type": "code",
      "source": [
        "s.values"
      ],
      "metadata": {
        "colab": {
          "base_uri": "https://localhost:8080/"
        },
        "id": "HRT2DI9pPMhr",
        "outputId": "40fa61ad-9617-4073-8798-16d8057e2ad3"
      },
      "execution_count": 21,
      "outputs": [
        {
          "output_type": "execute_result",
          "data": {
            "text/plain": [
              "array([400, 500, 800])"
            ]
          },
          "metadata": {},
          "execution_count": 21
        }
      ]
    },
    {
      "cell_type": "code",
      "source": [
        "s.array"
      ],
      "metadata": {
        "colab": {
          "base_uri": "https://localhost:8080/"
        },
        "id": "qXi0DHmaPOAl",
        "outputId": "ed42f416-d8db-45ca-cf2f-111887c49c64"
      },
      "execution_count": 22,
      "outputs": [
        {
          "output_type": "execute_result",
          "data": {
            "text/plain": [
              "<PandasArray>\n",
              "[400, 500, 800]\n",
              "Length: 3, dtype: int64"
            ]
          },
          "metadata": {},
          "execution_count": 22
        }
      ]
    }
  ]
}