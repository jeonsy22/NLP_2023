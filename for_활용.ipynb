{
  "nbformat": 4,
  "nbformat_minor": 0,
  "metadata": {
    "colab": {
      "provenance": [],
      "authorship_tag": "ABX9TyNLWsqodNkN8CKc/ymZ+rXi",
      "include_colab_link": true
    },
    "kernelspec": {
      "name": "python3",
      "display_name": "Python 3"
    },
    "language_info": {
      "name": "python"
    }
  },
  "cells": [
    {
      "cell_type": "markdown",
      "metadata": {
        "id": "view-in-github",
        "colab_type": "text"
      },
      "source": [
        "<a href=\"https://colab.research.google.com/github/jeonsy22/NLP_2023/blob/main/for_%ED%99%9C%EC%9A%A9.ipynb\" target=\"_parent\"><img src=\"https://colab.research.google.com/assets/colab-badge.svg\" alt=\"Open In Colab\"/></a>"
      ]
    },
    {
      "cell_type": "code",
      "execution_count": 2,
      "metadata": {
        "colab": {
          "base_uri": "https://localhost:8080/"
        },
        "id": "em09Fh_uh9em",
        "outputId": "841d5c01-e0b4-4df8-d66d-e30e18484b2e"
      },
      "outputs": [
        {
          "output_type": "stream",
          "name": "stdout",
          "text": [
            "[1, 2, 3, 4, 5]\n"
          ]
        }
      ],
      "source": [
        "students = [1, 2, 3, 4, 5]\n",
        "print(students)"
      ]
    },
    {
      "cell_type": "code",
      "source": [
        "students = [i + 100 for i in students]\n",
        "print(students)"
      ],
      "metadata": {
        "colab": {
          "base_uri": "https://localhost:8080/"
        },
        "id": "LieRx_fYogJW",
        "outputId": "206ab5af-b109-4d95-94a7-6a2a632e2751"
      },
      "execution_count": 3,
      "outputs": [
        {
          "output_type": "stream",
          "name": "stdout",
          "text": [
            "[101, 102, 103, 104, 105]\n"
          ]
        }
      ]
    },
    {
      "cell_type": "code",
      "source": [
        "# 학생 이름을 길이로 변환\n",
        "students = [\"Iron man\", \"Thor\", \"I am groot\"]\n",
        "students = [len(i) for i in students]\n",
        "print(students)"
      ],
      "metadata": {
        "colab": {
          "base_uri": "https://localhost:8080/"
        },
        "id": "3cxeeFasoNNv",
        "outputId": "c6e10548-b908-466b-d17a-b4ea541df48a"
      },
      "execution_count": 6,
      "outputs": [
        {
          "output_type": "stream",
          "name": "stdout",
          "text": [
            "[8, 4, 10]\n"
          ]
        }
      ]
    },
    {
      "cell_type": "code",
      "source": [
        "name = [\"seoyoon\", \"hayoung\", \"gaeun\"]\n",
        "name = [len(i) for i in name]\n",
        "print(name)"
      ],
      "metadata": {
        "colab": {
          "base_uri": "https://localhost:8080/"
        },
        "id": "lYCtBJAZrPIS",
        "outputId": "9cb2fde9-b6b4-4af0-d5bd-34fea05da78a"
      },
      "execution_count": 11,
      "outputs": [
        {
          "output_type": "stream",
          "name": "stdout",
          "text": [
            "[7, 7, 5]\n"
          ]
        }
      ]
    },
    {
      "cell_type": "code",
      "source": [
        "# 학생 이름을 대문자로 변환\n",
        "students = [\"Iron man\", \"Thor\", \"I am groot\"]\n",
        "students = [i.upper() for i in students]\n",
        "print(students)"
      ],
      "metadata": {
        "colab": {
          "base_uri": "https://localhost:8080/"
        },
        "id": "Zwo_WhILoqVC",
        "outputId": "c7044e91-30f6-42c1-938e-d4eb2b28ffdf"
      },
      "execution_count": 7,
      "outputs": [
        {
          "output_type": "stream",
          "name": "stdout",
          "text": [
            "['IRON MAN', 'THOR', 'I AM GROOT']\n"
          ]
        }
      ]
    },
    {
      "cell_type": "code",
      "source": [
        "name = [\"seoyoon\", \"hayoung\", \"gaeun\"]\n",
        "name = [i.upper() for i in name]\n",
        "print(name)"
      ],
      "metadata": {
        "colab": {
          "base_uri": "https://localhost:8080/"
        },
        "id": "P2e0XWbJq73O",
        "outputId": "72b71b27-fc45-45f0-9f54-e308e68b5a21"
      },
      "execution_count": 10,
      "outputs": [
        {
          "output_type": "stream",
          "name": "stdout",
          "text": [
            "['SEOYOON', 'HAYOUNG', 'GAEUN']\n"
          ]
        }
      ]
    }
  ]
}