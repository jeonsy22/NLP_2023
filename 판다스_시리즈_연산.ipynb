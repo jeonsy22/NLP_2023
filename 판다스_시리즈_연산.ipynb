{
  "nbformat": 4,
  "nbformat_minor": 0,
  "metadata": {
    "colab": {
      "provenance": [],
      "authorship_tag": "ABX9TyMCqNdfT3UVx0GuAHWdy4Yo",
      "include_colab_link": true
    },
    "kernelspec": {
      "name": "python3",
      "display_name": "Python 3"
    },
    "language_info": {
      "name": "python"
    }
  },
  "cells": [
    {
      "cell_type": "markdown",
      "metadata": {
        "id": "view-in-github",
        "colab_type": "text"
      },
      "source": [
        "<a href=\"https://colab.research.google.com/github/jeonsy22/NLP_2023/blob/main/%ED%8C%90%EB%8B%A4%EC%8A%A4_%EC%8B%9C%EB%A6%AC%EC%A6%88_%EC%97%B0%EC%82%B0.ipynb\" target=\"_parent\"><img src=\"https://colab.research.google.com/assets/colab-badge.svg\" alt=\"Open In Colab\"/></a>"
      ]
    },
    {
      "cell_type": "markdown",
      "source": [
        "브로드캐스팅(Broadcasting)\n",
        "* 연산이 시리즈 객체의 전체 값에 적용된다.\n",
        "* 반복문을 사용하지 않는다."
      ],
      "metadata": {
        "id": "GD4fVpFfV6BM"
      }
    },
    {
      "cell_type": "code",
      "source": [
        "from pandas import Series\n",
        "\n",
        "s = Series([100, 200, 300])\n",
        "print(s + 10)"
      ],
      "metadata": {
        "colab": {
          "base_uri": "https://localhost:8080/"
        },
        "id": "X_nfjx0YXFDU",
        "outputId": "65de340b-4bfd-4448-e6c9-ae6a9f57063e"
      },
      "execution_count": 2,
      "outputs": [
        {
          "output_type": "stream",
          "name": "stdout",
          "text": [
            "0    110\n",
            "1    210\n",
            "2    310\n",
            "dtype: int64\n"
          ]
        }
      ]
    },
    {
      "cell_type": "markdown",
      "source": [
        "사칙연산(1/2)\n",
        "* 값은 인덱스를 기준으로 사칙 연산이 적용된다.\n",
        "* 반복문을 사용하지 않아도 된다."
      ],
      "metadata": {
        "id": "fPLpEideWR0L"
      }
    },
    {
      "cell_type": "code",
      "source": [
        "high = Series([51500, 51200, 52500, 55500, 58500])\n",
        "low = Series([50700, 51000, 54000, 51300, 53200])\n",
        "diff = high - low\n",
        "print(diff)"
      ],
      "metadata": {
        "colab": {
          "base_uri": "https://localhost:8080/"
        },
        "id": "cz8naMSLXPY5",
        "outputId": "9a755e32-79f5-467d-863c-221f5de0d23d"
      },
      "execution_count": 3,
      "outputs": [
        {
          "output_type": "stream",
          "name": "stdout",
          "text": [
            "0     800\n",
            "1     200\n",
            "2   -1500\n",
            "3    4200\n",
            "4    5300\n",
            "dtype: int64\n"
          ]
        }
      ]
    },
    {
      "cell_type": "markdown",
      "source": [
        "사칙연산(2/2)\n",
        "* 인덱스가 같은 데이터 간의 덧셈 연산 적용\n",
        "* 순서와 상관없이 인덱스를 기준으로 계산"
      ],
      "metadata": {
        "id": "h9547QLMWaAK"
      }
    },
    {
      "cell_type": "code",
      "source": [
        "high = Series(data = [51500, 51200, 52500], index = [\"5/1\", \"5/2\", \"5/3\"])\n",
        "low = Series(data = [50700, 51000, 54000], index = [\"5/1\", \"5/2\", \"5/3\"])\n",
        "diff = high - low\n",
        "print(diff)"
      ],
      "metadata": {
        "colab": {
          "base_uri": "https://localhost:8080/"
        },
        "id": "hpo84GI8Xpyc",
        "outputId": "9b26d4d8-ace4-437f-f914-38989242bbc0"
      },
      "execution_count": 6,
      "outputs": [
        {
          "output_type": "stream",
          "name": "stdout",
          "text": [
            "5/1     800\n",
            "5/2     200\n",
            "5/3   -1500\n",
            "dtype: int64\n"
          ]
        }
      ]
    },
    {
      "cell_type": "code",
      "source": [
        "high = Series(data = [51500, 51200, 52500], index = [\"5/1\", \"5/2\", \"5/3\"])\n",
        "low = Series(data = [50700, 51000, 54000], index = [\"5/1\", \"5/2\", \"5/4\"])\n",
        "diff = high - low\n",
        "print(diff)"
      ],
      "metadata": {
        "colab": {
          "base_uri": "https://localhost:8080/"
        },
        "id": "LjjT3BiDYTQD",
        "outputId": "67136639-33fe-44d8-9751-bcadbd740723"
      },
      "execution_count": 7,
      "outputs": [
        {
          "output_type": "stream",
          "name": "stdout",
          "text": [
            "5/1    800.0\n",
            "5/2    200.0\n",
            "5/3      NaN\n",
            "5/4      NaN\n",
            "dtype: float64\n"
          ]
        }
      ]
    },
    {
      "cell_type": "markdown",
      "source": [
        "시리즈 비교 연산\n",
        "* 비교 연산자의 결과로 Baoolean 타입이 저장된 시리즈가 리턴된다."
      ],
      "metadata": {
        "id": "S54C_YZLWk6U"
      }
    },
    {
      "cell_type": "code",
      "source": [
        "s = Series(data = [100, 200, 300, 400, 500])\n",
        "cond = s > 300\n",
        "print(cond)"
      ],
      "metadata": {
        "colab": {
          "base_uri": "https://localhost:8080/"
        },
        "id": "cucV1SJOYWmC",
        "outputId": "29b1a124-4f42-4aa7-8ac8-f9fbd5e86c48"
      },
      "execution_count": 8,
      "outputs": [
        {
          "output_type": "stream",
          "name": "stdout",
          "text": [
            "0    False\n",
            "1    False\n",
            "2    False\n",
            "3     True\n",
            "4     True\n",
            "dtype: bool\n"
          ]
        }
      ]
    },
    {
      "cell_type": "markdown",
      "source": [
        "시리즈 필터링(1/2)\n",
        "* True/False 값을 통해서 True 값만 필터링 가능"
      ],
      "metadata": {
        "id": "UCZ1VCZ_Wryn"
      }
    },
    {
      "cell_type": "code",
      "source": [
        "s = Series(data = [100, 200, 300, 400, 500])\n",
        "cond = [False, False, False, True, True]\n",
        "s[cond]"
      ],
      "metadata": {
        "colab": {
          "base_uri": "https://localhost:8080/"
        },
        "id": "d7_uXlLTZdKY",
        "outputId": "ba90f574-996e-4269-efd1-a019e4d78a2c"
      },
      "execution_count": 9,
      "outputs": [
        {
          "output_type": "execute_result",
          "data": {
            "text/plain": [
              "3    400\n",
              "4    500\n",
              "dtype: int64"
            ]
          },
          "metadata": {},
          "execution_count": 9
        }
      ]
    },
    {
      "cell_type": "markdown",
      "source": [
        "시리즈 필터링(2/2)\n",
        "* 비교 연산자의 결과 시리즈를 사용하여 인덱싱하면 조건을 만족하는 데이터만 필터링 가능"
      ],
      "metadata": {
        "id": "s-qVf66fWsmj"
      }
    },
    {
      "cell_type": "code",
      "execution_count": 10,
      "metadata": {
        "colab": {
          "base_uri": "https://localhost:8080/"
        },
        "id": "iVwAp1qYV1dD",
        "outputId": "8e9a6faa-c8e6-4346-8710-5225fd12ef17"
      },
      "outputs": [
        {
          "output_type": "stream",
          "name": "stdout",
          "text": [
            "3    400\n",
            "4    500\n",
            "dtype: int64\n"
          ]
        }
      ],
      "source": [
        "s = Series(data = [100, 200, 300, 400, 500])\n",
        "cond = s > 300\n",
        "\n",
        "print(s[cond])"
      ]
    }
  ]
}