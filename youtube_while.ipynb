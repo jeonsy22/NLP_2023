{
  "nbformat": 4,
  "nbformat_minor": 0,
  "metadata": {
    "colab": {
      "provenance": [],
      "authorship_tag": "ABX9TyOnmaIHBlplZVcDMRzz3JyQ",
      "include_colab_link": true
    },
    "kernelspec": {
      "name": "python3",
      "display_name": "Python 3"
    },
    "language_info": {
      "name": "python"
    }
  },
  "cells": [
    {
      "cell_type": "markdown",
      "metadata": {
        "id": "view-in-github",
        "colab_type": "text"
      },
      "source": [
        "<a href=\"https://colab.research.google.com/github/jeonsy22/NLP_2023/blob/main/youtube_while.ipynb\" target=\"_parent\"><img src=\"https://colab.research.google.com/assets/colab-badge.svg\" alt=\"Open In Colab\"/></a>"
      ]
    },
    {
      "cell_type": "markdown",
      "source": [
        "While\n",
        "* while문은 whlie문과 함께 정의한 **조건이 참인 동안 반복 루프를 수행**한다."
      ],
      "metadata": {
        "id": "t_xcOJFDLBaA"
      }
    },
    {
      "cell_type": "code",
      "execution_count": 2,
      "metadata": {
        "colab": {
          "base_uri": "https://localhost:8080/"
        },
        "id": "oxTOlHeBLAnJ",
        "outputId": "c38aeb59-3b94-4bb1-b765-c48c6c98fe70"
      },
      "outputs": [
        {
          "output_type": "stream",
          "name": "stdout",
          "text": [
            "5\n",
            "4\n",
            "3\n",
            "2\n",
            "1\n"
          ]
        }
      ],
      "source": [
        "number = 5\n",
        "\n",
        "while number > 0:\n",
        "  print(number)\n",
        "  number -= 1"
      ]
    },
    {
      "cell_type": "code",
      "source": [
        "number = 10\n",
        "\n",
        "while number > 0:\n",
        "  print(number)\n",
        "  number -= 1"
      ],
      "metadata": {
        "colab": {
          "base_uri": "https://localhost:8080/"
        },
        "id": "WBA22nffMNao",
        "outputId": "5358af50-9b06-42e3-e8cd-36adf8405a53"
      },
      "execution_count": 7,
      "outputs": [
        {
          "output_type": "stream",
          "name": "stdout",
          "text": [
            "10\n",
            "9\n",
            "8\n",
            "7\n",
            "6\n",
            "5\n",
            "4\n",
            "3\n",
            "2\n",
            "1\n"
          ]
        }
      ]
    },
    {
      "cell_type": "code",
      "source": [
        "#@markdown 많이 사용하는 방법 중 하나는 while True로 지정하여 무한 루프를 생성 후, **탈출 구문 루프 내에서 설정**하는 것\n",
        "number = 1\n",
        "\n",
        "while True:\n",
        "  print(number)\n",
        "  number += 1\n",
        "  #탈출 구문(break)\n",
        "  if number > 6:\n",
        "    break"
      ],
      "metadata": {
        "colab": {
          "base_uri": "https://localhost:8080/"
        },
        "id": "ZsZl1T9QLbsk",
        "outputId": "28e34ecf-86a7-4048-b189-12658d40d700"
      },
      "execution_count": 4,
      "outputs": [
        {
          "output_type": "stream",
          "name": "stdout",
          "text": [
            "1\n",
            "2\n",
            "3\n",
            "4\n",
            "5\n",
            "6\n"
          ]
        }
      ]
    }
  ]
}