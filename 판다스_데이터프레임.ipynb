{
  "nbformat": 4,
  "nbformat_minor": 0,
  "metadata": {
    "colab": {
      "provenance": [],
      "authorship_tag": "ABX9TyN5wopPfdFJeBx8tHnGTsmC",
      "include_colab_link": true
    },
    "kernelspec": {
      "name": "python3",
      "display_name": "Python 3"
    },
    "language_info": {
      "name": "python"
    }
  },
  "cells": [
    {
      "cell_type": "markdown",
      "metadata": {
        "id": "view-in-github",
        "colab_type": "text"
      },
      "source": [
        "<a href=\"https://colab.research.google.com/github/jeonsy22/NLP_2023/blob/main/%ED%8C%90%EB%8B%A4%EC%8A%A4_%EB%8D%B0%EC%9D%B4%ED%84%B0%ED%94%84%EB%A0%88%EC%9E%84.ipynb\" target=\"_parent\"><img src=\"https://colab.research.google.com/assets/colab-badge.svg\" alt=\"Open In Colab\"/></a>"
      ]
    },
    {
      "cell_type": "markdown",
      "source": [
        "DataFrame 생성(1/3)\n",
        "* 2차원 표에서 컬럼 단위로 데이터를 표현\n",
        "* 컬럼명을 딕셔너리의 key로 데이터는 딕셔너리의 values로 사용"
      ],
      "metadata": {
        "id": "G33H3P-d359V"
      }
    },
    {
      "cell_type": "code",
      "execution_count": 1,
      "metadata": {
        "colab": {
          "base_uri": "https://localhost:8080/"
        },
        "id": "8JKT5pLB3s_f",
        "outputId": "45f93cf3-e937-47dd-e078-fc911ec1b39c"
      },
      "outputs": [
        {
          "output_type": "stream",
          "name": "stdout",
          "text": [
            "           종가     PER   PBR\n",
            "NAVER  157000   39.88  4.38\n",
            "삼성전자    51300    8.52  1.45\n",
            "LG전자    68800   10.03  0.87\n",
            "카카오    140000  228.38  2.16\n"
          ]
        }
      ],
      "source": [
        "from pandas import DataFrame\n",
        "\n",
        "data = {\n",
        "    \"종가\": [157000, 51300, 68800, 140000],\n",
        "    \"PER\": [39.88, 8.52, 10.03, 228.38],\n",
        "    \"PBR\": [4.38, 1.45, 0.87, 2.16]\n",
        "}\n",
        "\n",
        "index = ['NAVER', '삼성전자', 'LG전자', '카카오']\n",
        "\n",
        "df = DataFrame(data, index)\n",
        "print(df)"
      ]
    },
    {
      "cell_type": "markdown",
      "source": [
        "DataFrame 생성(2/3)\n",
        "* 2차원 표에서 로우 단위로 데이터를 리스트로 표현\n",
        "* data, index, columns를 각각 리스트로 표현"
      ],
      "metadata": {
        "id": "PABijAbz64Yj"
      }
    },
    {
      "cell_type": "code",
      "source": [
        "data = [\n",
        "    [157000, 39.88, 4.38],\n",
        "    [51300, 8.52, 1.45],\n",
        "    [68800, 10.03, 0.87],\n",
        "    [140000, 228.38, 2.16]\n",
        "]\n",
        "\n",
        "index = ['NAVER', '삼성전자', 'LG전자', '카카오']\n",
        "columns = [\"종가\", \"PER\", \"PBR\"]\n",
        "df = DataFrame(data = data, index = index, columns = columns)\n",
        "print(df)"
      ],
      "metadata": {
        "colab": {
          "base_uri": "https://localhost:8080/"
        },
        "id": "ugf-X4ee63K8",
        "outputId": "4db662dd-5b9c-4c3e-f1b3-0728c58c609e"
      },
      "execution_count": 3,
      "outputs": [
        {
          "output_type": "stream",
          "name": "stdout",
          "text": [
            "           종가     PER   PBR\n",
            "NAVER  157000   39.88  4.38\n",
            "삼성전자    51300    8.52  1.45\n",
            "LG전자    68800   10.03  0.87\n",
            "카카오    140000  228.38  2.16\n"
          ]
        }
      ]
    },
    {
      "cell_type": "markdown",
      "source": [
        "DataFrame 생성(3/3)\n",
        "* 2차원 표에서 로우 단위로 데이터를 딕셔너리로 표현"
      ],
      "metadata": {
        "id": "aEsbOuWP7p1E"
      }
    },
    {
      "cell_type": "code",
      "source": [
        "data = [\n",
        "    {\"종가\": 157000, \"PER\": 39.88, \"PBR\": 4.38},\n",
        "    {\"종가\": 51300, \"PER\": 8.52, \"PBR\": 1.45},\n",
        "    {\"종가\": 68800, \"PER\": 10.03, \"PBR\": 0.87},\n",
        "    {\"종가\": 140000, \"PER\": 228.38, \"PBR\": 2.16}\n",
        "]\n",
        "\n",
        "index = ['NAVER', '삼성전자', 'LG전자', '카카오']\n",
        "df = DataFrame(data = data, index = index)\n",
        "print(df)"
      ],
      "metadata": {
        "colab": {
          "base_uri": "https://localhost:8080/"
        },
        "id": "E3LlKQYp7oki",
        "outputId": "b5996ed4-642b-4324-a5c0-17836dae91e9"
      },
      "execution_count": 5,
      "outputs": [
        {
          "output_type": "stream",
          "name": "stdout",
          "text": [
            "           종가     PER   PBR\n",
            "NAVER  157000   39.88  4.38\n",
            "삼성전자    51300    8.52  1.45\n",
            "LG전자    68800   10.03  0.87\n",
            "카카오    140000  228.38  2.16\n"
          ]
        }
      ]
    }
  ]
}