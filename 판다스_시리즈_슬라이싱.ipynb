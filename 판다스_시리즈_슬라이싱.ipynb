{
  "nbformat": 4,
  "nbformat_minor": 0,
  "metadata": {
    "colab": {
      "provenance": [],
      "authorship_tag": "ABX9TyPNDV/5qGxzj7nLIjEDu6qf",
      "include_colab_link": true
    },
    "kernelspec": {
      "name": "python3",
      "display_name": "Python 3"
    },
    "language_info": {
      "name": "python"
    }
  },
  "cells": [
    {
      "cell_type": "markdown",
      "metadata": {
        "id": "view-in-github",
        "colab_type": "text"
      },
      "source": [
        "<a href=\"https://colab.research.google.com/github/jeonsy22/NLP_2023/blob/main/%ED%8C%90%EB%8B%A4%EC%8A%A4_%EC%8B%9C%EB%A6%AC%EC%A6%88_%EC%8A%AC%EB%9D%BC%EC%9D%B4%EC%8B%B1.ipynb\" target=\"_parent\"><img src=\"https://colab.research.google.com/assets/colab-badge.svg\" alt=\"Open In Colab\"/></a>"
      ]
    },
    {
      "cell_type": "markdown",
      "source": [
        "Sesries 슬라이싱(1/2)\n",
        "* 행번호를 사용하여 슬라이싱\n",
        "* iloc[시작 행번호: 끝 행번호]"
      ],
      "metadata": {
        "id": "olT6L8DYSedq"
      }
    },
    {
      "cell_type": "code",
      "execution_count": 1,
      "metadata": {
        "colab": {
          "base_uri": "https://localhost:8080/"
        },
        "id": "F51ZUeY-SPIb",
        "outputId": "307a22f2-b22f-469b-bed0-7d0a2b59a2eb"
      },
      "outputs": [
        {
          "output_type": "execute_result",
          "data": {
            "text/plain": [
              "월    100\n",
              "화    200\n",
              "수    300\n",
              "dtype: int64"
            ]
          },
          "metadata": {},
          "execution_count": 1
        }
      ],
      "source": [
        "import pandas as pd\n",
        "\n",
        "data  = [100, 200, 300]\n",
        "index = [\"월\", \"화\", \"수\"]\n",
        "s = pd.Series(data, index)\n",
        "s"
      ]
    },
    {
      "cell_type": "code",
      "source": [
        "s.iloc[0:2]"
      ],
      "metadata": {
        "colab": {
          "base_uri": "https://localhost:8080/"
        },
        "id": "QMY6KqdhS4kQ",
        "outputId": "995ec057-7a4c-4a57-ed40-4ceba9e81a2c"
      },
      "execution_count": 2,
      "outputs": [
        {
          "output_type": "execute_result",
          "data": {
            "text/plain": [
              "월    100\n",
              "화    200\n",
              "dtype: int64"
            ]
          },
          "metadata": {},
          "execution_count": 2
        }
      ]
    },
    {
      "cell_type": "markdown",
      "source": [
        "Series 슬라이싱(2/2)\n",
        "* 인덱스를 기반으로 슬라이싱\n",
        "* loc[시작 인덱스:끝 인덱스]\n",
        "* 끝 인덱스를 포함한다."
      ],
      "metadata": {
        "id": "uR9Rm0qLTCy6"
      }
    },
    {
      "cell_type": "code",
      "source": [
        "s"
      ],
      "metadata": {
        "colab": {
          "base_uri": "https://localhost:8080/"
        },
        "id": "CmYtjzlNS7S6",
        "outputId": "f8448ce4-ce78-4ca3-9509-d98387099edf"
      },
      "execution_count": 3,
      "outputs": [
        {
          "output_type": "execute_result",
          "data": {
            "text/plain": [
              "월    100\n",
              "화    200\n",
              "수    300\n",
              "dtype: int64"
            ]
          },
          "metadata": {},
          "execution_count": 3
        }
      ]
    },
    {
      "cell_type": "code",
      "source": [
        "s.loc[\"화\":\"수\"]"
      ],
      "metadata": {
        "colab": {
          "base_uri": "https://localhost:8080/"
        },
        "id": "23areCGPTnFs",
        "outputId": "2d0f40af-3bda-4d30-9214-5f89fe0ee1d9"
      },
      "execution_count": 4,
      "outputs": [
        {
          "output_type": "execute_result",
          "data": {
            "text/plain": [
              "화    200\n",
              "수    300\n",
              "dtype: int64"
            ]
          },
          "metadata": {},
          "execution_count": 4
        }
      ]
    },
    {
      "cell_type": "markdown",
      "source": [
        "여러 값 인덱싱\n",
        "* 연속적이지 않은 여러 개의 값을 한 번에 인덱싱\n",
        "* 행 번호 또는 인덱스를 파이썬 리스트로 구성한다.\n",
        "* loc 또는 iloc 속성에서 해당 리스트를 사용"
      ],
      "metadata": {
        "id": "wogCV3B3T1B3"
      }
    },
    {
      "cell_type": "code",
      "source": [
        "m = [1, 2, 3, 4]"
      ],
      "metadata": {
        "id": "hsa_PQa_Tpeh"
      },
      "execution_count": 5,
      "outputs": []
    },
    {
      "cell_type": "code",
      "source": [
        "m[0]"
      ],
      "metadata": {
        "colab": {
          "base_uri": "https://localhost:8080/"
        },
        "id": "UuZrvxqjUI_6",
        "outputId": "1a7f9de0-4833-4772-c79e-9483f0ed2a4d"
      },
      "execution_count": 6,
      "outputs": [
        {
          "output_type": "execute_result",
          "data": {
            "text/plain": [
              "1"
            ]
          },
          "metadata": {},
          "execution_count": 6
        }
      ]
    },
    {
      "cell_type": "code",
      "source": [
        "m[[0, 2]]"
      ],
      "metadata": {
        "colab": {
          "base_uri": "https://localhost:8080/",
          "height": 181
        },
        "id": "NjYx67ceUJq6",
        "outputId": "d984ea83-5655-4ef9-8279-7db9929f6172"
      },
      "execution_count": 7,
      "outputs": [
        {
          "output_type": "error",
          "ename": "TypeError",
          "evalue": "ignored",
          "traceback": [
            "\u001b[0;31m---------------------------------------------------------------------------\u001b[0m",
            "\u001b[0;31mTypeError\u001b[0m                                 Traceback (most recent call last)",
            "\u001b[0;32m<ipython-input-7-2e2b8959a2d2>\u001b[0m in \u001b[0;36m<cell line: 1>\u001b[0;34m()\u001b[0m\n\u001b[0;32m----> 1\u001b[0;31m \u001b[0mm\u001b[0m\u001b[0;34m[\u001b[0m\u001b[0;34m[\u001b[0m\u001b[0;36m0\u001b[0m\u001b[0;34m,\u001b[0m \u001b[0;36m2\u001b[0m\u001b[0;34m]\u001b[0m\u001b[0;34m]\u001b[0m\u001b[0;34m\u001b[0m\u001b[0;34m\u001b[0m\u001b[0m\n\u001b[0m",
            "\u001b[0;31mTypeError\u001b[0m: list indices must be integers or slices, not list"
          ]
        }
      ]
    },
    {
      "cell_type": "code",
      "source": [
        "s"
      ],
      "metadata": {
        "colab": {
          "base_uri": "https://localhost:8080/"
        },
        "id": "4Gv2aNJ4UMT0",
        "outputId": "af029b8d-250a-441c-fb11-c3b2242dd0ea"
      },
      "execution_count": 8,
      "outputs": [
        {
          "output_type": "execute_result",
          "data": {
            "text/plain": [
              "월    100\n",
              "화    200\n",
              "수    300\n",
              "dtype: int64"
            ]
          },
          "metadata": {},
          "execution_count": 8
        }
      ]
    },
    {
      "cell_type": "code",
      "source": [
        "s.iloc[[0, 2]]"
      ],
      "metadata": {
        "colab": {
          "base_uri": "https://localhost:8080/"
        },
        "id": "1-BNgyrSUU5C",
        "outputId": "49efcc83-95c4-427c-b440-a628dcd81638"
      },
      "execution_count": 9,
      "outputs": [
        {
          "output_type": "execute_result",
          "data": {
            "text/plain": [
              "월    100\n",
              "수    300\n",
              "dtype: int64"
            ]
          },
          "metadata": {},
          "execution_count": 9
        }
      ]
    },
    {
      "cell_type": "code",
      "source": [
        "s.loc[[\"월\", \"수\"]]"
      ],
      "metadata": {
        "colab": {
          "base_uri": "https://localhost:8080/"
        },
        "id": "zywk-Qf9UXP8",
        "outputId": "1b496719-f583-49b1-d3e7-880065eafacc"
      },
      "execution_count": 10,
      "outputs": [
        {
          "output_type": "execute_result",
          "data": {
            "text/plain": [
              "월    100\n",
              "수    300\n",
              "dtype: int64"
            ]
          },
          "metadata": {},
          "execution_count": 10
        }
      ]
    }
  ]
}