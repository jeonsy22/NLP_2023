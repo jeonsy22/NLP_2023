{
  "nbformat": 4,
  "nbformat_minor": 0,
  "metadata": {
    "colab": {
      "provenance": [],
      "authorship_tag": "ABX9TyNFBUt21OWqM9AN9nbKGrB0",
      "include_colab_link": true
    },
    "kernelspec": {
      "name": "python3",
      "display_name": "Python 3"
    },
    "language_info": {
      "name": "python"
    }
  },
  "cells": [
    {
      "cell_type": "markdown",
      "metadata": {
        "id": "view-in-github",
        "colab_type": "text"
      },
      "source": [
        "<a href=\"https://colab.research.google.com/github/jeonsy22/NLP_2023/blob/main/Dictionarypractice.ipynb\" target=\"_parent\"><img src=\"https://colab.research.google.com/assets/colab-badge.svg\" alt=\"Open In Colab\"/></a>"
      ]
    },
    {
      "cell_type": "code",
      "execution_count": null,
      "metadata": {
        "colab": {
          "base_uri": "https://localhost:8080/"
        },
        "id": "g0bJsoA9qiA9",
        "outputId": "2dc0dd18-9ee6-42b2-edbd-fe55c8c5814e",
        "cellView": "form"
      },
      "outputs": [
        {
          "output_type": "stream",
          "name": "stdout",
          "text": [
            "{'name': 'seoyoon', 'age': 18, 'birth': '0818', 'school': 'Hannam University'}\n"
          ]
        }
      ],
      "source": [
        "#@markdown 😎Simply talk about <font color = blue> me😎\n",
        "a = {'name':'seoyoon', 'age':18, 'birth':'0818', 'school':'Hannam University'}\n",
        "print(a)"
      ]
    },
    {
      "cell_type": "code",
      "source": [
        "print(a['name'])\n",
        "\n",
        "print(a['age'])\n",
        "\n",
        "print(a['birth'])\n",
        "\n",
        "print(a['school'])"
      ],
      "metadata": {
        "colab": {
          "base_uri": "https://localhost:8080/"
        },
        "id": "GnpQzYCxx-m1",
        "outputId": "3bad28ac-0655-437d-de63-d5735b2bc555"
      },
      "execution_count": null,
      "outputs": [
        {
          "output_type": "stream",
          "name": "stdout",
          "text": [
            "seoyoon\n",
            "18\n",
            "0818\n",
            "Hannam University\n"
          ]
        }
      ]
    },
    {
      "cell_type": "code",
      "source": [
        "#@markdown 💪Various sports⚽\n",
        "\n",
        "b = {'축구':'soccer', '농구':'basketball', '야구':'baseball', '탁구':'table tennis', '배구':'volleyball', '배드민턴':'badminton'}\n",
        "\n",
        "print(b)"
      ],
      "metadata": {
        "cellView": "form",
        "id": "_GEM-c6dMU4n",
        "outputId": "d2635e31-f2a6-4458-a9d4-58ce80a0d944",
        "colab": {
          "base_uri": "https://localhost:8080/"
        }
      },
      "execution_count": 4,
      "outputs": [
        {
          "output_type": "stream",
          "name": "stdout",
          "text": [
            "{'축구': 'soccer', '농구': 'basketball', '야구': 'baseball', '탁구': 'table tennis', '배구': 'volleyball', '배드민턴': 'badminton'}\n"
          ]
        }
      ]
    },
    {
      "cell_type": "code",
      "source": [
        "print(b['축구'])\n",
        "\n",
        "print(b['농구'])\n",
        "\n",
        "print(b['야구'])\n",
        "\n",
        "print(b['탁구'])\n",
        "\n",
        "print(b['배구'])\n",
        "\n",
        "print(b['배드민턴'])"
      ],
      "metadata": {
        "id": "8K6W5GUNPn__",
        "outputId": "3b66d31d-9467-42ff-e7f4-c1e1b0ea9b69",
        "colab": {
          "base_uri": "https://localhost:8080/"
        }
      },
      "execution_count": 3,
      "outputs": [
        {
          "output_type": "stream",
          "name": "stdout",
          "text": [
            "soccer\n",
            "basketball\n",
            "baseball\n",
            "table tennis\n",
            "volleyball\n",
            "badminton\n"
          ]
        }
      ]
    },
    {
      "cell_type": "code",
      "source": [
        "dic = {'축구':'soccer', '농구':'basketball', '야구':'baseball', '탁구':'table tennis', '배구':'volleyball', '배드민턴':'badminton'}"
      ],
      "metadata": {
        "id": "jmzGXB3PZYmc"
      },
      "execution_count": 7,
      "outputs": []
    },
    {
      "cell_type": "code",
      "source": [
        "dic['탁구']"
      ],
      "metadata": {
        "id": "_0_XxMlLZkUd",
        "outputId": "8f931bdd-2fef-453f-9619-4890e1a61751",
        "colab": {
          "base_uri": "https://localhost:8080/",
          "height": 35
        }
      },
      "execution_count": 8,
      "outputs": [
        {
          "output_type": "execute_result",
          "data": {
            "text/plain": [
              "'table tennis'"
            ],
            "application/vnd.google.colaboratory.intrinsic+json": {
              "type": "string"
            }
          },
          "metadata": {},
          "execution_count": 8
        }
      ]
    }
  ]
}