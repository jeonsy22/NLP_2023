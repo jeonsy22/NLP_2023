{
  "nbformat": 4,
  "nbformat_minor": 0,
  "metadata": {
    "colab": {
      "provenance": [],
      "authorship_tag": "ABX9TyOHkerymSYNeXfNe4fzHF4b",
      "include_colab_link": true
    },
    "kernelspec": {
      "name": "python3",
      "display_name": "Python 3"
    },
    "language_info": {
      "name": "python"
    }
  },
  "cells": [
    {
      "cell_type": "markdown",
      "metadata": {
        "id": "view-in-github",
        "colab_type": "text"
      },
      "source": [
        "<a href=\"https://colab.research.google.com/github/jeonsy22/NLP_2023/blob/main/Dictionarypractice.ipynb\" target=\"_parent\"><img src=\"https://colab.research.google.com/assets/colab-badge.svg\" alt=\"Open In Colab\"/></a>"
      ]
    },
    {
      "cell_type": "code",
      "execution_count": 2,
      "metadata": {
        "colab": {
          "base_uri": "https://localhost:8080/"
        },
        "id": "g0bJsoA9qiA9",
        "outputId": "2dc0dd18-9ee6-42b2-edbd-fe55c8c5814e"
      },
      "outputs": [
        {
          "output_type": "stream",
          "name": "stdout",
          "text": [
            "{'name': 'seoyoon', 'age': 18, 'birth': '0818', 'school': 'Hannam University'}\n"
          ]
        }
      ],
      "source": [
        "#@markdown\n",
        "a = {'name':'seoyoon', 'age':18, 'birth':'0818', 'school':'Hannam University'}\n",
        "print(a)"
      ]
    },
    {
      "cell_type": "code",
      "source": [
        "print(a['name'])\n",
        "\n",
        "print(a['age'])\n",
        "\n",
        "print(a['birth'])\n",
        "\n",
        "print(a['school'])"
      ],
      "metadata": {
        "colab": {
          "base_uri": "https://localhost:8080/"
        },
        "id": "GnpQzYCxx-m1",
        "outputId": "3bad28ac-0655-437d-de63-d5735b2bc555"
      },
      "execution_count": 7,
      "outputs": [
        {
          "output_type": "stream",
          "name": "stdout",
          "text": [
            "seoyoon\n",
            "18\n",
            "0818\n",
            "Hannam University\n"
          ]
        }
      ]
    }
  ]
}