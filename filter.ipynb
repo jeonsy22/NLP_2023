{
  "nbformat": 4,
  "nbformat_minor": 0,
  "metadata": {
    "colab": {
      "provenance": [],
      "authorship_tag": "ABX9TyNdkrgWYNTA/6f8BRvMQB62",
      "include_colab_link": true
    },
    "kernelspec": {
      "name": "python3",
      "display_name": "Python 3"
    },
    "language_info": {
      "name": "python"
    }
  },
  "cells": [
    {
      "cell_type": "markdown",
      "metadata": {
        "id": "view-in-github",
        "colab_type": "text"
      },
      "source": [
        "<a href=\"https://colab.research.google.com/github/jeonsy22/NLP_2023/blob/main/filter.ipynb\" target=\"_parent\"><img src=\"https://colab.research.google.com/assets/colab-badge.svg\" alt=\"Open In Colab\"/></a>"
      ]
    },
    {
      "cell_type": "markdown",
      "source": [
        "filter\n",
        "* 문법: **filter(function, iterable)\n",
        "* filter 내장함수는 값을 filter 할 때 사용한다.\n",
        "* True인 값을 가지는 요소만 filter한다."
      ],
      "metadata": {
        "id": "M2qqOggvWvSd"
      }
    },
    {
      "cell_type": "code",
      "execution_count": 1,
      "metadata": {
        "id": "KzQQHqBLWttW"
      },
      "outputs": [],
      "source": [
        "sample_data = [1, 2, 3, 4, 5, 6, 7, 8, 9, 10]"
      ]
    },
    {
      "cell_type": "markdown",
      "source": [
        "lambda 함수는 지정한 경우"
      ],
      "metadata": {
        "id": "lRRWUmn2XGsd"
      }
    },
    {
      "cell_type": "code",
      "source": [
        "result = filter(lambda x: True if (x % 2 == 1)else False, sample_data)\n",
        "list(result)"
      ],
      "metadata": {
        "colab": {
          "base_uri": "https://localhost:8080/"
        },
        "id": "oj4Zq2mAXF8q",
        "outputId": "b04e9c1b-eb52-457b-bca7-87b5a085419e"
      },
      "execution_count": 2,
      "outputs": [
        {
          "output_type": "execute_result",
          "data": {
            "text/plain": [
              "[1, 3, 5, 7, 9]"
            ]
          },
          "metadata": {},
          "execution_count": 2
        }
      ]
    },
    {
      "cell_type": "markdown",
      "source": [
        "함수를 선언하여 함수명으로 지정한 경우"
      ],
      "metadata": {
        "id": "BKA1HYVdXhrw"
      }
    },
    {
      "cell_type": "code",
      "source": [
        "def three_multiple(x):\n",
        "  if x % 3 == 0:\n",
        "    return True"
      ],
      "metadata": {
        "id": "s92cMvV8XhAD"
      },
      "execution_count": 5,
      "outputs": []
    },
    {
      "cell_type": "code",
      "source": [
        "#함수의 이름만 입력\n",
        "result = filter(three_multiple, sample_data)\n",
        "list(result)"
      ],
      "metadata": {
        "colab": {
          "base_uri": "https://localhost:8080/"
        },
        "id": "8cUtiPxgXtgz",
        "outputId": "949102c9-fdca-4eab-afce-f36cd3ebf77d"
      },
      "execution_count": 6,
      "outputs": [
        {
          "output_type": "execute_result",
          "data": {
            "text/plain": [
              "[3, 6, 9]"
            ]
          },
          "metadata": {},
          "execution_count": 6
        }
      ]
    }
  ]
}