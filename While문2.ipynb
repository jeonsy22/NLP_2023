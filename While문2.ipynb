{
  "nbformat": 4,
  "nbformat_minor": 0,
  "metadata": {
    "colab": {
      "provenance": [],
      "authorship_tag": "ABX9TyOBdLK3XJQa/twmKsVM2RKQ",
      "include_colab_link": true
    },
    "kernelspec": {
      "name": "python3",
      "display_name": "Python 3"
    },
    "language_info": {
      "name": "python"
    }
  },
  "cells": [
    {
      "cell_type": "markdown",
      "metadata": {
        "id": "view-in-github",
        "colab_type": "text"
      },
      "source": [
        "<a href=\"https://colab.research.google.com/github/jeonsy22/NLP_2023/blob/main/While%EB%AC%B82.ipynb\" target=\"_parent\"><img src=\"https://colab.research.google.com/assets/colab-badge.svg\" alt=\"Open In Colab\"/></a>"
      ]
    },
    {
      "cell_type": "code",
      "execution_count": null,
      "metadata": {
        "id": "8bVABObfPzbv"
      },
      "outputs": [],
      "source": [
        "treeHit = 0"
      ]
    },
    {
      "cell_type": "code",
      "source": [
        "while treeHit < 10:\n",
        "  treeHit = treeHit +1\n",
        "  print(\"나무를 %d번 찍었습니다.\" % treeHit)\n",
        "  if treeHit == 10:\n",
        "     print(\"나무 넘어갑니다.\")"
      ],
      "metadata": {
        "colab": {
          "base_uri": "https://localhost:8080/"
        },
        "id": "lmGlHyI1P479",
        "outputId": "5238cf5f-f534-4e7c-a584-441ec9dd802d"
      },
      "execution_count": null,
      "outputs": [
        {
          "output_type": "stream",
          "name": "stdout",
          "text": [
            "나무를 1번 찍었습니다.\n",
            "나무를 2번 찍었습니다.\n",
            "나무를 3번 찍었습니다.\n",
            "나무를 4번 찍었습니다.\n",
            "나무를 5번 찍었습니다.\n",
            "나무를 6번 찍었습니다.\n",
            "나무를 7번 찍었습니다.\n",
            "나무를 8번 찍었습니다.\n",
            "나무를 9번 찍었습니다.\n",
            "나무를 10번 찍었습니다.\n",
            "나무 넘어갑니다.\n"
          ]
        }
      ]
    },
    {
      "cell_type": "code",
      "source": [
        "prompt = \"\"\"\n",
        "1. Add\n",
        "2. Del\n",
        "3. List\n",
        "4. Quit\n",
        "\n",
        "Enter number: \"\"\"\n"
      ],
      "metadata": {
        "id": "584QeQrauYWS"
      },
      "execution_count": 4,
      "outputs": []
    },
    {
      "cell_type": "code",
      "source": [
        "number = 0\n",
        "while number != 3:\n",
        "  print(prompt)\n",
        "  number = int(input())\n",
        "\n",
        "\n",
        "1. Add\n",
        "2. Del\n",
        "3. List\n",
        "4. Quit"
      ],
      "metadata": {
        "colab": {
          "base_uri": "https://localhost:8080/",
          "height": 145
        },
        "id": "IV-zZMhpupO8",
        "outputId": "c8cc5dc9-5466-48fd-958f-ef61599061b4"
      },
      "execution_count": 11,
      "outputs": [
        {
          "output_type": "error",
          "ename": "SyntaxError",
          "evalue": "ignored",
          "traceback": [
            "\u001b[0;36m  File \u001b[0;32m\"<ipython-input-11-081002c19b47>\"\u001b[0;36m, line \u001b[0;32m7\u001b[0m\n\u001b[0;31m    1.Add\u001b[0m\n\u001b[0m     ^\u001b[0m\n\u001b[0;31mSyntaxError\u001b[0m\u001b[0;31m:\u001b[0m invalid decimal literal\n"
          ]
        }
      ]
    },
    {
      "cell_type": "code",
      "source": [
        "coffee = 10"
      ],
      "metadata": {
        "id": "TfVPcL4wQt2t"
      },
      "execution_count": null,
      "outputs": []
    },
    {
      "cell_type": "code",
      "source": [
        "money = 300"
      ],
      "metadata": {
        "id": "_XHwxXlGQvg8"
      },
      "execution_count": null,
      "outputs": []
    },
    {
      "cell_type": "code",
      "source": [
        "while money:\n",
        "   print(\"돈을 받았으니 커피를 줍니다.\")\n",
        "   coffee = coffee -1\n",
        "   print(\"남은 커피의 양은 %d개입니다.\" % coffee)\n",
        "   if coffee == 0:\n",
        "    print(\"커피가 다 떨어졌습니다. 판매를 중지합니다.\")\n",
        "    break"
      ],
      "metadata": {
        "colab": {
          "base_uri": "https://localhost:8080/"
        },
        "id": "TXDHryY4Q2zM",
        "outputId": "e21cf44c-9d70-4985-a9f5-a6a49edfb1c5"
      },
      "execution_count": null,
      "outputs": [
        {
          "output_type": "stream",
          "name": "stdout",
          "text": [
            "돈을 받았으니 커피를 줍니다.\n",
            "남은 커피의 양은 9개입니다.\n",
            "돈을 받았으니 커피를 줍니다.\n",
            "남은 커피의 양은 8개입니다.\n",
            "돈을 받았으니 커피를 줍니다.\n",
            "남은 커피의 양은 7개입니다.\n",
            "돈을 받았으니 커피를 줍니다.\n",
            "남은 커피의 양은 6개입니다.\n",
            "돈을 받았으니 커피를 줍니다.\n",
            "남은 커피의 양은 5개입니다.\n",
            "돈을 받았으니 커피를 줍니다.\n",
            "남은 커피의 양은 4개입니다.\n",
            "돈을 받았으니 커피를 줍니다.\n",
            "남은 커피의 양은 3개입니다.\n",
            "돈을 받았으니 커피를 줍니다.\n",
            "남은 커피의 양은 2개입니다.\n",
            "돈을 받았으니 커피를 줍니다.\n",
            "남은 커피의 양은 1개입니다.\n",
            "돈을 받았으니 커피를 줍니다.\n",
            "남은 커피의 양은 0개입니다.\n",
            "커피가 다 떨어졌습니다. 판매를 중지합니다.\n"
          ]
        }
      ]
    },
    {
      "cell_type": "code",
      "source": [
        "#icecream.py\n",
        "iceream = 10\n",
        "while True:\n",
        "  money = int(input(\"돈을 넣어 주세요: \"))\n",
        "  if money == 500:\n",
        "    print(\"아이스크림을 줍니다.\")\n",
        "    icecream = icecream -1\n",
        "  elif money > 500:\n",
        "    print(\"거스름돈 %d를 주고 아이스크림을 줍니다.\" % (money -500))\n",
        "    icecream = icecream -1\n",
        "  else:\n",
        "    print(\"돈을 다시 돌려주고 아이스크림을 주지 않습니다.\")\n",
        "    print(\"남은 아이스크림의 양은 %d개 입니다.\" % icecream)\n",
        "  if icecream == 0:\n",
        "    print(\"아이스크림이 다 떨어졌습니다. 판매를 중지합니다\")\n",
        "    break"
      ],
      "metadata": {
        "id": "vLVFrhkdRMVO",
        "colab": {
          "base_uri": "https://localhost:8080/",
          "height": 288
        },
        "outputId": "9c7442ec-729e-4b93-d90e-56d21dc17dde"
      },
      "execution_count": 17,
      "outputs": [
        {
          "output_type": "stream",
          "name": "stdout",
          "text": [
            "돈을 넣어 주세요: 1000\n",
            "거스름돈 500를 주고 아이스크림을 줍니다.\n"
          ]
        },
        {
          "output_type": "error",
          "ename": "NameError",
          "evalue": "ignored",
          "traceback": [
            "\u001b[0;31m---------------------------------------------------------------------------\u001b[0m",
            "\u001b[0;31mNameError\u001b[0m                                 Traceback (most recent call last)",
            "\u001b[0;32m<ipython-input-17-ed16c7b46762>\u001b[0m in \u001b[0;36m<cell line: 3>\u001b[0;34m()\u001b[0m\n\u001b[1;32m      8\u001b[0m   \u001b[0;32melif\u001b[0m \u001b[0mmoney\u001b[0m \u001b[0;34m>\u001b[0m \u001b[0;36m500\u001b[0m\u001b[0;34m:\u001b[0m\u001b[0;34m\u001b[0m\u001b[0;34m\u001b[0m\u001b[0m\n\u001b[1;32m      9\u001b[0m     \u001b[0mprint\u001b[0m\u001b[0;34m(\u001b[0m\u001b[0;34m\"거스름돈 %d를 주고 아이스크림을 줍니다.\"\u001b[0m \u001b[0;34m%\u001b[0m \u001b[0;34m(\u001b[0m\u001b[0mmoney\u001b[0m \u001b[0;34m-\u001b[0m\u001b[0;36m500\u001b[0m\u001b[0;34m)\u001b[0m\u001b[0;34m)\u001b[0m\u001b[0;34m\u001b[0m\u001b[0;34m\u001b[0m\u001b[0m\n\u001b[0;32m---> 10\u001b[0;31m     \u001b[0micecream\u001b[0m \u001b[0;34m=\u001b[0m \u001b[0micecream\u001b[0m \u001b[0;34m-\u001b[0m\u001b[0;36m1\u001b[0m\u001b[0;34m\u001b[0m\u001b[0;34m\u001b[0m\u001b[0m\n\u001b[0m\u001b[1;32m     11\u001b[0m   \u001b[0;32melse\u001b[0m\u001b[0;34m:\u001b[0m\u001b[0;34m\u001b[0m\u001b[0;34m\u001b[0m\u001b[0m\n\u001b[1;32m     12\u001b[0m     \u001b[0mprint\u001b[0m\u001b[0;34m(\u001b[0m\u001b[0;34m\"돈을 다시 돌려주고 아이스크림을 주지 않습니다.\"\u001b[0m\u001b[0;34m)\u001b[0m\u001b[0;34m\u001b[0m\u001b[0;34m\u001b[0m\u001b[0m\n",
            "\u001b[0;31mNameError\u001b[0m: name 'icecream' is not defined"
          ]
        }
      ]
    },
    {
      "cell_type": "code",
      "source": [
        "a = 0"
      ],
      "metadata": {
        "id": "vSlvqKVi2-fF"
      },
      "execution_count": 18,
      "outputs": []
    },
    {
      "cell_type": "code",
      "source": [
        "while a < 20:\n",
        "  a = a + 1\n",
        "  if a % 2 == 0: continue\n",
        "  print(a)"
      ],
      "metadata": {
        "colab": {
          "base_uri": "https://localhost:8080/"
        },
        "id": "sG5FWspA3PUv",
        "outputId": "2dfbe13b-3acd-406a-8e93-69f85ab2c1fd"
      },
      "execution_count": 20,
      "outputs": [
        {
          "output_type": "stream",
          "name": "stdout",
          "text": [
            "3\n",
            "5\n",
            "7\n",
            "9\n",
            "11\n",
            "13\n",
            "15\n",
            "17\n",
            "19\n"
          ]
        }
      ]
    }
  ]
}