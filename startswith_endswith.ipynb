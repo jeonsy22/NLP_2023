{
  "nbformat": 4,
  "nbformat_minor": 0,
  "metadata": {
    "colab": {
      "provenance": [],
      "authorship_tag": "ABX9TyNstlLir8stl2W6X3o5uWXE",
      "include_colab_link": true
    },
    "kernelspec": {
      "name": "python3",
      "display_name": "Python 3"
    },
    "language_info": {
      "name": "python"
    }
  },
  "cells": [
    {
      "cell_type": "markdown",
      "metadata": {
        "id": "view-in-github",
        "colab_type": "text"
      },
      "source": [
        "<a href=\"https://colab.research.google.com/github/jeonsy22/NLP_2023/blob/main/startswith_endswith.ipynb\" target=\"_parent\"><img src=\"https://colab.research.google.com/assets/colab-badge.svg\" alt=\"Open In Colab\"/></a>"
      ]
    },
    {
      "cell_type": "markdown",
      "source": [
        "### startswith, endswith\n",
        "##### 시작과 끝이 맞는지 결과를 bool로 반환한다."
      ],
      "metadata": {
        "id": "gVIaGmyMg7qj"
      }
    },
    {
      "cell_type": "code",
      "execution_count": 1,
      "metadata": {
        "id": "BMb729rNgyWZ"
      },
      "outputs": [],
      "source": [
        "a = '01-sample.png'"
      ]
    },
    {
      "cell_type": "markdown",
      "source": [
        "startswith(): 시작하는\n",
        "* 지정한 문자열로 시작하면 True, 그렇지 않다면 False를 반환한다"
      ],
      "metadata": {
        "id": "smmjbMFRhpbo"
      }
    },
    {
      "cell_type": "code",
      "source": [
        "a.startswith('01')"
      ],
      "metadata": {
        "colab": {
          "base_uri": "https://localhost:8080/"
        },
        "id": "CnpuocDvhofg",
        "outputId": "fdb96b66-cc94-439b-ccfd-f1bbbe2a9390"
      },
      "execution_count": 2,
      "outputs": [
        {
          "output_type": "execute_result",
          "data": {
            "text/plain": [
              "True"
            ]
          },
          "metadata": {},
          "execution_count": 2
        }
      ]
    },
    {
      "cell_type": "code",
      "source": [
        "a.startswith('45')"
      ],
      "metadata": {
        "colab": {
          "base_uri": "https://localhost:8080/"
        },
        "id": "wNwFmZEKh1Kd",
        "outputId": "25b6c3b8-bee7-450c-d425-61ae071e093c"
      },
      "execution_count": 3,
      "outputs": [
        {
          "output_type": "execute_result",
          "data": {
            "text/plain": [
              "False"
            ]
          },
          "metadata": {},
          "execution_count": 3
        }
      ]
    },
    {
      "cell_type": "markdown",
      "source": [
        "endswith(): 끝나는\n",
        "* 지정한 문자열로 끝나면 True, 그렇지 않다면 False를 반환한다."
      ],
      "metadata": {
        "id": "52Oz7aJTh8Nh"
      }
    },
    {
      "cell_type": "code",
      "source": [
        "a.endswith('png')"
      ],
      "metadata": {
        "colab": {
          "base_uri": "https://localhost:8080/"
        },
        "id": "J6nMpoznh4-o",
        "outputId": "ddf4aca7-f75e-46d5-d35d-45055d1cee08"
      },
      "execution_count": 4,
      "outputs": [
        {
          "output_type": "execute_result",
          "data": {
            "text/plain": [
              "True"
            ]
          },
          "metadata": {},
          "execution_count": 4
        }
      ]
    },
    {
      "cell_type": "code",
      "source": [
        "a.endswith('jpg')"
      ],
      "metadata": {
        "colab": {
          "base_uri": "https://localhost:8080/"
        },
        "id": "FoQdFUk2iKe5",
        "outputId": "0fb435be-a7c2-4379-ae79-eaa09b9fe182"
      },
      "execution_count": 5,
      "outputs": [
        {
          "output_type": "execute_result",
          "data": {
            "text/plain": [
              "False"
            ]
          },
          "metadata": {},
          "execution_count": 5
        }
      ]
    }
  ]
}