{
  "nbformat": 4,
  "nbformat_minor": 0,
  "metadata": {
    "colab": {
      "provenance": [],
      "authorship_tag": "ABX9TyPaQ/e4/bPZr45AEQ6EVPxq",
      "include_colab_link": true
    },
    "kernelspec": {
      "name": "python3",
      "display_name": "Python 3"
    },
    "language_info": {
      "name": "python"
    }
  },
  "cells": [
    {
      "cell_type": "markdown",
      "metadata": {
        "id": "view-in-github",
        "colab_type": "text"
      },
      "source": [
        "<a href=\"https://colab.research.google.com/github/jeonsy22/NLP_2023/blob/main/practice2.ipynb\" target=\"_parent\"><img src=\"https://colab.research.google.com/assets/colab-badge.svg\" alt=\"Open In Colab\"/></a>"
      ]
    },
    {
      "cell_type": "markdown",
      "source": [
        "# print 유튜브 강의 연습"
      ],
      "metadata": {
        "id": "toUqMhtEkFCW"
      }
    },
    {
      "cell_type": "code",
      "execution_count": 1,
      "metadata": {
        "colab": {
          "base_uri": "https://localhost:8080/"
        },
        "id": "nJR3_NnCgm70",
        "outputId": "e5a26bed-f0d8-4857-b8db-b8f1659fba5a"
      },
      "outputs": [
        {
          "output_type": "stream",
          "name": "stdout",
          "text": [
            "오늘 파이썬 배우기 좋은 날이네!\n"
          ]
        }
      ],
      "source": [
        "print('오늘 파이썬 배우기 좋은 날이네!')"
      ]
    },
    {
      "cell_type": "code",
      "source": [
        "print(\"오늘은\", \"화요일\")"
      ],
      "metadata": {
        "colab": {
          "base_uri": "https://localhost:8080/"
        },
        "id": "mHtKE8U8j-6t",
        "outputId": "658ec734-7fb4-4479-a893-0e5513c869df"
      },
      "execution_count": 2,
      "outputs": [
        {
          "output_type": "stream",
          "name": "stdout",
          "text": [
            "오늘은 화요일\n"
          ]
        }
      ]
    },
    {
      "cell_type": "code",
      "source": [
        "#@markdown 맨 끝에 위치한 변수, 문자열, 숫자 등은 자동으로 출력된다.\n",
        "3.14\n",
        "'안녕'\n",
        "100"
      ],
      "metadata": {
        "colab": {
          "base_uri": "https://localhost:8080/"
        },
        "id": "-1ja0R5pkC-X",
        "outputId": "70a12c39-1633-405b-bbcb-4b2c249d2a03"
      },
      "execution_count": 5,
      "outputs": [
        {
          "output_type": "execute_result",
          "data": {
            "text/plain": [
              "100"
            ]
          },
          "metadata": {},
          "execution_count": 5
        }
      ]
    },
    {
      "cell_type": "markdown",
      "source": [
        "##변수(Variable)\n",
        "변수는 데이터를 담는 그릇"
      ],
      "metadata": {
        "id": "_3A40D35lDlV"
      }
    },
    {
      "cell_type": "markdown",
      "source": [
        "####변수의 이름 규칙(Rule)\n",
        "다음의 문자만 사용 가능\n",
        "- 소문자(a~z)\n",
        "- 대문자(A~Z)\n",
        "- 숫자 (0~9)\n",
        "- 한글도 가능\n",
        "- 특수기호는 언더바(-)만 허용\n",
        "\n",
        "다음의 규칙을 가짐\n",
        "- 대소 문자를 구분합니다.\n",
        "- 숫자는 맨 처음에 올 수 없습니다.\n",
        "- 예약어(keyword)는 사용할 수 없습니다.(def, if, import, retrun 등..)"
      ],
      "metadata": {
        "id": "WxUy61zZlXx0"
      }
    },
    {
      "cell_type": "code",
      "source": [
        "a = 1"
      ],
      "metadata": {
        "id": "AZ_E6XaBmWSg"
      },
      "execution_count": 6,
      "outputs": []
    },
    {
      "cell_type": "code",
      "source": [
        "A = 1"
      ],
      "metadata": {
        "id": "yvnFrvz1nDlV"
      },
      "execution_count": 7,
      "outputs": []
    },
    {
      "cell_type": "code",
      "source": [
        "변수 = 1"
      ],
      "metadata": {
        "id": "h7sICepbnGwG"
      },
      "execution_count": 8,
      "outputs": []
    },
    {
      "cell_type": "code",
      "source": [
        "a1 = 1"
      ],
      "metadata": {
        "id": "kkHP1rDQnIoi"
      },
      "execution_count": 10,
      "outputs": []
    },
    {
      "cell_type": "code",
      "source": [
        "a_ = 1"
      ],
      "metadata": {
        "id": "sJ7oqH3OnLnh"
      },
      "execution_count": 11,
      "outputs": []
    },
    {
      "cell_type": "code",
      "source": [
        "_a = 1"
      ],
      "metadata": {
        "id": "3j2H1JamnOzD"
      },
      "execution_count": 12,
      "outputs": []
    },
    {
      "cell_type": "code",
      "source": [
        "test = 10"
      ],
      "metadata": {
        "id": "uIMGVKjYnQP0"
      },
      "execution_count": 13,
      "outputs": []
    },
    {
      "cell_type": "code",
      "source": [
        "test1 = 100"
      ],
      "metadata": {
        "id": "8edVDqlYnZ8x"
      },
      "execution_count": 14,
      "outputs": []
    },
    {
      "cell_type": "code",
      "source": [
        "test_1 = 1000"
      ],
      "metadata": {
        "id": "Om1pZiMKnbkv"
      },
      "execution_count": 16,
      "outputs": []
    },
    {
      "cell_type": "markdown",
      "source": [
        "####데이터 타입(Data Type)\n",
        "자료형태(자료형), 자료구조라고도 불림\n",
        "\n",
        "주요 데이터 타입\n",
        "1. int(정수):정수를 나타내는 자료형\n",
        "2. float(실수): 소수점이 있는 숫자를 나타내는 자료형\n",
        "3. str(문자열): 문자를 나타내는 자료형\n",
        "4. bool(참/거짓): 참 또는 거짓을 나타내는 자료형"
      ],
      "metadata": {
        "id": "ntw_rYxFnkZO"
      }
    },
    {
      "cell_type": "code",
      "source": [
        "type(1)"
      ],
      "metadata": {
        "colab": {
          "base_uri": "https://localhost:8080/"
        },
        "id": "XxfE-cxunxZf",
        "outputId": "9f4155f8-06ae-4cd8-f739-a47dae37b169"
      },
      "execution_count": 17,
      "outputs": [
        {
          "output_type": "execute_result",
          "data": {
            "text/plain": [
              "int"
            ]
          },
          "metadata": {},
          "execution_count": 17
        }
      ]
    },
    {
      "cell_type": "code",
      "source": [
        "type(3.14)"
      ],
      "metadata": {
        "colab": {
          "base_uri": "https://localhost:8080/"
        },
        "id": "FSkCKcTMosdL",
        "outputId": "93534e55-fe47-4c2a-cacd-1eecd1d63364"
      },
      "execution_count": 18,
      "outputs": [
        {
          "output_type": "execute_result",
          "data": {
            "text/plain": [
              "float"
            ]
          },
          "metadata": {},
          "execution_count": 18
        }
      ]
    },
    {
      "cell_type": "code",
      "source": [
        "type(\"안녕\")"
      ],
      "metadata": {
        "colab": {
          "base_uri": "https://localhost:8080/"
        },
        "id": "M5GWODcsou48",
        "outputId": "d5ff188f-d777-488e-c928-9986ac077f10"
      },
      "execution_count": 19,
      "outputs": [
        {
          "output_type": "execute_result",
          "data": {
            "text/plain": [
              "str"
            ]
          },
          "metadata": {},
          "execution_count": 19
        }
      ]
    },
    {
      "cell_type": "code",
      "source": [
        "type(True)"
      ],
      "metadata": {
        "colab": {
          "base_uri": "https://localhost:8080/"
        },
        "id": "5R7jQ7Noow9d",
        "outputId": "21f690d9-b40e-409d-aefa-6ecfd2d96c9f"
      },
      "execution_count": 20,
      "outputs": [
        {
          "output_type": "execute_result",
          "data": {
            "text/plain": [
              "bool"
            ]
          },
          "metadata": {},
          "execution_count": 20
        }
      ]
    },
    {
      "cell_type": "code",
      "source": [
        "#@markdown int(정수)\n",
        "a = 1\n",
        "print(a)"
      ],
      "metadata": {
        "colab": {
          "base_uri": "https://localhost:8080/"
        },
        "id": "H5WDMltEo0ED",
        "outputId": "cd2fa981-774e-404d-d9e0-dd1c3fb2bf2b"
      },
      "execution_count": 22,
      "outputs": [
        {
          "output_type": "stream",
          "name": "stdout",
          "text": [
            "1\n"
          ]
        }
      ]
    },
    {
      "cell_type": "code",
      "source": [
        "type(a)"
      ],
      "metadata": {
        "colab": {
          "base_uri": "https://localhost:8080/"
        },
        "id": "ZQ0Dkmd3pBQP",
        "outputId": "0f9e3fd0-43f5-46d0-f3dc-7b5b72667e75"
      },
      "execution_count": 23,
      "outputs": [
        {
          "output_type": "execute_result",
          "data": {
            "text/plain": [
              "int"
            ]
          },
          "metadata": {},
          "execution_count": 23
        }
      ]
    },
    {
      "cell_type": "code",
      "source": [
        "#@markdown float(실수)\n",
        "a = 3.141592\n",
        "print(a)"
      ],
      "metadata": {
        "colab": {
          "base_uri": "https://localhost:8080/"
        },
        "id": "0dqo8uFCpGcn",
        "outputId": "eb476c74-71ad-448c-dc69-15d06977f616"
      },
      "execution_count": 28,
      "outputs": [
        {
          "output_type": "stream",
          "name": "stdout",
          "text": [
            "3.141592\n"
          ]
        }
      ]
    },
    {
      "cell_type": "code",
      "source": [
        "type(a)"
      ],
      "metadata": {
        "colab": {
          "base_uri": "https://localhost:8080/"
        },
        "id": "Mx0z0s-NpVCE",
        "outputId": "c0ea045f-1f73-4efe-d2ac-3638c00f3de1"
      },
      "execution_count": 29,
      "outputs": [
        {
          "output_type": "execute_result",
          "data": {
            "text/plain": [
              "float"
            ]
          },
          "metadata": {},
          "execution_count": 29
        }
      ]
    },
    {
      "cell_type": "code",
      "source": [
        "#@markdown str(문자열)\n",
        "word = \"안녕하세요!\""
      ],
      "metadata": {
        "id": "D11aiwgBpWa5"
      },
      "execution_count": 39,
      "outputs": []
    },
    {
      "cell_type": "code",
      "source": [
        "print(word)"
      ],
      "metadata": {
        "colab": {
          "base_uri": "https://localhost:8080/"
        },
        "id": "qPNJR7y3pl-v",
        "outputId": "a458aaab-8c4d-4799-9687-a76b48a7955b"
      },
      "execution_count": 40,
      "outputs": [
        {
          "output_type": "stream",
          "name": "stdout",
          "text": [
            "안녕하세요!\n"
          ]
        }
      ]
    },
    {
      "cell_type": "code",
      "source": [
        "type(word)"
      ],
      "metadata": {
        "colab": {
          "base_uri": "https://localhost:8080/"
        },
        "id": "U7FaHF1upmu7",
        "outputId": "5581e3e3-723b-4d71-a7ff-c5020de55aac"
      },
      "execution_count": 41,
      "outputs": [
        {
          "output_type": "execute_result",
          "data": {
            "text/plain": [
              "str"
            ]
          },
          "metadata": {},
          "execution_count": 41
        }
      ]
    },
    {
      "cell_type": "code",
      "source": [
        "word = '''안녕하세요\n",
        "반\n",
        "갑\n",
        "습\n",
        "니\n",
        "다.\n",
        "'''"
      ],
      "metadata": {
        "id": "vTWTc8VsprYk"
      },
      "execution_count": 42,
      "outputs": []
    },
    {
      "cell_type": "code",
      "source": [
        "print(word)"
      ],
      "metadata": {
        "colab": {
          "base_uri": "https://localhost:8080/"
        },
        "id": "z0Fo8MZkqaoH",
        "outputId": "4a7afbaf-76c4-421c-de68-b36087782c4b"
      },
      "execution_count": 43,
      "outputs": [
        {
          "output_type": "stream",
          "name": "stdout",
          "text": [
            "안녕하세요\n",
            "반\n",
            "갑\n",
            "습\n",
            "니\n",
            "다.\n",
            "\n"
          ]
        }
      ]
    },
    {
      "cell_type": "code",
      "source": [
        "type(word)"
      ],
      "metadata": {
        "colab": {
          "base_uri": "https://localhost:8080/"
        },
        "id": "v82nemFFqcCF",
        "outputId": "651ce336-f720-4f3a-a3ba-e873bf657d39"
      },
      "execution_count": 44,
      "outputs": [
        {
          "output_type": "execute_result",
          "data": {
            "text/plain": [
              "str"
            ]
          },
          "metadata": {},
          "execution_count": 44
        }
      ]
    },
    {
      "cell_type": "code",
      "source": [
        "#@markdown bool(참/거짓)\n",
        "a = False\n",
        "print(a)"
      ],
      "metadata": {
        "colab": {
          "base_uri": "https://localhost:8080/"
        },
        "id": "mzqD4CsAqrDT",
        "outputId": "db4b1505-73b0-4288-a488-c0791c6d2aea"
      },
      "execution_count": 45,
      "outputs": [
        {
          "output_type": "stream",
          "name": "stdout",
          "text": [
            "False\n"
          ]
        }
      ]
    },
    {
      "cell_type": "code",
      "source": [
        "type(a)"
      ],
      "metadata": {
        "colab": {
          "base_uri": "https://localhost:8080/"
        },
        "id": "_GT2AJisq4OI",
        "outputId": "4dd1cbc7-d67b-47d1-8713-4ec527704ab0"
      },
      "execution_count": 46,
      "outputs": [
        {
          "output_type": "execute_result",
          "data": {
            "text/plain": [
              "bool"
            ]
          },
          "metadata": {},
          "execution_count": 46
        }
      ]
    },
    {
      "cell_type": "code",
      "source": [
        "1 == True"
      ],
      "metadata": {
        "colab": {
          "base_uri": "https://localhost:8080/"
        },
        "id": "iWtFvzKwq54S",
        "outputId": "7bf12e37-1d30-4d90-eff6-ea3eadbe549b"
      },
      "execution_count": 47,
      "outputs": [
        {
          "output_type": "execute_result",
          "data": {
            "text/plain": [
              "True"
            ]
          },
          "metadata": {},
          "execution_count": 47
        }
      ]
    },
    {
      "cell_type": "code",
      "source": [
        "0 == False"
      ],
      "metadata": {
        "colab": {
          "base_uri": "https://localhost:8080/"
        },
        "id": "NC9IvVtFrJgh",
        "outputId": "00c1656d-435e-4bbb-e3db-bad32e116775"
      },
      "execution_count": 48,
      "outputs": [
        {
          "output_type": "execute_result",
          "data": {
            "text/plain": [
              "True"
            ]
          },
          "metadata": {},
          "execution_count": 48
        }
      ]
    },
    {
      "cell_type": "code",
      "source": [
        "type(True)"
      ],
      "metadata": {
        "colab": {
          "base_uri": "https://localhost:8080/"
        },
        "id": "6tqpzVpfrLir",
        "outputId": "c6a48d82-d69e-4750-bf48-f74d6a1384d8"
      },
      "execution_count": 49,
      "outputs": [
        {
          "output_type": "execute_result",
          "data": {
            "text/plain": [
              "bool"
            ]
          },
          "metadata": {},
          "execution_count": 49
        }
      ]
    }
  ]
}