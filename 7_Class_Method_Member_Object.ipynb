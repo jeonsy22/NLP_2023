{
  "nbformat": 4,
  "nbformat_minor": 0,
  "metadata": {
    "colab": {
      "provenance": [],
      "include_colab_link": true
    },
    "kernelspec": {
      "name": "python3",
      "display_name": "Python 3"
    },
    "language_info": {
      "name": "python"
    }
  },
  "cells": [
    {
      "cell_type": "markdown",
      "metadata": {
        "id": "view-in-github",
        "colab_type": "text"
      },
      "source": [
        "<a href=\"https://colab.research.google.com/github/jeonsy22/NLP_2023/blob/main/7_Class_Method_Member_Object.ipynb\" target=\"_parent\"><img src=\"https://colab.research.google.com/assets/colab-badge.svg\" alt=\"Open In Colab\"/></a>"
      ]
    },
    {
      "cell_type": "markdown",
      "source": [
        "### <font color = 'orange'> ⏰  **Class, Class method, Object variable, Class variable, Class Inheritance, Global vs. Local, Class initiate**\n",
        "\n",
        "---\n",
        "1. Class (Unit 049 & Unit 05)\n",
        "  * 하나의 독립된 공간을 클래스라고 하는데, 이를 위해서는 이름을 지정하여 공간 (i.e., **class NameClass:**) 이름공간을 만든다.\n",
        "  * NameClass를 **함수처럼 호출**하여 (i.e., <font color = 'brown'> NameClass() 라고 ()를 붙여 codeline 쓰기</font>) 이를 **Instant Object**(인스턴트 객체) 혹은 Object 혹은 Instance로 만든다. 이후 해당 Instant Object (i.e., either Object or Instance (of a specific Class))는 Variable로 역할 한다.\n",
        "\n",
        "  When you refer to an \"instant object\" or \"instance object\" in the context of a class, you are talking about a specific **object** that has been created from that class. A **object** or **instance** (of a class) has their own unique data and can perform actions as defined by the class methods.\n",
        "\n",
        "    - 객체(object) or 인스턴스(instance)\n",
        "\n",
        "      - <font color = 'red'> **클래스로 만든 객체를 ‘인스턴스’라고도 한다. 그렇다면 객체와 인스턴스의 차이는 무엇일까?**  \n",
        "\n",
        "        - a = Cookie(): Class Cookie()로 만든 a는 객체(Object)이다.\n",
        "        - 인스턴스라는 말은 특정 객체(a)가 어떤 클래스(Cookie)의 객체인지를 관계 위주로 설명할 때 사용한다. a 객체는 Class Cookie()의 인스턴스(Instance)다.  \n",
        "        - <추가 설명> ‘a는 인스턴스’보다 ‘a는 객체’라는 표현이 어울리며 ‘a는 Cookie의 객체’보다 ‘a는 Cookie의 인스턴스’라는 표현이 훨씬 잘 어울린다.\n",
        "    - 📌 객체에 생성되는 객체만의 변수를 ‘객체변수’ 또는 ‘속성’\n",
        "      - a.first = 4라는 문장이 수행되면 a 객체에 객체변수 first가 생성되고 4라는 값이 저장된다. 이와 마찬가지로 a.second = 2라는 문장이 수행되면 a 객체에 객체변수 second가 생성되고 2라는 값이 저장된다.\n",
        "      - 📍클래스로 만든 객체의 객체변수는 다른 객체의 객체변수에 상관없이 독립적인 값을 유지한다.\n",
        "\n",
        "\n",
        "\n"
      ],
      "metadata": {
        "id": "3V3eF3-rqKDl"
      }
    },
    {
      "cell_type": "code",
      "source": [
        "class FourCal: # Define a class named 'FourCal'\n",
        "  def setdata(self, first, second):  # Define a method 'setdata' within the class. \"Method\" is a special name for a function defined within a class. 📌 메서드의 매개변수\n",
        "                                     # 파이썬 메서드의 첫 번째 매개변수 이름은 관례적으로 self를 사용. 📌 객체를 호출할 때 호출한 객체 자신이 전달되기 때문에 self라는 이름을 사용. 다른 이름을 사용해도 상관X.\n",
        "                                     # This method takes three parameters: 'self', 'first', and 'second'.\n",
        "                                     # 'self' is a reference to the instance of the class (the object itself). 추후 예시에서 보충 설명\n",
        "                                     # 'first' and 'second' are the values that will be stored in the instance.\n",
        "    self.first = first               # Assign the 'first' parameter to an instance variable 'first'. 메서드의 수행문\n",
        "                                     # 📌 객체에 생성되는 객체만의 변수를 ‘객체변수’ 또는 ‘속성’\n",
        "                                     # This stores the 'first' value in the object. 📌 a 객체에 객체변수 first가 생성되고 4라는 값이 저장\n",
        "\n",
        "    self.second = second             # Assign the 'second' parameter to an instance variable 'second'. 메서드의 수행문\n",
        "                                     # his stores the 'second' value in the object. 📌 a 객체에 객체변수 second가 생성되고 2라는 값이 저장"
      ],
      "metadata": {
        "id": "LIFFj0rEXKmL"
      },
      "execution_count": null,
      "outputs": []
    },
    {
      "cell_type": "code",
      "source": [
        "class FourCal:\n",
        "  def setdata(self, first, second):\n",
        "    self.first = first\n",
        "    self.second=second\n",
        "\n",
        "a = FourCal()\n",
        "b = FourCal()"
      ],
      "metadata": {
        "id": "n0bxvrKPtX5Q"
      },
      "execution_count": 2,
      "outputs": []
    },
    {
      "cell_type": "code",
      "source": [
        "a.setdata(10,20)\n",
        "b.setdata(300,400)"
      ],
      "metadata": {
        "id": "gjkw8gnrudqU"
      },
      "execution_count": 3,
      "outputs": []
    },
    {
      "cell_type": "code",
      "source": [
        "a.first"
      ],
      "metadata": {
        "id": "ZZ1BfpMVufIE",
        "outputId": "bdbffd53-6f18-4211-8ced-e3ca8e42f2fa",
        "colab": {
          "base_uri": "https://localhost:8080/"
        }
      },
      "execution_count": 4,
      "outputs": [
        {
          "output_type": "execute_result",
          "data": {
            "text/plain": [
              "10"
            ]
          },
          "metadata": {},
          "execution_count": 4
        }
      ]
    },
    {
      "cell_type": "code",
      "source": [
        "a.second"
      ],
      "metadata": {
        "id": "Ul5PVaUguhZb",
        "outputId": "2de43a0a-27c8-4ce7-cf88-534929dd795c",
        "colab": {
          "base_uri": "https://localhost:8080/"
        }
      },
      "execution_count": 5,
      "outputs": [
        {
          "output_type": "execute_result",
          "data": {
            "text/plain": [
              "20"
            ]
          },
          "metadata": {},
          "execution_count": 5
        }
      ]
    },
    {
      "cell_type": "code",
      "source": [
        "b.first"
      ],
      "metadata": {
        "id": "BZboOWsJujj7",
        "outputId": "c6a8ed5c-ed94-4f48-81e2-242bf3ecc172",
        "colab": {
          "base_uri": "https://localhost:8080/"
        }
      },
      "execution_count": 6,
      "outputs": [
        {
          "output_type": "execute_result",
          "data": {
            "text/plain": [
              "300"
            ]
          },
          "metadata": {},
          "execution_count": 6
        }
      ]
    },
    {
      "cell_type": "code",
      "source": [
        "b.second"
      ],
      "metadata": {
        "id": "WlqLBKQdwE7x",
        "outputId": "74183544-5e8e-4f64-86fb-949b3e55a8f8",
        "colab": {
          "base_uri": "https://localhost:8080/"
        }
      },
      "execution_count": 7,
      "outputs": [
        {
          "output_type": "execute_result",
          "data": {
            "text/plain": [
              "400"
            ]
          },
          "metadata": {},
          "execution_count": 7
        }
      ]
    },
    {
      "cell_type": "code",
      "source": [
        "# Example\n",
        "class FourCal:\n",
        "  def setdata(self, first, second):\n",
        "    self.first = first\n",
        "    self.second =second\n",
        "\n",
        "#a 객체를 만들고 a 객체를 통해 setdata 메서드를 호출\n",
        "\n",
        "a = FourCal()\n",
        "b = FourCal()"
      ],
      "metadata": {
        "id": "P6-IY4Q2fkV0"
      },
      "execution_count": null,
      "outputs": []
    },
    {
      "cell_type": "code",
      "source": [
        "type(a)"
      ],
      "metadata": {
        "colab": {
          "base_uri": "https://localhost:8080/"
        },
        "id": "fPqnp9zwjztJ",
        "outputId": "07d0e050-0b2f-4b33-c74a-89092613cb4d"
      },
      "execution_count": null,
      "outputs": [
        {
          "output_type": "execute_result",
          "data": {
            "text/plain": [
              "__main__.FourCal"
            ]
          },
          "metadata": {},
          "execution_count": 29
        }
      ]
    },
    {
      "cell_type": "code",
      "source": [
        "type(b)"
      ],
      "metadata": {
        "colab": {
          "base_uri": "https://localhost:8080/"
        },
        "id": "32XA1clUj2J8",
        "outputId": "e0d78f2d-9c07-49fe-95c8-ab199acc5f47"
      },
      "execution_count": null,
      "outputs": [
        {
          "output_type": "execute_result",
          "data": {
            "text/plain": [
              "__main__.FourCal"
            ]
          },
          "metadata": {},
          "execution_count": 30
        }
      ]
    },
    {
      "cell_type": "code",
      "source": [
        "# Continued from the above code cell\n",
        "\n",
        "a.setdata(10,20)\n",
        "b.setdata(300,400)"
      ],
      "metadata": {
        "id": "JBW0x5OsivFY"
      },
      "execution_count": null,
      "outputs": []
    },
    {
      "cell_type": "code",
      "source": [
        "#a 객체에 객체변수 first 생성된 것을 확인하기\n",
        "a.first"
      ],
      "metadata": {
        "colab": {
          "base_uri": "https://localhost:8080/"
        },
        "id": "OYhS0oyYjMfq",
        "outputId": "af2a462d-c72b-47fe-d66a-d43c844ba715"
      },
      "execution_count": null,
      "outputs": [
        {
          "output_type": "execute_result",
          "data": {
            "text/plain": [
              "10"
            ]
          },
          "metadata": {},
          "execution_count": 66
        }
      ]
    },
    {
      "cell_type": "code",
      "source": [
        "#a 객체에 객체변수 second 생성된 것을 확인하기\n",
        "a.second"
      ],
      "metadata": {
        "colab": {
          "base_uri": "https://localhost:8080/"
        },
        "id": "EacINpMAjPmJ",
        "outputId": "a79796ad-9473-4e8a-e1b7-bc7116a59c4a"
      },
      "execution_count": null,
      "outputs": [
        {
          "output_type": "execute_result",
          "data": {
            "text/plain": [
              "20"
            ]
          },
          "metadata": {},
          "execution_count": 67
        }
      ]
    },
    {
      "cell_type": "code",
      "source": [
        "b.first"
      ],
      "metadata": {
        "colab": {
          "base_uri": "https://localhost:8080/"
        },
        "id": "tPlCOf_GkNnk",
        "outputId": "0286ec13-a1b1-44c3-db9a-fde665bf297a"
      },
      "execution_count": null,
      "outputs": [
        {
          "output_type": "execute_result",
          "data": {
            "text/plain": [
              "300"
            ]
          },
          "metadata": {},
          "execution_count": 68
        }
      ]
    },
    {
      "cell_type": "code",
      "source": [
        "b.second"
      ],
      "metadata": {
        "colab": {
          "base_uri": "https://localhost:8080/"
        },
        "id": "TDsOmm0lkbiz",
        "outputId": "78ed7457-6a9c-43d6-aea5-bf5949cb1aa0"
      },
      "execution_count": null,
      "outputs": [
        {
          "output_type": "execute_result",
          "data": {
            "text/plain": [
              "400"
            ]
          },
          "metadata": {},
          "execution_count": 69
        }
      ]
    },
    {
      "cell_type": "markdown",
      "source": [
        "- 🎃 a 객체의 first 값은 b 객체의 first 값에 영향받지 않고 원래 값을 유지하고 있다는 것을 확인\n",
        "- 👻 클래스로 만든 객체의 객체변수는 다른 객체의 객체변수에 상관없이 독립적인 값을 유지"
      ],
      "metadata": {
        "id": "hyJAa1cwkqWV"
      }
    },
    {
      "cell_type": "markdown",
      "source": [
        "### **For your information**\n",
        "\n",
        "- setdata 메서드에는 self, first, second 총 3개의 매개변수가 필요한데 실제로는 a.setdata(4, 2)처럼 2개의 값만 전달했다. 왜 그럴까? a.setdata(4, 2)처럼 호출하면 setdata 메서드의 첫 번째 매개변수 self에는 setdata 메서드를 호출한 객체 a가 자동으로 전달되기 때문이다. 다음 그림을 보면 객체를 호출할 때 입력한 값이 메서드에 어떻게 전달되는지 쉽게 이해할 수 있을 것이다.\n",
        "\n",
        "- 파이썬 메서드의 첫 번째 매개변수 이름은 관례적으로 self를 사용한다. 객체를 호출할 때 호출한 객체 자신이 전달되기 때문에 self라는 이름을 사용한 것이다. 물론 self말고 다른 이름을 사용해도 상관없다.\n",
        "\n",
        "- 메서드의 첫 번째 매개변수 self를 명시적으로 구현하는 것은 파이썬만의 독특한 특징이다. 예를 들어 자바와 같은 언어는 첫 번째 매개변수 self가 필요없다.\n",
        "\n",
        "메서드를 호출하는 또 다른 방법\n",
        "잘 사용하지는 않지만, 다음과 같이 클래스를 이용해 메서드를 호출할 수도 있다.\n",
        "\n",
        "    a = FourCal()\n",
        "    FourCal.setdata(a, 4, 2)\n",
        "\n",
        ">\n",
        "\n",
        "위와 같이 ‘클래스명.메서드’ 형태로 호출할 때는 객체 a를 첫 번째 매개변수 self에 꼭 전달해야 한다. 반면 다음처럼 ‘객체.메서드’ 형태로 호출할 때는 self를 반드시 생략해서 호출해야 한다.\n",
        "\n",
        "    a = FourCal()\n",
        "    a.setdata(4, 2)"
      ],
      "metadata": {
        "id": "SoxqBPbUtEx3"
      }
    },
    {
      "cell_type": "code",
      "source": [
        "class FourCal:\n",
        "  def setdata(self, first, second):\n",
        "    self.first = first\n",
        "    self.second = second\n",
        "\n",
        "  def add(self):\n",
        "    result = self.first + self.second\n",
        "    return result"
      ],
      "metadata": {
        "id": "9oU3pKkwxO4N"
      },
      "execution_count": 8,
      "outputs": []
    },
    {
      "cell_type": "code",
      "source": [
        "a = FourCal()\n",
        "a.setdata(10,20)\n",
        "a.add()"
      ],
      "metadata": {
        "id": "ZcusRYNlxusb",
        "outputId": "8ee7d067-847b-440f-c7a3-4f54b1fee9e0",
        "colab": {
          "base_uri": "https://localhost:8080/"
        }
      },
      "execution_count": 9,
      "outputs": [
        {
          "output_type": "execute_result",
          "data": {
            "text/plain": [
              "30"
            ]
          },
          "metadata": {},
          "execution_count": 9
        }
      ]
    },
    {
      "cell_type": "code",
      "source": [
        "a = FourCal()\n",
        "a.setdata(300,400)\n",
        "a.add()"
      ],
      "metadata": {
        "id": "d2X7uWvSxwWD",
        "outputId": "5426c58b-22fa-4b1a-ee52-ebd64f89cc0f",
        "colab": {
          "base_uri": "https://localhost:8080/"
        }
      },
      "execution_count": 10,
      "outputs": [
        {
          "output_type": "execute_result",
          "data": {
            "text/plain": [
              "700"
            ]
          },
          "metadata": {},
          "execution_count": 10
        }
      ]
    },
    {
      "cell_type": "code",
      "source": [
        "#클래스 만들기: 확장1 -> addition\n",
        "\n",
        "class FourCal:\n",
        "  def setdata(self, first, second):\n",
        "    self.first = first\n",
        "    self.second = second\n",
        "\n",
        "  def add(self):\n",
        "    result = self.first + self.second\n",
        "    return result"
      ],
      "metadata": {
        "id": "AOyg0-IrlGcz"
      },
      "execution_count": null,
      "outputs": []
    },
    {
      "cell_type": "code",
      "source": [
        "#객체 a, 객체변수 first, 객체변수 second 할당, add 연산\n",
        "\n",
        "a = FourCal()\n",
        "a.setdata(10,20)\n",
        "a.add()"
      ],
      "metadata": {
        "colab": {
          "base_uri": "https://localhost:8080/"
        },
        "id": "ITqdyj0al-vf",
        "outputId": "f50568d3-85f9-45b9-d149-2a1d7931d949"
      },
      "execution_count": 16,
      "outputs": [
        {
          "output_type": "execute_result",
          "data": {
            "text/plain": [
              "30"
            ]
          },
          "metadata": {},
          "execution_count": 16
        }
      ]
    },
    {
      "cell_type": "code",
      "source": [
        "class FourCal:\n",
        "  def setdata(self, first, second):\n",
        "    self.first = first\n",
        "    self.second = second\n",
        "\n",
        "  def add(self):\n",
        "    result = self.first + self.second\n",
        "    return result\n",
        "\n",
        "  def sub(self):\n",
        "    result = self.first - self.second\n",
        "    return result\n",
        "\n",
        "  def mul(self):\n",
        "    result = self.first * self.second\n",
        "    return result\n",
        "\n",
        "  def div(self):\n",
        "    result = self.first / self.second\n",
        "    return result\n",
        "\n",
        "a = FourCal()\n",
        "b = FourCal()\n",
        "c = FourCal()\n",
        "\n",
        "a.setdata(10, 20)\n",
        "b.setdata(300, 400)\n",
        "c.setdata(30000, 1000000)"
      ],
      "metadata": {
        "id": "s06R4L85yK-n"
      },
      "execution_count": 27,
      "outputs": []
    },
    {
      "cell_type": "code",
      "source": [
        "c.add()"
      ],
      "metadata": {
        "id": "nSKL9eHx0n-3",
        "outputId": "50bd2084-0a69-4035-ae07-01cded1afa8c",
        "colab": {
          "base_uri": "https://localhost:8080/"
        }
      },
      "execution_count": 28,
      "outputs": [
        {
          "output_type": "execute_result",
          "data": {
            "text/plain": [
              "1030000"
            ]
          },
          "metadata": {},
          "execution_count": 28
        }
      ]
    },
    {
      "cell_type": "code",
      "source": [
        "c.sub()"
      ],
      "metadata": {
        "id": "YN8jPsAN0uaN",
        "outputId": "eb1e0d55-39ba-4df5-adf4-d9d6d992f35f",
        "colab": {
          "base_uri": "https://localhost:8080/"
        }
      },
      "execution_count": 29,
      "outputs": [
        {
          "output_type": "execute_result",
          "data": {
            "text/plain": [
              "-970000"
            ]
          },
          "metadata": {},
          "execution_count": 29
        }
      ]
    },
    {
      "cell_type": "code",
      "source": [
        "c.mul()"
      ],
      "metadata": {
        "id": "ZQJSda6r0uCu",
        "outputId": "ce49c22b-620e-44a6-a85e-9d966f7f57f0",
        "colab": {
          "base_uri": "https://localhost:8080/"
        }
      },
      "execution_count": 30,
      "outputs": [
        {
          "output_type": "execute_result",
          "data": {
            "text/plain": [
              "30000000000"
            ]
          },
          "metadata": {},
          "execution_count": 30
        }
      ]
    },
    {
      "cell_type": "code",
      "source": [
        "c.div()"
      ],
      "metadata": {
        "id": "UUbNiNoE0t4l",
        "outputId": "040a16aa-b850-450a-e246-740124661036",
        "colab": {
          "base_uri": "https://localhost:8080/"
        }
      },
      "execution_count": 31,
      "outputs": [
        {
          "output_type": "execute_result",
          "data": {
            "text/plain": [
              "0.03"
            ]
          },
          "metadata": {},
          "execution_count": 31
        }
      ]
    },
    {
      "cell_type": "code",
      "source": [
        "a.add()"
      ],
      "metadata": {
        "id": "iZsy1AcbzX44",
        "outputId": "8ce564aa-db98-4d73-81c1-cb0c1f0fdc3e",
        "colab": {
          "base_uri": "https://localhost:8080/"
        }
      },
      "execution_count": 18,
      "outputs": [
        {
          "output_type": "execute_result",
          "data": {
            "text/plain": [
              "30"
            ]
          },
          "metadata": {},
          "execution_count": 18
        }
      ]
    },
    {
      "cell_type": "code",
      "source": [
        "b.add()"
      ],
      "metadata": {
        "id": "6m9ajyhizaig",
        "outputId": "42f4409f-445a-4be6-b631-0cb72bab3611",
        "colab": {
          "base_uri": "https://localhost:8080/"
        }
      },
      "execution_count": 19,
      "outputs": [
        {
          "output_type": "execute_result",
          "data": {
            "text/plain": [
              "700"
            ]
          },
          "metadata": {},
          "execution_count": 19
        }
      ]
    },
    {
      "cell_type": "code",
      "source": [
        "a.sub()"
      ],
      "metadata": {
        "id": "6Q97oS6Azkl3",
        "outputId": "66fda2a0-3192-4929-ea97-0c6b8f9bc956",
        "colab": {
          "base_uri": "https://localhost:8080/"
        }
      },
      "execution_count": 20,
      "outputs": [
        {
          "output_type": "execute_result",
          "data": {
            "text/plain": [
              "-10"
            ]
          },
          "metadata": {},
          "execution_count": 20
        }
      ]
    },
    {
      "cell_type": "code",
      "source": [
        "b.sub()"
      ],
      "metadata": {
        "id": "AUbZ02xBzkYo",
        "outputId": "3983abf5-35d5-404e-b520-5f82ce91854c",
        "colab": {
          "base_uri": "https://localhost:8080/"
        }
      },
      "execution_count": 21,
      "outputs": [
        {
          "output_type": "execute_result",
          "data": {
            "text/plain": [
              "-100"
            ]
          },
          "metadata": {},
          "execution_count": 21
        }
      ]
    },
    {
      "cell_type": "code",
      "source": [
        "a.mul()"
      ],
      "metadata": {
        "id": "qiAx3gZPzw7X",
        "outputId": "bb5db841-acdf-4656-d8cf-fdf42d966fce",
        "colab": {
          "base_uri": "https://localhost:8080/"
        }
      },
      "execution_count": 22,
      "outputs": [
        {
          "output_type": "execute_result",
          "data": {
            "text/plain": [
              "200"
            ]
          },
          "metadata": {},
          "execution_count": 22
        }
      ]
    },
    {
      "cell_type": "code",
      "source": [
        "b.mul()"
      ],
      "metadata": {
        "id": "fndN_VaizwDf",
        "outputId": "7db58d40-4347-4879-bd11-ca0ba148536e",
        "colab": {
          "base_uri": "https://localhost:8080/"
        }
      },
      "execution_count": 23,
      "outputs": [
        {
          "output_type": "execute_result",
          "data": {
            "text/plain": [
              "120000"
            ]
          },
          "metadata": {},
          "execution_count": 23
        }
      ]
    },
    {
      "cell_type": "code",
      "source": [
        "a.div()"
      ],
      "metadata": {
        "id": "lftAMrW2zv4_",
        "outputId": "96cd0959-1ac6-4f21-931b-069fc4e803d3",
        "colab": {
          "base_uri": "https://localhost:8080/"
        }
      },
      "execution_count": 24,
      "outputs": [
        {
          "output_type": "execute_result",
          "data": {
            "text/plain": [
              "0.5"
            ]
          },
          "metadata": {},
          "execution_count": 24
        }
      ]
    },
    {
      "cell_type": "code",
      "source": [
        "b.div()"
      ],
      "metadata": {
        "id": "C9ZYvT3xzkQP",
        "outputId": "3ae87098-c68a-4506-96c6-37461ba8e15b",
        "colab": {
          "base_uri": "https://localhost:8080/"
        }
      },
      "execution_count": 26,
      "outputs": [
        {
          "output_type": "execute_result",
          "data": {
            "text/plain": [
              "0.75"
            ]
          },
          "metadata": {},
          "execution_count": 26
        }
      ]
    },
    {
      "cell_type": "code",
      "source": [
        "#클래스 만들기: 확장2 -> subtraction, multiplicaton, division\n",
        "\n",
        "class FourCal:\n",
        "  def setdata(self, first, second):\n",
        "    self.first = first\n",
        "    self.second = second\n",
        "\n",
        "  def add(self):\n",
        "    result = self.first + self.second\n",
        "    return result\n",
        "\n",
        "  def sub(self):\n",
        "    result = self.first - self.second\n",
        "    return result\n",
        "\n",
        "  def mul(self):\n",
        "    result = self.first * self.second\n",
        "    return result\n",
        "\n",
        "  def div(self):\n",
        "    result = self.first / self.second\n",
        "    return result\n",
        "\n",
        "a = FourCal()\n",
        "b = FourCal()\n",
        "\n",
        "a.setdata(10,20)\n",
        "b.setdata(300,400)"
      ],
      "metadata": {
        "id": "HKOc8pCMmja1"
      },
      "execution_count": null,
      "outputs": []
    },
    {
      "cell_type": "code",
      "source": [
        "a.add()"
      ],
      "metadata": {
        "colab": {
          "base_uri": "https://localhost:8080/"
        },
        "id": "pKv_KRazn3DV",
        "outputId": "32eb9527-32a6-4b2e-8ab2-c7f690805655"
      },
      "execution_count": null,
      "outputs": [
        {
          "output_type": "execute_result",
          "data": {
            "text/plain": [
              "30"
            ]
          },
          "metadata": {},
          "execution_count": 75
        }
      ]
    },
    {
      "cell_type": "code",
      "source": [
        "b.add()"
      ],
      "metadata": {
        "colab": {
          "base_uri": "https://localhost:8080/"
        },
        "id": "weDgKtFYqBIP",
        "outputId": "19746dbf-c3b7-4114-bcf3-751eff6a71b1"
      },
      "execution_count": null,
      "outputs": [
        {
          "output_type": "execute_result",
          "data": {
            "text/plain": [
              "700"
            ]
          },
          "metadata": {},
          "execution_count": 76
        }
      ]
    },
    {
      "cell_type": "code",
      "source": [
        "a.sub()"
      ],
      "metadata": {
        "colab": {
          "base_uri": "https://localhost:8080/"
        },
        "id": "p9ePA6o-qWcO",
        "outputId": "fb6e4f67-7167-4aca-fe7b-14ac8ecd41bb"
      },
      "execution_count": null,
      "outputs": [
        {
          "output_type": "execute_result",
          "data": {
            "text/plain": [
              "-10"
            ]
          },
          "metadata": {},
          "execution_count": 77
        }
      ]
    },
    {
      "cell_type": "code",
      "source": [
        "b.sub()"
      ],
      "metadata": {
        "colab": {
          "base_uri": "https://localhost:8080/"
        },
        "id": "RAMY75MgqYqF",
        "outputId": "31b5c47c-ad3b-4410-b8aa-a0c99f8f323c"
      },
      "execution_count": null,
      "outputs": [
        {
          "output_type": "execute_result",
          "data": {
            "text/plain": [
              "-100"
            ]
          },
          "metadata": {},
          "execution_count": 78
        }
      ]
    },
    {
      "cell_type": "code",
      "source": [
        "a.mul()"
      ],
      "metadata": {
        "colab": {
          "base_uri": "https://localhost:8080/"
        },
        "id": "Opn0xvELqu08",
        "outputId": "d531390b-af38-4f2d-b0e7-e10c6ea24bd0"
      },
      "execution_count": null,
      "outputs": [
        {
          "output_type": "execute_result",
          "data": {
            "text/plain": [
              "200"
            ]
          },
          "metadata": {},
          "execution_count": 79
        }
      ]
    },
    {
      "cell_type": "code",
      "source": [
        "b.mul()"
      ],
      "metadata": {
        "colab": {
          "base_uri": "https://localhost:8080/"
        },
        "id": "EY5OOc86qxWE",
        "outputId": "611149ba-12a4-4059-c659-9437f6ec1609"
      },
      "execution_count": null,
      "outputs": [
        {
          "output_type": "execute_result",
          "data": {
            "text/plain": [
              "120000"
            ]
          },
          "metadata": {},
          "execution_count": 80
        }
      ]
    },
    {
      "cell_type": "code",
      "source": [
        "a.div()"
      ],
      "metadata": {
        "colab": {
          "base_uri": "https://localhost:8080/"
        },
        "id": "oWwt0GrIqzdS",
        "outputId": "7a433ab1-ac4c-4499-d0bc-edcd51952cad"
      },
      "execution_count": null,
      "outputs": [
        {
          "output_type": "execute_result",
          "data": {
            "text/plain": [
              "0.5"
            ]
          },
          "metadata": {},
          "execution_count": 81
        }
      ]
    },
    {
      "cell_type": "code",
      "source": [
        "b.div()"
      ],
      "metadata": {
        "colab": {
          "base_uri": "https://localhost:8080/"
        },
        "id": "M1us7M4wq1lC",
        "outputId": "fcaa22bd-f7f5-4a2a-e0a7-e271d843f66c"
      },
      "execution_count": null,
      "outputs": [
        {
          "output_type": "execute_result",
          "data": {
            "text/plain": [
              "0.75"
            ]
          },
          "metadata": {},
          "execution_count": 82
        }
      ]
    },
    {
      "cell_type": "markdown",
      "source": [
        "Class Inheritance\n",
        "- 기존 클래스가 라이브러리 형태로 제공되거나 수정이 허용되지 않는 상황이라면 상속을 사용\n",
        "- 아래 예시는 제곱 (power) 메소드"
      ],
      "metadata": {
        "id": "URLcwWYnPZga"
      }
    },
    {
      "cell_type": "code",
      "source": [
        "class MoreFourCal(FourCal):\n",
        "  def pow(self):\n",
        "    result = self.first ** self.second\n",
        "    return result\n",
        "\n",
        "a = MoreFourCal()"
      ],
      "metadata": {
        "id": "X6sMUV4z1gae"
      },
      "execution_count": 34,
      "outputs": []
    },
    {
      "cell_type": "code",
      "source": [
        "a.setdata(10,20)\n",
        "a.pow()"
      ],
      "metadata": {
        "id": "lsTJL8Wn14S-",
        "outputId": "f90337e5-d630-4540-cd81-abeb37b82ac5",
        "colab": {
          "base_uri": "https://localhost:8080/"
        }
      },
      "execution_count": 35,
      "outputs": [
        {
          "output_type": "execute_result",
          "data": {
            "text/plain": [
              "100000000000000000000"
            ]
          },
          "metadata": {},
          "execution_count": 35
        }
      ]
    },
    {
      "cell_type": "code",
      "source": [
        "class MoreFourCal(FourCal):\n",
        "  def pow(self):\n",
        "    result = self.first ** self.second\n",
        "    return result\n",
        "\n",
        "a = MoreFourCal()"
      ],
      "metadata": {
        "id": "2JusDACEqatM"
      },
      "execution_count": null,
      "outputs": []
    },
    {
      "cell_type": "code",
      "source": [
        "a.setdata(10,20)\n",
        "a.pow()"
      ],
      "metadata": {
        "colab": {
          "base_uri": "https://localhost:8080/"
        },
        "id": "qx_XpWvEtOG8",
        "outputId": "2fbc2b26-ff63-47c6-9c8d-60637e222faa"
      },
      "execution_count": null,
      "outputs": [
        {
          "output_type": "execute_result",
          "data": {
            "text/plain": [
              "100000000000000000000"
            ]
          },
          "metadata": {},
          "execution_count": 89
        }
      ]
    },
    {
      "cell_type": "markdown",
      "source": [
        "- 클래스변수는 클래스 안에 변수를 선언하여 생성\n",
        "- 📍클래스변수는 객체변수와 달리 클래스로 만든 모든 객체에 공유된다"
      ],
      "metadata": {
        "id": "0KlUX6_GuaRs"
      }
    },
    {
      "cell_type": "code",
      "source": [
        "class Family():\n",
        "  lastname = 'Chandler'\n",
        "\n",
        "a = Family()\n",
        "b = Family()"
      ],
      "metadata": {
        "id": "PTsX57ru168S"
      },
      "execution_count": 36,
      "outputs": []
    },
    {
      "cell_type": "code",
      "source": [
        "a.lastname"
      ],
      "metadata": {
        "id": "oF4Lssx92C5r",
        "outputId": "44869ab4-d0e5-4f28-c95a-593154acddee",
        "colab": {
          "base_uri": "https://localhost:8080/",
          "height": 35
        }
      },
      "execution_count": 37,
      "outputs": [
        {
          "output_type": "execute_result",
          "data": {
            "text/plain": [
              "'Chandler'"
            ],
            "application/vnd.google.colaboratory.intrinsic+json": {
              "type": "string"
            }
          },
          "metadata": {},
          "execution_count": 37
        }
      ]
    },
    {
      "cell_type": "code",
      "source": [
        "b.lastname"
      ],
      "metadata": {
        "id": "MK1IxQJY2gTP",
        "outputId": "964d5b40-efc7-453e-838b-f20ba88d0384",
        "colab": {
          "base_uri": "https://localhost:8080/",
          "height": 35
        }
      },
      "execution_count": 38,
      "outputs": [
        {
          "output_type": "execute_result",
          "data": {
            "text/plain": [
              "'Chandler'"
            ],
            "application/vnd.google.colaboratory.intrinsic+json": {
              "type": "string"
            }
          },
          "metadata": {},
          "execution_count": 38
        }
      ]
    },
    {
      "cell_type": "code",
      "source": [
        "Family.lastname"
      ],
      "metadata": {
        "id": "wbrNc6Qj2fmY",
        "outputId": "d6fe6f81-dbcd-4e2b-fb18-faa2c8385d63",
        "colab": {
          "base_uri": "https://localhost:8080/",
          "height": 35
        }
      },
      "execution_count": 39,
      "outputs": [
        {
          "output_type": "execute_result",
          "data": {
            "text/plain": [
              "'Chandler'"
            ],
            "application/vnd.google.colaboratory.intrinsic+json": {
              "type": "string"
            }
          },
          "metadata": {},
          "execution_count": 39
        }
      ]
    },
    {
      "cell_type": "code",
      "source": [
        "Family.lastname = 'Poppins'"
      ],
      "metadata": {
        "id": "A3PA3CM82tQ6"
      },
      "execution_count": null,
      "outputs": []
    },
    {
      "cell_type": "code",
      "source": [
        "class Family():\n",
        "  lastname = 'Chandler'\n",
        "\n",
        "a = Family()\n",
        "b = Family()"
      ],
      "metadata": {
        "id": "waCaUOJ_ukas"
      },
      "execution_count": null,
      "outputs": []
    },
    {
      "cell_type": "code",
      "source": [
        "a.lastname #클래스변수는 클래스이름.클래스변수로 사용\n"
      ],
      "metadata": {
        "colab": {
          "base_uri": "https://localhost:8080/",
          "height": 35
        },
        "id": "M1OyGq11wamS",
        "outputId": "8af84d79-233b-4f8b-a8e4-c648c231da8d"
      },
      "execution_count": null,
      "outputs": [
        {
          "output_type": "execute_result",
          "data": {
            "text/plain": [
              "'Chandler'"
            ],
            "application/vnd.google.colaboratory.intrinsic+json": {
              "type": "string"
            }
          },
          "metadata": {},
          "execution_count": 97
        }
      ]
    },
    {
      "cell_type": "code",
      "source": [
        "b.lastname"
      ],
      "metadata": {
        "colab": {
          "base_uri": "https://localhost:8080/",
          "height": 35
        },
        "id": "nAjFJCDhzeFr",
        "outputId": "12e813ee-a3bd-4bd4-f008-b537570583d8"
      },
      "execution_count": null,
      "outputs": [
        {
          "output_type": "execute_result",
          "data": {
            "text/plain": [
              "'Chandler'"
            ],
            "application/vnd.google.colaboratory.intrinsic+json": {
              "type": "string"
            }
          },
          "metadata": {},
          "execution_count": 98
        }
      ]
    },
    {
      "cell_type": "code",
      "source": [
        "Family.lastname = 'Poppins'"
      ],
      "metadata": {
        "id": "n53JOjEjwfe2"
      },
      "execution_count": null,
      "outputs": []
    },
    {
      "cell_type": "code",
      "source": [
        "a.lastname"
      ],
      "metadata": {
        "colab": {
          "base_uri": "https://localhost:8080/",
          "height": 35
        },
        "id": "5jP_GKYjzj6X",
        "outputId": "b6552d09-7124-4bf8-a658-10faedb8af6e"
      },
      "execution_count": null,
      "outputs": [
        {
          "output_type": "execute_result",
          "data": {
            "text/plain": [
              "'Poppins'"
            ],
            "application/vnd.google.colaboratory.intrinsic+json": {
              "type": "string"
            }
          },
          "metadata": {},
          "execution_count": 103
        }
      ]
    },
    {
      "cell_type": "code",
      "source": [
        "b.lastname"
      ],
      "metadata": {
        "colab": {
          "base_uri": "https://localhost:8080/",
          "height": 35
        },
        "id": "JPNa1G3vzl_J",
        "outputId": "9a28f8d2-d740-4181-bfd7-cea14f17d430"
      },
      "execution_count": null,
      "outputs": [
        {
          "output_type": "execute_result",
          "data": {
            "text/plain": [
              "'Poppins'"
            ],
            "application/vnd.google.colaboratory.intrinsic+json": {
              "type": "string"
            }
          },
          "metadata": {},
          "execution_count": 104
        }
      ]
    },
    {
      "cell_type": "code",
      "source": [
        "lastname."
      ],
      "metadata": {
        "id": "iBfi_GTD0l9I"
      },
      "execution_count": null,
      "outputs": []
    },
    {
      "cell_type": "markdown",
      "source": [
        "### <font color = 'brown'> 💈 Get more exercises on Python classes!"
      ],
      "metadata": {
        "id": "ygRHdvWDXGyY"
      }
    },
    {
      "cell_type": "code",
      "source": [
        "class Greetings:\n",
        "  def sayHello(self):\n",
        "    print(\"How are you?\")\n",
        "\n",
        "  def sayBye(self, name):\n",
        "    print('%s! see you!' %name)\n",
        "\n",
        "obj = Greetings()\n",
        "obj.sayHello()\n",
        "obj.sayBye('Emma')"
      ],
      "metadata": {
        "id": "9Aw9DBgO2wjp",
        "outputId": "7e6acf2d-d30a-4a2a-b485-94b8faf813b1",
        "colab": {
          "base_uri": "https://localhost:8080/"
        }
      },
      "execution_count": 55,
      "outputs": [
        {
          "output_type": "stream",
          "name": "stdout",
          "text": [
            "How are you?\n",
            "Emma! see you!\n"
          ]
        }
      ]
    },
    {
      "cell_type": "code",
      "source": [
        "class Greetings:\n",
        "  def sayHello(self):\n",
        "    print(\"How are you?\")\n",
        "\n",
        "  def sayBye(self, name):\n",
        "    print(\"%s! see you!\" %name)\n",
        "\n",
        "obj = Greetings()\n",
        "obj.sayHello()\n",
        "obj.sayBye(\"seoyoon\")"
      ],
      "metadata": {
        "id": "5nc4t4Sf3flN",
        "outputId": "cbecbac4-c924-404f-a672-51413a5168f4",
        "colab": {
          "base_uri": "https://localhost:8080/"
        }
      },
      "execution_count": 56,
      "outputs": [
        {
          "output_type": "stream",
          "name": "stdout",
          "text": [
            "How are you?\n",
            "seoyoon! see you!\n"
          ]
        }
      ]
    },
    {
      "cell_type": "code",
      "execution_count": null,
      "metadata": {
        "id": "XKm8hYRNqJE2",
        "outputId": "9342778c-beb9-4ce2-bd3c-f79636fd0a75",
        "colab": {
          "base_uri": "https://localhost:8080/"
        }
      },
      "outputs": [
        {
          "output_type": "stream",
          "name": "stdout",
          "text": [
            "How are you?\n",
            "Emma! see you!\n"
          ]
        }
      ],
      "source": [
        "class Greetings: #독립된 공간을 Class 라고 함\n",
        "  def sayHello(self): #Class Method\n",
        "    print('How are you?')\n",
        "\n",
        "  def sayBye(self,name): #Class Method에서 두 번째 인자로 사용되는 name은 Instant Member\n",
        "    print('%s! see you!' %name)\n",
        "\n",
        "obj = Greetings()\n",
        "obj.sayHello()\n",
        "obj.sayBye('Emma')"
      ]
    },
    {
      "cell_type": "code",
      "source": [
        "result = 0\n",
        "\n",
        "def add(num):\n",
        "  global result\n",
        "  result += num\n",
        "  return result\n",
        "\n",
        "print(add(3))\n",
        "print(add(4))\n",
        "print(add(5))"
      ],
      "metadata": {
        "id": "h6zIeKLs4YUg",
        "outputId": "a18b2420-3033-4eff-c51b-6f907cb94b71",
        "colab": {
          "base_uri": "https://localhost:8080/"
        }
      },
      "execution_count": 57,
      "outputs": [
        {
          "output_type": "stream",
          "name": "stdout",
          "text": [
            "3\n",
            "7\n",
            "12\n"
          ]
        }
      ]
    },
    {
      "cell_type": "code",
      "source": [
        "#Caculator.py\n",
        "\n",
        "result = 0 #global variable named result and assigns it the value 0\n",
        "\n",
        "def add(num): # a function named add that takes one parameter, num.\n",
        "  global result #This line declares that within the add function, we intend to use the global variable result. This allows us to modify the global result variable within the function.\n",
        "  result += num # 결괏값(result)에 입력값(num) 더하기: It adds the value of the num parameter to the global result variable. It accumulates the values over multiple function calls, updating the running total.\n",
        "  return result\n",
        "\n",
        "print(add(3))\n",
        "print(add(4))\n",
        "print(add(5))"
      ],
      "metadata": {
        "colab": {
          "base_uri": "https://localhost:8080/"
        },
        "id": "veFGBxXx_eQp",
        "outputId": "5ae0ca04-9ed9-4485-d74d-de6eaaa56d1e"
      },
      "execution_count": null,
      "outputs": [
        {
          "output_type": "stream",
          "name": "stdout",
          "text": [
            "3\n",
            "7\n",
            "12\n"
          ]
        }
      ]
    },
    {
      "cell_type": "code",
      "source": [
        "class Calculator:\n",
        "    def initialize(self):\n",
        "        self.result = 0\n",
        "\n",
        "    def add(self, num):\n",
        "        self.result += num\n",
        "        return self.result\n",
        "\n",
        "    def sub(self, num):\n",
        "        self.result -= num\n",
        "        return self.result\n",
        "\n",
        "calc = Calculator()\n",
        "\n",
        "calc.initialize()\n",
        "\n",
        "result_add = calc.add(1)\n",
        "result_sub = calc.sub(1)\n",
        "\n",
        "print(result_add)\n",
        "print(result_sub)"
      ],
      "metadata": {
        "id": "pzhNKNff5hEM",
        "outputId": "019316aa-addd-42d9-ebf8-ffe7af967ba0",
        "colab": {
          "base_uri": "https://localhost:8080/"
        }
      },
      "execution_count": 58,
      "outputs": [
        {
          "output_type": "stream",
          "name": "stdout",
          "text": [
            "1\n",
            "0\n"
          ]
        }
      ]
    },
    {
      "cell_type": "code",
      "source": [
        "class Calculator:\n",
        "    def initialize(self): #The initialize method is used to set the initial value of self.result to 0\n",
        "        self.result = 0\n",
        "\n",
        "    def add(self, num):\n",
        "        self.result += num\n",
        "        return self.result\n",
        "\n",
        "    def sub(self, num):\n",
        "        self.result -= num\n",
        "        return self.result\n",
        "\n",
        "# Create an instance of the Calculator class\n",
        "calc = Calculator()\n",
        "\n",
        "# Initialize the calculator's result\n",
        "calc.initialize()\n",
        "\n",
        "# Perform addition and subtraction\n",
        "result_add = calc.add(1)\n",
        "result_sub = calc.sub(1)\n",
        "\n",
        "print(result_add)\n",
        "print(result_sub)"
      ],
      "metadata": {
        "colab": {
          "base_uri": "https://localhost:8080/"
        },
        "id": "M-bvTQUzABlR",
        "outputId": "89057b26-2218-49ad-99ea-4a7b676e8437"
      },
      "execution_count": null,
      "outputs": [
        {
          "output_type": "stream",
          "name": "stdout",
          "text": [
            "1\n",
            "0\n"
          ]
        }
      ]
    },
    {
      "cell_type": "markdown",
      "source": [
        "## 🔥🐹🐶🐤🐭 <font color = 'organge'>**Find a basic Python textbook, read and exercise the content about classes thoroughly!**"
      ],
      "metadata": {
        "id": "7uJOQwpb-IpM"
      }
    }
  ]
}