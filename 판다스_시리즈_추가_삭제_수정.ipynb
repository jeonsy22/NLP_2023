{
  "nbformat": 4,
  "nbformat_minor": 0,
  "metadata": {
    "colab": {
      "provenance": [],
      "authorship_tag": "ABX9TyMzGCGM991iOyyyRn/UkR3F",
      "include_colab_link": true
    },
    "kernelspec": {
      "name": "python3",
      "display_name": "Python 3"
    },
    "language_info": {
      "name": "python"
    }
  },
  "cells": [
    {
      "cell_type": "markdown",
      "metadata": {
        "id": "view-in-github",
        "colab_type": "text"
      },
      "source": [
        "<a href=\"https://colab.research.google.com/github/jeonsy22/NLP_2023/blob/main/%ED%8C%90%EB%8B%A4%EC%8A%A4_%EC%8B%9C%EB%A6%AC%EC%A6%88_%EC%B6%94%EA%B0%80_%EC%82%AD%EC%A0%9C_%EC%88%98%EC%A0%95.ipynb\" target=\"_parent\"><img src=\"https://colab.research.google.com/assets/colab-badge.svg\" alt=\"Open In Colab\"/></a>"
      ]
    },
    {
      "cell_type": "markdown",
      "source": [
        "Series에 값 추가\n",
        "* 딕셔너리와 유사한 방식으로 값 추가 가능\n",
        "* s.loc[인덱스] = 값"
      ],
      "metadata": {
        "id": "5Fmt5LOwVVaA"
      }
    },
    {
      "cell_type": "code",
      "source": [
        "import pandas as pd\n",
        "\n",
        "data = [100, 200, 300]\n",
        "index = ['월', '화', '수']\n",
        "s = pd.Series(data = data, index = index)\n",
        "s"
      ],
      "metadata": {
        "colab": {
          "base_uri": "https://localhost:8080/"
        },
        "id": "qAmlZVF6WQlH",
        "outputId": "bb2700e4-b130-429c-b5de-39b742b4ec0d"
      },
      "execution_count": 3,
      "outputs": [
        {
          "output_type": "execute_result",
          "data": {
            "text/plain": [
              "월    100\n",
              "화    200\n",
              "수    300\n",
              "dtype: int64"
            ]
          },
          "metadata": {},
          "execution_count": 3
        }
      ]
    },
    {
      "cell_type": "code",
      "source": [
        "s['목'] = 400"
      ],
      "metadata": {
        "id": "HctzjTH8WQdj"
      },
      "execution_count": 4,
      "outputs": []
    },
    {
      "cell_type": "code",
      "source": [
        "s"
      ],
      "metadata": {
        "colab": {
          "base_uri": "https://localhost:8080/"
        },
        "id": "CS02jZZOWmht",
        "outputId": "071d2f9f-6b14-48a7-ee75-14ce546e4140"
      },
      "execution_count": 5,
      "outputs": [
        {
          "output_type": "execute_result",
          "data": {
            "text/plain": [
              "월    100\n",
              "화    200\n",
              "수    300\n",
              "목    400\n",
              "dtype: int64"
            ]
          },
          "metadata": {},
          "execution_count": 5
        }
      ]
    },
    {
      "cell_type": "code",
      "source": [
        "s.loc['금'] = 500"
      ],
      "metadata": {
        "id": "XffqpJF-Wnwo"
      },
      "execution_count": 6,
      "outputs": []
    },
    {
      "cell_type": "code",
      "source": [
        "s"
      ],
      "metadata": {
        "colab": {
          "base_uri": "https://localhost:8080/"
        },
        "id": "pew9NEM-WnpK",
        "outputId": "cfc8906c-bb8d-4a11-c64b-88f86fd60b86"
      },
      "execution_count": 7,
      "outputs": [
        {
          "output_type": "execute_result",
          "data": {
            "text/plain": [
              "월    100\n",
              "화    200\n",
              "수    300\n",
              "목    400\n",
              "금    500\n",
              "dtype: int64"
            ]
          },
          "metadata": {},
          "execution_count": 7
        }
      ]
    },
    {
      "cell_type": "markdown",
      "source": [
        "Series 삭제\n",
        "* drop 메서드\n",
        "* 원본은 유지하고 값이 삭제된 시리즈 객체를 리턴\n",
        "* s.drop('인덱스')\n",
        "* s.drop(['인덱스1', '인덱스2'])"
      ],
      "metadata": {
        "id": "i8qxeqMBVjAU"
      }
    },
    {
      "cell_type": "code",
      "source": [
        "s.drop('목')"
      ],
      "metadata": {
        "colab": {
          "base_uri": "https://localhost:8080/"
        },
        "id": "RNORULlFWtUx",
        "outputId": "a5fdd229-4988-4623-d995-b5a5fd7e58ec"
      },
      "execution_count": 8,
      "outputs": [
        {
          "output_type": "execute_result",
          "data": {
            "text/plain": [
              "월    100\n",
              "화    200\n",
              "수    300\n",
              "금    500\n",
              "dtype: int64"
            ]
          },
          "metadata": {},
          "execution_count": 8
        }
      ]
    },
    {
      "cell_type": "code",
      "source": [
        "s"
      ],
      "metadata": {
        "colab": {
          "base_uri": "https://localhost:8080/"
        },
        "id": "ywbXNZKHWtR9",
        "outputId": "e2d6e4fe-5591-4dc6-9c4d-d71fb9a6da31"
      },
      "execution_count": 9,
      "outputs": [
        {
          "output_type": "execute_result",
          "data": {
            "text/plain": [
              "월    100\n",
              "화    200\n",
              "수    300\n",
              "목    400\n",
              "금    500\n",
              "dtype: int64"
            ]
          },
          "metadata": {},
          "execution_count": 9
        }
      ]
    },
    {
      "cell_type": "code",
      "source": [
        "s.drop('목', inplace = True)"
      ],
      "metadata": {
        "id": "TS0Z5QMmWtO_"
      },
      "execution_count": 10,
      "outputs": []
    },
    {
      "cell_type": "code",
      "source": [
        "s"
      ],
      "metadata": {
        "colab": {
          "base_uri": "https://localhost:8080/"
        },
        "id": "DfPqDJjZWtLI",
        "outputId": "cbb00d29-bd25-403f-b779-7abe0bfa8e53"
      },
      "execution_count": 11,
      "outputs": [
        {
          "output_type": "execute_result",
          "data": {
            "text/plain": [
              "월    100\n",
              "화    200\n",
              "수    300\n",
              "금    500\n",
              "dtype: int64"
            ]
          },
          "metadata": {},
          "execution_count": 11
        }
      ]
    },
    {
      "cell_type": "code",
      "source": [
        "s.drop(['수', '금'])"
      ],
      "metadata": {
        "colab": {
          "base_uri": "https://localhost:8080/"
        },
        "id": "Jhz1LgGQW6xK",
        "outputId": "3520e24f-3f5d-4b29-80b4-b6ae3683168c"
      },
      "execution_count": 12,
      "outputs": [
        {
          "output_type": "execute_result",
          "data": {
            "text/plain": [
              "월    100\n",
              "화    200\n",
              "dtype: int64"
            ]
          },
          "metadata": {},
          "execution_count": 12
        }
      ]
    },
    {
      "cell_type": "code",
      "source": [
        "s"
      ],
      "metadata": {
        "colab": {
          "base_uri": "https://localhost:8080/"
        },
        "id": "SbkVnTL9W6uv",
        "outputId": "43188156-d32b-4686-92e1-e012652bf3d8"
      },
      "execution_count": 13,
      "outputs": [
        {
          "output_type": "execute_result",
          "data": {
            "text/plain": [
              "월    100\n",
              "화    200\n",
              "수    300\n",
              "금    500\n",
              "dtype: int64"
            ]
          },
          "metadata": {},
          "execution_count": 13
        }
      ]
    },
    {
      "cell_type": "markdown",
      "source": [
        "Series 수정\n",
        "* Series의 행번호나 인덱스를 사용하여 value를 수정 가능하다."
      ],
      "metadata": {
        "id": "6rsy8-eyWFvP"
      }
    },
    {
      "cell_type": "code",
      "execution_count": 14,
      "metadata": {
        "id": "L51hdFatVB7f"
      },
      "outputs": [],
      "source": [
        "s.drop('금', inplace = True)"
      ]
    },
    {
      "cell_type": "code",
      "source": [
        "s"
      ],
      "metadata": {
        "colab": {
          "base_uri": "https://localhost:8080/"
        },
        "id": "IXI9wcQ0XHDP",
        "outputId": "5441acd1-232a-4ee0-cff3-572a6bf9d308"
      },
      "execution_count": 15,
      "outputs": [
        {
          "output_type": "execute_result",
          "data": {
            "text/plain": [
              "월    100\n",
              "화    200\n",
              "수    300\n",
              "dtype: int64"
            ]
          },
          "metadata": {},
          "execution_count": 15
        }
      ]
    },
    {
      "cell_type": "code",
      "source": [
        "s['수'] = 3000"
      ],
      "metadata": {
        "id": "dFRrLYOKXHTx"
      },
      "execution_count": 16,
      "outputs": []
    },
    {
      "cell_type": "code",
      "source": [
        "s"
      ],
      "metadata": {
        "colab": {
          "base_uri": "https://localhost:8080/"
        },
        "id": "A_TdjYLmXJjO",
        "outputId": "34bb3c48-1aab-43ea-c4d9-0d4a79ed7250"
      },
      "execution_count": 19,
      "outputs": [
        {
          "output_type": "execute_result",
          "data": {
            "text/plain": [
              "월     100\n",
              "화     200\n",
              "수    3000\n",
              "dtype: int64"
            ]
          },
          "metadata": {},
          "execution_count": 19
        }
      ]
    },
    {
      "cell_type": "code",
      "source": [
        "s.iloc[2] = 4000"
      ],
      "metadata": {
        "id": "5WMUhBr-XJt-"
      },
      "execution_count": 20,
      "outputs": []
    },
    {
      "cell_type": "code",
      "source": [
        "s"
      ],
      "metadata": {
        "colab": {
          "base_uri": "https://localhost:8080/"
        },
        "id": "KSQ6fYS0XOrZ",
        "outputId": "30d0032c-c468-4445-a535-67483caced04"
      },
      "execution_count": 21,
      "outputs": [
        {
          "output_type": "execute_result",
          "data": {
            "text/plain": [
              "월     100\n",
              "화     200\n",
              "수    4000\n",
              "dtype: int64"
            ]
          },
          "metadata": {},
          "execution_count": 21
        }
      ]
    },
    {
      "cell_type": "code",
      "source": [
        "s.loc['수'] = 5000"
      ],
      "metadata": {
        "id": "pgzJw-sVXO-J"
      },
      "execution_count": 22,
      "outputs": []
    },
    {
      "cell_type": "code",
      "source": [
        "s"
      ],
      "metadata": {
        "colab": {
          "base_uri": "https://localhost:8080/"
        },
        "id": "FMc0V6auXRsX",
        "outputId": "218e497d-d4f1-493e-9148-7211775ee8ac"
      },
      "execution_count": 23,
      "outputs": [
        {
          "output_type": "execute_result",
          "data": {
            "text/plain": [
              "월     100\n",
              "화     200\n",
              "수    5000\n",
              "dtype: int64"
            ]
          },
          "metadata": {},
          "execution_count": 23
        }
      ]
    }
  ]
}