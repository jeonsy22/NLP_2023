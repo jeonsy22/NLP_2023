{
  "nbformat": 4,
  "nbformat_minor": 0,
  "metadata": {
    "colab": {
      "provenance": [],
      "authorship_tag": "ABX9TyMzGARP2pc3NHEipF+oz0KP",
      "include_colab_link": true
    },
    "kernelspec": {
      "name": "python3",
      "display_name": "Python 3"
    },
    "language_info": {
      "name": "python"
    }
  },
  "cells": [
    {
      "cell_type": "markdown",
      "metadata": {
        "id": "view-in-github",
        "colab_type": "text"
      },
      "source": [
        "<a href=\"https://colab.research.google.com/github/jeonsy22/NLP_2023/blob/main/zip.ipynb\" target=\"_parent\"><img src=\"https://colab.research.google.com/assets/colab-badge.svg\" alt=\"Open In Colab\"/></a>"
      ]
    },
    {
      "cell_type": "markdown",
      "source": [
        "zip\n",
        "* 문법 : **zip(*iterable)**\n",
        "* 동일한 개수로 이루어진 자료형을 묶어주는 역할을 한다."
      ],
      "metadata": {
        "id": "Q28EgmGhnWo5"
      }
    },
    {
      "cell_type": "code",
      "execution_count": 1,
      "metadata": {
        "id": "VQR2tN9gnVu2"
      },
      "outputs": [],
      "source": [
        "sample_data = [1, 2, 3, 4, 5, 6, 7, 8, 9,10]\n",
        "sample_data2 = [0, 1, 24, 63, 77, 100]\n",
        "sample_data3 = [8, 9, 10, 11]"
      ]
    },
    {
      "cell_type": "markdown",
      "source": [
        "sample_data1, sample_data2를 **zip**으로 묶어준 경우"
      ],
      "metadata": {
        "id": "pl0gJZSmn2Xg"
      }
    },
    {
      "cell_type": "code",
      "source": [
        "result = zip(sample_data, sample_data2)\n",
        "list(result)"
      ],
      "metadata": {
        "colab": {
          "base_uri": "https://localhost:8080/"
        },
        "id": "4et4504Ln1a7",
        "outputId": "c8c026d3-08d2-4959-ecf1-8fe833615b1e"
      },
      "execution_count": 2,
      "outputs": [
        {
          "output_type": "execute_result",
          "data": {
            "text/plain": [
              "[(1, 0), (2, 1), (3, 24), (4, 63), (5, 77), (6, 100)]"
            ]
          },
          "metadata": {},
          "execution_count": 2
        }
      ]
    },
    {
      "cell_type": "markdown",
      "source": [
        "sample_data1, sample_data2, sample_data3를 **zip**으로 묶어준 경우\n",
        "* 작은 size를 가지는 리스트에 맞춰 생성한다."
      ],
      "metadata": {
        "id": "OfupbyuBoKuS"
      }
    },
    {
      "cell_type": "code",
      "source": [
        "list(zip(sample_data, sample_data2, sample_data3))"
      ],
      "metadata": {
        "colab": {
          "base_uri": "https://localhost:8080/"
        },
        "id": "7ViBaV1doJZP",
        "outputId": "5f286310-89ed-4efa-ebe9-1d3b81eaf1ae"
      },
      "execution_count": 4,
      "outputs": [
        {
          "output_type": "execute_result",
          "data": {
            "text/plain": [
              "[(1, 0, 8), (2, 1, 9), (3, 24, 10), (4, 63, 11)]"
            ]
          },
          "metadata": {},
          "execution_count": 4
        }
      ]
    },
    {
      "cell_type": "markdown",
      "source": [
        "zip의 응용"
      ],
      "metadata": {
        "id": "RJeG9EijohDO"
      }
    },
    {
      "cell_type": "code",
      "source": [
        "number = [1, 2, 3, 4]\n",
        "name = ['전서윤', '김소라', '백가은','김나영']"
      ],
      "metadata": {
        "id": "wru6mN9UoPWs"
      },
      "execution_count": 6,
      "outputs": []
    },
    {
      "cell_type": "code",
      "source": [
        "number_name = list(zip(number, name))\n",
        "number_name"
      ],
      "metadata": {
        "colab": {
          "base_uri": "https://localhost:8080/"
        },
        "id": "EmrYj6sMowT5",
        "outputId": "401622e0-b671-46bd-daad-f38d79ddb043"
      },
      "execution_count": 7,
      "outputs": [
        {
          "output_type": "execute_result",
          "data": {
            "text/plain": [
              "[(1, '전서윤'), (2, '김소라'), (3, '백가은'), (4, '김나영')]"
            ]
          },
          "metadata": {},
          "execution_count": 7
        }
      ]
    },
    {
      "cell_type": "markdown",
      "source": [
        "zip을 활용한 dict 만들기"
      ],
      "metadata": {
        "id": "KCjxCpPWo8kH"
      }
    },
    {
      "cell_type": "code",
      "source": [
        "number = [5, 6, 7, 8]\n",
        "name = ['전서윤', '김소라', '백가은', '김나영']\n",
        "dic = {}\n",
        "\n",
        "for number, name in zip(number, name):\n",
        "  dic[number] = name"
      ],
      "metadata": {
        "id": "9AuBKeWso7b2"
      },
      "execution_count": 9,
      "outputs": []
    },
    {
      "cell_type": "code",
      "source": [
        "print(dic)"
      ],
      "metadata": {
        "colab": {
          "base_uri": "https://localhost:8080/"
        },
        "id": "dxRPvreapRM7",
        "outputId": "6d95fc37-9db8-4e59-e486-95796823dfac"
      },
      "execution_count": 10,
      "outputs": [
        {
          "output_type": "stream",
          "name": "stdout",
          "text": [
            "{5: '전서윤', 6: '김소라', 7: '백가은', 8: '김나영'}\n"
          ]
        }
      ]
    }
  ]
}