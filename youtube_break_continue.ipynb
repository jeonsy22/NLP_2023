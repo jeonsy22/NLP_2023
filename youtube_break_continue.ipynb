{
  "nbformat": 4,
  "nbformat_minor": 0,
  "metadata": {
    "colab": {
      "provenance": [],
      "authorship_tag": "ABX9TyN1ujku0I3AJhJdCn3gkJSx",
      "include_colab_link": true
    },
    "kernelspec": {
      "name": "python3",
      "display_name": "Python 3"
    },
    "language_info": {
      "name": "python"
    }
  },
  "cells": [
    {
      "cell_type": "markdown",
      "metadata": {
        "id": "view-in-github",
        "colab_type": "text"
      },
      "source": [
        "<a href=\"https://colab.research.google.com/github/jeonsy22/NLP_2023/blob/main/youtube_break_continue.ipynb\" target=\"_parent\"><img src=\"https://colab.research.google.com/assets/colab-badge.svg\" alt=\"Open In Colab\"/></a>"
      ]
    },
    {
      "cell_type": "markdown",
      "source": [
        "제어문"
      ],
      "metadata": {
        "id": "bWIyzXaeFEZW"
      }
    },
    {
      "cell_type": "markdown",
      "source": [
        "contunue\n",
        "* 반복문 내부에서 continue 구문은 해당 루프를 건너뛰게 한다.\n",
        "* continue라는 구문을 만나면, 반복문에서 continue 아래 작성된 코드는 실행되지 않고 건너뛴다."
      ],
      "metadata": {
        "id": "SVFJNKizFS9p"
      }
    },
    {
      "cell_type": "code",
      "execution_count": 1,
      "metadata": {
        "id": "-u-keALr-59x"
      },
      "outputs": [],
      "source": [
        "mylist = [1, 2, 3, 4, 5, 6, 7, 8, 9, 10]"
      ]
    },
    {
      "cell_type": "code",
      "source": [
        "#@markdown **반복문**과 **조건문** 그리고 continue를 활용하여 **짝수만 출력**해주세요.\n",
        "for i in mylist:\n",
        "  if i % 2 == 1:\n",
        "    continue\n",
        "  print(i)"
      ],
      "metadata": {
        "colab": {
          "base_uri": "https://localhost:8080/"
        },
        "id": "zRglkDnZF1-R",
        "outputId": "13224696-f255-4e8c-f7c2-85aa66510a79"
      },
      "execution_count": 5,
      "outputs": [
        {
          "output_type": "stream",
          "name": "stdout",
          "text": [
            "2\n",
            "4\n",
            "6\n",
            "8\n",
            "10\n"
          ]
        }
      ]
    },
    {
      "cell_type": "code",
      "source": [
        "#@markdown **반복문**과 **조건문** 그리고 continue를 활용하여 **홀수만 출력**해주세요.\n",
        "for j in mylist:\n",
        "  if j % 2 == 0:\n",
        "    continue\n",
        "  print(j)"
      ],
      "metadata": {
        "colab": {
          "base_uri": "https://localhost:8080/"
        },
        "id": "r7Qn6CVzIKc1",
        "outputId": "384ef0e6-fed1-447b-a86a-00a9e7771d81"
      },
      "execution_count": 16,
      "outputs": [
        {
          "output_type": "stream",
          "name": "stdout",
          "text": [
            "1\n",
            "3\n",
            "5\n",
            "7\n",
            "9\n"
          ]
        }
      ]
    },
    {
      "cell_type": "markdown",
      "source": [
        "break\n",
        "* ** break**  구문을 만나면, **반복 루프는 즉시 종료**"
      ],
      "metadata": {
        "id": "vKR9whAUHiM6"
      }
    },
    {
      "cell_type": "code",
      "source": [
        "mylist = [1, 2, 3, 4, 5, 6, 7, 8, 9, 10]"
      ],
      "metadata": {
        "id": "2_BSyK6ZHIs3"
      },
      "execution_count": 20,
      "outputs": []
    },
    {
      "cell_type": "code",
      "source": [
        "#@markdown break를 사용하여 i가 6 이상이면 stop\n",
        "for i in mylist:\n",
        "  if i >= 6:\n",
        "    break\n",
        "  print(i)"
      ],
      "metadata": {
        "colab": {
          "base_uri": "https://localhost:8080/"
        },
        "id": "h9q-7LqjHvOs",
        "outputId": "695f1fa6-9301-4ba4-b097-8b2c05da0426"
      },
      "execution_count": 21,
      "outputs": [
        {
          "output_type": "stream",
          "name": "stdout",
          "text": [
            "1\n",
            "2\n",
            "3\n",
            "4\n",
            "5\n"
          ]
        }
      ]
    },
    {
      "cell_type": "code",
      "source": [
        "mylist = [1, 2, 3, 4, 5, 6, 7, 8, 9, 10]"
      ],
      "metadata": {
        "id": "-YYQn7ZVI3H7"
      },
      "execution_count": 24,
      "outputs": []
    },
    {
      "cell_type": "code",
      "source": [
        "for s in mylist:\n",
        "  if s >= 8:\n",
        "    break\n",
        "  print(s)"
      ],
      "metadata": {
        "colab": {
          "base_uri": "https://localhost:8080/"
        },
        "id": "tUmZgIK3ID_b",
        "outputId": "7e3cad86-9be6-4bd5-fd14-63d604acdaeb"
      },
      "execution_count": 30,
      "outputs": [
        {
          "output_type": "stream",
          "name": "stdout",
          "text": [
            "1\n",
            "2\n",
            "3\n",
            "4\n",
            "5\n",
            "6\n",
            "7\n"
          ]
        }
      ]
    },
    {
      "cell_type": "markdown",
      "source": [
        "break, continue 차이"
      ],
      "metadata": {
        "id": "n0EUPbX4KEL2"
      }
    },
    {
      "cell_type": "code",
      "source": [
        "for y in range(10):\n",
        "  if y == 5:\n",
        "    break\n",
        "  print(y)"
      ],
      "metadata": {
        "colab": {
          "base_uri": "https://localhost:8080/"
        },
        "id": "1Pi3LclTIr_Z",
        "outputId": "db9e7c2b-79e3-4035-f66f-b599ce7c373b"
      },
      "execution_count": 31,
      "outputs": [
        {
          "output_type": "stream",
          "name": "stdout",
          "text": [
            "0\n",
            "1\n",
            "2\n",
            "3\n",
            "4\n"
          ]
        }
      ]
    },
    {
      "cell_type": "code",
      "source": [
        "for h in range(10):\n",
        "  if h == 5:\n",
        "    continue\n",
        "  print(h)"
      ],
      "metadata": {
        "colab": {
          "base_uri": "https://localhost:8080/"
        },
        "id": "pJo081nFKQOa",
        "outputId": "91c7a6c4-1264-4ed8-ef24-8834be26d268"
      },
      "execution_count": 32,
      "outputs": [
        {
          "output_type": "stream",
          "name": "stdout",
          "text": [
            "0\n",
            "1\n",
            "2\n",
            "3\n",
            "4\n",
            "6\n",
            "7\n",
            "8\n",
            "9\n"
          ]
        }
      ]
    }
  ]
}