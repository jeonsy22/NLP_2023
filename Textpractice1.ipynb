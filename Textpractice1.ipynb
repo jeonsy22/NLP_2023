{
  "nbformat": 4,
  "nbformat_minor": 0,
  "metadata": {
    "colab": {
      "provenance": [],
      "authorship_tag": "ABX9TyPcLiQ/vJblMB9rSgDc2cOr",
      "include_colab_link": true
    },
    "kernelspec": {
      "name": "python3",
      "display_name": "Python 3"
    },
    "language_info": {
      "name": "python"
    }
  },
  "cells": [
    {
      "cell_type": "markdown",
      "metadata": {
        "id": "view-in-github",
        "colab_type": "text"
      },
      "source": [
        "<a href=\"https://colab.research.google.com/github/jeonsy22/NLP_2023/blob/main/Textpractice1.ipynb\" target=\"_parent\"><img src=\"https://colab.research.google.com/assets/colab-badge.svg\" alt=\"Open In Colab\"/></a>"
      ]
    },
    {
      "cell_type": "markdown",
      "source": [
        "# ❤️🐾 🎈 **Various recommendations** ❤️🐾 🎈\n",
        "\n",
        "### **- Introduce my favorite music playlist**\n",
        "* I love this <font color = ' orange '> **playlist!** </font> [Play here.](https://www.youtube.com/watch?v=qAg6fTVu8gI)\n",
        "\n",
        "*  I love this <font color = ' orange '> **playlist!** [Play here.](https://www.youtube.com/watch?v=Iv1cOgYEGgM&t=2650s)\n",
        "\n",
        "\n",
        "### **- I like to watch movies**\n",
        "##### - <font color = 'green'> Movies that I want to recommend\n",
        "* Big Fish (2004)\n",
        "* August Rush (2007)\n",
        "* My Mother The Mermaid (2007)"
      ],
      "metadata": {
        "id": "GgMAY37pu-Dg"
      }
    }
  ]
}