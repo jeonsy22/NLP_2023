{
  "nbformat": 4,
  "nbformat_minor": 0,
  "metadata": {
    "colab": {
      "provenance": [],
      "authorship_tag": "ABX9TyOpP9kn7xw93cre/orZWi26",
      "include_colab_link": true
    },
    "kernelspec": {
      "name": "python3",
      "display_name": "Python 3"
    },
    "language_info": {
      "name": "python"
    }
  },
  "cells": [
    {
      "cell_type": "markdown",
      "metadata": {
        "id": "view-in-github",
        "colab_type": "text"
      },
      "source": [
        "<a href=\"https://colab.research.google.com/github/jeonsy22/NLP_2023/blob/main/youtube_dict2.ipynb\" target=\"_parent\"><img src=\"https://colab.research.google.com/assets/colab-badge.svg\" alt=\"Open In Colab\"/></a>"
      ]
    },
    {
      "cell_type": "code",
      "execution_count": 1,
      "metadata": {
        "id": "FIOguz6snFyw"
      },
      "outputs": [],
      "source": [
        "mydict = {'a': 100, 'b': 200, 'c': 300, 'd': 400, 'e': 500}"
      ]
    },
    {
      "cell_type": "markdown",
      "source": [
        "key 값의 존재 유무 확인"
      ],
      "metadata": {
        "id": "6cUyiy4PnW3V"
      }
    },
    {
      "cell_type": "code",
      "source": [
        "'a' in mydict"
      ],
      "metadata": {
        "colab": {
          "base_uri": "https://localhost:8080/"
        },
        "id": "J_7036qTnVnC",
        "outputId": "3cf83525-e63e-4a17-ebd3-942950ceeb6d"
      },
      "execution_count": 2,
      "outputs": [
        {
          "output_type": "execute_result",
          "data": {
            "text/plain": [
              "True"
            ]
          },
          "metadata": {},
          "execution_count": 2
        }
      ]
    },
    {
      "cell_type": "code",
      "source": [
        "'f' in mydict"
      ],
      "metadata": {
        "colab": {
          "base_uri": "https://localhost:8080/"
        },
        "id": "lLm0ONsLnde1",
        "outputId": "d58da538-881a-4ad9-c8b4-673c438da07e"
      },
      "execution_count": 3,
      "outputs": [
        {
          "output_type": "execute_result",
          "data": {
            "text/plain": [
              "False"
            ]
          },
          "metadata": {},
          "execution_count": 3
        }
      ]
    },
    {
      "cell_type": "markdown",
      "source": [
        "값을 추가하기\n",
        "* 새로운 key에 값을 대입하여 추가"
      ],
      "metadata": {
        "id": "NbL-kR6ang1U"
      }
    },
    {
      "cell_type": "code",
      "source": [
        "mydict = dict()\n",
        "print(mydict)"
      ],
      "metadata": {
        "colab": {
          "base_uri": "https://localhost:8080/"
        },
        "id": "NnlG3EiOnf8V",
        "outputId": "f1b0b26f-a6fd-4053-8e7f-879e33e3bff0"
      },
      "execution_count": 4,
      "outputs": [
        {
          "output_type": "stream",
          "name": "stdout",
          "text": [
            "{}\n"
          ]
        }
      ]
    },
    {
      "cell_type": "code",
      "source": [
        "mydict['apple'] = 1\n",
        "print(mydict['apple'])"
      ],
      "metadata": {
        "colab": {
          "base_uri": "https://localhost:8080/"
        },
        "id": "mfxYIdkwnpMw",
        "outputId": "30479203-1b53-434f-9429-1e4690942f36"
      },
      "execution_count": 6,
      "outputs": [
        {
          "output_type": "stream",
          "name": "stdout",
          "text": [
            "1\n"
          ]
        }
      ]
    },
    {
      "cell_type": "code",
      "source": [
        "print(mydict)"
      ],
      "metadata": {
        "colab": {
          "base_uri": "https://localhost:8080/"
        },
        "id": "yC1Ykxvmn1Oe",
        "outputId": "173e22ff-cbd8-4db8-cde7-d11ba336d0e7"
      },
      "execution_count": 7,
      "outputs": [
        {
          "output_type": "stream",
          "name": "stdout",
          "text": [
            "{'apple': 1}\n"
          ]
        }
      ]
    },
    {
      "cell_type": "code",
      "source": [
        "mydict[0] = 8\n",
        "print(mydict[0])"
      ],
      "metadata": {
        "colab": {
          "base_uri": "https://localhost:8080/"
        },
        "id": "XSyDRM5Kn4qr",
        "outputId": "979f4fcd-0b45-48d4-a683-a2f7e36d65d2"
      },
      "execution_count": 9,
      "outputs": [
        {
          "output_type": "stream",
          "name": "stdout",
          "text": [
            "8\n"
          ]
        }
      ]
    },
    {
      "cell_type": "code",
      "source": [
        "print(mydict)"
      ],
      "metadata": {
        "colab": {
          "base_uri": "https://localhost:8080/"
        },
        "id": "qT0cmdkvn9WT",
        "outputId": "7e2e98b8-1e22-415b-e6fd-da67aa06427e"
      },
      "execution_count": 10,
      "outputs": [
        {
          "output_type": "stream",
          "name": "stdout",
          "text": [
            "{'apple': 1, 0: 8}\n"
          ]
        }
      ]
    },
    {
      "cell_type": "markdown",
      "source": [
        "update(): 다중 업데이트\n",
        "* 값을 한번에 업데이트"
      ],
      "metadata": {
        "id": "izpxDcxDoCv_"
      }
    },
    {
      "cell_type": "code",
      "source": [
        "mydict = {'파인애플': 2000, '망고': 3000, '체리': 1500, '사과': 1000}\n",
        "print(mydict)"
      ],
      "metadata": {
        "colab": {
          "base_uri": "https://localhost:8080/"
        },
        "id": "VDmgF1n5oBXC",
        "outputId": "38124ab2-5d07-41d0-faa7-9922c825784b"
      },
      "execution_count": 11,
      "outputs": [
        {
          "output_type": "stream",
          "name": "stdout",
          "text": [
            "{'파인애플': 2000, '망고': 3000, '체리': 1500, '사과': 1000}\n"
          ]
        }
      ]
    },
    {
      "cell_type": "code",
      "source": [
        "fruit = {\n",
        "    '딸기': 1300,\n",
        "    '귤': 1800,\n",
        "    '감': 1200\n",
        "}"
      ],
      "metadata": {
        "id": "Nc17LXsOob0l"
      },
      "execution_count": 15,
      "outputs": []
    },
    {
      "cell_type": "code",
      "source": [
        "mydict.update(fruit)\n",
        "print(mydict)"
      ],
      "metadata": {
        "colab": {
          "base_uri": "https://localhost:8080/"
        },
        "id": "9MoTEvyvrA6b",
        "outputId": "ecdf5f61-2b90-4762-acea-c3e5f60262f7"
      },
      "execution_count": 16,
      "outputs": [
        {
          "output_type": "stream",
          "name": "stdout",
          "text": [
            "{'파인애플': 2000, '망고': 3000, '체리': 1500, '사과': 1000, '딸기': 1300, '귤': 1800, '감': 1200}\n"
          ]
        }
      ]
    },
    {
      "cell_type": "markdown",
      "source": [
        "값 변경\n",
        "* key 값에 새로운 값(value)를 대입하여 값 변경 가능"
      ],
      "metadata": {
        "id": "YUmGaXYEriEf"
      }
    },
    {
      "cell_type": "code",
      "source": [
        "mydict = {'j': 3, 's': 8, 'y': 18}\n",
        "print(mydict)"
      ],
      "metadata": {
        "colab": {
          "base_uri": "https://localhost:8080/"
        },
        "id": "CHiJ7We5rcfs",
        "outputId": "b62aaad9-0daf-444e-9481-542ba19ac869"
      },
      "execution_count": 21,
      "outputs": [
        {
          "output_type": "stream",
          "name": "stdout",
          "text": [
            "{'j': 3, 's': 8, 'y': 18}\n"
          ]
        }
      ]
    },
    {
      "cell_type": "code",
      "source": [
        "mydict['j'] = 2003"
      ],
      "metadata": {
        "id": "YK6jRXGlr6Iv"
      },
      "execution_count": 22,
      "outputs": []
    },
    {
      "cell_type": "code",
      "source": [
        "print(mydict)"
      ],
      "metadata": {
        "colab": {
          "base_uri": "https://localhost:8080/"
        },
        "id": "aFGDs9eBsXtX",
        "outputId": "8ab3979c-be8a-4569-a51f-6ed08736b7c0"
      },
      "execution_count": 23,
      "outputs": [
        {
          "output_type": "stream",
          "name": "stdout",
          "text": [
            "{'j': 2003, 's': 8, 'y': 18}\n"
          ]
        }
      ]
    },
    {
      "cell_type": "markdown",
      "source": [
        "제거하기 / key 제거"
      ],
      "metadata": {
        "id": "jxc5b6chspRT"
      }
    },
    {
      "cell_type": "code",
      "source": [
        "mydict = {'a': 100, 'b': 200, 'c': 300, 'd': 400, 'e': 500}\n",
        "print(mydict)"
      ],
      "metadata": {
        "colab": {
          "base_uri": "https://localhost:8080/"
        },
        "id": "PPnBoxX0sZDc",
        "outputId": "c9fd27bd-9f8a-4de7-cf04-d52ca54e12f3"
      },
      "execution_count": 25,
      "outputs": [
        {
          "output_type": "stream",
          "name": "stdout",
          "text": [
            "{'a': 100, 'b': 200, 'c': 300, 'd': 400, 'e': 500}\n"
          ]
        }
      ]
    },
    {
      "cell_type": "code",
      "source": [
        "del mydict['a']"
      ],
      "metadata": {
        "id": "rwjov_6Rs1T0"
      },
      "execution_count": 26,
      "outputs": []
    },
    {
      "cell_type": "code",
      "source": [
        "print(mydict)"
      ],
      "metadata": {
        "colab": {
          "base_uri": "https://localhost:8080/"
        },
        "id": "tTi0lIr1tIAF",
        "outputId": "90087442-0b35-4683-9876-02dfebfa9df8"
      },
      "execution_count": 27,
      "outputs": [
        {
          "output_type": "stream",
          "name": "stdout",
          "text": [
            "{'b': 200, 'c': 300, 'd': 400, 'e': 500}\n"
          ]
        }
      ]
    },
    {
      "cell_type": "code",
      "source": [
        "mydict.pop('b')"
      ],
      "metadata": {
        "colab": {
          "base_uri": "https://localhost:8080/"
        },
        "id": "mxRuZkkytJhs",
        "outputId": "fe8ee55e-70ee-4809-8456-cc36b329a70a"
      },
      "execution_count": 28,
      "outputs": [
        {
          "output_type": "execute_result",
          "data": {
            "text/plain": [
              "200"
            ]
          },
          "metadata": {},
          "execution_count": 28
        }
      ]
    },
    {
      "cell_type": "code",
      "source": [
        "print(mydict)"
      ],
      "metadata": {
        "colab": {
          "base_uri": "https://localhost:8080/"
        },
        "id": "JTpZEuBFtOEy",
        "outputId": "c5887ab4-7dcb-4878-f636-395d3cd6bada"
      },
      "execution_count": 29,
      "outputs": [
        {
          "output_type": "stream",
          "name": "stdout",
          "text": [
            "{'c': 300, 'd': 400, 'e': 500}\n"
          ]
        }
      ]
    },
    {
      "cell_type": "markdown",
      "source": [
        "len(): 요소의 개수 파악"
      ],
      "metadata": {
        "id": "H9bK3yAotYMk"
      }
    },
    {
      "cell_type": "code",
      "source": [
        "print(mydict)"
      ],
      "metadata": {
        "colab": {
          "base_uri": "https://localhost:8080/"
        },
        "id": "gsL7WzSYtigs",
        "outputId": "dce29c2c-2ecc-4b16-c6e0-283af9cd861a"
      },
      "execution_count": 31,
      "outputs": [
        {
          "output_type": "stream",
          "name": "stdout",
          "text": [
            "{'c': 300, 'd': 400, 'e': 500}\n"
          ]
        }
      ]
    },
    {
      "cell_type": "code",
      "source": [
        "len(mydict)"
      ],
      "metadata": {
        "colab": {
          "base_uri": "https://localhost:8080/"
        },
        "id": "OEpEqv-ttR4P",
        "outputId": "2133ee59-4ea3-4458-f303-043273212427"
      },
      "execution_count": 32,
      "outputs": [
        {
          "output_type": "execute_result",
          "data": {
            "text/plain": [
              "3"
            ]
          },
          "metadata": {},
          "execution_count": 32
        }
      ]
    },
    {
      "cell_type": "markdown",
      "source": [
        "clear() : 전부 삭제"
      ],
      "metadata": {
        "id": "4_DfUjzPteTb"
      }
    },
    {
      "cell_type": "code",
      "source": [
        "mydict = {'a': 100, 'b': 200, 'c': 300, 'd': 400, 'e': 500}\n",
        "print(mydict)"
      ],
      "metadata": {
        "colab": {
          "base_uri": "https://localhost:8080/"
        },
        "id": "WbIxsFNqtdHo",
        "outputId": "df996d50-ef97-4037-a6dd-6e79eec77527"
      },
      "execution_count": 33,
      "outputs": [
        {
          "output_type": "stream",
          "name": "stdout",
          "text": [
            "{'a': 100, 'b': 200, 'c': 300, 'd': 400, 'e': 500}\n"
          ]
        }
      ]
    },
    {
      "cell_type": "code",
      "source": [
        "mydict.clear()"
      ],
      "metadata": {
        "id": "nqvaHji-tnpo"
      },
      "execution_count": 34,
      "outputs": []
    },
    {
      "cell_type": "code",
      "source": [
        "print(mydict)"
      ],
      "metadata": {
        "colab": {
          "base_uri": "https://localhost:8080/"
        },
        "id": "SBdYgqcMtpq5",
        "outputId": "38503a7e-8e80-46d5-f266-b4b3ac544750"
      },
      "execution_count": 35,
      "outputs": [
        {
          "output_type": "stream",
          "name": "stdout",
          "text": [
            "{}\n"
          ]
        }
      ]
    },
    {
      "cell_type": "code",
      "source": [],
      "metadata": {
        "id": "3CBaPmbctrX3"
      },
      "execution_count": null,
      "outputs": []
    }
  ]
}