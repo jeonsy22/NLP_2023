{
  "nbformat": 4,
  "nbformat_minor": 0,
  "metadata": {
    "colab": {
      "provenance": [],
      "authorship_tag": "ABX9TyMLYRvGbrc59tgbRBZ1HL5Q",
      "include_colab_link": true
    },
    "kernelspec": {
      "name": "python3",
      "display_name": "Python 3"
    },
    "language_info": {
      "name": "python"
    }
  },
  "cells": [
    {
      "cell_type": "markdown",
      "metadata": {
        "id": "view-in-github",
        "colab_type": "text"
      },
      "source": [
        "<a href=\"https://colab.research.google.com/github/jeonsy22/NLP_2023/blob/main/map.ipynb\" target=\"_parent\"><img src=\"https://colab.research.google.com/assets/colab-badge.svg\" alt=\"Open In Colab\"/></a>"
      ]
    },
    {
      "cell_type": "markdown",
      "source": [
        "내장함수(built-in function)\n",
        "* 파이썬에는 이미 만들어진 내장함수가 존재한다.\n",
        "* 이미 사용하고 있는 print(), type()이 파이썬의 대표적인 내장함수이다.\n",
        "* 이 밖에도 유용한 몇 가지 내장함수를 알아보자."
      ],
      "metadata": {
        "id": "jsLGx-EXheVQ"
      }
    },
    {
      "cell_type": "markdown",
      "source": [
        "map\n",
        "* 문법: **map(함수 - function, 순회가능한 - iterable)\n",
        "* map은 함수와 순회 가능한 자료형을 입력으로 받는다.\n",
        "* map은 입력받은 자료형의 각 요소를 함수가 수행한 결과를 묶어서 돌려준다."
      ],
      "metadata": {
        "id": "y9VV7ohOh2Of"
      }
    },
    {
      "cell_type": "code",
      "execution_count": 1,
      "metadata": {
        "id": "qnermAbYhXyA"
      },
      "outputs": [],
      "source": [
        "sample_data = [1, 2, 3, 4, 5, 6, 7, 8, 9, 10]"
      ]
    },
    {
      "cell_type": "markdown",
      "source": [
        "map만 실행시 요소의 내용이 바로 출력되지 않는다."
      ],
      "metadata": {
        "id": "9oore76HiQNl"
      }
    },
    {
      "cell_type": "code",
      "source": [
        "map(str, sample_data)"
      ],
      "metadata": {
        "colab": {
          "base_uri": "https://localhost:8080/"
        },
        "id": "KupEuitgiPu9",
        "outputId": "3cce0edc-cc11-44d6-80e7-f642cd1efe0b"
      },
      "execution_count": 2,
      "outputs": [
        {
          "output_type": "execute_result",
          "data": {
            "text/plain": [
              "<map at 0x79e4498462c0>"
            ]
          },
          "metadata": {},
          "execution_count": 2
        }
      ]
    },
    {
      "cell_type": "markdown",
      "source": [
        "list()로 타입 변환하여 요소를 출력한다."
      ],
      "metadata": {
        "id": "Um9Yx-eCihhY"
      }
    },
    {
      "cell_type": "code",
      "source": [
        "list(map(str, sample_data))"
      ],
      "metadata": {
        "colab": {
          "base_uri": "https://localhost:8080/"
        },
        "id": "j_677OVmiXCW",
        "outputId": "e1bbcf48-a12c-4065-8a33-525e46e636e1"
      },
      "execution_count": 3,
      "outputs": [
        {
          "output_type": "execute_result",
          "data": {
            "text/plain": [
              "['1', '2', '3', '4', '5', '6', '7', '8', '9', '10']"
            ]
          },
          "metadata": {},
          "execution_count": 3
        }
      ]
    },
    {
      "cell_type": "markdown",
      "source": [
        "map에 lambda 함수 적용"
      ],
      "metadata": {
        "id": "hMr3vRLRisOz"
      }
    },
    {
      "cell_type": "code",
      "source": [
        "result = map(lambda x: x * 2, sample_data)\n",
        "list(result)"
      ],
      "metadata": {
        "colab": {
          "base_uri": "https://localhost:8080/"
        },
        "id": "F8GsmS8Eiq6I",
        "outputId": "2984857e-92b5-4ebe-91af-d04dcb894ae4"
      },
      "execution_count": 4,
      "outputs": [
        {
          "output_type": "execute_result",
          "data": {
            "text/plain": [
              "[2, 4, 6, 8, 10, 12, 14, 16, 18, 20]"
            ]
          },
          "metadata": {},
          "execution_count": 4
        }
      ]
    },
    {
      "cell_type": "markdown",
      "source": [
        "map에 다중 인수를 지정"
      ],
      "metadata": {
        "id": "nCvupO0ji4H_"
      }
    },
    {
      "cell_type": "code",
      "source": [
        "sample_data = [1, 2, 3, 4, 5, 6, 7, 8, 9, 10]\n",
        "sample_data_2 = [0, 1, 2, 3, 5, 8, 13, 21, 34, 55]\n",
        "list(map(lambda x, y: x + y, sample_data, sample_data_2))"
      ],
      "metadata": {
        "colab": {
          "base_uri": "https://localhost:8080/"
        },
        "id": "DaNo_xVDi2-P",
        "outputId": "e843e3e5-9362-40ee-ee34-2517c9331f34"
      },
      "execution_count": 5,
      "outputs": [
        {
          "output_type": "execute_result",
          "data": {
            "text/plain": [
              "[1, 3, 5, 7, 10, 14, 20, 29, 43, 65]"
            ]
          },
          "metadata": {},
          "execution_count": 5
        }
      ]
    },
    {
      "cell_type": "markdown",
      "source": [
        "list의 size가 다른 경우, 작은 size에 맞춰 생성"
      ],
      "metadata": {
        "id": "3KDo5LcQjYWt"
      }
    },
    {
      "cell_type": "code",
      "source": [
        "sample_data = [1, 2, 3, 4, 5, 6, 7, 8, 9, 10]\n",
        "sample_data_2 = [ 1, 4, 5, 10, 100]"
      ],
      "metadata": {
        "id": "mEHCwKRfjVy2"
      },
      "execution_count": 6,
      "outputs": []
    },
    {
      "cell_type": "code",
      "source": [
        "list(map(lambda x, y: x + y, sample_data, sample_data_2))"
      ],
      "metadata": {
        "colab": {
          "base_uri": "https://localhost:8080/"
        },
        "id": "5_InsN0djocl",
        "outputId": "2def8c50-be02-4f17-f807-b7429d839748"
      },
      "execution_count": 7,
      "outputs": [
        {
          "output_type": "execute_result",
          "data": {
            "text/plain": [
              "[2, 6, 8, 14, 105]"
            ]
          },
          "metadata": {},
          "execution_count": 7
        }
      ]
    }
  ]
}