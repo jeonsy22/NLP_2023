{
  "nbformat": 4,
  "nbformat_minor": 0,
  "metadata": {
    "colab": {
      "provenance": [],
      "authorship_tag": "ABX9TyOOCetvCa8a1thvRRdk6hPO",
      "include_colab_link": true
    },
    "kernelspec": {
      "name": "python3",
      "display_name": "Python 3"
    },
    "language_info": {
      "name": "python"
    }
  },
  "cells": [
    {
      "cell_type": "markdown",
      "metadata": {
        "id": "view-in-github",
        "colab_type": "text"
      },
      "source": [
        "<a href=\"https://colab.research.google.com/github/jeonsy22/NLP_2023/blob/main/%EA%B0%80%EB%B3%80%EB%A7%A4%EA%B0%9C%EB%B3%80%EC%88%98_tuple.ipynb\" target=\"_parent\"><img src=\"https://colab.research.google.com/assets/colab-badge.svg\" alt=\"Open In Colab\"/></a>"
      ]
    },
    {
      "cell_type": "markdown",
      "source": [
        "tuple 인수\n",
        "* 여러 개의 인수를 전달 받을 수 있다.\n",
        "* 여러 개의 인수를 전달 받은 *args에는 튜플 형식으로 데이터가 저장된다.\n",
        "* *args로 받은 인수는 반복문으로 처리하는 것이 일반적이다.\n",
        "* 대체적으로 *args 변수가 많이 사용된다."
      ],
      "metadata": {
        "id": "EeRuVWkG1kqh"
      }
    },
    {
      "cell_type": "code",
      "execution_count": 1,
      "metadata": {
        "id": "1YUBkUCF1enm"
      },
      "outputs": [],
      "source": [
        "def add_function(*args):\n",
        "  result = 0\n",
        "  print(f'args의 타입: {type(args)}')\n",
        "  for arg in args:\n",
        "    print(arg)\n",
        "    result += arg\n",
        "  print('==='* 5)\n",
        "  print(f'sum: {result}')"
      ]
    },
    {
      "cell_type": "code",
      "source": [
        "#@markdown 아무런 값을 전달하지 않은 경우(생랽 가능)\n",
        "add_function()"
      ],
      "metadata": {
        "colab": {
          "base_uri": "https://localhost:8080/"
        },
        "id": "OOC48Wvv229O",
        "outputId": "d2abbe3b-2129-490b-ec6b-0e6fa5da0af3"
      },
      "execution_count": 3,
      "outputs": [
        {
          "output_type": "stream",
          "name": "stdout",
          "text": [
            "args의 타입: <class 'tuple'>\n",
            "===============\n",
            "sum: 0\n"
          ]
        }
      ]
    },
    {
      "cell_type": "code",
      "source": [
        "#@markdown 1개의 값을 전달한 경우\n",
        "add_function(1)"
      ],
      "metadata": {
        "colab": {
          "base_uri": "https://localhost:8080/"
        },
        "id": "YcZpzgdE3A7R",
        "outputId": "1240116f-3db7-4a94-d525-931895a4f535"
      },
      "execution_count": 5,
      "outputs": [
        {
          "output_type": "stream",
          "name": "stdout",
          "text": [
            "args의 타입: <class 'tuple'>\n",
            "1\n",
            "===============\n",
            "sum: 1\n"
          ]
        }
      ]
    },
    {
      "cell_type": "code",
      "source": [
        "add_function(8)"
      ],
      "metadata": {
        "colab": {
          "base_uri": "https://localhost:8080/"
        },
        "id": "-PVSIU795CRP",
        "outputId": "81d1167b-a6d6-4ed1-ae56-c9a5d7e1d082"
      },
      "execution_count": 14,
      "outputs": [
        {
          "output_type": "stream",
          "name": "stdout",
          "text": [
            "a: 8\n",
            "===============\n",
            "===============\n",
            "sum: 0\n"
          ]
        }
      ]
    },
    {
      "cell_type": "code",
      "source": [
        "#@markdown 복수의 값을 전달한 경우\n",
        "add_function(1, 2, 3, 4, 5)"
      ],
      "metadata": {
        "colab": {
          "base_uri": "https://localhost:8080/"
        },
        "id": "eUAIxdbU3EJX",
        "outputId": "4092788f-ee88-4e6a-bb56-bcc491726b27"
      },
      "execution_count": 6,
      "outputs": [
        {
          "output_type": "stream",
          "name": "stdout",
          "text": [
            "args의 타입: <class 'tuple'>\n",
            "1\n",
            "2\n",
            "3\n",
            "4\n",
            "5\n",
            "===============\n",
            "sum: 15\n"
          ]
        }
      ]
    },
    {
      "cell_type": "code",
      "source": [
        "#@markdown 복수의 값을 전달한 경우\n",
        "add_function(5, 33, 74, 146)"
      ],
      "metadata": {
        "colab": {
          "base_uri": "https://localhost:8080/"
        },
        "id": "FdB-cwgI48Ux",
        "outputId": "3ff8e950-4b3e-481e-8baa-0e1591dc41cc"
      },
      "execution_count": 13,
      "outputs": [
        {
          "output_type": "stream",
          "name": "stdout",
          "text": [
            "a: 5\n",
            "===============\n",
            "33\n",
            "74\n",
            "146\n",
            "===============\n",
            "sum: 253\n"
          ]
        }
      ]
    },
    {
      "cell_type": "markdown",
      "source": [
        "위피 매개변수와 *tuple 매개변수의 혼용\n",
        "* *tuple 매개변수는 위치 매개변수의 뒤에 위치해야 한다."
      ],
      "metadata": {
        "id": "vqguYfg23W14"
      }
    },
    {
      "cell_type": "code",
      "source": [
        "def add_function(a, *args):\n",
        "  print(f'a: {a}')\n",
        "  print('==='* 5)\n",
        "  result = 0\n",
        "  for arg in args:\n",
        "    print(arg)\n",
        "    result += arg\n",
        "  print('==='* 5)\n",
        "  print(f'sum: {result}')"
      ],
      "metadata": {
        "id": "Ar_2R6XA3TQd"
      },
      "execution_count": 7,
      "outputs": []
    },
    {
      "cell_type": "markdown",
      "source": [
        "아무런 값을 지정하지 않은 경우\n",
        "* 위치 매개변수 미지정으로 인한 Error 발생"
      ],
      "metadata": {
        "id": "4pMKVZxG4eLO"
      }
    },
    {
      "cell_type": "code",
      "source": [
        "add_function()"
      ],
      "metadata": {
        "colab": {
          "base_uri": "https://localhost:8080/",
          "height": 181
        },
        "id": "6rWnk_IS4jjw",
        "outputId": "b95938ea-b1a4-4706-e01f-e943876d06d5"
      },
      "execution_count": 8,
      "outputs": [
        {
          "output_type": "error",
          "ename": "TypeError",
          "evalue": "ignored",
          "traceback": [
            "\u001b[0;31m---------------------------------------------------------------------------\u001b[0m",
            "\u001b[0;31mTypeError\u001b[0m                                 Traceback (most recent call last)",
            "\u001b[0;32m<ipython-input-8-1553848aed78>\u001b[0m in \u001b[0;36m<cell line: 1>\u001b[0;34m()\u001b[0m\n\u001b[0;32m----> 1\u001b[0;31m \u001b[0madd_function\u001b[0m\u001b[0;34m(\u001b[0m\u001b[0;34m)\u001b[0m\u001b[0;34m\u001b[0m\u001b[0;34m\u001b[0m\u001b[0m\n\u001b[0m",
            "\u001b[0;31mTypeError\u001b[0m: add_function() missing 1 required positional argument: 'a'"
          ]
        }
      ]
    },
    {
      "cell_type": "code",
      "source": [
        "#@markdown 단일 값을 지정한 경우\n",
        "add_function(1)"
      ],
      "metadata": {
        "colab": {
          "base_uri": "https://localhost:8080/"
        },
        "id": "2owV2jkn4Y2j",
        "outputId": "57a530fb-3dd7-432d-f997-ba51d89eca9d"
      },
      "execution_count": 9,
      "outputs": [
        {
          "output_type": "stream",
          "name": "stdout",
          "text": [
            "a: 1\n",
            "===============\n",
            "===============\n",
            "sum: 0\n"
          ]
        }
      ]
    },
    {
      "cell_type": "code",
      "source": [
        "add_function(3)"
      ],
      "metadata": {
        "colab": {
          "base_uri": "https://localhost:8080/"
        },
        "id": "5guRc80P4r9D",
        "outputId": "83fce280-7c9f-483e-e66a-239ccf38be90"
      },
      "execution_count": 10,
      "outputs": [
        {
          "output_type": "stream",
          "name": "stdout",
          "text": [
            "a: 3\n",
            "===============\n",
            "===============\n",
            "sum: 0\n"
          ]
        }
      ]
    },
    {
      "cell_type": "code",
      "source": [
        "#@markdown 복수값을 지정한 경우\n",
        "add_function(1, 2, 3, 4, 5)"
      ],
      "metadata": {
        "colab": {
          "base_uri": "https://localhost:8080/"
        },
        "id": "ydHsAela4t79",
        "outputId": "3a36ce95-1cef-4658-bfcc-c45cb7245d02"
      },
      "execution_count": 11,
      "outputs": [
        {
          "output_type": "stream",
          "name": "stdout",
          "text": [
            "a: 1\n",
            "===============\n",
            "2\n",
            "3\n",
            "4\n",
            "5\n",
            "===============\n",
            "sum: 14\n"
          ]
        }
      ]
    },
    {
      "cell_type": "code",
      "source": [
        "add_function(3, 5, 7, 65, 88)"
      ],
      "metadata": {
        "colab": {
          "base_uri": "https://localhost:8080/"
        },
        "id": "sAxG1s7H41AS",
        "outputId": "f2eebe57-60d4-40ea-e2a9-3e5fe518b0ce"
      },
      "execution_count": 12,
      "outputs": [
        {
          "output_type": "stream",
          "name": "stdout",
          "text": [
            "a: 3\n",
            "===============\n",
            "5\n",
            "7\n",
            "65\n",
            "88\n",
            "===============\n",
            "sum: 165\n"
          ]
        }
      ]
    }
  ]
}