{
  "nbformat": 4,
  "nbformat_minor": 0,
  "metadata": {
    "colab": {
      "provenance": [],
      "authorship_tag": "ABX9TyOS037/2rPA3N1VAXcmGhcC",
      "include_colab_link": true
    },
    "kernelspec": {
      "name": "python3",
      "display_name": "Python 3"
    },
    "language_info": {
      "name": "python"
    }
  },
  "cells": [
    {
      "cell_type": "markdown",
      "metadata": {
        "id": "view-in-github",
        "colab_type": "text"
      },
      "source": [
        "<a href=\"https://colab.research.google.com/github/jeonsy22/NLP_2023/blob/main/pandas_%EA%B8%B0%EB%B3%B8.ipynb\" target=\"_parent\"><img src=\"https://colab.research.google.com/assets/colab-badge.svg\" alt=\"Open In Colab\"/></a>"
      ]
    },
    {
      "cell_type": "markdown",
      "source": [
        "#Pandas - 기본개념"
      ],
      "metadata": {
        "id": "xushMzDya6im"
      }
    },
    {
      "cell_type": "markdown",
      "source": [
        "pandas란?\n",
        "* 데이터를 분석할 때 가장 많이 쓰이는 라이브러리이다.\n",
        "* 행과 열을 쉽게 처리할 수 있는 함수를 제공하는 도구이다.\n",
        "* numpy보다 유연하게 수치 연산이 가능하다."
      ],
      "metadata": {
        "id": "4sGElFhxa_TL"
      }
    },
    {
      "cell_type": "markdown",
      "source": [
        "Series란?\n",
        "* index와 values로 이루어진 1차원 배열\n",
        "* 모든 유형의 데이터를 보유할 수 있다.\n",
        "* 인덱스를 지정해 줄 수 있다.\n",
        "* 인덱스의 길이와 데이터의 길이는 같다.\n",
        "* [명시적 인덱스]와 [암묵적인 덱스]가 있다.\n",
        "* loc: 인덱스값을 기반으로 행 데이터를 읽는다.\n",
        "* iloc: 정수 인덱스를 기반으로 행 데이터를 읽는다."
      ],
      "metadata": {
        "id": "Wm0UngHvbPTc"
      }
    },
    {
      "cell_type": "code",
      "execution_count": null,
      "metadata": {
        "colab": {
          "base_uri": "https://localhost:8080/"
        },
        "id": "75s4IssCa5AZ",
        "outputId": "54e4cb36-8108-4c23-c1bf-d846874c87e1"
      },
      "outputs": [
        {
          "output_type": "execute_result",
          "data": {
            "text/plain": [
              "array([ 0, 10, 20, 30, 40])"
            ]
          },
          "metadata": {},
          "execution_count": 1
        }
      ],
      "source": [
        "import numpy as np\n",
        "import pandas as pd\n",
        "ex01 = np.arange(0, 50, 10)\n",
        "ex01"
      ]
    },
    {
      "cell_type": "code",
      "source": [
        "ex02 = pd.Series(ex01, index = ['a', 'b', 'c', 'd', 'e'])\n",
        "print(ex02)"
      ],
      "metadata": {
        "colab": {
          "base_uri": "https://localhost:8080/"
        },
        "id": "nFbc8PK4cX0l",
        "outputId": "2d0ac3ab-7662-415f-cb8b-8e6c158affe0"
      },
      "execution_count": null,
      "outputs": [
        {
          "output_type": "stream",
          "name": "stdout",
          "text": [
            "a     0\n",
            "b    10\n",
            "c    20\n",
            "d    30\n",
            "e    40\n",
            "dtype: int64\n"
          ]
        }
      ]
    },
    {
      "cell_type": "code",
      "source": [
        "ex02['c']"
      ],
      "metadata": {
        "colab": {
          "base_uri": "https://localhost:8080/"
        },
        "id": "7eYEPr-DcjWR",
        "outputId": "bdc55c7d-f62e-4b17-e0c7-58ddf5daf672"
      },
      "execution_count": null,
      "outputs": [
        {
          "output_type": "execute_result",
          "data": {
            "text/plain": [
              "20"
            ]
          },
          "metadata": {},
          "execution_count": 5
        }
      ]
    },
    {
      "cell_type": "code",
      "source": [
        "ex02.loc['d']"
      ],
      "metadata": {
        "colab": {
          "base_uri": "https://localhost:8080/"
        },
        "id": "6EFk1D7TczUp",
        "outputId": "15aa4091-0a13-4f6c-e038-c78f05bbb37b"
      },
      "execution_count": null,
      "outputs": [
        {
          "output_type": "execute_result",
          "data": {
            "text/plain": [
              "30"
            ]
          },
          "metadata": {},
          "execution_count": 6
        }
      ]
    },
    {
      "cell_type": "code",
      "source": [
        "ex02.iloc[2]"
      ],
      "metadata": {
        "colab": {
          "base_uri": "https://localhost:8080/"
        },
        "id": "HinVzUsnc3j1",
        "outputId": "c2285963-7ae3-41cc-feb6-dc13cc82be5f"
      },
      "execution_count": null,
      "outputs": [
        {
          "output_type": "execute_result",
          "data": {
            "text/plain": [
              "20"
            ]
          },
          "metadata": {},
          "execution_count": 7
        }
      ]
    },
    {
      "cell_type": "code",
      "source": [
        "import pandas as pd\n",
        "\n",
        "df01 = pd.DataFrame({'학번': [20121, 20111, 20312, 20513, 20114],\n",
        "                     '이름': ['이학생', '권학생', '최학생', '김학생', '박학생'],\n",
        "                     '국어': [80, 91, 92, 95, 84],\n",
        "                     '영어': [90, 91, 92, 93, 94]},\n",
        "                     index = [0, 1, 2, 3, 4])\n",
        "\n",
        "df01"
      ],
      "metadata": {
        "id": "_saWWz8Mc-Id"
      },
      "execution_count": null,
      "outputs": []
    }
  ]
}