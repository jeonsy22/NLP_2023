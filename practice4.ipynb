{
  "nbformat": 4,
  "nbformat_minor": 0,
  "metadata": {
    "colab": {
      "provenance": [],
      "authorship_tag": "ABX9TyMRkDyqM0Ii9JTbAhe8EfUV",
      "include_colab_link": true
    },
    "kernelspec": {
      "name": "python3",
      "display_name": "Python 3"
    },
    "language_info": {
      "name": "python"
    }
  },
  "cells": [
    {
      "cell_type": "markdown",
      "metadata": {
        "id": "view-in-github",
        "colab_type": "text"
      },
      "source": [
        "<a href=\"https://colab.research.google.com/github/jeonsy22/NLP_2023/blob/main/practice4.ipynb\" target=\"_parent\"><img src=\"https://colab.research.google.com/assets/colab-badge.svg\" alt=\"Open In Colab\"/></a>"
      ]
    },
    {
      "cell_type": "code",
      "execution_count": 8,
      "metadata": {
        "id": "uZE78Tg47tAY"
      },
      "outputs": [],
      "source": [
        "mylist = [1, 4, 6, 3, 7, 8]"
      ]
    },
    {
      "cell_type": "code",
      "source": [
        "print(mylist)"
      ],
      "metadata": {
        "colab": {
          "base_uri": "https://localhost:8080/"
        },
        "id": "HentHF1LAbzK",
        "outputId": "a800fede-39b8-40f6-f920-a9bac5b0cec3"
      },
      "execution_count": 9,
      "outputs": [
        {
          "output_type": "stream",
          "name": "stdout",
          "text": [
            "[1, 4, 6, 3, 7, 8]\n"
          ]
        }
      ]
    },
    {
      "cell_type": "markdown",
      "source": [
        "reverse(): 역정렬"
      ],
      "metadata": {
        "id": "DSkOuTWBAh7j"
      }
    },
    {
      "cell_type": "code",
      "source": [
        "mylist.reverse()"
      ],
      "metadata": {
        "id": "CObaBd9gAdWx"
      },
      "execution_count": 11,
      "outputs": []
    },
    {
      "cell_type": "code",
      "source": [
        "mylist"
      ],
      "metadata": {
        "colab": {
          "base_uri": "https://localhost:8080/"
        },
        "id": "oLtmJtguAmEh",
        "outputId": "b4858d76-3a60-49fd-b011-a5f7b0ced546"
      },
      "execution_count": 13,
      "outputs": [
        {
          "output_type": "execute_result",
          "data": {
            "text/plain": [
              "[8, 7, 3, 6, 4, 1]"
            ]
          },
          "metadata": {},
          "execution_count": 13
        }
      ]
    },
    {
      "cell_type": "markdown",
      "source": [
        "len(): 전체 항목의 개수세기"
      ],
      "metadata": {
        "id": "pjzwklqNA_r0"
      }
    },
    {
      "cell_type": "code",
      "source": [
        "mylist = [1, 2, 3, 4, 5, 6, 7]\n",
        "len(mylist)"
      ],
      "metadata": {
        "colab": {
          "base_uri": "https://localhost:8080/"
        },
        "id": "1J2pWbM4BDmc",
        "outputId": "17080332-b132-4024-d9c3-789a4df9516c"
      },
      "execution_count": 23,
      "outputs": [
        {
          "output_type": "execute_result",
          "data": {
            "text/plain": [
              "7"
            ]
          },
          "metadata": {},
          "execution_count": 23
        }
      ]
    },
    {
      "cell_type": "markdown",
      "source": [
        "insert(): 값 추가"
      ],
      "metadata": {
        "id": "57teVY18Be3e"
      }
    },
    {
      "cell_type": "code",
      "source": [
        "#@markdown 지정한 index에 값 추가\n",
        "mylist.insert(1, 100)"
      ],
      "metadata": {
        "id": "MlpTrcOBBiL9"
      },
      "execution_count": 24,
      "outputs": []
    },
    {
      "cell_type": "code",
      "source": [
        "print(mylist)"
      ],
      "metadata": {
        "colab": {
          "base_uri": "https://localhost:8080/"
        },
        "id": "bdrbrSo_B_Go",
        "outputId": "4116afd7-9bde-41fc-b738-57a9f7a338a0"
      },
      "execution_count": 25,
      "outputs": [
        {
          "output_type": "stream",
          "name": "stdout",
          "text": [
            "[1, 100, 2, 3, 4, 5, 6, 7]\n"
          ]
        }
      ]
    },
    {
      "cell_type": "markdown",
      "source": [
        "remove(): 값 제거"
      ],
      "metadata": {
        "id": "mq9rCyctCLU3"
      }
    },
    {
      "cell_type": "code",
      "source": [
        "#@markdown 리스트에서 첫 번째 나오는 해당 값 삭제\n",
        "mylist = [1, 2, 3, 4, 5, 6, 6, 6]"
      ],
      "metadata": {
        "id": "zwz-pNMdCFeM"
      },
      "execution_count": 26,
      "outputs": []
    },
    {
      "cell_type": "code",
      "source": [
        "mylist.remove(6)"
      ],
      "metadata": {
        "id": "nWzxgpIqCY7x"
      },
      "execution_count": 29,
      "outputs": []
    },
    {
      "cell_type": "code",
      "source": [
        "print(mylist)"
      ],
      "metadata": {
        "colab": {
          "base_uri": "https://localhost:8080/"
        },
        "id": "OkVIkBLECcE0",
        "outputId": "3fd8e77a-4124-4371-cbd8-2e5c547dae43"
      },
      "execution_count": 30,
      "outputs": [
        {
          "output_type": "stream",
          "name": "stdout",
          "text": [
            "[1, 2, 3, 4, 5, 6, 6]\n"
          ]
        }
      ]
    },
    {
      "cell_type": "markdown",
      "source": [
        "pop(): 요소 꺼내기"
      ],
      "metadata": {
        "id": "eMiyY2ydCwS3"
      }
    },
    {
      "cell_type": "code",
      "source": [
        "#@markdown x번째 요소를 돌려주고 해당 요소는 삭제\n",
        "mylist = [1, 2, 3, 4, 5, 6, 6, 6]"
      ],
      "metadata": {
        "id": "84yXsDlcClp8"
      },
      "execution_count": 31,
      "outputs": []
    },
    {
      "cell_type": "code",
      "source": [
        "print(mylist)"
      ],
      "metadata": {
        "colab": {
          "base_uri": "https://localhost:8080/"
        },
        "id": "iR9HEN8MDvvv",
        "outputId": "35861492-2bb2-4a18-fb43-b194e9d74fe4"
      },
      "execution_count": 32,
      "outputs": [
        {
          "output_type": "stream",
          "name": "stdout",
          "text": [
            "[1, 2, 3, 4, 5, 6, 6, 6]\n"
          ]
        }
      ]
    },
    {
      "cell_type": "code",
      "source": [
        "mylist.pop(4)"
      ],
      "metadata": {
        "colab": {
          "base_uri": "https://localhost:8080/"
        },
        "id": "9cy6ehbGDxF6",
        "outputId": "5b0b1a1c-55bb-43f9-a209-f3a58cefaa49"
      },
      "execution_count": 33,
      "outputs": [
        {
          "output_type": "execute_result",
          "data": {
            "text/plain": [
              "5"
            ]
          },
          "metadata": {},
          "execution_count": 33
        }
      ]
    },
    {
      "cell_type": "code",
      "source": [
        "print(mylist)"
      ],
      "metadata": {
        "colab": {
          "base_uri": "https://localhost:8080/"
        },
        "id": "Il9ftFmID9pA",
        "outputId": "13d5aa41-b2f1-406e-90a6-d5a1784b53b3"
      },
      "execution_count": 34,
      "outputs": [
        {
          "output_type": "stream",
          "name": "stdout",
          "text": [
            "[1, 2, 3, 4, 6, 6, 6]\n"
          ]
        }
      ]
    },
    {
      "cell_type": "markdown",
      "source": [
        "del: 요소 삭제"
      ],
      "metadata": {
        "id": "1jP2WhtUEH8R"
      }
    },
    {
      "cell_type": "code",
      "source": [
        "mylist = [100, 200, 300, 400, 500]\n",
        "\n",
        "del mylist[2]\n",
        "print(mylist)\n",
        "\n",
        "del mylist[3]\n",
        "print(mylist)"
      ],
      "metadata": {
        "colab": {
          "base_uri": "https://localhost:8080/"
        },
        "id": "7w_s8Z7SEAul",
        "outputId": "81a675de-336d-4cfa-c590-e63b47b2569b"
      },
      "execution_count": 35,
      "outputs": [
        {
          "output_type": "stream",
          "name": "stdout",
          "text": [
            "[100, 200, 400, 500]\n",
            "[100, 200, 400]\n"
          ]
        }
      ]
    },
    {
      "cell_type": "markdown",
      "source": [
        "count(): 갯수 세기"
      ],
      "metadata": {
        "id": "T3LUYJ8PEnqp"
      }
    },
    {
      "cell_type": "code",
      "source": [
        "a = [1, 1, 1, 2, 3, 3, 4, 4, 4, 4]"
      ],
      "metadata": {
        "id": "5bh_mWQ4Ej6n"
      },
      "execution_count": 36,
      "outputs": []
    },
    {
      "cell_type": "code",
      "source": [
        "a.count(1)"
      ],
      "metadata": {
        "colab": {
          "base_uri": "https://localhost:8080/"
        },
        "id": "QtFOauwOE07F",
        "outputId": "09cb35e3-fa5f-4c89-c2b2-add6b15f36d7"
      },
      "execution_count": 37,
      "outputs": [
        {
          "output_type": "execute_result",
          "data": {
            "text/plain": [
              "3"
            ]
          },
          "metadata": {},
          "execution_count": 37
        }
      ]
    },
    {
      "cell_type": "code",
      "source": [
        "a.count(3)"
      ],
      "metadata": {
        "colab": {
          "base_uri": "https://localhost:8080/"
        },
        "id": "mwuXTDRfE2zD",
        "outputId": "62f8aecb-8e38-4c00-cae9-7416fdf43113"
      },
      "execution_count": 38,
      "outputs": [
        {
          "output_type": "execute_result",
          "data": {
            "text/plain": [
              "2"
            ]
          },
          "metadata": {},
          "execution_count": 38
        }
      ]
    },
    {
      "cell_type": "code",
      "source": [
        "a.count(4)"
      ],
      "metadata": {
        "colab": {
          "base_uri": "https://localhost:8080/"
        },
        "id": "F71RzdebE599",
        "outputId": "61f0c94a-8a02-4f68-fc30-a0058bfce494"
      },
      "execution_count": 39,
      "outputs": [
        {
          "output_type": "execute_result",
          "data": {
            "text/plain": [
              "4"
            ]
          },
          "metadata": {},
          "execution_count": 39
        }
      ]
    },
    {
      "cell_type": "markdown",
      "source": [
        "extend(): 리스트 확장"
      ],
      "metadata": {
        "id": "MctdIYovFBMe"
      }
    },
    {
      "cell_type": "code",
      "source": [
        "b = [1, 2, 3, 4, 5]"
      ],
      "metadata": {
        "id": "iTGYU0FxE7-t"
      },
      "execution_count": 40,
      "outputs": []
    },
    {
      "cell_type": "code",
      "source": [
        "b.extend([6, 7, 8])"
      ],
      "metadata": {
        "id": "DAmYhuPbFI90"
      },
      "execution_count": 41,
      "outputs": []
    },
    {
      "cell_type": "code",
      "source": [
        "print(b)"
      ],
      "metadata": {
        "colab": {
          "base_uri": "https://localhost:8080/"
        },
        "id": "HfXwNkszFN1L",
        "outputId": "28463e2b-adb8-4a4c-9dc7-97697911d614"
      },
      "execution_count": 42,
      "outputs": [
        {
          "output_type": "stream",
          "name": "stdout",
          "text": [
            "[1, 2, 3, 4, 5, 6, 7, 8]\n"
          ]
        }
      ]
    },
    {
      "cell_type": "code",
      "source": [
        "#@markdown + 연산자는 extend와 동일한 기능을 수행한다.\n",
        "a = [1, 2, 3, 4, 5]\n",
        "a + [6, 7, 8]"
      ],
      "metadata": {
        "colab": {
          "base_uri": "https://localhost:8080/"
        },
        "id": "utu_UnIZFO50",
        "outputId": "f2c53fe1-2d62-494a-dc64-8d20ce283b49"
      },
      "execution_count": 43,
      "outputs": [
        {
          "output_type": "execute_result",
          "data": {
            "text/plain": [
              "[1, 2, 3, 4, 5, 6, 7, 8]"
            ]
          },
          "metadata": {},
          "execution_count": 43
        }
      ]
    }
  ]
}