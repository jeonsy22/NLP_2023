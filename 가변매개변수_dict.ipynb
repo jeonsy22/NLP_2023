{
  "nbformat": 4,
  "nbformat_minor": 0,
  "metadata": {
    "colab": {
      "provenance": [],
      "authorship_tag": "ABX9TyNgJeh2W5enCEjN3ZV4yR1u",
      "include_colab_link": true
    },
    "kernelspec": {
      "name": "python3",
      "display_name": "Python 3"
    },
    "language_info": {
      "name": "python"
    }
  },
  "cells": [
    {
      "cell_type": "markdown",
      "metadata": {
        "id": "view-in-github",
        "colab_type": "text"
      },
      "source": [
        "<a href=\"https://colab.research.google.com/github/jeonsy22/NLP_2023/blob/main/%EA%B0%80%EB%B3%80%EB%A7%A4%EA%B0%9C%EB%B3%80%EC%88%98_dict.ipynb\" target=\"_parent\"><img src=\"https://colab.research.google.com/assets/colab-badge.svg\" alt=\"Open In Colab\"/></a>"
      ]
    },
    {
      "cell_type": "markdown",
      "source": [
        "*dict 인수\n",
        "* 여러 개의 인수를 전달 받을 수 있다.\n",
        "* 여러 개의 인수를 전달 받은 **kwargs에는 딕셔너리 형식으로 데이터가 저장된다.\n",
        "* **kwargs로 받은 인수 역시 반복문으로 처리하는 것이 일반적이다.\n",
        "* 대체적으로 **kwargs 변수가 많이 사용된다."
      ],
      "metadata": {
        "id": "H9a5VlB4tada"
      }
    },
    {
      "cell_type": "code",
      "execution_count": 8,
      "metadata": {
        "id": "yUJQjqGrtNBu"
      },
      "outputs": [],
      "source": [
        "def add_function(**kwargs):\n",
        "  total_age = 0\n",
        "  for name, age in kwargs. items():\n",
        "    print(f'이름: {name}, 나이: {age}')\n",
        "    total_age += age\n",
        "  print('==='* 5)\n",
        "  print(f'전체 나이의 합계: {total_age}')"
      ]
    },
    {
      "cell_type": "code",
      "source": [
        "#@markdown 아무런 값을 지정하지 않은 경우\n",
        "add_function()"
      ],
      "metadata": {
        "colab": {
          "base_uri": "https://localhost:8080/"
        },
        "id": "KV_cn9C4ufDU",
        "outputId": "705bfe4c-48a7-472b-c6fc-73e9f7915d88"
      },
      "execution_count": 9,
      "outputs": [
        {
          "output_type": "stream",
          "name": "stdout",
          "text": [
            "===============\n",
            "전체 나이의 합계: 0\n"
          ]
        }
      ]
    },
    {
      "cell_type": "code",
      "source": [
        "#@markdown 단일 값을 지정한 경우\n",
        "add_function(jeon=2)"
      ],
      "metadata": {
        "colab": {
          "base_uri": "https://localhost:8080/"
        },
        "id": "EeVaoDzcukfH",
        "outputId": "944b37a7-2127-4061-a323-13d28511495f"
      },
      "execution_count": 10,
      "outputs": [
        {
          "output_type": "stream",
          "name": "stdout",
          "text": [
            "이름: jeon, 나이: 2\n",
            "===============\n",
            "전체 나이의 합계: 2\n"
          ]
        }
      ]
    },
    {
      "cell_type": "code",
      "source": [
        "add_function(kim=5, jeon=2, lee=9)"
      ],
      "metadata": {
        "colab": {
          "base_uri": "https://localhost:8080/"
        },
        "id": "_f7n7f6UurZV",
        "outputId": "c5c98df4-9896-4f18-e219-f19e3c9ae6e5"
      },
      "execution_count": 12,
      "outputs": [
        {
          "output_type": "stream",
          "name": "stdout",
          "text": [
            "이름: kim, 나이: 5\n",
            "이름: jeon, 나이: 2\n",
            "이름: lee, 나이: 9\n",
            "===============\n",
            "전체 나이의 합계: 16\n"
          ]
        }
      ]
    },
    {
      "cell_type": "code",
      "source": [
        "#@markdown 딕셔너리를 인수로 지정하는 경우 **를 앞에 붙여준다\n",
        "person = {'jeon': 13, 'baek': 27, 'park': 22}\n",
        "print(person)"
      ],
      "metadata": {
        "colab": {
          "base_uri": "https://localhost:8080/"
        },
        "id": "LLXRlBjAvDVh",
        "outputId": "14f9f0f2-8303-4ae0-f162-8d7efdec0aaa"
      },
      "execution_count": 14,
      "outputs": [
        {
          "output_type": "stream",
          "name": "stdout",
          "text": [
            "{'jeon': 13, 'baek': 27, 'park': 22}\n"
          ]
        }
      ]
    },
    {
      "cell_type": "code",
      "source": [
        "add_function(**person)"
      ],
      "metadata": {
        "colab": {
          "base_uri": "https://localhost:8080/"
        },
        "id": "TXtXhEgPvfL3",
        "outputId": "a7961342-8ca2-4cad-e8a6-450bdf89af6b"
      },
      "execution_count": 16,
      "outputs": [
        {
          "output_type": "stream",
          "name": "stdout",
          "text": [
            "이름: jeon, 나이: 13\n",
            "이름: baek, 나이: 27\n",
            "이름: park, 나이: 22\n",
            "===============\n",
            "전체 나이의 합계: 62\n"
          ]
        }
      ]
    }
  ]
}