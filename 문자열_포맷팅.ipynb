{
  "nbformat": 4,
  "nbformat_minor": 0,
  "metadata": {
    "colab": {
      "provenance": [],
      "authorship_tag": "ABX9TyN6sfvEegC7o5to41EM8zv7",
      "include_colab_link": true
    },
    "kernelspec": {
      "name": "python3",
      "display_name": "Python 3"
    },
    "language_info": {
      "name": "python"
    }
  },
  "cells": [
    {
      "cell_type": "markdown",
      "metadata": {
        "id": "view-in-github",
        "colab_type": "text"
      },
      "source": [
        "<a href=\"https://colab.research.google.com/github/jeonsy22/NLP_2023/blob/main/%EB%AC%B8%EC%9E%90%EC%97%B4_%ED%8F%AC%EB%A7%B7%ED%8C%85.ipynb\" target=\"_parent\"><img src=\"https://colab.research.google.com/assets/colab-badge.svg\" alt=\"Open In Colab\"/></a>"
      ]
    },
    {
      "cell_type": "markdown",
      "source": [
        "%를 사용한 출력"
      ],
      "metadata": {
        "id": "omQDzUI94gcH"
      }
    },
    {
      "cell_type": "code",
      "source": [
        "\"안녕하세요? %s\" %('반갑습니다.')"
      ],
      "metadata": {
        "colab": {
          "base_uri": "https://localhost:8080/",
          "height": 35
        },
        "id": "3TPWQ9Ms4r9B",
        "outputId": "4941da08-0163-4666-8734-e79f09701d4e"
      },
      "execution_count": 3,
      "outputs": [
        {
          "output_type": "execute_result",
          "data": {
            "text/plain": [
              "'안녕하세요? 반갑습니다.'"
            ],
            "application/vnd.google.colaboratory.intrinsic+json": {
              "type": "string"
            }
          },
          "metadata": {},
          "execution_count": 3
        }
      ]
    },
    {
      "cell_type": "code",
      "source": [
        "\"안녕하세요? %f\" %(0.123456)"
      ],
      "metadata": {
        "colab": {
          "base_uri": "https://localhost:8080/",
          "height": 35
        },
        "id": "bZI01xvM43ib",
        "outputId": "1176797a-f833-4cdc-e56b-dd4059784636"
      },
      "execution_count": 14,
      "outputs": [
        {
          "output_type": "execute_result",
          "data": {
            "text/plain": [
              "'안녕하세요? 0.123456'"
            ],
            "application/vnd.google.colaboratory.intrinsic+json": {
              "type": "string"
            }
          },
          "metadata": {},
          "execution_count": 14
        }
      ]
    },
    {
      "cell_type": "code",
      "source": [
        "\"안녕하세요? %.3f\" %(0.123456)"
      ],
      "metadata": {
        "colab": {
          "base_uri": "https://localhost:8080/",
          "height": 35
        },
        "id": "QKIuJ6hp43EW",
        "outputId": "97a9479f-1517-402b-9ffc-776669e6931c"
      },
      "execution_count": 15,
      "outputs": [
        {
          "output_type": "execute_result",
          "data": {
            "text/plain": [
              "'안녕하세요? 0.123'"
            ],
            "application/vnd.google.colaboratory.intrinsic+json": {
              "type": "string"
            }
          },
          "metadata": {},
          "execution_count": 15
        }
      ]
    },
    {
      "cell_type": "code",
      "source": [
        "\"안녕하세요? %d\" %(12345)"
      ],
      "metadata": {
        "colab": {
          "base_uri": "https://localhost:8080/",
          "height": 35
        },
        "id": "ZdTfz7SZ4261",
        "outputId": "36b87922-5586-4e7a-cfc2-1d8fa87e8822"
      },
      "execution_count": 17,
      "outputs": [
        {
          "output_type": "execute_result",
          "data": {
            "text/plain": [
              "'안녕하세요? 12345'"
            ],
            "application/vnd.google.colaboratory.intrinsic+json": {
              "type": "string"
            }
          },
          "metadata": {},
          "execution_count": 17
        }
      ]
    },
    {
      "cell_type": "code",
      "source": [
        "\"안녕하세요? %c\" % ('a')"
      ],
      "metadata": {
        "colab": {
          "base_uri": "https://localhost:8080/",
          "height": 35
        },
        "id": "O8gYwt2B6Sdv",
        "outputId": "0a53618c-d16a-4d95-f469-a50d163c34d3"
      },
      "execution_count": 18,
      "outputs": [
        {
          "output_type": "execute_result",
          "data": {
            "text/plain": [
              "'안녕하세요? a'"
            ],
            "application/vnd.google.colaboratory.intrinsic+json": {
              "type": "string"
            }
          },
          "metadata": {},
          "execution_count": 18
        }
      ]
    },
    {
      "cell_type": "markdown",
      "source": [
        "{}와 format를 사용한 출력"
      ],
      "metadata": {
        "id": "GB5v5ixS3i3S"
      }
    },
    {
      "cell_type": "code",
      "execution_count": 19,
      "metadata": {
        "colab": {
          "base_uri": "https://localhost:8080/",
          "height": 35
        },
        "id": "tQya-MDJ27je",
        "outputId": "67fe1b94-2d5a-4654-f8f2-2b0abfee4397"
      },
      "outputs": [
        {
          "output_type": "execute_result",
          "data": {
            "text/plain": [
              "'웰컴투? 파이썬'"
            ],
            "application/vnd.google.colaboratory.intrinsic+json": {
              "type": "string"
            }
          },
          "metadata": {},
          "execution_count": 19
        }
      ],
      "source": [
        "\"웰컴투? {}\" .format('파이썬')"
      ]
    },
    {
      "cell_type": "code",
      "source": [
        "'비밀번호 {}' .format(486)"
      ],
      "metadata": {
        "colab": {
          "base_uri": "https://localhost:8080/",
          "height": 35
        },
        "id": "V1W0eFx_4Ort",
        "outputId": "d85a5371-0b58-4d39-8f5c-f1e4b09e63f0"
      },
      "execution_count": 20,
      "outputs": [
        {
          "output_type": "execute_result",
          "data": {
            "text/plain": [
              "'비밀번호 486'"
            ],
            "application/vnd.google.colaboratory.intrinsic+json": {
              "type": "string"
            }
          },
          "metadata": {},
          "execution_count": 20
        }
      ]
    },
    {
      "cell_type": "markdown",
      "source": [
        "소수점 2자리까지 제한하는 경우 (그 이하자리는 반올림)"
      ],
      "metadata": {
        "id": "2-gzuQbO7FQA"
      }
    },
    {
      "cell_type": "code",
      "source": [
        "'원주율? .{:.2f}' .format(3.141592)"
      ],
      "metadata": {
        "colab": {
          "base_uri": "https://localhost:8080/",
          "height": 35
        },
        "id": "lpEtCVOV7DSR",
        "outputId": "bb580cfc-7dc1-441a-f553-c54ef04a3237"
      },
      "execution_count": 21,
      "outputs": [
        {
          "output_type": "execute_result",
          "data": {
            "text/plain": [
              "'원주율? .3.14'"
            ],
            "application/vnd.google.colaboratory.intrinsic+json": {
              "type": "string"
            }
          },
          "metadata": {},
          "execution_count": 21
        }
      ]
    },
    {
      "cell_type": "markdown",
      "source": [
        "f 문자열 포맷팅"
      ],
      "metadata": {
        "id": "wEMpR-o68L3Q"
      }
    },
    {
      "cell_type": "code",
      "source": [
        "name = '서윤'\n",
        "age = 21\n",
        "print(f'나의 이름은 {name}입니다. 나이는 {age}살입니다.')"
      ],
      "metadata": {
        "colab": {
          "base_uri": "https://localhost:8080/"
        },
        "id": "3Qib_o3V7kan",
        "outputId": "5180b36c-ed07-412a-e61a-1bebe324148e"
      },
      "execution_count": 22,
      "outputs": [
        {
          "output_type": "stream",
          "name": "stdout",
          "text": [
            "나의 이름은 서윤입니다. 나이는 21살입니다.\n"
          ]
        }
      ]
    },
    {
      "cell_type": "code",
      "source": [
        "print(f'내년에 저는 {age + 1}입니다.')"
      ],
      "metadata": {
        "colab": {
          "base_uri": "https://localhost:8080/"
        },
        "id": "q-DtepOE8mqY",
        "outputId": "9e58edd9-f617-4500-95b7-9b113f14d66d"
      },
      "execution_count": 23,
      "outputs": [
        {
          "output_type": "stream",
          "name": "stdout",
          "text": [
            "내년에 저는 22입니다.\n"
          ]
        }
      ]
    },
    {
      "cell_type": "code",
      "source": [
        "d = {'name':'서윤', 'age':22}"
      ],
      "metadata": {
        "id": "ZvoRitIw86hp"
      },
      "execution_count": 24,
      "outputs": []
    },
    {
      "cell_type": "code",
      "source": [
        "print(f\"반가워요 저는 {d['name']}입니다. 저의 나이는 {d['age']} 살입니다.\")"
      ],
      "metadata": {
        "colab": {
          "base_uri": "https://localhost:8080/"
        },
        "id": "do9oIdUh9HvP",
        "outputId": "c2c90ba4-3839-4ce2-de6f-8439474df58f"
      },
      "execution_count": 27,
      "outputs": [
        {
          "output_type": "stream",
          "name": "stdout",
          "text": [
            "반가워요 저는 서윤입니다. 저의 나이는 22 살입니다.\n"
          ]
        }
      ]
    }
  ]
}