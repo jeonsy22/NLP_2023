{
  "nbformat": 4,
  "nbformat_minor": 0,
  "metadata": {
    "colab": {
      "provenance": [],
      "authorship_tag": "ABX9TyOacXN6o1sColjLIVsKcaas",
      "include_colab_link": true
    },
    "kernelspec": {
      "name": "python3",
      "display_name": "Python 3"
    },
    "language_info": {
      "name": "python"
    }
  },
  "cells": [
    {
      "cell_type": "markdown",
      "metadata": {
        "id": "view-in-github",
        "colab_type": "text"
      },
      "source": [
        "<a href=\"https://colab.research.google.com/github/jeonsy22/NLP_2023/blob/main/enumerate.ipynb\" target=\"_parent\"><img src=\"https://colab.research.google.com/assets/colab-badge.svg\" alt=\"Open In Colab\"/></a>"
      ]
    },
    {
      "cell_type": "markdown",
      "source": [
        "enumerate\n",
        "* [문법]: **enumerate{iterable, start = 0)**\n",
        "* 순서가 있는 자료형을 입력 받아 index를 포함하는 객체로 return한다."
      ],
      "metadata": {
        "id": "VQ00ccwn0Bxd"
      }
    },
    {
      "cell_type": "markdown",
      "source": [
        "일반 range() 함수를 사용한 경우"
      ],
      "metadata": {
        "id": "hYC5NO9d0dYP"
      }
    },
    {
      "cell_type": "code",
      "execution_count": 3,
      "metadata": {
        "colab": {
          "base_uri": "https://localhost:8080/"
        },
        "id": "oWkNi55jz9je",
        "outputId": "e162d9ef-e7f4-4036-e98a-67a79cb8b1be"
      },
      "outputs": [
        {
          "output_type": "stream",
          "name": "stdout",
          "text": [
            "1\n",
            "3\n",
            "5\n",
            "7\n",
            "9\n"
          ]
        }
      ],
      "source": [
        "for value in range(1, 10, 2):\n",
        "  print(value)"
      ]
    },
    {
      "cell_type": "markdown",
      "source": [
        "enumerate() 함수를 사용하여 index를 return 받은 경우"
      ],
      "metadata": {
        "id": "nUaZGb7B0q3_"
      }
    },
    {
      "cell_type": "code",
      "source": [
        "for idx, value in enumerate(range(1, 10, 2)):\n",
        "  print(f'index: P+{idx}, value: {value}')"
      ],
      "metadata": {
        "colab": {
          "base_uri": "https://localhost:8080/"
        },
        "id": "CsL8cnCm0xNN",
        "outputId": "ef0b7b3e-5d08-4194-8f9b-d6f311ab04e6"
      },
      "execution_count": 2,
      "outputs": [
        {
          "output_type": "stream",
          "name": "stdout",
          "text": [
            "index: P+0, value: 1\n",
            "index: P+1, value: 3\n",
            "index: P+2, value: 5\n",
            "index: P+3, value: 7\n",
            "index: P+4, value: 9\n"
          ]
        }
      ]
    }
  ]
}