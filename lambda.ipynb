{
  "nbformat": 4,
  "nbformat_minor": 0,
  "metadata": {
    "colab": {
      "provenance": [],
      "authorship_tag": "ABX9TyO1wE1ic5PEf0Wfw9y7s+J/",
      "include_colab_link": true
    },
    "kernelspec": {
      "name": "python3",
      "display_name": "Python 3"
    },
    "language_info": {
      "name": "python"
    }
  },
  "cells": [
    {
      "cell_type": "markdown",
      "metadata": {
        "id": "view-in-github",
        "colab_type": "text"
      },
      "source": [
        "<a href=\"https://colab.research.google.com/github/jeonsy22/NLP_2023/blob/main/lambda.ipynb\" target=\"_parent\"><img src=\"https://colab.research.google.com/assets/colab-badge.svg\" alt=\"Open In Colab\"/></a>"
      ]
    },
    {
      "cell_type": "markdown",
      "source": [
        "lambda: 익명함수(annonymous function)\n",
        "* 이름 없이 정의된 함수이다.\n",
        "* **단일 문장(1줄)**의 코드로 작성되어야한다.\n",
        "* 함수 내부에서는 return문이 포함하지 않지만 값을 반환한다."
      ],
      "metadata": {
        "id": "4P8MXhtu8oYU"
      }
    },
    {
      "cell_type": "markdown",
      "source": [
        "**단일 인수**를 가지는 lambda 함수"
      ],
      "metadata": {
        "id": "DfOpdbQS9Q76"
      }
    },
    {
      "cell_type": "code",
      "execution_count": 1,
      "metadata": {
        "id": "XkKG6BUt71lL"
      },
      "outputs": [],
      "source": [
        "a = lambda x: x * 2"
      ]
    },
    {
      "cell_type": "code",
      "source": [
        "a(4)"
      ],
      "metadata": {
        "colab": {
          "base_uri": "https://localhost:8080/"
        },
        "id": "QhEuH7Fq9cjS",
        "outputId": "4dd295a6-14d1-421f-ab74-71bd9f3fd680"
      },
      "execution_count": 2,
      "outputs": [
        {
          "output_type": "execute_result",
          "data": {
            "text/plain": [
              "8"
            ]
          },
          "metadata": {},
          "execution_count": 2
        }
      ]
    },
    {
      "cell_type": "markdown",
      "source": [
        "**2개의 인수**를 가지는 lambda 함수"
      ],
      "metadata": {
        "id": "_bkTton19oyn"
      }
    },
    {
      "cell_type": "code",
      "source": [
        "a = lambda x, y: x * y"
      ],
      "metadata": {
        "id": "tzrPISbW9ddg"
      },
      "execution_count": 3,
      "outputs": []
    },
    {
      "cell_type": "code",
      "source": [
        "a(2, 7)"
      ],
      "metadata": {
        "colab": {
          "base_uri": "https://localhost:8080/"
        },
        "id": "Sf-3XP6W90k6",
        "outputId": "5a835dcb-787a-4c8b-9fe0-eb79bf69d8b2"
      },
      "execution_count": 4,
      "outputs": [
        {
          "output_type": "execute_result",
          "data": {
            "text/plain": [
              "14"
            ]
          },
          "metadata": {},
          "execution_count": 4
        }
      ]
    },
    {
      "cell_type": "markdown",
      "source": [
        "**기본값이 지정된 인수**를 가지는 lambda 함수"
      ],
      "metadata": {
        "id": "JetTjh5l92-b"
      }
    },
    {
      "cell_type": "code",
      "source": [
        "a = lambda x, y= 10: x * y"
      ],
      "metadata": {
        "id": "3aP8l3hS92Op"
      },
      "execution_count": 5,
      "outputs": []
    },
    {
      "cell_type": "code",
      "source": [
        "a(5)"
      ],
      "metadata": {
        "colab": {
          "base_uri": "https://localhost:8080/"
        },
        "id": "SSvUK_-v-Bmi",
        "outputId": "e9b56b1c-397f-4999-b14b-f6930bf1fadb"
      },
      "execution_count": 6,
      "outputs": [
        {
          "output_type": "execute_result",
          "data": {
            "text/plain": [
              "50"
            ]
          },
          "metadata": {},
          "execution_count": 6
        }
      ]
    },
    {
      "cell_type": "markdown",
      "source": [
        "**키워드 인수**를 지정하는 lambda 함수"
      ],
      "metadata": {
        "id": "BpvhU-Mu-FqV"
      }
    },
    {
      "cell_type": "code",
      "source": [
        "a(x= 8, y = 6)"
      ],
      "metadata": {
        "colab": {
          "base_uri": "https://localhost:8080/"
        },
        "id": "R8zW0YZo-WHT",
        "outputId": "96490337-632a-485a-8d83-209e2509de6b"
      },
      "execution_count": 8,
      "outputs": [
        {
          "output_type": "execute_result",
          "data": {
            "text/plain": [
              "48"
            ]
          },
          "metadata": {},
          "execution_count": 8
        }
      ]
    },
    {
      "cell_type": "code",
      "source": [
        "a(y = 5, x = 2)"
      ],
      "metadata": {
        "colab": {
          "base_uri": "https://localhost:8080/"
        },
        "id": "cJH5DoHS-CW_",
        "outputId": "0c15ee66-228f-4b0e-aa5e-5d80f7aa2dff"
      },
      "execution_count": 9,
      "outputs": [
        {
          "output_type": "execute_result",
          "data": {
            "text/plain": [
              "10"
            ]
          },
          "metadata": {},
          "execution_count": 9
        }
      ]
    },
    {
      "cell_type": "markdown",
      "source": [
        "lambda 함수 내부에서 **조건문** 사용"
      ],
      "metadata": {
        "id": "71hv-nfJ-p-4"
      }
    },
    {
      "cell_type": "code",
      "source": [
        "a = lambda x, y: x * y if x > 0 else y"
      ],
      "metadata": {
        "id": "TQ69nc4S-Uxh"
      },
      "execution_count": 10,
      "outputs": []
    },
    {
      "cell_type": "code",
      "source": [
        "a(4, 6)"
      ],
      "metadata": {
        "colab": {
          "base_uri": "https://localhost:8080/"
        },
        "id": "N9NOzxps-1ie",
        "outputId": "4b394af4-14e1-40b2-fe78-046f1b8f1ab0"
      },
      "execution_count": 11,
      "outputs": [
        {
          "output_type": "execute_result",
          "data": {
            "text/plain": [
              "24"
            ]
          },
          "metadata": {},
          "execution_count": 11
        }
      ]
    },
    {
      "cell_type": "code",
      "source": [
        "a(0, 9)"
      ],
      "metadata": {
        "colab": {
          "base_uri": "https://localhost:8080/"
        },
        "id": "rQkVVs49-3D0",
        "outputId": "064e097b-19be-4306-8c2f-e80844a8969d"
      },
      "execution_count": 12,
      "outputs": [
        {
          "output_type": "execute_result",
          "data": {
            "text/plain": [
              "9"
            ]
          },
          "metadata": {},
          "execution_count": 12
        }
      ]
    },
    {
      "cell_type": "code",
      "source": [
        "a(-6, 7)"
      ],
      "metadata": {
        "colab": {
          "base_uri": "https://localhost:8080/"
        },
        "id": "AK5QlgDc-5f3",
        "outputId": "43b4a6fa-fa59-48c8-cda7-57ffde58aad1"
      },
      "execution_count": 13,
      "outputs": [
        {
          "output_type": "execute_result",
          "data": {
            "text/plain": [
              "7"
            ]
          },
          "metadata": {},
          "execution_count": 13
        }
      ]
    },
    {
      "cell_type": "markdown",
      "source": [
        "다음과 같이 elif 구문을 억지로 생성 가능.\n",
        "\n",
        "하지만, 복잡한 조건문을 사용하기 위해서는 일반적인 함수 사용을 권장. (코드의 가독성이 떨어지기 때문)"
      ],
      "metadata": {
        "id": "p-P4YqzI_B8g"
      }
    },
    {
      "cell_type": "code",
      "source": [
        "a = lambda x: x * 10 if x < 2 else (x**2 if x < 4 else x + 10)"
      ],
      "metadata": {
        "id": "r_BKkJtv-96d"
      },
      "execution_count": 19,
      "outputs": []
    },
    {
      "cell_type": "code",
      "source": [
        "a(1)"
      ],
      "metadata": {
        "colab": {
          "base_uri": "https://localhost:8080/"
        },
        "id": "C0_FbR4p_VSN",
        "outputId": "2e482ad7-a3cb-4aa3-c119-8664476e6dc1"
      },
      "execution_count": 20,
      "outputs": [
        {
          "output_type": "execute_result",
          "data": {
            "text/plain": [
              "10"
            ]
          },
          "metadata": {},
          "execution_count": 20
        }
      ]
    },
    {
      "cell_type": "code",
      "source": [
        "a(3)"
      ],
      "metadata": {
        "colab": {
          "base_uri": "https://localhost:8080/"
        },
        "id": "w2nG3J0x_V7w",
        "outputId": "dbc368ce-5250-402a-e1d4-10fecd368777"
      },
      "execution_count": 21,
      "outputs": [
        {
          "output_type": "execute_result",
          "data": {
            "text/plain": [
              "9"
            ]
          },
          "metadata": {},
          "execution_count": 21
        }
      ]
    },
    {
      "cell_type": "code",
      "source": [
        "a(4)"
      ],
      "metadata": {
        "colab": {
          "base_uri": "https://localhost:8080/"
        },
        "id": "lCNTos3C_W4K",
        "outputId": "ae3f1903-6ef1-439f-cd35-a4b17458e77c"
      },
      "execution_count": 22,
      "outputs": [
        {
          "output_type": "execute_result",
          "data": {
            "text/plain": [
              "14"
            ]
          },
          "metadata": {},
          "execution_count": 22
        }
      ]
    },
    {
      "cell_type": "code",
      "source": [
        "a(8)"
      ],
      "metadata": {
        "colab": {
          "base_uri": "https://localhost:8080/"
        },
        "id": "nD-5-npn_Y9w",
        "outputId": "840bec9f-6cb3-4abd-d7a3-2d362416391b"
      },
      "execution_count": 23,
      "outputs": [
        {
          "output_type": "execute_result",
          "data": {
            "text/plain": [
              "18"
            ]
          },
          "metadata": {},
          "execution_count": 23
        }
      ]
    }
  ]
}