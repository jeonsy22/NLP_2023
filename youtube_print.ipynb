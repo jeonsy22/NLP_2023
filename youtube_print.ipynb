{
  "nbformat": 4,
  "nbformat_minor": 0,
  "metadata": {
    "colab": {
      "provenance": [],
      "authorship_tag": "ABX9TyO5iExbYM5l55rk66vEQdwo",
      "include_colab_link": true
    },
    "kernelspec": {
      "name": "python3",
      "display_name": "Python 3"
    },
    "language_info": {
      "name": "python"
    }
  },
  "cells": [
    {
      "cell_type": "markdown",
      "metadata": {
        "id": "view-in-github",
        "colab_type": "text"
      },
      "source": [
        "<a href=\"https://colab.research.google.com/github/jeonsy22/NLP_2023/blob/main/youtube_print.ipynb\" target=\"_parent\"><img src=\"https://colab.research.google.com/assets/colab-badge.svg\" alt=\"Open In Colab\"/></a>"
      ]
    },
    {
      "cell_type": "markdown",
      "source": [
        "##문자열\n",
        "\n",
        "데이터 분석에 있어서 문자열(텍스트)의 중요성\n",
        "* 자연어처리 데이터는 대부분이 텍스트 데이터로 이루어져 있다.\n",
        "* 우리가 흔히 접하는 Excel 혹은 Table 데이터 안에도 수많은 텍스트 데이터가 존재한다,\n",
        "* 우리나라는 영어와 더불어 한글까지 추가로 처리할 수 있어야 한다,\n",
        "\n",
        "특성\n",
        "* 문자열 역시 리스트(list), 튜플(tuple)과 마찬가지로 sequence형 자료구조를 가진다.\n",
        "* 문자열은 불변(immutable) 객체이다.\n"
      ],
      "metadata": {
        "id": "F4-B0zt21ZSf"
      }
    },
    {
      "cell_type": "markdown",
      "source": [
        "###문자열의 생성\n",
        "파이썬의 문자열은 작은 따옴표(')나 큰 따옴표(\") 모두 구분없이 사용하여 문자열 생성 가능"
      ],
      "metadata": {
        "id": "bXfIhvAG3Dxd"
      }
    },
    {
      "cell_type": "code",
      "execution_count": 2,
      "metadata": {
        "colab": {
          "base_uri": "https://localhost:8080/",
          "height": 35
        },
        "id": "Ydp6uwKj0W8A",
        "outputId": "db3387c7-cdd0-4cf8-824e-386fe155cf2a"
      },
      "outputs": [
        {
          "output_type": "execute_result",
          "data": {
            "text/plain": [
              "'안녕하세요? 반갑습니다.'"
            ],
            "application/vnd.google.colaboratory.intrinsic+json": {
              "type": "string"
            }
          },
          "metadata": {},
          "execution_count": 2
        }
      ],
      "source": [
        "#@markdown 작은 따옴표(') 사용\n",
        "'안녕하세요? 반갑습니다.'"
      ]
    },
    {
      "cell_type": "code",
      "source": [
        "\"안녕하세요? 반갑습니다.\""
      ],
      "metadata": {
        "colab": {
          "base_uri": "https://localhost:8080/",
          "height": 35
        },
        "id": "7u73evQO3Tzz",
        "outputId": "3e4776c1-fa0d-497d-81d6-fef9ee174a83"
      },
      "execution_count": 3,
      "outputs": [
        {
          "output_type": "execute_result",
          "data": {
            "text/plain": [
              "'안녕하세요? 반갑습니다.'"
            ],
            "application/vnd.google.colaboratory.intrinsic+json": {
              "type": "string"
            }
          },
          "metadata": {},
          "execution_count": 3
        }
      ]
    },
    {
      "cell_type": "code",
      "source": [
        "#@markdown 작은 따옴표 3개 혹은 큰 따옴표 3개를 써서 **여러줄의 문자열 생성 가능**\n",
        "ex = '''안녕하세요?\n",
        "반가워요\n",
        "전서윤이라고 해요.'''\n",
        "print(ex)"
      ],
      "metadata": {
        "colab": {
          "base_uri": "https://localhost:8080/"
        },
        "id": "sgRNzzS_3cFk",
        "outputId": "37669de4-bb23-4f54-bf84-4ba24480a4aa"
      },
      "execution_count": 5,
      "outputs": [
        {
          "output_type": "stream",
          "name": "stdout",
          "text": [
            "안녕하세요?\n",
            "반가워요\n",
            "전서윤이라고 해요.\n"
          ]
        }
      ]
    },
    {
      "cell_type": "code",
      "source": [
        "ex = \"\"\"안녕하세요?\n",
        "반가워요\n",
        "전서윤이라고 해요\"\"\"\n",
        "print(ex)"
      ],
      "metadata": {
        "colab": {
          "base_uri": "https://localhost:8080/"
        },
        "id": "WLJiYnDj3tyJ",
        "outputId": "5494b188-9919-4bba-9622-33c09c6d15cc"
      },
      "execution_count": 6,
      "outputs": [
        {
          "output_type": "stream",
          "name": "stdout",
          "text": [
            "안녕하세요?\n",
            "반가워요\n",
            "전서윤이라고 해요\n"
          ]
        }
      ]
    },
    {
      "cell_type": "markdown",
      "source": [
        "문자열 출력(포맷팅)"
      ],
      "metadata": {
        "id": "k72FFE4u4AqK"
      }
    },
    {
      "cell_type": "code",
      "source": [
        "#@markdown print(): 출력\n",
        "print('헬로우 파이썬')"
      ],
      "metadata": {
        "colab": {
          "base_uri": "https://localhost:8080/"
        },
        "id": "H9ORSW3Z3-TJ",
        "outputId": "4c793db0-02ff-41b5-ca83-b19d94cb509b"
      },
      "execution_count": 7,
      "outputs": [
        {
          "output_type": "stream",
          "name": "stdout",
          "text": [
            "헬로우 파이썬\n"
          ]
        }
      ]
    },
    {
      "cell_type": "code",
      "source": [
        "print('문자열 첫째', '그리고, 둘째')"
      ],
      "metadata": {
        "colab": {
          "base_uri": "https://localhost:8080/"
        },
        "id": "RSOS6R8d4lk3",
        "outputId": "46aeca5f-87e3-4cf3-ee8e-45807947d0f0"
      },
      "execution_count": 8,
      "outputs": [
        {
          "output_type": "stream",
          "name": "stdout",
          "text": [
            "문자열 첫째 그리고, 둘째\n"
          ]
        }
      ]
    },
    {
      "cell_type": "code",
      "source": [
        "#@markdown end 옵션으로 출력될 마지막 글자 변경 가능. (기본값:\\n)\n",
        "print('여기까지!', end = 'end 출력!')"
      ],
      "metadata": {
        "colab": {
          "base_uri": "https://localhost:8080/"
        },
        "id": "_EZMO3Oz4tMj",
        "outputId": "74d082cc-113b-486f-a5a3-478c40c56965"
      },
      "execution_count": 10,
      "outputs": [
        {
          "output_type": "stream",
          "name": "stdout",
          "text": [
            "여기까지!end 출력!"
          ]
        }
      ]
    },
    {
      "cell_type": "code",
      "source": [
        "print('a', end = '')\n",
        "print('a')\n",
        "print('a')"
      ],
      "metadata": {
        "colab": {
          "base_uri": "https://localhost:8080/"
        },
        "id": "Ts60fmNF6yOw",
        "outputId": "20be4655-7eb7-4ff3-f3df-0078d172e3a4"
      },
      "execution_count": 11,
      "outputs": [
        {
          "output_type": "stream",
          "name": "stdout",
          "text": [
            "aa\n",
            "a\n"
          ]
        }
      ]
    },
    {
      "cell_type": "markdown",
      "source": [
        "sep 옵션으로 출력될 문자열 사이에 출력될 글자 변경 가능(기본값: 공백)"
      ],
      "metadata": {
        "id": "ccMZKlag7Agg"
      }
    },
    {
      "cell_type": "code",
      "source": [
        "print('a', 'b', 'c', sep = ' <구분> ')"
      ],
      "metadata": {
        "colab": {
          "base_uri": "https://localhost:8080/"
        },
        "id": "InbL4llV5I1d",
        "outputId": "a9372495-f196-48f3-a503-b99adad915b0"
      },
      "execution_count": 13,
      "outputs": [
        {
          "output_type": "stream",
          "name": "stdout",
          "text": [
            "a <구분> b <구분> c\n"
          ]
        }
      ]
    }
  ]
}