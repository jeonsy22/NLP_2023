{
  "nbformat": 4,
  "nbformat_minor": 0,
  "metadata": {
    "colab": {
      "provenance": [],
      "authorship_tag": "ABX9TyNSFELRxABgfj8kIJHxTAVI",
      "include_colab_link": true
    },
    "kernelspec": {
      "name": "python3",
      "display_name": "Python 3"
    },
    "language_info": {
      "name": "python"
    }
  },
  "cells": [
    {
      "cell_type": "markdown",
      "metadata": {
        "id": "view-in-github",
        "colab_type": "text"
      },
      "source": [
        "<a href=\"https://colab.research.google.com/github/jeonsy22/NLP_2023/blob/main/split.ipynb\" target=\"_parent\"><img src=\"https://colab.research.google.com/assets/colab-badge.svg\" alt=\"Open In Colab\"/></a>"
      ]
    },
    {
      "cell_type": "markdown",
      "source": [
        "###문자열(텍스트)을 다루는 다양한 기능, 메서드(method)\n",
        "\n",
        "문자열만 가지고 있는 **고유의 편한 기능**들이 있다."
      ],
      "metadata": {
        "id": "VKsG7c6wAttl"
      }
    },
    {
      "cell_type": "markdown",
      "source": [
        "split(): 분리\n",
        "* split은 문장을 특정 규칙에 의해 쪼개 주는 기능을 한다.\n",
        "* 분리한 결과는 list 형식으로 값을 return 받는다."
      ],
      "metadata": {
        "id": "QmA1pLgaA-Pe"
      }
    },
    {
      "cell_type": "code",
      "source": [
        "a = \"This is a pen\""
      ],
      "metadata": {
        "id": "iQ4SrtMlAspX"
      },
      "execution_count": 12,
      "outputs": []
    },
    {
      "cell_type": "markdown",
      "source": [
        "기본 값으로 공백이 지정되어 있다. 즉, 공백을 기준으로 분리하여 리스트로 반환한다."
      ],
      "metadata": {
        "id": "dpn007ztBOtj"
      }
    },
    {
      "cell_type": "code",
      "source": [
        "a.split()"
      ],
      "metadata": {
        "colab": {
          "base_uri": "https://localhost:8080/"
        },
        "id": "IjfWLqn_BNbl",
        "outputId": "691ac3b5-1c7f-4547-e83a-5e43fe43ae63"
      },
      "execution_count": 13,
      "outputs": [
        {
          "output_type": "execute_result",
          "data": {
            "text/plain": [
              "['This', 'is', 'a', 'pen']"
            ]
          },
          "metadata": {},
          "execution_count": 13
        }
      ]
    },
    {
      "cell_type": "markdown",
      "source": [
        "기본 값안 **공백**에서 **특정 문자**로 지정 가능."
      ],
      "metadata": {
        "id": "RCeWTJyUBcHE"
      }
    },
    {
      "cell_type": "code",
      "source": [
        "a = \"This-is-a-pen\""
      ],
      "metadata": {
        "id": "UMuiz55tBbRv"
      },
      "execution_count": 14,
      "outputs": []
    },
    {
      "cell_type": "code",
      "source": [
        "a.split()"
      ],
      "metadata": {
        "colab": {
          "base_uri": "https://localhost:8080/"
        },
        "id": "5KsjrdIuBvdl",
        "outputId": "be618c35-bb35-4aa3-c286-74fb07d550b8"
      },
      "execution_count": 16,
      "outputs": [
        {
          "output_type": "execute_result",
          "data": {
            "text/plain": [
              "['This-is-a-pen']"
            ]
          },
          "metadata": {},
          "execution_count": 16
        }
      ]
    },
    {
      "cell_type": "code",
      "source": [
        "a.split('-')"
      ],
      "metadata": {
        "colab": {
          "base_uri": "https://localhost:8080/"
        },
        "id": "4v_KBEG9BrVY",
        "outputId": "c5528447-fe22-46e1-84da-e0b1dc6c7a1b"
      },
      "execution_count": 17,
      "outputs": [
        {
          "output_type": "execute_result",
          "data": {
            "text/plain": [
              "['This', 'is', 'a', 'pen']"
            ]
          },
          "metadata": {},
          "execution_count": 17
        }
      ]
    },
    {
      "cell_type": "code",
      "source": [
        "aa = a.split('-')\n",
        "aa"
      ],
      "metadata": {
        "colab": {
          "base_uri": "https://localhost:8080/"
        },
        "id": "p6xatbzLBuQy",
        "outputId": "d7b12d09-c961-450e-9e1a-731ad17c1edb"
      },
      "execution_count": 19,
      "outputs": [
        {
          "output_type": "execute_result",
          "data": {
            "text/plain": [
              "['This', 'is', 'a', 'pen']"
            ]
          },
          "metadata": {},
          "execution_count": 19
        }
      ]
    },
    {
      "cell_type": "markdown",
      "source": [
        "aa에 반환된 리스트를 대입 후 index로 값을 조회할 수 있다."
      ],
      "metadata": {
        "id": "S8LabGCbCUtI"
      }
    },
    {
      "cell_type": "code",
      "source": [
        "aa[0]"
      ],
      "metadata": {
        "colab": {
          "base_uri": "https://localhost:8080/",
          "height": 35
        },
        "id": "D-hLnbtTB_Yb",
        "outputId": "7a8e7fbd-e09c-4fd2-bae5-d570eef8ffb9"
      },
      "execution_count": 20,
      "outputs": [
        {
          "output_type": "execute_result",
          "data": {
            "text/plain": [
              "'This'"
            ],
            "application/vnd.google.colaboratory.intrinsic+json": {
              "type": "string"
            }
          },
          "metadata": {},
          "execution_count": 20
        }
      ]
    },
    {
      "cell_type": "code",
      "source": [
        "aa[2]"
      ],
      "metadata": {
        "colab": {
          "base_uri": "https://localhost:8080/",
          "height": 35
        },
        "id": "bODsvsj-CcSo",
        "outputId": "2c68e1d5-2d69-4051-d81b-6ecaf8e4410b"
      },
      "execution_count": 21,
      "outputs": [
        {
          "output_type": "execute_result",
          "data": {
            "text/plain": [
              "'a'"
            ],
            "application/vnd.google.colaboratory.intrinsic+json": {
              "type": "string"
            }
          },
          "metadata": {},
          "execution_count": 21
        }
      ]
    },
    {
      "cell_type": "code",
      "source": [
        "aa[1]"
      ],
      "metadata": {
        "colab": {
          "base_uri": "https://localhost:8080/",
          "height": 35
        },
        "id": "9Xuta49WCdZM",
        "outputId": "2848a9da-c015-49eb-b350-c7bc51a42ce5"
      },
      "execution_count": 22,
      "outputs": [
        {
          "output_type": "execute_result",
          "data": {
            "text/plain": [
              "'is'"
            ],
            "application/vnd.google.colaboratory.intrinsic+json": {
              "type": "string"
            }
          },
          "metadata": {},
          "execution_count": 22
        }
      ]
    },
    {
      "cell_type": "code",
      "source": [
        "aa[1] + aa[2]"
      ],
      "metadata": {
        "colab": {
          "base_uri": "https://localhost:8080/",
          "height": 35
        },
        "id": "VqmOJ57wCeMj",
        "outputId": "fd293c21-e22c-4bf4-abbd-efc9ca8cd7e7"
      },
      "execution_count": 24,
      "outputs": [
        {
          "output_type": "execute_result",
          "data": {
            "text/plain": [
              "'isa'"
            ],
            "application/vnd.google.colaboratory.intrinsic+json": {
              "type": "string"
            }
          },
          "metadata": {},
          "execution_count": 24
        }
      ]
    },
    {
      "cell_type": "markdown",
      "source": [
        "한글에도 동일하게 적용"
      ],
      "metadata": {
        "id": "u95iX9WZCmdg"
      }
    },
    {
      "cell_type": "code",
      "source": [
        "a = \"한글은 어떻게 될까요?\""
      ],
      "metadata": {
        "id": "51ZPEv_ZCg9H"
      },
      "execution_count": 25,
      "outputs": []
    },
    {
      "cell_type": "code",
      "source": [
        "a.split()"
      ],
      "metadata": {
        "colab": {
          "base_uri": "https://localhost:8080/"
        },
        "id": "zrkw2imaCupl",
        "outputId": "5e38df96-0abd-4650-bf23-7f0e961f453d"
      },
      "execution_count": 26,
      "outputs": [
        {
          "output_type": "execute_result",
          "data": {
            "text/plain": [
              "['한글은', '어떻게', '될까요?']"
            ]
          },
          "metadata": {},
          "execution_count": 26
        }
      ]
    },
    {
      "cell_type": "code",
      "source": [
        "a = \"한글은-어떻게-될까요?\""
      ],
      "metadata": {
        "id": "JGydZvGnCvuD"
      },
      "execution_count": 27,
      "outputs": []
    },
    {
      "cell_type": "code",
      "source": [
        "a.split()"
      ],
      "metadata": {
        "colab": {
          "base_uri": "https://localhost:8080/"
        },
        "id": "YxxBSQpGC0Wn",
        "outputId": "fcc214a0-fa4b-4c80-8a30-97aff2051744"
      },
      "execution_count": 28,
      "outputs": [
        {
          "output_type": "execute_result",
          "data": {
            "text/plain": [
              "['한글은-어떻게-될까요?']"
            ]
          },
          "metadata": {},
          "execution_count": 28
        }
      ]
    },
    {
      "cell_type": "code",
      "source": [
        "a.split('-')"
      ],
      "metadata": {
        "colab": {
          "base_uri": "https://localhost:8080/"
        },
        "id": "1eC0F_hWC1vu",
        "outputId": "1239a36c-95f7-4ca4-948e-039f830c4473"
      },
      "execution_count": 29,
      "outputs": [
        {
          "output_type": "execute_result",
          "data": {
            "text/plain": [
              "['한글은', '어떻게', '될까요?']"
            ]
          },
          "metadata": {},
          "execution_count": 29
        }
      ]
    }
  ]
}