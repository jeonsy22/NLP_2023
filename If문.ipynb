{
  "nbformat": 4,
  "nbformat_minor": 0,
  "metadata": {
    "colab": {
      "provenance": [],
      "authorship_tag": "ABX9TyMXrPKTCpLL9H4Dl9Qf5FCv",
      "include_colab_link": true
    },
    "kernelspec": {
      "name": "python3",
      "display_name": "Python 3"
    },
    "language_info": {
      "name": "python"
    }
  },
  "cells": [
    {
      "cell_type": "markdown",
      "metadata": {
        "id": "view-in-github",
        "colab_type": "text"
      },
      "source": [
        "<a href=\"https://colab.research.google.com/github/jeonsy22/NLP_2023/blob/main/If%EB%AC%B8.ipynb\" target=\"_parent\"><img src=\"https://colab.research.google.com/assets/colab-badge.svg\" alt=\"Open In Colab\"/></a>"
      ]
    },
    {
      "cell_type": "markdown",
      "source": [
        "#📎If문 연습하기📎"
      ],
      "metadata": {
        "id": "nddrpouDUESk"
      }
    },
    {
      "cell_type": "code",
      "execution_count": 3,
      "metadata": {
        "id": "R0MCw_BlOZ-K"
      },
      "outputs": [],
      "source": [
        "birthday = True"
      ]
    },
    {
      "cell_type": "code",
      "source": [
        "if birthday:\n",
        "  print('생일 축하해')\n",
        "else:\n",
        "   print('생일이 언제야?')"
      ],
      "metadata": {
        "colab": {
          "base_uri": "https://localhost:8080/"
        },
        "id": "F5yzZYZiOzcU",
        "outputId": "9500a723-c716-41f2-b77f-3899d0568f54"
      },
      "execution_count": 15,
      "outputs": [
        {
          "output_type": "stream",
          "name": "stdout",
          "text": [
            "생일 축하해\n"
          ]
        }
      ]
    },
    {
      "cell_type": "code",
      "source": [
        "love = True"
      ],
      "metadata": {
        "id": "2PxuUsAET4LP"
      },
      "execution_count": 14,
      "outputs": []
    },
    {
      "cell_type": "code",
      "source": [
        "if love:\n",
        "  print('I love you')\n",
        "  print('나는 ')\n",
        "  print('너를 ')\n",
        "  print('사랑해')\n",
        "else:\n",
        "   print('I hate you')\n",
        "   print('나는 ')\n",
        "   print('너를 ')\n",
        "   print('싫어해')"
      ],
      "metadata": {
        "colab": {
          "base_uri": "https://localhost:8080/"
        },
        "id": "T3c96MrRUOPO",
        "outputId": "7f236b1b-c91c-40d9-dc26-2e2b849b3859"
      },
      "execution_count": 17,
      "outputs": [
        {
          "output_type": "stream",
          "name": "stdout",
          "text": [
            "I love you\n",
            "나는 \n",
            "너를 \n",
            "사랑해\n"
          ]
        }
      ]
    },
    {
      "cell_type": "code",
      "source": [
        "movie = False"
      ],
      "metadata": {
        "id": "VW5ngcGwU-vq"
      },
      "execution_count": 19,
      "outputs": []
    },
    {
      "cell_type": "code",
      "source": [
        "if movie:\n",
        "  print('영화')\n",
        "else:\n",
        "  print('책')"
      ],
      "metadata": {
        "colab": {
          "base_uri": "https://localhost:8080/"
        },
        "id": "PJQSh0mzVqY3",
        "outputId": "ecd7b0d5-ed5e-4157-ba4e-fd1057d783f7"
      },
      "execution_count": 23,
      "outputs": [
        {
          "output_type": "stream",
          "name": "stdout",
          "text": [
            "책\n"
          ]
        }
      ]
    },
    {
      "cell_type": "code",
      "source": [
        "food = 5000"
      ],
      "metadata": {
        "id": "j4qlnmhYWXYx"
      },
      "execution_count": 24,
      "outputs": []
    },
    {
      "cell_type": "code",
      "source": [
        "if food < 6000:\n",
        "  print('very good')\n",
        "else:\n",
        "  print('so expencive')"
      ],
      "metadata": {
        "colab": {
          "base_uri": "https://localhost:8080/"
        },
        "id": "XXGu_lnNWdNx",
        "outputId": "ed86c77b-41ab-403a-af00-8587f2f499dd"
      },
      "execution_count": 25,
      "outputs": [
        {
          "output_type": "stream",
          "name": "stdout",
          "text": [
            "very good\n"
          ]
        }
      ]
    },
    {
      "cell_type": "code",
      "source": [
        "food = 4000"
      ],
      "metadata": {
        "id": "bL7e-Zk_W-5z"
      },
      "execution_count": 26,
      "outputs": []
    },
    {
      "cell_type": "code",
      "source": [
        "if food < 3000:\n",
        "  print('very good')\n",
        "else:\n",
        "  print('so expensive')"
      ],
      "metadata": {
        "colab": {
          "base_uri": "https://localhost:8080/"
        },
        "id": "lbaCEJ5oXKTJ",
        "outputId": "d814eea7-f2aa-46eb-cdc1-b8d4bcd81266"
      },
      "execution_count": 27,
      "outputs": [
        {
          "output_type": "stream",
          "name": "stdout",
          "text": [
            "so expensive\n"
          ]
        }
      ]
    }
  ]
}