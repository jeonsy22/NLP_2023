{
  "nbformat": 4,
  "nbformat_minor": 0,
  "metadata": {
    "colab": {
      "provenance": [],
      "authorship_tag": "ABX9TyNCnQyXk67FKmkaPoLojYPJ",
      "include_colab_link": true
    },
    "kernelspec": {
      "name": "python3",
      "display_name": "Python 3"
    },
    "language_info": {
      "name": "python"
    }
  },
  "cells": [
    {
      "cell_type": "markdown",
      "metadata": {
        "id": "view-in-github",
        "colab_type": "text"
      },
      "source": [
        "<a href=\"https://colab.research.google.com/github/jeonsy22/NLP_2023/blob/main/youtube_range.ipynb\" target=\"_parent\"><img src=\"https://colab.research.google.com/assets/colab-badge.svg\" alt=\"Open In Colab\"/></a>"
      ]
    },
    {
      "cell_type": "markdown",
      "source": [
        "range()\n",
        "* range() 함수는 별도의 list, tuple 생성 없이 range()에서 정의한 범위를 반복하는데 활용할 수 있다.\n",
        "* range(start, stop, step) 형식 사용"
      ],
      "metadata": {
        "id": "qHs6AdD6IQP2"
      }
    },
    {
      "cell_type": "code",
      "execution_count": null,
      "metadata": {
        "colab": {
          "base_uri": "https://localhost:8080/"
        },
        "id": "Aok0XrWhHS2T",
        "outputId": "e3ea180b-c99a-4956-f1e4-d47e4c9ccc4d"
      },
      "outputs": [
        {
          "output_type": "stream",
          "name": "stdout",
          "text": [
            "0\n",
            "1\n",
            "2\n",
            "3\n",
            "4\n",
            "5\n",
            "6\n",
            "7\n",
            "8\n",
            "9\n"
          ]
        }
      ],
      "source": [
        "#@markdown stop: 단일 값을 지정하는 경우\n",
        "for i in range(10):\n",
        "  print(i)"
      ]
    },
    {
      "cell_type": "code",
      "source": [
        "#@markdown start, stop: 두 개의 값을 지정한 경우\n",
        "for i in range(2, 9): #start는 포함 stop은 포함 x\n",
        "  print(i)"
      ],
      "metadata": {
        "colab": {
          "base_uri": "https://localhost:8080/"
        },
        "id": "JOQy5z04I4Rt",
        "outputId": "fbb12ce1-dea5-463b-cd6b-c5ed6c472e47"
      },
      "execution_count": null,
      "outputs": [
        {
          "output_type": "stream",
          "name": "stdout",
          "text": [
            "2\n",
            "3\n",
            "4\n",
            "5\n",
            "6\n",
            "7\n",
            "8\n"
          ]
        }
      ]
    },
    {
      "cell_type": "code",
      "source": [
        "#@markdown start, stop, step: 세 개의 값을 지정한 경우\n",
        "for i in range(1, 10, 2): #step은 건너뛰는 크\n",
        "  print(i)"
      ],
      "metadata": {
        "colab": {
          "base_uri": "https://localhost:8080/"
        },
        "id": "y0_vPI5uJ-4k",
        "outputId": "6aa1292a-1a8e-4a73-b188-c082851afdbd"
      },
      "execution_count": null,
      "outputs": [
        {
          "output_type": "stream",
          "name": "stdout",
          "text": [
            "1\n",
            "3\n",
            "5\n",
            "7\n",
            "9\n"
          ]
        }
      ]
    },
    {
      "cell_type": "markdown",
      "source": [
        "반복문의 중첩"
      ],
      "metadata": {
        "id": "hbRBImN7K3wX"
      }
    },
    {
      "cell_type": "code",
      "source": [
        "for i in range(1, 5):\n",
        "  for j in range(1, 5):\n",
        "    print(f'(i = {i}) + (j = {j}) = {i * j}')\n",
        "    print('===')"
      ],
      "metadata": {
        "colab": {
          "base_uri": "https://localhost:8080/"
        },
        "id": "5oCLRl6AKltF",
        "outputId": "f8f10a82-8a41-46a5-aab3-254a173de611"
      },
      "execution_count": null,
      "outputs": [
        {
          "output_type": "stream",
          "name": "stdout",
          "text": [
            "(i = 1) + (j = 1) = 1\n",
            "===\n",
            "(i = 1) + (j = 2) = 2\n",
            "===\n",
            "(i = 1) + (j = 3) = 3\n",
            "===\n",
            "(i = 1) + (j = 4) = 4\n",
            "===\n",
            "(i = 2) + (j = 1) = 2\n",
            "===\n",
            "(i = 2) + (j = 2) = 4\n",
            "===\n",
            "(i = 2) + (j = 3) = 6\n",
            "===\n",
            "(i = 2) + (j = 4) = 8\n",
            "===\n",
            "(i = 3) + (j = 1) = 3\n",
            "===\n",
            "(i = 3) + (j = 2) = 6\n",
            "===\n",
            "(i = 3) + (j = 3) = 9\n",
            "===\n",
            "(i = 3) + (j = 4) = 12\n",
            "===\n",
            "(i = 4) + (j = 1) = 4\n",
            "===\n",
            "(i = 4) + (j = 2) = 8\n",
            "===\n",
            "(i = 4) + (j = 3) = 12\n",
            "===\n",
            "(i = 4) + (j = 4) = 16\n",
            "===\n"
          ]
        }
      ]
    }
  ]
}