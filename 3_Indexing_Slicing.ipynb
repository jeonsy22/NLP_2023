{
  "nbformat": 4,
  "nbformat_minor": 0,
  "metadata": {
    "colab": {
      "provenance": [],
      "include_colab_link": true
    },
    "kernelspec": {
      "name": "python3",
      "display_name": "Python 3"
    },
    "language_info": {
      "name": "python"
    }
  },
  "cells": [
    {
      "cell_type": "markdown",
      "metadata": {
        "id": "view-in-github",
        "colab_type": "text"
      },
      "source": [
        "<a href=\"https://colab.research.google.com/github/jeonsy22/NLP_2023/blob/main/3_Indexing_Slicing.ipynb\" target=\"_parent\"><img src=\"https://colab.research.google.com/assets/colab-badge.svg\" alt=\"Open In Colab\"/></a>"
      ]
    },
    {
      "cell_type": "code",
      "source": [
        "str1 = 'I love Python!'"
      ],
      "metadata": {
        "id": "FxRiWbi6KDKB"
      },
      "execution_count": 2,
      "outputs": []
    },
    {
      "cell_type": "markdown",
      "source": [
        "# 📌 Indexing of Sequence Data\n",
        "\n",
        "| str data | I |   | l | o | v | e |  | P | y | t | h | o |n | ! |\n",
        "|:---------|:--|:--|:--|:--|:--|:--|:--|:--|:--|:--|:--|:-|:-|:-:|\n",
        "| Forward Indexing | 0 | 1 | 2 | 3 | 4 | 5 | 6 | 7 | 8 | 9 | 10| 11| 12|13|\n",
        "| Backward Indexing|-14| -13| -12| -11| -10| -9| -8| -7| -6| -5| -4| -3| -2|-1|\n",
        "\n",
        "\n",
        "\n",
        "# ✂️ Slicing of List data\n",
        "\n",
        "        👻 You have to deduct one (-1) from the second element (2번째 요소를 |oo 미만|으로 해석한다.  \n",
        "\n",
        "- [:] from the first element to the final element (e.g., 'I love Python!')\n",
        "\n",
        "| str data | I |   | l | o | v | e |  | P | y | t | h | o |n | ! |\n",
        "|:---------|:--|:--|:--|:--|:--|:--|:--|:--|:--|:--|:--|:-|:-|:-:|\n",
        "| Forward Indexing | 0 | 1 | 2 | 3 | 4 | 5 | 6 | 7 | 8 | 9 | 10| 11| 12|13|\n",
        "| Backward Indexing|-14| -13| -12| -11| -10| -9| -8| -7| -6| -5| -4| -3| -2|-1|\n",
        "\n",
        "\n",
        "- [1:5] from Index 1 to Index 4 (e.g., ' love') (5 미만)\n",
        "\n",
        "\n",
        "| str data |   | l | o | v |\n",
        "|:---------|:--|:--|:--|:-:|\n",
        "| Forward Indexing | 1 | 2 | 3 | 4 |\n",
        "\n",
        "\n",
        "- [:5] from Index 0 to Index 4 (e.g., 'I love') (5 미만)\n",
        "\n",
        "\n",
        "| str data | I |   | l | o | v |\n",
        "|:---------|:--|:--|:--|:--|:-:|\n",
        "| Forward Indexing | 0 | 1 | 2 | 3 | 4 |\n",
        "\n",
        "\n",
        "- [5:] from Index 5 to the final element (e.g., 'e Python!')\n",
        "\n",
        "| str data | e |  | P | y | t | h | o |n | ! |\n",
        "|:---------|:--|:--|:--|:--|:--|:--|:-|:-|:-:|\n",
        "| Forward Indexing | 5 | 6 | 7 | 8 | 9 | 10| 11| 12|13|\n",
        "\n",
        "- [:-3] from forward Index 0 to Backward Index -4 (e.g., 'I love Pyth') (-3 미만)\n",
        "\n",
        "| str data | I |   | l | o | v | e |  | P | y | t | h |\n",
        "|:---------|:--|:--|:--|:--|:--|:--|:--|:--|:--|:--|:-:|\n",
        "| Forward Indexing | 0 | 1 | 2 | 3 | 4 | 5 | 6 | 7 | 8 | 9 | 10|\n",
        "| Backward Indexing|-14| -13| -12| -11| -10| -9| -8| -7| -6| -5| -4| -3| -2|-1|\n",
        "\n",
        "- [-3:] from backward Index -3 to the final element (e.g., 'on!')\n",
        "\n",
        "| str data | o |n | ! |\n",
        "|:---------|:-|:-|:-:|\n",
        "| Backward Indexing|-3| -2|-1|\n",
        "\n",
        "\n",
        "- [::2] Every other element from the first element (e.g., 'Ilv yho')\n",
        "\n",
        "| str data | I | l | v |  | y | h | o |\n",
        "|:---------|:--|:--|:--|:--|:--|:--|:-:|\n",
        "| Forward Indexing | 0 | 2 | 4 | 6 | 8 | 10| 12|\n",
        "\n",
        "\n",
        "\n",
        "# ⚾ ⚽ 🏀 🎾 🎯 It is time to get some exercise!"
      ],
      "metadata": {
        "id": "hz0-YwDvaAYj"
      }
    },
    {
      "cell_type": "code",
      "execution_count": null,
      "metadata": {
        "colab": {
          "base_uri": "https://localhost:8080/"
        },
        "id": "0mZYBcGxZz0O",
        "outputId": "f33f252d-45b9-4908-ad61-f710cb917d31"
      },
      "outputs": [
        {
          "output_type": "stream",
          "name": "stdout",
          "text": [
            "I love python\n",
            "['apple', 'banana', 'grapes', 'mango']\n",
            "('apple', 'banana', 'grapes', 'mango')\n"
          ]
        }
      ],
      "source": [
        "#@markdown 🚗 🚙 Sequence data (str, list, tuple)\n",
        "\n",
        "#@markdown ##Exercise\n",
        "\n",
        "\n",
        "str_data = 'I love python'\n",
        "list_data = ['apple', 'banana', 'grapes', 'mango']\n",
        "tuple_data = ('apple', 'banana', 'grapes', 'mango')\n",
        "\n",
        "print (str_data)\n",
        "print (list_data)\n",
        "print(tuple_data)"
      ]
    },
    {
      "cell_type": "code",
      "source": [
        "str_data = 'I love Python'\n",
        "list_data = ['apple', 'banana', 'grapes', 'mango']\n",
        "tuple_data = ('apple', 'banana', 'grapes', 'mango')\n",
        "\n",
        "print(str_data)\n",
        "print(list_data)\n",
        "print(tuple_data)"
      ],
      "metadata": {
        "id": "B-PgHFWdL9NI",
        "outputId": "e2fc5f38-b7f4-4322-c756-39c93632e909",
        "colab": {
          "base_uri": "https://localhost:8080/"
        }
      },
      "execution_count": 3,
      "outputs": [
        {
          "output_type": "stream",
          "name": "stdout",
          "text": [
            "I love Python\n",
            "['apple', 'banana', 'grapes', 'mango']\n",
            "('apple', 'banana', 'grapes', 'mango')\n"
          ]
        }
      ]
    },
    {
      "cell_type": "code",
      "source": [],
      "metadata": {
        "id": "Y2luR1NsM4YO"
      },
      "execution_count": null,
      "outputs": []
    },
    {
      "cell_type": "code",
      "source": [
        "strdata = \"I love Python\"\n",
        "print(strdata[0])\n",
        "print(strdata[1])\n",
        "print(strdata[2])\n",
        "print(strdata[3])\n",
        "print(strdata[4])\n",
        "print(strdata[5])\n",
        "print(strdata[6])\n",
        "print(strdata[7])\n",
        "print(strdata[8])\n",
        "print(strdata[9])\n",
        "print(strdata[10])\n",
        "print(strdata[11])\n",
        "print(strdata[12])"
      ],
      "metadata": {
        "id": "T87NTUOWM2zf"
      },
      "execution_count": null,
      "outputs": []
    },
    {
      "cell_type": "code",
      "source": [
        "strdata=\"I love Python\"\n",
        "print(strdata[-3])\n",
        "print(strdata[-5])\n",
        "print(strdata[-9])\n",
        "print(strdata[-12])\n",
        "print(strdata[-1])"
      ],
      "metadata": {
        "id": "JTdQWx0pOVEG",
        "outputId": "ccb7bdd5-eca3-4ad5-fc7b-04d1f81e0d59",
        "colab": {
          "base_uri": "https://localhost:8080/"
        }
      },
      "execution_count": 19,
      "outputs": [
        {
          "output_type": "stream",
          "name": "stdout",
          "text": [
            "h\n",
            "y\n",
            "v\n",
            " \n",
            "n\n"
          ]
        }
      ]
    },
    {
      "cell_type": "code",
      "source": [
        "strdata1=\"It's raining\"\n",
        "strdata2=\"I'm seoyoon\"\n",
        "print(strdata1[3])\n",
        "print(strdata1[-3])\n",
        "\n",
        "print(strdata2[5])\n",
        "print(strdata2[-4])"
      ],
      "metadata": {
        "id": "fZJadmkoOs_T",
        "outputId": "6af60701-5a8c-47e3-e986-064827eb298b",
        "colab": {
          "base_uri": "https://localhost:8080/"
        }
      },
      "execution_count": 26,
      "outputs": [
        {
          "output_type": "stream",
          "name": "stdout",
          "text": [
            "s\n",
            "i\n",
            "e\n",
            "y\n"
          ]
        }
      ]
    },
    {
      "cell_type": "code",
      "source": [
        "#@markdown 📌 Apply indices to string data\n",
        "\n",
        "#@markdown Forward Indexing\n",
        "\n",
        "str_data=\"I love Python\"\n",
        "print(str_data[0])\n",
        "print(str_data[1])\n",
        "print(str_data[2])\n",
        "print(str_data[3])\n",
        "print(str_data[4])\n",
        "print(str_data[5])\n",
        "print(str_data[6])\n",
        "print(str_data[7])\n",
        "print(str_data[8])\n",
        "print(str_data[9])\n",
        "print(str_data[10])\n",
        "print(str_data[11])\n",
        "print(str_data[12])"
      ],
      "metadata": {
        "id": "gdAwjLQIfRej",
        "outputId": "4d4e33d9-9750-429d-d0f9-274a5a968427",
        "colab": {
          "base_uri": "https://localhost:8080/"
        }
      },
      "execution_count": null,
      "outputs": [
        {
          "output_type": "stream",
          "name": "stdout",
          "text": [
            "I\n",
            " \n",
            "l\n",
            "o\n",
            "v\n",
            "e\n",
            " \n",
            "P\n",
            "y\n",
            "t\n",
            "h\n",
            "o\n",
            "n\n"
          ]
        }
      ]
    },
    {
      "cell_type": "code",
      "source": [
        "#@markdown 📌 Apply indices to string data\n",
        "\n",
        "#@markdown Backward Indexing\n",
        "\n",
        "str_data=\"I love Python\"\n",
        "print(str_data[-1])\n",
        "print(str_data[-2])\n",
        "print(str_data[-3])\n",
        "print(str_data[-4])\n",
        "print(str_data[-5])\n",
        "print(str_data[-6])\n",
        "print(str_data[-7])\n",
        "print(str_data[-8])\n",
        "print(str_data[-9])\n",
        "print(str_data[-10])\n",
        "print(str_data[-11])\n",
        "print(str_data[-12])\n",
        "print(str_data[-13])"
      ],
      "metadata": {
        "id": "3LaeY0POiniS",
        "outputId": "a5ea2aad-abfc-4876-af67-39a6bf20e22e",
        "colab": {
          "base_uri": "https://localhost:8080/"
        }
      },
      "execution_count": null,
      "outputs": [
        {
          "output_type": "stream",
          "name": "stdout",
          "text": [
            "n\n",
            "o\n",
            "h\n",
            "t\n",
            "y\n",
            "P\n",
            " \n",
            "e\n",
            "v\n",
            "o\n",
            "l\n",
            " \n",
            "I\n"
          ]
        }
      ]
    },
    {
      "cell_type": "code",
      "source": [
        "strdata = 'Time is money!!'\n",
        "print(strdata[5])\n",
        "print(strdata[-2])\n",
        "print(strdata[0])"
      ],
      "metadata": {
        "id": "S90zmkNWGdZt",
        "outputId": "b044d5cb-c128-4a99-99c3-384c6e8a7485",
        "colab": {
          "base_uri": "https://localhost:8080/"
        }
      },
      "execution_count": null,
      "outputs": [
        {
          "output_type": "stream",
          "name": "stdout",
          "text": [
            "i\n",
            "!\n",
            "T\n"
          ]
        }
      ]
    },
    {
      "cell_type": "code",
      "source": [
        "listdata1=[100, 200, [500, 600, 700]]\n",
        "print(listdata1[2][-1])"
      ],
      "metadata": {
        "id": "uB1RIdkdQyHy",
        "outputId": "ed264766-8f86-4eb8-c2c1-b09a42557523",
        "colab": {
          "base_uri": "https://localhost:8080/"
        }
      },
      "execution_count": 33,
      "outputs": [
        {
          "output_type": "stream",
          "name": "stdout",
          "text": [
            "700\n"
          ]
        }
      ]
    },
    {
      "cell_type": "code",
      "source": [
        "listdata = [1, 2, [1,2,3]]\n",
        "print(listdata[0])\n",
        "print(listdata[-1])\n",
        "print(listdata[2][-1])"
      ],
      "metadata": {
        "id": "zki7vU-sGfHK",
        "outputId": "95d1790d-fc79-4f58-a838-8a02659ebdf1",
        "colab": {
          "base_uri": "https://localhost:8080/"
        }
      },
      "execution_count": null,
      "outputs": [
        {
          "output_type": "stream",
          "name": "stdout",
          "text": [
            "1\n",
            "[1, 2, 3]\n",
            "3\n"
          ]
        }
      ]
    },
    {
      "cell_type": "code",
      "source": [
        "listdata = [1, 2, [1,2,3]]\n",
        "print(listdata[0])\n",
        "print(listdata[-1])\n",
        "print(listdata[2][-1])"
      ],
      "metadata": {
        "id": "2lOGPwp2PrEu",
        "outputId": "be288e39-5542-4c11-e14c-bb7e0f4d2ecb",
        "colab": {
          "base_uri": "https://localhost:8080/"
        }
      },
      "execution_count": 28,
      "outputs": [
        {
          "output_type": "stream",
          "name": "stdout",
          "text": [
            "1\n",
            "[1, 2, 3]\n",
            "3\n"
          ]
        }
      ]
    },
    {
      "cell_type": "code",
      "source": [
        "#@markdown 📌 Apply indices to List data\n",
        "\n",
        "#@markdown ## Replacment by means of using incices\n",
        "\n",
        "list_data = ['apple', 'banana', 'grapes', 'mango']\n",
        "list_data[0]=\"shine musket\"\n",
        "\n",
        "print (list_data)"
      ],
      "metadata": {
        "id": "a7fl8AK3jCTR",
        "outputId": "166e4934-b6e9-4fcc-b5c5-030d5c46738f",
        "colab": {
          "base_uri": "https://localhost:8080/"
        }
      },
      "execution_count": null,
      "outputs": [
        {
          "output_type": "stream",
          "name": "stdout",
          "text": [
            "['shine musket', 'banana', 'grapes', 'mango']\n"
          ]
        }
      ]
    },
    {
      "cell_type": "code",
      "source": [
        "list_data = ['apple', 'banana', 'grapes', 'mango']\n",
        "print(list_data)\n",
        "\n",
        "list_data[0]=\"shine musket\"\n",
        "\n",
        "print(list_data)"
      ],
      "metadata": {
        "id": "s4djsJXmRZ5p",
        "outputId": "822f9e55-c99a-4df1-8ec8-7b84dce44c89",
        "colab": {
          "base_uri": "https://localhost:8080/"
        }
      },
      "execution_count": 35,
      "outputs": [
        {
          "output_type": "stream",
          "name": "stdout",
          "text": [
            "['apple', 'banana', 'grapes', 'mango']\n",
            "['shine musket', 'banana', 'grapes', 'mango']\n"
          ]
        }
      ]
    },
    {
      "cell_type": "code",
      "source": [
        "#@markdown 👀 Apply indices to Tupple data\n",
        "\n",
        "#@markdown ### No Replacement for Tuple data (<font color = 'red'> TypeError</font> will pop up: <font color = 'red'>'tuple' object does not support item assignment)\n",
        "\n",
        "tuple_data = ('apple', 'banana', 'grapes', 'mango')\n",
        "tuple_data[0]=\"shine musket\"\n",
        "\n",
        "print (tuple_data)"
      ],
      "metadata": {
        "id": "u6Z0sSltvXSQ",
        "outputId": "2bcd9d79-b04d-44c9-9729-acae3a582548",
        "colab": {
          "base_uri": "https://localhost:8080/",
          "height": 236
        }
      },
      "execution_count": null,
      "outputs": [
        {
          "output_type": "error",
          "ename": "TypeError",
          "evalue": "ignored",
          "traceback": [
            "\u001b[0;31m---------------------------------------------------------------------------\u001b[0m",
            "\u001b[0;31mTypeError\u001b[0m                                 Traceback (most recent call last)",
            "\u001b[0;32m<ipython-input-9-7e8f143f0164>\u001b[0m in \u001b[0;36m<cell line: 6>\u001b[0;34m()\u001b[0m\n\u001b[1;32m      4\u001b[0m \u001b[0;34m\u001b[0m\u001b[0m\n\u001b[1;32m      5\u001b[0m \u001b[0mtuple_data\u001b[0m \u001b[0;34m=\u001b[0m \u001b[0;34m(\u001b[0m\u001b[0;34m'apple'\u001b[0m\u001b[0;34m,\u001b[0m \u001b[0;34m'banana'\u001b[0m\u001b[0;34m,\u001b[0m \u001b[0;34m'grapes'\u001b[0m\u001b[0;34m,\u001b[0m \u001b[0;34m'mango'\u001b[0m\u001b[0;34m)\u001b[0m\u001b[0;34m\u001b[0m\u001b[0;34m\u001b[0m\u001b[0m\n\u001b[0;32m----> 6\u001b[0;31m \u001b[0mtuple_data\u001b[0m\u001b[0;34m[\u001b[0m\u001b[0;36m0\u001b[0m\u001b[0;34m]\u001b[0m\u001b[0;34m=\u001b[0m\u001b[0;34m\"shine musket\"\u001b[0m\u001b[0;34m\u001b[0m\u001b[0;34m\u001b[0m\u001b[0m\n\u001b[0m\u001b[1;32m      7\u001b[0m \u001b[0;34m\u001b[0m\u001b[0m\n\u001b[1;32m      8\u001b[0m \u001b[0mprint\u001b[0m \u001b[0;34m(\u001b[0m\u001b[0mtuple_data\u001b[0m\u001b[0;34m)\u001b[0m\u001b[0;34m\u001b[0m\u001b[0;34m\u001b[0m\u001b[0m\n",
            "\u001b[0;31mTypeError\u001b[0m: 'tuple' object does not support item assignment"
          ]
        }
      ]
    },
    {
      "cell_type": "code",
      "source": [
        "tuple_data = ('apple', 'orrange', 'banana', 'peach', 'strawberry')\n",
        "tuple_data[0] = \"shine musket\"\n",
        "\n",
        "print(tuple_data)"
      ],
      "metadata": {
        "id": "W_di-to7S31h",
        "outputId": "b99bf80f-c8f9-4fec-85d4-711a797554eb",
        "colab": {
          "base_uri": "https://localhost:8080/",
          "height": 239
        }
      },
      "execution_count": 36,
      "outputs": [
        {
          "output_type": "error",
          "ename": "TypeError",
          "evalue": "ignored",
          "traceback": [
            "\u001b[0;31m---------------------------------------------------------------------------\u001b[0m",
            "\u001b[0;31mTypeError\u001b[0m                                 Traceback (most recent call last)",
            "\u001b[0;32m<ipython-input-36-99cf8a27e8e3>\u001b[0m in \u001b[0;36m<cell line: 2>\u001b[0;34m()\u001b[0m\n\u001b[1;32m      1\u001b[0m \u001b[0mtuple_data\u001b[0m \u001b[0;34m=\u001b[0m \u001b[0;34m(\u001b[0m\u001b[0;34m'apple'\u001b[0m\u001b[0;34m,\u001b[0m \u001b[0;34m'orrange'\u001b[0m\u001b[0;34m,\u001b[0m \u001b[0;34m'banana'\u001b[0m\u001b[0;34m,\u001b[0m \u001b[0;34m'peach'\u001b[0m\u001b[0;34m,\u001b[0m \u001b[0;34m'strawberry'\u001b[0m\u001b[0;34m)\u001b[0m\u001b[0;34m\u001b[0m\u001b[0;34m\u001b[0m\u001b[0m\n\u001b[0;32m----> 2\u001b[0;31m \u001b[0mtuple_data\u001b[0m\u001b[0;34m[\u001b[0m\u001b[0;36m0\u001b[0m\u001b[0;34m]\u001b[0m \u001b[0;34m=\u001b[0m \u001b[0;34m\"shine musket\"\u001b[0m\u001b[0;34m\u001b[0m\u001b[0;34m\u001b[0m\u001b[0m\n\u001b[0m\u001b[1;32m      3\u001b[0m \u001b[0;34m\u001b[0m\u001b[0m\n\u001b[1;32m      4\u001b[0m \u001b[0mprint\u001b[0m\u001b[0;34m(\u001b[0m\u001b[0mtuple_data\u001b[0m\u001b[0;34m)\u001b[0m\u001b[0;34m\u001b[0m\u001b[0;34m\u001b[0m\u001b[0m\n",
            "\u001b[0;31mTypeError\u001b[0m: 'tuple' object does not support item assignment"
          ]
        }
      ]
    },
    {
      "cell_type": "code",
      "source": [
        "strdata2 = 'abcdefghijklmno'\n",
        "print(strdata2)\n",
        "print(strdata2[1:5])\n",
        "print(strdata2[:7])\n",
        "print(strdata2[9:])\n",
        "print(strdata2[:-3])\n",
        "print(strdata2[-3:])\n",
        "print(strdata2[:])\n",
        "print(strdata2[::2])\n",
        "print(strdata[::3])"
      ],
      "metadata": {
        "id": "u3SJbiCkTsm6",
        "outputId": "56b65cba-ff7e-49ee-b579-51bd4618c6c0",
        "colab": {
          "base_uri": "https://localhost:8080/"
        }
      },
      "execution_count": 52,
      "outputs": [
        {
          "output_type": "stream",
          "name": "stdout",
          "text": [
            "abcdefghijklmno\n",
            "bcde\n",
            "abcdefg\n",
            "jklmno\n",
            "abcdefghijkl\n",
            "mno\n",
            "abcdefghijklmno\n",
            "acegikmo\n",
            "adgjm\n"
          ]
        }
      ]
    },
    {
      "cell_type": "code",
      "source": [
        "#@markdown Slice sequence data\n",
        "\n",
        "str_data = 'Time is money!!'\n",
        "print(str_data[1:5])\n",
        "print(str_data[:7])\n",
        "print(str_data[9:])\n",
        "print(str_data[:-3])\n",
        "print(str_data[-3:])\n",
        "print(str_data[:])\n",
        "print(str_data[::2]) # 처음부터 끝까지 스텝을 2로 해서 슬라이싱 하기."
      ],
      "metadata": {
        "id": "gsv43biRGwT1",
        "outputId": "572ea240-9ae5-41c9-b1a7-676e68511762",
        "colab": {
          "base_uri": "https://localhost:8080/"
        }
      },
      "execution_count": null,
      "outputs": [
        {
          "output_type": "stream",
          "name": "stdout",
          "text": [
            "ime \n",
            "Time is\n",
            "oney!!\n",
            "Time is mone\n",
            "y!!\n",
            "Time is money!!\n",
            "Tm smny!\n"
          ]
        }
      ]
    },
    {
      "cell_type": "markdown",
      "source": [
        "#시퀀스 자료 연결하기 (+)\n",
        "  -자료형이 동일한 두 개의 시퀀스 자료는 연결 가능\n",
        "  \n",
        "\n",
        "#시퀀스 자료 반복하기 (*숫자)"
      ],
      "metadata": {
        "id": "M_oQWafaH5Sf"
      }
    },
    {
      "cell_type": "code",
      "source": [
        "strdata1 = 'I love'; strdata2='Python'\n",
        "print (strdata1 + strdata2)\n",
        "print(strdata1*5)"
      ],
      "metadata": {
        "id": "9f7DeKbGIN4g",
        "outputId": "6ff5eff0-9e0c-43bf-9ef1-ab288d9f2110",
        "colab": {
          "base_uri": "https://localhost:8080/"
        }
      },
      "execution_count": null,
      "outputs": [
        {
          "output_type": "stream",
          "name": "stdout",
          "text": [
            "I lovePython\n",
            "I loveI loveI loveI loveI love\n"
          ]
        }
      ]
    },
    {
      "cell_type": "code",
      "source": [
        "strdata1 = 'I love' ; strdata0 = ' ' ; strdata2 = 'Python'\n",
        "print(strdata1)\n",
        "print(strdata2)\n",
        "print(strdata0)\n",
        "\n",
        "print(strdata1 + strdata2)\n",
        "print(strdata1*5)\n",
        "print(strdata1 + strdata0 + strdata2)"
      ],
      "metadata": {
        "id": "axHj9SHcVw6J",
        "outputId": "9700012d-d8ee-4c91-dffe-ea2e191b093c",
        "colab": {
          "base_uri": "https://localhost:8080/"
        }
      },
      "execution_count": 66,
      "outputs": [
        {
          "output_type": "stream",
          "name": "stdout",
          "text": [
            "I love\n",
            "Python\n",
            " \n",
            "I lovePython\n",
            "I loveI loveI loveI loveI love\n",
            "I love Python\n"
          ]
        }
      ]
    },
    {
      "cell_type": "markdown",
      "source": [
        "###  👀 🐾 **Make a wild guess how to <font color = 'red'> add space</font> between 'love' and 'Python.'**"
      ],
      "metadata": {
        "id": "KVg9q5iWqAlN"
      }
    },
    {
      "cell_type": "code",
      "source": [
        "#@markdown 💊 **Possibility 1️⃣ 💡**\n",
        "\n",
        "strdata1 = 'I love '; strdata2='Python'\n",
        "print (strdata1 + strdata2)"
      ],
      "metadata": {
        "cellView": "form",
        "id": "rknO5rNWqMN_"
      },
      "execution_count": null,
      "outputs": []
    },
    {
      "cell_type": "code",
      "source": [
        "#@markdown 💊 **Possibility 2️⃣ 💡**\n",
        "\n",
        "strdata1 = 'I love '; strdata2=' Python'\n",
        "print (strdata1 + strdata2)"
      ],
      "metadata": {
        "cellView": "form",
        "id": "KFsPImzMrW05"
      },
      "execution_count": null,
      "outputs": []
    },
    {
      "cell_type": "code",
      "source": [
        "#@markdown 💊 **Possibility 3️⃣ 💡**\n",
        "\n",
        "strdata1 = 'I love'; strdata0 = ' '; strdata2='Python'\n",
        "print (strdata1 + strdata0 + strdata2)"
      ],
      "metadata": {
        "id": "guhCjTVJrmyh"
      },
      "execution_count": null,
      "outputs": []
    },
    {
      "cell_type": "code",
      "source": [
        "subject = 'BTS'; verb= 'sings'; object = 'butter'\n",
        "sentence = subject + verb + object * 5\n",
        "print (sentence)\n"
      ],
      "metadata": {
        "id": "4Cx2C_BTIpQy",
        "outputId": "1c453f45-b523-431b-d239-5300dcfdf0b7",
        "colab": {
          "base_uri": "https://localhost:8080/"
        }
      },
      "execution_count": null,
      "outputs": [
        {
          "output_type": "stream",
          "name": "stdout",
          "text": [
            "BTSsingsbutterbutterbutterbutterbutter\n"
          ]
        }
      ]
    },
    {
      "cell_type": "code",
      "source": [
        "subject = 'BTS' ; verb= 'sings' ; object = 'butter' ; space = ' '\n",
        "sentence= subject + space + verb + space + object * 5\n",
        "print(sentence)"
      ],
      "metadata": {
        "id": "Aa6y7EwGXsKD",
        "outputId": "e186feb0-15c7-4dcb-f967-e1b5b17eec9c",
        "colab": {
          "base_uri": "https://localhost:8080/"
        }
      },
      "execution_count": 73,
      "outputs": [
        {
          "output_type": "stream",
          "name": "stdout",
          "text": [
            "BTS sings butterbutterbutterbutterbutter\n"
          ]
        }
      ]
    },
    {
      "cell_type": "code",
      "source": [
        "#@markdown 💊 Possibility 1️⃣ 💡\n",
        "\n",
        "subject = 'BTS '; verb= 'sings '; object = 'butter'\n",
        "sentence = subject + verb + object * 5"
      ],
      "metadata": {
        "id": "fvOfcWA9uOfJ"
      },
      "execution_count": null,
      "outputs": []
    },
    {
      "cell_type": "code",
      "source": [
        "#@markdown 시퀀스 자료 크기 이해하기 (len)\n",
        "\n",
        "str_data = 'I love Python'\n",
        "print(len(str_data))"
      ],
      "metadata": {
        "id": "-Y7LAfeXKDsO",
        "outputId": "b362da3c-074a-4835-a269-18c6d2aa21bc",
        "colab": {
          "base_uri": "https://localhost:8080/"
        }
      },
      "execution_count": null,
      "outputs": [
        {
          "output_type": "stream",
          "name": "stdout",
          "text": [
            "13\n"
          ]
        }
      ]
    },
    {
      "cell_type": "code",
      "source": [
        "str_data5 = 'I love Python'\n",
        "print(len(str_data))"
      ],
      "metadata": {
        "id": "j9SQfsr-YZoi",
        "outputId": "2f6b1e0d-00d5-4f57-87cc-a1c0c9188fdb",
        "colab": {
          "base_uri": "https://localhost:8080/"
        }
      },
      "execution_count": 75,
      "outputs": [
        {
          "output_type": "stream",
          "name": "stdout",
          "text": [
            "13\n"
          ]
        }
      ]
    }
  ]
}