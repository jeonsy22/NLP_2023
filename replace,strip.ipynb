{
  "nbformat": 4,
  "nbformat_minor": 0,
  "metadata": {
    "colab": {
      "provenance": [],
      "authorship_tag": "ABX9TyMvTdsj9p4hKfavaTLP/qGE",
      "include_colab_link": true
    },
    "kernelspec": {
      "name": "python3",
      "display_name": "Python 3"
    },
    "language_info": {
      "name": "python"
    }
  },
  "cells": [
    {
      "cell_type": "markdown",
      "metadata": {
        "id": "view-in-github",
        "colab_type": "text"
      },
      "source": [
        "<a href=\"https://colab.research.google.com/github/jeonsy22/NLP_2023/blob/main/replace%2Cstrip.ipynb\" target=\"_parent\"><img src=\"https://colab.research.google.com/assets/colab-badge.svg\" alt=\"Open In Colab\"/></a>"
      ]
    },
    {
      "cell_type": "markdown",
      "source": [
        "replace(): 문자열 바꾸기\n",
        "* 문자열에 **replace(바꿀 대상, 바꾸려는 문자열)** 지정하여 문자열을 변경한다.\n",
        "* 결과는 복사본이 만들어져 반환된다."
      ],
      "metadata": {
        "id": "goJ37facKX34"
      }
    },
    {
      "cell_type": "code",
      "execution_count": 1,
      "metadata": {
        "id": "atsKb8uuKMMO"
      },
      "outputs": [],
      "source": [
        "a = '01-sample.png'"
      ]
    },
    {
      "cell_type": "code",
      "source": [
        "a.replace('.png', '.jpg')"
      ],
      "metadata": {
        "colab": {
          "base_uri": "https://localhost:8080/",
          "height": 35
        },
        "id": "dVIL78wUKtM0",
        "outputId": "2c240f5d-5d1b-4401-e2e9-936f50311615"
      },
      "execution_count": 4,
      "outputs": [
        {
          "output_type": "execute_result",
          "data": {
            "text/plain": [
              "'01-sample.jpg'"
            ],
            "application/vnd.google.colaboratory.intrinsic+json": {
              "type": "string"
            }
          },
          "metadata": {},
          "execution_count": 4
        }
      ]
    },
    {
      "cell_type": "markdown",
      "source": [
        "반환값은 복사본이며 원본에 **변경사항이 바로 적용되지 않는다.**"
      ],
      "metadata": {
        "id": "ZhQhLNh-K4QP"
      }
    },
    {
      "cell_type": "code",
      "source": [
        "a"
      ],
      "metadata": {
        "colab": {
          "base_uri": "https://localhost:8080/",
          "height": 35
        },
        "id": "3q3gim1aK0Qb",
        "outputId": "f5a8dc39-f06e-4844-945a-7b4319cb0c91"
      },
      "execution_count": 5,
      "outputs": [
        {
          "output_type": "execute_result",
          "data": {
            "text/plain": [
              "'01-sample.png'"
            ],
            "application/vnd.google.colaboratory.intrinsic+json": {
              "type": "string"
            }
          },
          "metadata": {},
          "execution_count": 5
        }
      ]
    },
    {
      "cell_type": "code",
      "source": [
        "new_a = a.replace('.png', '.jpg')"
      ],
      "metadata": {
        "id": "gJHh5L9zK-se"
      },
      "execution_count": 8,
      "outputs": []
    },
    {
      "cell_type": "code",
      "source": [
        "print(new_a)"
      ],
      "metadata": {
        "colab": {
          "base_uri": "https://localhost:8080/"
        },
        "id": "eQ9IcMaSLNT9",
        "outputId": "96bd98c7-4e92-4806-90da-d9894ba6010f"
      },
      "execution_count": 9,
      "outputs": [
        {
          "output_type": "stream",
          "name": "stdout",
          "text": [
            "01-sample.jpg\n"
          ]
        }
      ]
    },
    {
      "cell_type": "markdown",
      "source": [
        "불필요한 공백 제거"
      ],
      "metadata": {
        "id": "lW80I1xKLY62"
      }
    },
    {
      "cell_type": "code",
      "source": [
        "a = '   01-sample.png  '"
      ],
      "metadata": {
        "id": "AJ-vvXngLTUG"
      },
      "execution_count": 15,
      "outputs": []
    },
    {
      "cell_type": "code",
      "source": [
        "print(a)"
      ],
      "metadata": {
        "colab": {
          "base_uri": "https://localhost:8080/"
        },
        "id": "6HOCVsePLi_3",
        "outputId": "56bf1bb2-fed9-41af-c01a-25ff1c974c1c"
      },
      "execution_count": 16,
      "outputs": [
        {
          "output_type": "stream",
          "name": "stdout",
          "text": [
            "   01-sample.png  \n"
          ]
        }
      ]
    },
    {
      "cell_type": "markdown",
      "source": [
        "**strip은 불필요한 공백을 제거**한다."
      ],
      "metadata": {
        "id": "CD-uxGbyLk_r"
      }
    },
    {
      "cell_type": "markdown",
      "source": [
        "lstrip(): 왼쪽 공백 제거"
      ],
      "metadata": {
        "id": "jdjQH7ZSLqY5"
      }
    },
    {
      "cell_type": "code",
      "source": [
        "a.lstrip()"
      ],
      "metadata": {
        "colab": {
          "base_uri": "https://localhost:8080/",
          "height": 35
        },
        "id": "xfcqDduhLkDC",
        "outputId": "035bd5ee-5fca-441d-ffd2-7ecfe80c418e"
      },
      "execution_count": 17,
      "outputs": [
        {
          "output_type": "execute_result",
          "data": {
            "text/plain": [
              "'01-sample.png  '"
            ],
            "application/vnd.google.colaboratory.intrinsic+json": {
              "type": "string"
            }
          },
          "metadata": {},
          "execution_count": 17
        }
      ]
    },
    {
      "cell_type": "markdown",
      "source": [
        "rstrip(): 오른쪽 공백 제거"
      ],
      "metadata": {
        "id": "Hf01X55iMAiR"
      }
    },
    {
      "cell_type": "code",
      "source": [
        "a.rstrip()"
      ],
      "metadata": {
        "colab": {
          "base_uri": "https://localhost:8080/",
          "height": 35
        },
        "id": "E3CspA1ZL_iu",
        "outputId": "efcc343b-43cc-40af-de97-ff452bccd404"
      },
      "execution_count": 18,
      "outputs": [
        {
          "output_type": "execute_result",
          "data": {
            "text/plain": [
              "'   01-sample.png'"
            ],
            "application/vnd.google.colaboratory.intrinsic+json": {
              "type": "string"
            }
          },
          "metadata": {},
          "execution_count": 18
        }
      ]
    },
    {
      "cell_type": "markdown",
      "source": [
        "strip(): 양쪽 공백 제거"
      ],
      "metadata": {
        "id": "f0f0RkWdMJ86"
      }
    },
    {
      "cell_type": "code",
      "source": [
        "a.strip()"
      ],
      "metadata": {
        "colab": {
          "base_uri": "https://localhost:8080/",
          "height": 35
        },
        "id": "htpfN15_MIH5",
        "outputId": "10e80430-7a6f-4fde-a4f8-394dfa5c61f0"
      },
      "execution_count": 19,
      "outputs": [
        {
          "output_type": "execute_result",
          "data": {
            "text/plain": [
              "'01-sample.png'"
            ],
            "application/vnd.google.colaboratory.intrinsic+json": {
              "type": "string"
            }
          },
          "metadata": {},
          "execution_count": 19
        }
      ]
    }
  ]
}