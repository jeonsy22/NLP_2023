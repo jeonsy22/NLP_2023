{
  "nbformat": 4,
  "nbformat_minor": 0,
  "metadata": {
    "colab": {
      "provenance": [],
      "authorship_tag": "ABX9TyMtWUKKiEgfERMCbyEcWlwQ",
      "include_colab_link": true
    },
    "kernelspec": {
      "name": "python3",
      "display_name": "Python 3"
    },
    "language_info": {
      "name": "python"
    }
  },
  "cells": [
    {
      "cell_type": "markdown",
      "metadata": {
        "id": "view-in-github",
        "colab_type": "text"
      },
      "source": [
        "<a href=\"https://colab.research.google.com/github/jeonsy22/NLP_2023/blob/main/%EB%AA%A8%EB%93%88.ipynb\" target=\"_parent\"><img src=\"https://colab.research.google.com/assets/colab-badge.svg\" alt=\"Open In Colab\"/></a>"
      ]
    },
    {
      "cell_type": "markdown",
      "source": [
        "패키지와 모듈의 관계\n",
        "* **함수/변수/클래스**들이 뭉쳐진 하나의 .py파일 안에 이루어진 것을 **모듈**이라고 한다.\n",
        "* 여러 개의 모듈을 그룹화하면 **패키지**가 된다.\n",
        "* **라이브러리**는 패키지와 모듈의 집합체이다."
      ],
      "metadata": {
        "id": "6_n7VIBO9MQ1"
      }
    },
    {
      "cell_type": "markdown",
      "source": [
        "모듈 import\n",
        "* 모듈 import는 외장 라이브러리의 모듈을 불러오는 유용한 기능이다.\n",
        "* 모듈 import를 통해 다른 누군가가 이미 만들어 놓은 기능을 쉽게 가져와 사용할 수 있다.\n",
        "* 파이썬 모듈을 가져와 사용하기 위해서는 import 구문을 사용한다.\n",
        "* 파이썬 모듈을 import 하는 방법은 여러가지 방식이 존재한다."
      ],
      "metadata": {
        "id": "rIvn8OLNOGK1"
      }
    },
    {
      "cell_type": "markdown",
      "source": [
        "ramdom 모듈 import"
      ],
      "metadata": {
        "id": "-WJH1PQ-OnCG"
      }
    },
    {
      "cell_type": "code",
      "source": [
        "import random"
      ],
      "metadata": {
        "id": "qzve62c-9tmk"
      },
      "execution_count": 1,
      "outputs": []
    },
    {
      "cell_type": "code",
      "source": [
        "a = [1, 2, 3, 4, 5]\n",
        "\n",
        "random.shuffle(a)"
      ],
      "metadata": {
        "id": "UB7MxC7kOv08"
      },
      "execution_count": 2,
      "outputs": []
    },
    {
      "cell_type": "code",
      "source": [
        "a"
      ],
      "metadata": {
        "colab": {
          "base_uri": "https://localhost:8080/"
        },
        "id": "Ga1dR1F5O1Fd",
        "outputId": "d865fd61-8371-456e-d332-d34a2b1b78fc"
      },
      "execution_count": 3,
      "outputs": [
        {
          "output_type": "execute_result",
          "data": {
            "text/plain": [
              "[5, 4, 1, 2, 3]"
            ]
          },
          "metadata": {},
          "execution_count": 3
        }
      ]
    },
    {
      "cell_type": "markdown",
      "source": [
        "random 모듈을 rd 별칭(alias) 지정"
      ],
      "metadata": {
        "id": "_uAZw42-O29X"
      }
    },
    {
      "cell_type": "code",
      "source": [
        "import random as rd"
      ],
      "metadata": {
        "id": "9mtUwfD9O2Mw"
      },
      "execution_count": 5,
      "outputs": []
    },
    {
      "cell_type": "code",
      "source": [
        "b = [1, 2, 3, 4, 5]\n",
        "\n",
        "rd.shuffle(b)"
      ],
      "metadata": {
        "id": "kojSe-JEPCfL"
      },
      "execution_count": 7,
      "outputs": []
    },
    {
      "cell_type": "code",
      "source": [
        "b"
      ],
      "metadata": {
        "colab": {
          "base_uri": "https://localhost:8080/"
        },
        "id": "be1rUFzrPu5N",
        "outputId": "9faba227-4201-48e1-d2af-c1637eb49dfe"
      },
      "execution_count": 11,
      "outputs": [
        {
          "output_type": "execute_result",
          "data": {
            "text/plain": [
              "[4, 3, 1, 2, 5]"
            ]
          },
          "metadata": {},
          "execution_count": 11
        }
      ]
    },
    {
      "cell_type": "code",
      "source": [
        "import random as 랜덤"
      ],
      "metadata": {
        "id": "uXrpGaVBPWzE"
      },
      "execution_count": 12,
      "outputs": []
    },
    {
      "cell_type": "code",
      "source": [
        "c = [3, 6, 8, 1, 5]\n",
        "\n",
        "랜덤.shuffle(c)"
      ],
      "metadata": {
        "id": "23XZY8QnPhSK"
      },
      "execution_count": 13,
      "outputs": []
    },
    {
      "cell_type": "code",
      "source": [
        "c"
      ],
      "metadata": {
        "colab": {
          "base_uri": "https://localhost:8080/"
        },
        "id": "x3dNxnOWPpkK",
        "outputId": "1296b16f-3d7c-437f-f664-2d501931999b"
      },
      "execution_count": 14,
      "outputs": [
        {
          "output_type": "execute_result",
          "data": {
            "text/plain": [
              "[3, 5, 6, 1, 8]"
            ]
          },
          "metadata": {},
          "execution_count": 14
        }
      ]
    },
    {
      "cell_type": "markdown",
      "source": [
        "random 모듈의 shuffle() 함수 import"
      ],
      "metadata": {
        "id": "zNmfEHkvP1Bv"
      }
    },
    {
      "cell_type": "code",
      "source": [
        "from random import shuffle"
      ],
      "metadata": {
        "id": "IyUDYY8DPwd8"
      },
      "execution_count": 15,
      "outputs": []
    },
    {
      "cell_type": "code",
      "source": [
        "d = [1, 2, 3, 4, 5]\n",
        "\n",
        "shuffle(d)"
      ],
      "metadata": {
        "id": "405ynNwjQCnz"
      },
      "execution_count": 16,
      "outputs": []
    },
    {
      "cell_type": "code",
      "source": [
        "d"
      ],
      "metadata": {
        "colab": {
          "base_uri": "https://localhost:8080/"
        },
        "id": "8m9ObNcfQGCN",
        "outputId": "712e272e-a9c4-488e-c6df-03f7e1262755"
      },
      "execution_count": 17,
      "outputs": [
        {
          "output_type": "execute_result",
          "data": {
            "text/plain": [
              "[3, 1, 4, 5, 2]"
            ]
          },
          "metadata": {},
          "execution_count": 17
        }
      ]
    },
    {
      "cell_type": "markdown",
      "source": [
        "random 모듈의 shuffle() 함수를 sf 별칭(alias) 지정"
      ],
      "metadata": {
        "id": "EFagH_TgQQrB"
      }
    },
    {
      "cell_type": "code",
      "source": [
        "from random import shuffle as sf"
      ],
      "metadata": {
        "id": "yqw2QxsSQGqf"
      },
      "execution_count": 18,
      "outputs": []
    },
    {
      "cell_type": "code",
      "source": [
        "e = [1, 2, 3, 4, 5]\n",
        "\n",
        "sf(e)"
      ],
      "metadata": {
        "id": "t0z8bYoaQcGG"
      },
      "execution_count": 19,
      "outputs": []
    },
    {
      "cell_type": "code",
      "source": [
        "e"
      ],
      "metadata": {
        "colab": {
          "base_uri": "https://localhost:8080/"
        },
        "id": "a4EVM-DNQfFw",
        "outputId": "0e9c3bd1-fb30-45fe-bcd9-8f8dd21b7a97"
      },
      "execution_count": 20,
      "outputs": [
        {
          "output_type": "execute_result",
          "data": {
            "text/plain": [
              "[1, 2, 3, 4, 5]"
            ]
          },
          "metadata": {},
          "execution_count": 20
        }
      ]
    }
  ]
}