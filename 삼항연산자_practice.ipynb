{
  "nbformat": 4,
  "nbformat_minor": 0,
  "metadata": {
    "colab": {
      "provenance": [],
      "authorship_tag": "ABX9TyMnciqHVhuSAwPwwJODkK2O",
      "include_colab_link": true
    },
    "kernelspec": {
      "name": "python3",
      "display_name": "Python 3"
    },
    "language_info": {
      "name": "python"
    }
  },
  "cells": [
    {
      "cell_type": "markdown",
      "metadata": {
        "id": "view-in-github",
        "colab_type": "text"
      },
      "source": [
        "<a href=\"https://colab.research.google.com/github/jeonsy22/NLP_2023/blob/main/%EC%82%BC%ED%95%AD%EC%97%B0%EC%82%B0%EC%9E%90_practice.ipynb\" target=\"_parent\"><img src=\"https://colab.research.google.com/assets/colab-badge.svg\" alt=\"Open In Colab\"/></a>"
      ]
    },
    {
      "cell_type": "code",
      "execution_count": 1,
      "metadata": {
        "colab": {
          "base_uri": "https://localhost:8080/"
        },
        "id": "vm6amiXqHQ7s",
        "outputId": "1b05f958-2005-4496-bd69-ac4a5a13a629"
      },
      "outputs": [
        {
          "output_type": "stream",
          "name": "stdout",
          "text": [
            "참\n"
          ]
        }
      ],
      "source": [
        "if 1:\n",
        "  print('참')\n",
        "else:\n",
        "  print('거짓')"
      ]
    },
    {
      "cell_type": "code",
      "source": [
        "if 0:\n",
        "  print('참')\n",
        "else:\n",
        "  print('거짓')"
      ],
      "metadata": {
        "colab": {
          "base_uri": "https://localhost:8080/"
        },
        "id": "WwJFJ5J6Haz6",
        "outputId": "2ea17f1b-6e43-4c34-facb-ad885f690b16"
      },
      "execution_count": 2,
      "outputs": [
        {
          "output_type": "stream",
          "name": "stdout",
          "text": [
            "거짓\n"
          ]
        }
      ]
    },
    {
      "cell_type": "markdown",
      "source": [
        "삼항연산자\n",
        "* (문법)**(참인 값) if 조건 else (거짓인 경우 값)**\n",
        "\n",
        "삼항연산자는 파이썬 문법에서 흔히 볼 수 있는 연산자이며, 조건에 대한 참인 경우의 값 그렇지 않은 경우의 값을 뒤에 지정한다."
      ],
      "metadata": {
        "id": "0PEfQ_l4Hgxt"
      }
    },
    {
      "cell_type": "code",
      "source": [
        "age = 35\n",
        "\"30세 이상입니다.\" if age >= 30 else \"30세 이하입니다.\""
      ],
      "metadata": {
        "colab": {
          "base_uri": "https://localhost:8080/",
          "height": 35
        },
        "id": "h9TnvuMcHf6R",
        "outputId": "9428ad5b-3e37-47c8-8204-ecc57ae6aad9"
      },
      "execution_count": 3,
      "outputs": [
        {
          "output_type": "execute_result",
          "data": {
            "text/plain": [
              "'30세 이상입니다.'"
            ],
            "application/vnd.google.colaboratory.intrinsic+json": {
              "type": "string"
            }
          },
          "metadata": {},
          "execution_count": 3
        }
      ]
    },
    {
      "cell_type": "code",
      "source": [
        "age = 20\n",
        "\"20세 이상입니다.\" if age >= 20 else \"20세 이하입니다.\""
      ],
      "metadata": {
        "colab": {
          "base_uri": "https://localhost:8080/",
          "height": 35
        },
        "id": "t9cFUyrkIP1G",
        "outputId": "e6864300-7bfc-44a4-920b-c1eb919abd5b"
      },
      "execution_count": 5,
      "outputs": [
        {
          "output_type": "execute_result",
          "data": {
            "text/plain": [
              "'20세 이상입니다.'"
            ],
            "application/vnd.google.colaboratory.intrinsic+json": {
              "type": "string"
            }
          },
          "metadata": {},
          "execution_count": 5
        }
      ]
    },
    {
      "cell_type": "code",
      "source": [
        "age = 35\n",
        "\"40세 이상입니다.\" if age >= 40 else \"40세 이하입니다.\""
      ],
      "metadata": {
        "colab": {
          "base_uri": "https://localhost:8080/",
          "height": 35
        },
        "id": "cg5fEYuNIdHX",
        "outputId": "45f0ce3c-b7b7-4528-a5d4-d1ddb3881cc3"
      },
      "execution_count": 6,
      "outputs": [
        {
          "output_type": "execute_result",
          "data": {
            "text/plain": [
              "'40세 이하입니다.'"
            ],
            "application/vnd.google.colaboratory.intrinsic+json": {
              "type": "string"
            }
          },
          "metadata": {},
          "execution_count": 6
        }
      ]
    }
  ]
}