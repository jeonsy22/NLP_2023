{
  "nbformat": 4,
  "nbformat_minor": 0,
  "metadata": {
    "colab": {
      "provenance": [],
      "authorship_tag": "ABX9TyOD8I5YR5uXwnobxB+mfRso",
      "include_colab_link": true
    },
    "kernelspec": {
      "name": "python3",
      "display_name": "Python 3"
    },
    "language_info": {
      "name": "python"
    }
  },
  "cells": [
    {
      "cell_type": "markdown",
      "metadata": {
        "id": "view-in-github",
        "colab_type": "text"
      },
      "source": [
        "<a href=\"https://colab.research.google.com/github/jeonsy22/NLP_2023/blob/main/%ED%8C%90%EB%8B%A4%EC%8A%A4_%EC%8B%9C%EB%A6%AC%EC%A6%88_%EC%97%B0%EC%82%B02.ipynb\" target=\"_parent\"><img src=\"https://colab.research.google.com/assets/colab-badge.svg\" alt=\"Open In Colab\"/></a>"
      ]
    },
    {
      "cell_type": "markdown",
      "source": [
        "시리즈 필터링\n",
        "* 사가가 300원 이상인 날의 종가를 출력"
      ],
      "metadata": {
        "id": "YgO0Zh5Iiubb"
      }
    },
    {
      "cell_type": "code",
      "execution_count": 2,
      "metadata": {
        "id": "Cvpw1AJ2imks"
      },
      "outputs": [],
      "source": [
        "from pandas import Series\n",
        "시가 = Series([100, 200, 300, 400, 600])\n",
        "종가 = Series([100, 300, 400, 500, 600])\n",
        "\n",
        "조건 = (시가 >= 300)"
      ]
    },
    {
      "cell_type": "markdown",
      "source": [
        "#연습문제"
      ],
      "metadata": {
        "id": "xirQzcqIl0wy"
      }
    },
    {
      "cell_type": "markdown",
      "source": [
        "1.고가와 저가 차이가 100 이상인 날의 고가를 출력하세요."
      ],
      "metadata": {
        "id": "nU-oX4M-jvNu"
      }
    },
    {
      "cell_type": "code",
      "source": [
        "import pandas as pd\n",
        "\n",
        "저가 = pd.Series([10, 200, 200, 400, 600])\n",
        "고가 = pd.Series([100, 300, 400, 500, 600])"
      ],
      "metadata": {
        "id": "fhxzDx5kju_0"
      },
      "execution_count": 3,
      "outputs": []
    },
    {
      "cell_type": "code",
      "source": [
        "cond = (고가 - 저가) >= 100\n",
        "고가[cond]"
      ],
      "metadata": {
        "colab": {
          "base_uri": "https://localhost:8080/"
        },
        "id": "Ulw7v_y7ka_m",
        "outputId": "3c34e8a3-d935-4e8b-b0d4-ca3122784105"
      },
      "execution_count": 5,
      "outputs": [
        {
          "output_type": "execute_result",
          "data": {
            "text/plain": [
              "1    300\n",
              "2    400\n",
              "3    500\n",
              "dtype: int64"
            ]
          },
          "metadata": {},
          "execution_count": 5
        }
      ]
    },
    {
      "cell_type": "markdown",
      "source": [
        "2.종가가 80000원 이상 90000원 미만인 날짜를 출력하라."
      ],
      "metadata": {
        "id": "tXFZMKiekGcx"
      }
    },
    {
      "cell_type": "code",
      "source": [
        "data = [93000, 83400, 99100, 81000, 72300]\n",
        "index = ['05/14', '05/15', '05/16', '05/17', '05/18']\n",
        "종가 = pd.Series(data = data, index = index)\n",
        "종가"
      ],
      "metadata": {
        "colab": {
          "base_uri": "https://localhost:8080/"
        },
        "id": "sbTUKDQejpm-",
        "outputId": "55eb9148-2ea7-4e72-eada-4de6634ee17c"
      },
      "execution_count": 8,
      "outputs": [
        {
          "output_type": "execute_result",
          "data": {
            "text/plain": [
              "05/14    93000\n",
              "05/15    83400\n",
              "05/16    99100\n",
              "05/17    81000\n",
              "05/18    72300\n",
              "dtype: int64"
            ]
          },
          "metadata": {},
          "execution_count": 8
        }
      ]
    },
    {
      "cell_type": "code",
      "source": [
        "조건 = (종가 >= 80000) & (종가 < 90000)\n",
        "종가[조건]"
      ],
      "metadata": {
        "colab": {
          "base_uri": "https://localhost:8080/"
        },
        "id": "yqRIvD4mk61T",
        "outputId": "f9faaa4e-b4a5-42a2-90e0-539b970861bd"
      },
      "execution_count": 10,
      "outputs": [
        {
          "output_type": "execute_result",
          "data": {
            "text/plain": [
              "05/15    83400\n",
              "05/17    81000\n",
              "dtype: int64"
            ]
          },
          "metadata": {},
          "execution_count": 10
        }
      ]
    },
    {
      "cell_type": "code",
      "source": [
        "종가[조건].index"
      ],
      "metadata": {
        "colab": {
          "base_uri": "https://localhost:8080/"
        },
        "id": "FF01eSoXldmF",
        "outputId": "01151177-480c-41ba-eb4e-5554339025c4"
      },
      "execution_count": 11,
      "outputs": [
        {
          "output_type": "execute_result",
          "data": {
            "text/plain": [
              "Index(['05/15', '05/17'], dtype='object')"
            ]
          },
          "metadata": {},
          "execution_count": 11
        }
      ]
    },
    {
      "cell_type": "code",
      "source": [
        "for data in 종가[조건].index:\n",
        "  print(data)"
      ],
      "metadata": {
        "colab": {
          "base_uri": "https://localhost:8080/"
        },
        "id": "4Bz5RBf1lugt",
        "outputId": "1d7abde8-b901-4b2f-e0bb-e7c22b647d14"
      },
      "execution_count": 12,
      "outputs": [
        {
          "output_type": "stream",
          "name": "stdout",
          "text": [
            "05/15\n",
            "05/17\n"
          ]
        }
      ]
    }
  ]
}