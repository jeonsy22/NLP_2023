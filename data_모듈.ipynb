{
  "nbformat": 4,
  "nbformat_minor": 0,
  "metadata": {
    "colab": {
      "provenance": [],
      "authorship_tag": "ABX9TyOA41W2XJ/eOWoqHUwITZXN",
      "include_colab_link": true
    },
    "kernelspec": {
      "name": "python3",
      "display_name": "Python 3"
    },
    "language_info": {
      "name": "python"
    }
  },
  "cells": [
    {
      "cell_type": "markdown",
      "metadata": {
        "id": "view-in-github",
        "colab_type": "text"
      },
      "source": [
        "<a href=\"https://colab.research.google.com/github/jeonsy22/NLP_2023/blob/main/data_%EB%AA%A8%EB%93%88.ipynb\" target=\"_parent\"><img src=\"https://colab.research.google.com/assets/colab-badge.svg\" alt=\"Open In Colab\"/></a>"
      ]
    },
    {
      "cell_type": "markdown",
      "source": [
        "자주 사용하는 파이썬 데이터 분석 모듈"
      ],
      "metadata": {
        "id": "gMp_OVadQ4Q-"
      }
    },
    {
      "cell_type": "code",
      "source": [
        "import numpy as np\n",
        "import pandas as pd\n",
        "import matplotlib.pyplot as plt\n",
        "import seaborn as sns\n",
        "import random"
      ],
      "metadata": {
        "id": "tfNBDHVJQ8U6"
      },
      "execution_count": 1,
      "outputs": []
    },
    {
      "cell_type": "markdown",
      "source": [
        "* numpy: 과학 계산을 위한 패키지\n",
        "* pandas: 데이터 분석을 할 때 가장 많이 쓰이는 모듈\n",
        "* matplotlib: 시각화를 위한 모듈\n",
        "* seaborn: 시각화를 위한 모듈(matpoltlib을 더 쉽게 사용할 수 있도록 도와주는 패키지)\n",
        "* random: 난수 생성 관련 모듈"
      ],
      "metadata": {
        "id": "AXS_GVIARWX1"
      }
    }
  ]
}