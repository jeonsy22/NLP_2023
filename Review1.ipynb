{
  "nbformat": 4,
  "nbformat_minor": 0,
  "metadata": {
    "colab": {
      "provenance": [],
      "authorship_tag": "ABX9TyO5vYqBttxSgtrsMMkHpLHU",
      "include_colab_link": true
    },
    "kernelspec": {
      "name": "python3",
      "display_name": "Python 3"
    },
    "language_info": {
      "name": "python"
    }
  },
  "cells": [
    {
      "cell_type": "markdown",
      "metadata": {
        "id": "view-in-github",
        "colab_type": "text"
      },
      "source": [
        "<a href=\"https://colab.research.google.com/github/jeonsy22/NLP_2023/blob/main/Review1.ipynb\" target=\"_parent\"><img src=\"https://colab.research.google.com/assets/colab-badge.svg\" alt=\"Open In Colab\"/></a>"
      ]
    },
    {
      "cell_type": "markdown",
      "source": [
        "#✏️Review what you learned in the last session🔖"
      ],
      "metadata": {
        "id": "mcfETsmC8qCv"
      }
    },
    {
      "cell_type": "markdown",
      "source": [
        "# 📇 Indexing of Sequence Data\n",
        "| str data | I | ' | m |   | s | e | o | y | o | o | n |   | J | e | o | n |\n",
        "|:---------|:--|:--|:--|:--|:--|:--|:--|:--|:--|:--|:--|:--|:--|:--|:--|:--|\n",
        "| Forward Indexing | 0 | 1 | 2 | 3 | 4 | 5 | 6 | 7 | 8 | 9 | 10| 11| 12| 13| 14| 15|\n",
        "| Backward Indexing|-16|-15|-14| -13| -12| -11| -10| -9| -8| -7| -6| -5| -4| -3| -2|-1|"
      ],
      "metadata": {
        "id": "N4BYBesh9pAI"
      }
    },
    {
      "cell_type": "code",
      "execution_count": 1,
      "metadata": {
        "id": "CM678Z5Q8FVK"
      },
      "outputs": [],
      "source": [
        "strdata = \"I'm seoyoon Jeon\""
      ]
    },
    {
      "cell_type": "code",
      "source": [
        "print(strdata[0])\n",
        "print(strdata[1])\n",
        "print(strdata[2])\n",
        "print(strdata[3])\n",
        "print(strdata[4])\n",
        "print(strdata[5])\n",
        "print(strdata[6])\n",
        "print(strdata[7])\n",
        "print(strdata[8])\n",
        "print(strdata[9])\n",
        "print(strdata[10])\n",
        "print(strdata[11])\n",
        "print(strdata[12])\n",
        "print(strdata[13])\n",
        "print(strdata[14])\n",
        "print(strdata[15])"
      ],
      "metadata": {
        "id": "BD2YmghC8cUA"
      },
      "execution_count": null,
      "outputs": []
    },
    {
      "cell_type": "code",
      "source": [
        "print(strdata[-2])\n",
        "print(strdata[-5])\n",
        "print(strdata[-6])\n",
        "print(strdata[-9])\n",
        "print(strdata[-14])"
      ],
      "metadata": {
        "colab": {
          "base_uri": "https://localhost:8080/"
        },
        "id": "og9Zwtf2-1Kj",
        "outputId": "99a3892b-70f3-4a9e-d920-92cf58d74083"
      },
      "execution_count": 4,
      "outputs": [
        {
          "output_type": "stream",
          "name": "stdout",
          "text": [
            "o\n",
            " \n",
            "n\n",
            "y\n",
            "m\n"
          ]
        }
      ]
    },
    {
      "cell_type": "code",
      "source": [
        "strdata2 = \"Hello, I'm very happy!\""
      ],
      "metadata": {
        "id": "Um5f0CMf_Vca"
      },
      "execution_count": 5,
      "outputs": []
    },
    {
      "cell_type": "code",
      "source": [
        "print(strdata2[2])\n",
        "print(strdata2[4])\n",
        "print(strdata2[-11])\n",
        "print(strdata2[12])\n",
        "print(strdata2[-1])"
      ],
      "metadata": {
        "colab": {
          "base_uri": "https://localhost:8080/"
        },
        "id": "9TnJ2WRM_ydA",
        "outputId": "2afbf9dc-75d9-407b-f730-29a772143ea6"
      },
      "execution_count": 9,
      "outputs": [
        {
          "output_type": "stream",
          "name": "stdout",
          "text": [
            "l\n",
            "o\n",
            "v\n",
            "e\n",
            "!\n"
          ]
        }
      ]
    },
    {
      "cell_type": "code",
      "source": [
        "list_data = ['cat', 'puppy', 'bare', 'rabbit', 'mouse']\n",
        "print(list_data)\n",
        "list_data[2] = 'Kangaroo'\n",
        "print(list_data)"
      ],
      "metadata": {
        "colab": {
          "base_uri": "https://localhost:8080/"
        },
        "id": "p7dj-qSEBBNB",
        "outputId": "9a47403a-ee1a-45f7-ea49-96f49627c0bc"
      },
      "execution_count": 14,
      "outputs": [
        {
          "output_type": "stream",
          "name": "stdout",
          "text": [
            "['cat', 'puppy', 'bare', 'rabbit', 'mouse']\n",
            "['cat', 'puppy', 'Kangaroo', 'rabbit', 'mouse']\n"
          ]
        }
      ]
    },
    {
      "cell_type": "code",
      "source": [
        "list_data2 = ['나무늘보', '판다', '사슴', '기린', '돼지']\n",
        "print(list_data2)\n",
        "list_data2[4] = '쿼카'\n",
        "print(list_data2)"
      ],
      "metadata": {
        "colab": {
          "base_uri": "https://localhost:8080/"
        },
        "id": "qpGnKjy4Brsz",
        "outputId": "f4d3e4f9-cec8-4538-8b6b-df712b708546"
      },
      "execution_count": 13,
      "outputs": [
        {
          "output_type": "stream",
          "name": "stdout",
          "text": [
            "['나무늘보', '판다', '사슴', '기린', '돼지']\n",
            "['나무늘보', '판다', '사슴', '기린', '쿼카']\n"
          ]
        }
      ]
    }
  ]
}