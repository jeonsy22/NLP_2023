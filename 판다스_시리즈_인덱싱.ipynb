{
  "nbformat": 4,
  "nbformat_minor": 0,
  "metadata": {
    "colab": {
      "provenance": [],
      "authorship_tag": "ABX9TyMvHKUAgs0NVbgQIN4TP/8v",
      "include_colab_link": true
    },
    "kernelspec": {
      "name": "python3",
      "display_name": "Python 3"
    },
    "language_info": {
      "name": "python"
    }
  },
  "cells": [
    {
      "cell_type": "markdown",
      "metadata": {
        "id": "view-in-github",
        "colab_type": "text"
      },
      "source": [
        "<a href=\"https://colab.research.google.com/github/jeonsy22/NLP_2023/blob/main/%ED%8C%90%EB%8B%A4%EC%8A%A4_%EC%8B%9C%EB%A6%AC%EC%A6%88_%EC%9D%B8%EB%8D%B1%EC%8B%B1.ipynb\" target=\"_parent\"><img src=\"https://colab.research.google.com/assets/colab-badge.svg\" alt=\"Open In Colab\"/></a>"
      ]
    },
    {
      "cell_type": "markdown",
      "source": [
        "Series 인덱싱(1/3)\n",
        "* iloc 속성(변수)를 사용하여 인덱싱\n",
        "* 시리즈 객체이 행번호를 사용하여 인덱싱"
      ],
      "metadata": {
        "id": "7SSoMH_rPeY-"
      }
    },
    {
      "cell_type": "code",
      "source": [
        "import pandas as pd\n",
        "\n",
        "data  = [100, 200, 300]\n",
        "index = [\"월\", \"화\", \"수\"]\n",
        "s = pd.Series(data, index)\n",
        "s"
      ],
      "metadata": {
        "colab": {
          "base_uri": "https://localhost:8080/"
        },
        "id": "dIXzwZpqPeGW",
        "outputId": "9bcf88e3-df10-48dd-f48e-993265c7ffb0"
      },
      "execution_count": 1,
      "outputs": [
        {
          "output_type": "execute_result",
          "data": {
            "text/plain": [
              "월    100\n",
              "화    200\n",
              "수    300\n",
              "dtype: int64"
            ]
          },
          "metadata": {},
          "execution_count": 1
        }
      ]
    },
    {
      "cell_type": "code",
      "execution_count": 4,
      "metadata": {
        "colab": {
          "base_uri": "https://localhost:8080/"
        },
        "id": "_dAmimpSPZou",
        "outputId": "73fcee64-0edb-4a84-adda-449fbf5b870e"
      },
      "outputs": [
        {
          "output_type": "execute_result",
          "data": {
            "text/plain": [
              "100"
            ]
          },
          "metadata": {},
          "execution_count": 4
        }
      ],
      "source": [
        "s.iloc[0]"
      ]
    },
    {
      "cell_type": "code",
      "source": [
        "s.iloc[2]"
      ],
      "metadata": {
        "colab": {
          "base_uri": "https://localhost:8080/"
        },
        "id": "IsaGZdBfQFNP",
        "outputId": "2610d0bf-1871-4b86-8226-383fd7cc19d3"
      },
      "execution_count": 7,
      "outputs": [
        {
          "output_type": "execute_result",
          "data": {
            "text/plain": [
              "300"
            ]
          },
          "metadata": {},
          "execution_count": 7
        }
      ]
    },
    {
      "cell_type": "code",
      "source": [
        "s.iloc[-1]"
      ],
      "metadata": {
        "colab": {
          "base_uri": "https://localhost:8080/"
        },
        "id": "KiDoSYoMQJo4",
        "outputId": "c482a314-73b3-497c-8873-a0885f68a29b"
      },
      "execution_count": 8,
      "outputs": [
        {
          "output_type": "execute_result",
          "data": {
            "text/plain": [
              "300"
            ]
          },
          "metadata": {},
          "execution_count": 8
        }
      ]
    },
    {
      "cell_type": "markdown",
      "source": [
        "Series 인덱싱(2/3)\n",
        "* lox 속성을 사용\n",
        "* 시리즈 객체의 인덱스로 인덱싱"
      ],
      "metadata": {
        "id": "C6eBd4rLQUc6"
      }
    },
    {
      "cell_type": "code",
      "source": [
        "s.loc[\"월\"]"
      ],
      "metadata": {
        "colab": {
          "base_uri": "https://localhost:8080/"
        },
        "id": "9BcXlRHWQLcp",
        "outputId": "5572e949-6d52-4725-e1fd-ec54103fb2d9"
      },
      "execution_count": 9,
      "outputs": [
        {
          "output_type": "execute_result",
          "data": {
            "text/plain": [
              "100"
            ]
          },
          "metadata": {},
          "execution_count": 9
        }
      ]
    },
    {
      "cell_type": "code",
      "source": [
        "s.loc[\"화\"]"
      ],
      "metadata": {
        "colab": {
          "base_uri": "https://localhost:8080/"
        },
        "id": "2TpzFknlQhA6",
        "outputId": "e03298dc-e82e-4dac-d106-ed954ca157c7"
      },
      "execution_count": 10,
      "outputs": [
        {
          "output_type": "execute_result",
          "data": {
            "text/plain": [
              "200"
            ]
          },
          "metadata": {},
          "execution_count": 10
        }
      ]
    },
    {
      "cell_type": "code",
      "source": [
        "s.loc[\"수\"]"
      ],
      "metadata": {
        "colab": {
          "base_uri": "https://localhost:8080/"
        },
        "id": "_RvSkqF2QjYs",
        "outputId": "3d6a851c-27a1-4c68-8a8b-d532417c3896"
      },
      "execution_count": 11,
      "outputs": [
        {
          "output_type": "execute_result",
          "data": {
            "text/plain": [
              "300"
            ]
          },
          "metadata": {},
          "execution_count": 11
        }
      ]
    },
    {
      "cell_type": "code",
      "source": [
        "s"
      ],
      "metadata": {
        "colab": {
          "base_uri": "https://localhost:8080/"
        },
        "id": "GM2lAK4-Qkyf",
        "outputId": "3007450e-57ae-4758-eac3-cae0428ded1f"
      },
      "execution_count": 13,
      "outputs": [
        {
          "output_type": "execute_result",
          "data": {
            "text/plain": [
              "월    100\n",
              "화    200\n",
              "수    300\n",
              "dtype: int64"
            ]
          },
          "metadata": {},
          "execution_count": 13
        }
      ]
    },
    {
      "cell_type": "markdown",
      "source": [
        "Serise 인덱싱(3/3)\n",
        "* 대괄호([])를 사용하여 인덱싱"
      ],
      "metadata": {
        "id": "nl-UQs9oQyBc"
      }
    },
    {
      "cell_type": "code",
      "source": [
        "s[\"월\"]"
      ],
      "metadata": {
        "colab": {
          "base_uri": "https://localhost:8080/"
        },
        "id": "abtAMvkKQlUy",
        "outputId": "77a821f0-8e71-4090-ce39-c5cf0cb4444a"
      },
      "execution_count": 15,
      "outputs": [
        {
          "output_type": "execute_result",
          "data": {
            "text/plain": [
              "100"
            ]
          },
          "metadata": {},
          "execution_count": 15
        }
      ]
    },
    {
      "cell_type": "code",
      "source": [
        "s[\"수\"]"
      ],
      "metadata": {
        "colab": {
          "base_uri": "https://localhost:8080/"
        },
        "id": "AUMMVWzUR7J-",
        "outputId": "8a49c5f9-3e61-4fae-8986-6e7fed37413c"
      },
      "execution_count": 16,
      "outputs": [
        {
          "output_type": "execute_result",
          "data": {
            "text/plain": [
              "300"
            ]
          },
          "metadata": {},
          "execution_count": 16
        }
      ]
    },
    {
      "cell_type": "code",
      "source": [
        "s[0]"
      ],
      "metadata": {
        "colab": {
          "base_uri": "https://localhost:8080/"
        },
        "id": "6ZwjjQI4R-cb",
        "outputId": "9823146d-d25b-44c9-f325-a8fea61c7a12"
      },
      "execution_count": 17,
      "outputs": [
        {
          "output_type": "execute_result",
          "data": {
            "text/plain": [
              "100"
            ]
          },
          "metadata": {},
          "execution_count": 17
        }
      ]
    }
  ]
}