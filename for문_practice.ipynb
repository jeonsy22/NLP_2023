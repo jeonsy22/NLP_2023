{
  "nbformat": 4,
  "nbformat_minor": 0,
  "metadata": {
    "colab": {
      "provenance": [],
      "authorship_tag": "ABX9TyPOV5JXrmu2/fKZiufgIEqF",
      "include_colab_link": true
    },
    "kernelspec": {
      "name": "python3",
      "display_name": "Python 3"
    },
    "language_info": {
      "name": "python"
    }
  },
  "cells": [
    {
      "cell_type": "markdown",
      "metadata": {
        "id": "view-in-github",
        "colab_type": "text"
      },
      "source": [
        "<a href=\"https://colab.research.google.com/github/jeonsy22/NLP_2023/blob/main/for%EB%AC%B8_practice.ipynb\" target=\"_parent\"><img src=\"https://colab.research.google.com/assets/colab-badge.svg\" alt=\"Open In Colab\"/></a>"
      ]
    },
    {
      "cell_type": "code",
      "execution_count": 1,
      "metadata": {
        "id": "PoWc0NIStWsd",
        "colab": {
          "base_uri": "https://localhost:8080/"
        },
        "outputId": "057c7955-0466-4e26-f79c-47d2d97a84b5"
      },
      "outputs": [
        {
          "output_type": "stream",
          "name": "stdout",
          "text": [
            "햄버거\n",
            "치킨\n",
            "피자\n",
            "떡볶이\n",
            "마라탕\n"
          ]
        }
      ],
      "source": [
        "list_food = [\"햄버거\", \"치킨\", \"피자\", \"떡볶이\", \"마라탕\"]\n",
        "for f in list_food:\n",
        "  print(f)"
      ]
    },
    {
      "cell_type": "code",
      "source": [
        "tuple_food = (\"햄버거\", \"치킨\", \"피자\", \"떡볶이\", \"마라탕\")\n",
        "for f in tuple_food:\n",
        "  print(f)"
      ],
      "metadata": {
        "colab": {
          "base_uri": "https://localhost:8080/"
        },
        "id": "jB9WcCLpwXxd",
        "outputId": "f30bd599-5910-4a84-d8bf-a11c6046616c"
      },
      "execution_count": 3,
      "outputs": [
        {
          "output_type": "stream",
          "name": "stdout",
          "text": [
            "햄버거\n",
            "치킨\n",
            "피자\n",
            "떡볶이\n",
            "마라탕\n"
          ]
        }
      ]
    },
    {
      "cell_type": "code",
      "source": [
        "hello = \"안녕하세요!\"\n",
        "for h in hello:\n",
        "  print(h)"
      ],
      "metadata": {
        "colab": {
          "base_uri": "https://localhost:8080/"
        },
        "id": "8FZYayaMv3zd",
        "outputId": "29ff9aa3-c54b-4f1e-9d82-e4ad7a6bdcd4"
      },
      "execution_count": 4,
      "outputs": [
        {
          "output_type": "stream",
          "name": "stdout",
          "text": [
            "안\n",
            "녕\n",
            "하\n",
            "세\n",
            "요\n",
            "!\n"
          ]
        }
      ]
    },
    {
      "cell_type": "code",
      "source": [
        "#@markdown 연습문제\n",
        "\n",
        "#@markdown 5명에 대한 정보처리기사 자격증 시험 점수가 리스트에 담겨있습니다. 이때 각 점수가 합격 점수인지 불합격 점수인지 판별하여 출력하시오. (60점 이상 합격)\n",
        "\n",
        "score_list = [90, 45, 70, 60, 55]\n",
        "for s in score_list:\n",
        "  if s >= 60:\n",
        "    print(\"합격입니다!\")\n",
        "  else:\n",
        "    print(\"불합격입니다 ..\")"
      ],
      "metadata": {
        "colab": {
          "base_uri": "https://localhost:8080/"
        },
        "id": "FBpMm6TuwWEL",
        "outputId": "4e0819aa-fc7b-4f92-c890-6c497bd61ec5"
      },
      "execution_count": 11,
      "outputs": [
        {
          "output_type": "stream",
          "name": "stdout",
          "text": [
            "합격입니다!\n",
            "불합격입니다 ..\n",
            "합격입니다!\n",
            "합격입니다!\n",
            "불합격입니다 ..\n"
          ]
        }
      ]
    },
    {
      "cell_type": "code",
      "source": [
        "score_list = [90, 45, 70, 60, 55]\n",
        "number = 1\n",
        "for s in score_list:\n",
        "  if s >= 60:\n",
        "    print(\"{}번 학생은 합격입니다!\". format(number))\n",
        "  else:\n",
        "    print(\"{}번 학생은 불합격입니다 ..\". format(number))\n",
        "  number += 1"
      ],
      "metadata": {
        "colab": {
          "base_uri": "https://localhost:8080/"
        },
        "id": "rwgJ539-xzQa",
        "outputId": "1a90c2d5-6c70-432f-c9ee-368df7977291"
      },
      "execution_count": 12,
      "outputs": [
        {
          "output_type": "stream",
          "name": "stdout",
          "text": [
            "1번 학생은 합격입니다!\n",
            "2번 학생은 불합격입니다 ..\n",
            "3번 학생은 합격입니다!\n",
            "4번 학생은 합격입니다!\n",
            "5번 학생은 불합격입니다 ..\n"
          ]
        }
      ]
    },
    {
      "cell_type": "code",
      "source": [
        "for i in range(1, 10, 1):\n",
        "  print(i)"
      ],
      "metadata": {
        "colab": {
          "base_uri": "https://localhost:8080/"
        },
        "id": "-FzMTPvNzEAE",
        "outputId": "337bbb10-699a-432d-f11c-1faa95d8f480"
      },
      "execution_count": 13,
      "outputs": [
        {
          "output_type": "stream",
          "name": "stdout",
          "text": [
            "1\n",
            "2\n",
            "3\n",
            "4\n",
            "5\n",
            "6\n",
            "7\n",
            "8\n",
            "9\n"
          ]
        }
      ]
    },
    {
      "cell_type": "code",
      "source": [
        "for j in range(1, 20, 3):\n",
        "  print(j)"
      ],
      "metadata": {
        "colab": {
          "base_uri": "https://localhost:8080/"
        },
        "id": "5aOlhrGm0U97",
        "outputId": "fb606ca9-0d42-4af1-f9b0-74bd400c8a44"
      },
      "execution_count": 18,
      "outputs": [
        {
          "output_type": "stream",
          "name": "stdout",
          "text": [
            "1\n",
            "4\n",
            "7\n",
            "10\n",
            "13\n",
            "16\n",
            "19\n"
          ]
        }
      ]
    },
    {
      "cell_type": "code",
      "source": [
        "for s in range(1, 10, 1):\n",
        "  print(s, end = \" \")"
      ],
      "metadata": {
        "colab": {
          "base_uri": "https://localhost:8080/"
        },
        "id": "nzNzPkrs0cAc",
        "outputId": "3af2f7c9-d41c-4bd0-c545-d2c31e106430"
      },
      "execution_count": 20,
      "outputs": [
        {
          "output_type": "stream",
          "name": "stdout",
          "text": [
            "1 2 3 4 5 6 7 8 9 "
          ]
        }
      ]
    },
    {
      "cell_type": "code",
      "source": [
        "for y in range(97, 76, -1):\n",
        "  print(y)"
      ],
      "metadata": {
        "colab": {
          "base_uri": "https://localhost:8080/"
        },
        "id": "ayBYQdU20_MN",
        "outputId": "e376fbde-8f62-4175-c621-fea4559c77bc"
      },
      "execution_count": 21,
      "outputs": [
        {
          "output_type": "stream",
          "name": "stdout",
          "text": [
            "97\n",
            "96\n",
            "95\n",
            "94\n",
            "93\n",
            "92\n",
            "91\n",
            "90\n",
            "89\n",
            "88\n",
            "87\n",
            "86\n",
            "85\n",
            "84\n",
            "83\n",
            "82\n",
            "81\n",
            "80\n",
            "79\n",
            "78\n",
            "77\n"
          ]
        }
      ]
    },
    {
      "cell_type": "code",
      "source": [
        "for a in range(23, 41):\n",
        "  print(a, end = \" \")"
      ],
      "metadata": {
        "colab": {
          "base_uri": "https://localhost:8080/"
        },
        "id": "-_BU9xcg1dsM",
        "outputId": "b4d58dd9-1cbe-4089-8750-d89fa9e59daf"
      },
      "execution_count": 23,
      "outputs": [
        {
          "output_type": "stream",
          "name": "stdout",
          "text": [
            "23 24 25 26 27 28 29 30 31 32 33 34 35 36 37 38 39 40 "
          ]
        }
      ]
    }
  ]
}