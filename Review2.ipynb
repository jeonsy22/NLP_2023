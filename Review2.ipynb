{
  "nbformat": 4,
  "nbformat_minor": 0,
  "metadata": {
    "colab": {
      "provenance": [],
      "authorship_tag": "ABX9TyN8I9DLH90TRwdrupoUv3ng",
      "include_colab_link": true
    },
    "kernelspec": {
      "name": "python3",
      "display_name": "Python 3"
    },
    "language_info": {
      "name": "python"
    }
  },
  "cells": [
    {
      "cell_type": "markdown",
      "metadata": {
        "id": "view-in-github",
        "colab_type": "text"
      },
      "source": [
        "<a href=\"https://colab.research.google.com/github/jeonsy22/NLP_2023/blob/main/Review2.ipynb\" target=\"_parent\"><img src=\"https://colab.research.google.com/assets/colab-badge.svg\" alt=\"Open In Colab\"/></a>"
      ]
    },
    {
      "cell_type": "markdown",
      "source": [
        "#✏️Review what you learned in the last session🔖"
      ],
      "metadata": {
        "id": "mcfETsmC8qCv"
      }
    },
    {
      "cell_type": "markdown",
      "source": [
        "# 📇 Indexing of Sequence Data\n",
        "| str data | I | ' | m |   | s | e | o | y | o | o | n |   | J | e | o | n |\n",
        "|:---------|:--|:--|:--|:--|:--|:--|:--|:--|:--|:--|:--|:--|:--|:--|:--|:--|\n",
        "| Forward Indexing | 0 | 1 | 2 | 3 | 4 | 5 | 6 | 7 | 8 | 9 | 10| 11| 12| 13| 14| 15|\n",
        "| Backward Indexing|-16|-15|-14| -13| -12| -11| -10| -9| -8| -7| -6| -5| -4| -3| -2|-1|"
      ],
      "metadata": {
        "id": "N4BYBesh9pAI"
      }
    },
    {
      "cell_type": "code",
      "execution_count": null,
      "metadata": {
        "id": "CM678Z5Q8FVK"
      },
      "outputs": [],
      "source": [
        "strdata = \"I'm seoyoon Jeon\""
      ]
    },
    {
      "cell_type": "code",
      "source": [
        "print(strdata[0])\n",
        "print(strdata[1])\n",
        "print(strdata[2])\n",
        "print(strdata[3])\n",
        "print(strdata[4])\n",
        "print(strdata[5])\n",
        "print(strdata[6])\n",
        "print(strdata[7])\n",
        "print(strdata[8])\n",
        "print(strdata[9])\n",
        "print(strdata[10])\n",
        "print(strdata[11])\n",
        "print(strdata[12])\n",
        "print(strdata[13])\n",
        "print(strdata[14])\n",
        "print(strdata[15])"
      ],
      "metadata": {
        "id": "BD2YmghC8cUA"
      },
      "execution_count": null,
      "outputs": []
    },
    {
      "cell_type": "code",
      "source": [
        "print(strdata[-2])\n",
        "print(strdata[-5])\n",
        "print(strdata[-6])\n",
        "print(strdata[-9])\n",
        "print(strdata[-14])"
      ],
      "metadata": {
        "colab": {
          "base_uri": "https://localhost:8080/"
        },
        "id": "og9Zwtf2-1Kj",
        "outputId": "99a3892b-70f3-4a9e-d920-92cf58d74083"
      },
      "execution_count": null,
      "outputs": [
        {
          "output_type": "stream",
          "name": "stdout",
          "text": [
            "o\n",
            " \n",
            "n\n",
            "y\n",
            "m\n"
          ]
        }
      ]
    },
    {
      "cell_type": "code",
      "source": [
        "strdata2 = \"Hello, I'm very happy!\""
      ],
      "metadata": {
        "id": "Um5f0CMf_Vca"
      },
      "execution_count": null,
      "outputs": []
    },
    {
      "cell_type": "code",
      "source": [
        "print(strdata2[2])\n",
        "print(strdata2[4])\n",
        "print(strdata2[-11])\n",
        "print(strdata2[12])\n",
        "print(strdata2[-1])"
      ],
      "metadata": {
        "colab": {
          "base_uri": "https://localhost:8080/"
        },
        "id": "9TnJ2WRM_ydA",
        "outputId": "2afbf9dc-75d9-407b-f730-29a772143ea6"
      },
      "execution_count": null,
      "outputs": [
        {
          "output_type": "stream",
          "name": "stdout",
          "text": [
            "l\n",
            "o\n",
            "v\n",
            "e\n",
            "!\n"
          ]
        }
      ]
    },
    {
      "cell_type": "code",
      "source": [
        "#@markdown 📒📝📎Practice List 📒📝📎\n",
        "list_data = ['cat', 'puppy', 'bare', 'rabbit', 'mouse']\n",
        "print(list_data)\n",
        "list_data[2] = 'Kangaroo'\n",
        "print(list_data)"
      ],
      "metadata": {
        "colab": {
          "base_uri": "https://localhost:8080/"
        },
        "id": "p7dj-qSEBBNB",
        "outputId": "9a47403a-ee1a-45f7-ea49-96f49627c0bc",
        "cellView": "form"
      },
      "execution_count": null,
      "outputs": [
        {
          "output_type": "stream",
          "name": "stdout",
          "text": [
            "['cat', 'puppy', 'bare', 'rabbit', 'mouse']\n",
            "['cat', 'puppy', 'Kangaroo', 'rabbit', 'mouse']\n"
          ]
        }
      ]
    },
    {
      "cell_type": "code",
      "source": [
        "list_data2 = ['나무늘보', '판다', '사슴', '기린', '돼지']\n",
        "print(list_data2)\n",
        "list_data2[4] = '쿼카'\n",
        "print(list_data2)"
      ],
      "metadata": {
        "colab": {
          "base_uri": "https://localhost:8080/"
        },
        "id": "qpGnKjy4Brsz",
        "outputId": "f4d3e4f9-cec8-4538-8b6b-df712b708546"
      },
      "execution_count": null,
      "outputs": [
        {
          "output_type": "stream",
          "name": "stdout",
          "text": [
            "['나무늘보', '판다', '사슴', '기린', '돼지']\n",
            "['나무늘보', '판다', '사슴', '기린', '쿼카']\n"
          ]
        }
      ]
    },
    {
      "cell_type": "code",
      "source": [
        "#@markdown 📒📝📎Practice Tuple📒📝📎\n",
        "tuple_data = (1, 2, 3, 4, 5, 6, 7, 8)\n",
        "print(tuple_data)"
      ],
      "metadata": {
        "colab": {
          "base_uri": "https://localhost:8080/"
        },
        "cellView": "form",
        "id": "kKP3OCwbFl0M",
        "outputId": "69b448a1-7d54-4a4b-de09-fb40725f3c96"
      },
      "execution_count": 1,
      "outputs": [
        {
          "output_type": "stream",
          "name": "stdout",
          "text": [
            "(1, 2, 3, 4, 5, 6, 7, 8)\n"
          ]
        }
      ]
    },
    {
      "cell_type": "code",
      "source": [
        "tuple_data2 = (4, 5, 6, 7, 8)\n",
        "print(tuple_data2)\n",
        "tuple_data2[2] = (10)\n",
        "print(tuple_data2)"
      ],
      "metadata": {
        "colab": {
          "base_uri": "https://localhost:8080/",
          "height": 252
        },
        "id": "usVcj2dSGyG-",
        "outputId": "305d5a3c-ab2b-4995-c93f-be5c18180dd8"
      },
      "execution_count": 2,
      "outputs": [
        {
          "output_type": "stream",
          "name": "stdout",
          "text": [
            "(4, 5, 6, 7, 8)\n"
          ]
        },
        {
          "output_type": "error",
          "ename": "TypeError",
          "evalue": "ignored",
          "traceback": [
            "\u001b[0;31m---------------------------------------------------------------------------\u001b[0m",
            "\u001b[0;31mTypeError\u001b[0m                                 Traceback (most recent call last)",
            "\u001b[0;32m<ipython-input-2-d3c9bafafa09>\u001b[0m in \u001b[0;36m<cell line: 3>\u001b[0;34m()\u001b[0m\n\u001b[1;32m      1\u001b[0m \u001b[0mtuple_data2\u001b[0m \u001b[0;34m=\u001b[0m \u001b[0;34m(\u001b[0m\u001b[0;36m4\u001b[0m\u001b[0;34m,\u001b[0m \u001b[0;36m5\u001b[0m\u001b[0;34m,\u001b[0m \u001b[0;36m6\u001b[0m\u001b[0;34m,\u001b[0m \u001b[0;36m7\u001b[0m\u001b[0;34m,\u001b[0m \u001b[0;36m8\u001b[0m\u001b[0;34m)\u001b[0m\u001b[0;34m\u001b[0m\u001b[0;34m\u001b[0m\u001b[0m\n\u001b[1;32m      2\u001b[0m \u001b[0mprint\u001b[0m\u001b[0;34m(\u001b[0m\u001b[0mtuple_data2\u001b[0m\u001b[0;34m)\u001b[0m\u001b[0;34m\u001b[0m\u001b[0;34m\u001b[0m\u001b[0m\n\u001b[0;32m----> 3\u001b[0;31m \u001b[0mtuple_data2\u001b[0m\u001b[0;34m[\u001b[0m\u001b[0;36m2\u001b[0m\u001b[0;34m]\u001b[0m \u001b[0;34m=\u001b[0m \u001b[0;34m(\u001b[0m\u001b[0;36m10\u001b[0m\u001b[0;34m)\u001b[0m\u001b[0;34m\u001b[0m\u001b[0;34m\u001b[0m\u001b[0m\n\u001b[0m\u001b[1;32m      4\u001b[0m \u001b[0mprint\u001b[0m\u001b[0;34m(\u001b[0m\u001b[0mtuple_data2\u001b[0m\u001b[0;34m)\u001b[0m\u001b[0;34m\u001b[0m\u001b[0;34m\u001b[0m\u001b[0m\n",
            "\u001b[0;31mTypeError\u001b[0m: 'tuple' object does not support item assignment"
          ]
        }
      ]
    },
    {
      "cell_type": "code",
      "source": [
        "str_data = \"I'm so happy!!\"\n",
        "print(str_data[0])\n",
        "print(str_data[1])\n",
        "print(str_data[2])\n",
        "print(str_data[3])\n",
        "print(str_data[4])\n",
        "print(str_data[5])\n",
        "print(str_data[6])\n",
        "print(str_data[7])\n",
        "print(str_data[8])\n",
        "print(str_data[9])\n",
        "print(str_data[10])\n",
        "print(str_data[11])\n",
        "print(str_data[12])\n",
        "print(str_data[13])"
      ],
      "metadata": {
        "colab": {
          "base_uri": "https://localhost:8080/"
        },
        "id": "1dFv6itQHOxw",
        "outputId": "fac108ad-593b-4f7a-9de2-c94e70545ddf"
      },
      "execution_count": 6,
      "outputs": [
        {
          "output_type": "stream",
          "name": "stdout",
          "text": [
            "I\n",
            "'\n",
            "m\n",
            " \n",
            "s\n",
            "o\n",
            " \n",
            "h\n",
            "a\n",
            "p\n",
            "p\n",
            "y\n",
            "!\n",
            "!\n"
          ]
        }
      ]
    },
    {
      "cell_type": "code",
      "source": [
        "print(str_data[1:5])\n",
        "print(str_data[:10])\n",
        "print(str_data[0:-4])"
      ],
      "metadata": {
        "colab": {
          "base_uri": "https://localhost:8080/"
        },
        "id": "5DpLvz3gHnsA",
        "outputId": "83e0ffcc-e94e-44bf-8a18-6e4ac46899d9"
      },
      "execution_count": 11,
      "outputs": [
        {
          "output_type": "stream",
          "name": "stdout",
          "text": [
            "'m s\n",
            "I'm so hap\n",
            "I'm so hap\n"
          ]
        }
      ]
    },
    {
      "cell_type": "code",
      "source": [
        "str_data1 = \"I like \" ; str_data2 = \"banana!\"\n",
        "print(str_data1 + str_data2)\n",
        "print(str_data1 * 6)\n",
        "print(str_data2 * 3)\n",
        "print(str_data1 * str_data2)"
      ],
      "metadata": {
        "colab": {
          "base_uri": "https://localhost:8080/",
          "height": 270
        },
        "id": "RHm1ExZPJ1Uj",
        "outputId": "38c57407-a7df-4352-babc-c50f003d0426"
      },
      "execution_count": 15,
      "outputs": [
        {
          "output_type": "stream",
          "name": "stdout",
          "text": [
            "I like banana!\n",
            "I like I like I like I like I like I like \n",
            "banana!banana!banana!\n"
          ]
        },
        {
          "output_type": "error",
          "ename": "TypeError",
          "evalue": "ignored",
          "traceback": [
            "\u001b[0;31m---------------------------------------------------------------------------\u001b[0m",
            "\u001b[0;31mTypeError\u001b[0m                                 Traceback (most recent call last)",
            "\u001b[0;32m<ipython-input-15-c8c7f810a21c>\u001b[0m in \u001b[0;36m<cell line: 5>\u001b[0;34m()\u001b[0m\n\u001b[1;32m      3\u001b[0m \u001b[0mprint\u001b[0m\u001b[0;34m(\u001b[0m\u001b[0mstr_data1\u001b[0m \u001b[0;34m*\u001b[0m \u001b[0;36m6\u001b[0m\u001b[0;34m)\u001b[0m\u001b[0;34m\u001b[0m\u001b[0;34m\u001b[0m\u001b[0m\n\u001b[1;32m      4\u001b[0m \u001b[0mprint\u001b[0m\u001b[0;34m(\u001b[0m\u001b[0mstr_data2\u001b[0m \u001b[0;34m*\u001b[0m \u001b[0;36m3\u001b[0m\u001b[0;34m)\u001b[0m\u001b[0;34m\u001b[0m\u001b[0;34m\u001b[0m\u001b[0m\n\u001b[0;32m----> 5\u001b[0;31m \u001b[0mprint\u001b[0m\u001b[0;34m(\u001b[0m\u001b[0mstr_data1\u001b[0m \u001b[0;34m*\u001b[0m \u001b[0mstr_data2\u001b[0m\u001b[0;34m)\u001b[0m\u001b[0;34m\u001b[0m\u001b[0;34m\u001b[0m\u001b[0m\n\u001b[0m",
            "\u001b[0;31mTypeError\u001b[0m: can't multiply sequence by non-int of type 'str'"
          ]
        }
      ]
    }
  ]
}