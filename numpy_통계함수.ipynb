{
  "nbformat": 4,
  "nbformat_minor": 0,
  "metadata": {
    "colab": {
      "provenance": [],
      "authorship_tag": "ABX9TyOW2DsrgHQM6R9Gd3u32Z7U",
      "include_colab_link": true
    },
    "kernelspec": {
      "name": "python3",
      "display_name": "Python 3"
    },
    "language_info": {
      "name": "python"
    }
  },
  "cells": [
    {
      "cell_type": "markdown",
      "metadata": {
        "id": "view-in-github",
        "colab_type": "text"
      },
      "source": [
        "<a href=\"https://colab.research.google.com/github/jeonsy22/NLP_2023/blob/main/numpy_%ED%86%B5%EA%B3%84%ED%95%A8%EC%88%98.ipynb\" target=\"_parent\"><img src=\"https://colab.research.google.com/assets/colab-badge.svg\" alt=\"Open In Colab\"/></a>"
      ]
    },
    {
      "cell_type": "markdown",
      "source": [
        "#numpy - 통계함수\n",
        "* sum: 합계\n",
        "* mean: 평균\n",
        "* max: 가장 큰 수\n",
        "* min: 가장 작은 수\n",
        "* std: 표준편차\n",
        "* var: 분산"
      ],
      "metadata": {
        "id": "cRI_EbrkTdY0"
      }
    },
    {
      "cell_type": "code",
      "execution_count": 1,
      "metadata": {
        "colab": {
          "base_uri": "https://localhost:8080/"
        },
        "id": "-cWVyewoSeOL",
        "outputId": "bb39ac37-4bf7-469b-cfd3-515fcf2ac65c"
      },
      "outputs": [
        {
          "output_type": "stream",
          "name": "stdout",
          "text": [
            "[[0 1 2 3 4]\n",
            " [5 6 7 8 9]]\n"
          ]
        }
      ],
      "source": [
        "import numpy as np\n",
        "a = np.arange(10).reshape(2, 5)\n",
        "print(a)"
      ]
    },
    {
      "cell_type": "code",
      "source": [
        "x = np.sum(a)\n",
        "print(x)"
      ],
      "metadata": {
        "colab": {
          "base_uri": "https://localhost:8080/"
        },
        "id": "DhLxRt1yT9p6",
        "outputId": "50d28677-3aca-4ec0-9153-7f5f3b5b23c8"
      },
      "execution_count": 2,
      "outputs": [
        {
          "output_type": "stream",
          "name": "stdout",
          "text": [
            "45\n"
          ]
        }
      ]
    },
    {
      "cell_type": "code",
      "source": [
        "x = np.mean(a)\n",
        "print(x)"
      ],
      "metadata": {
        "colab": {
          "base_uri": "https://localhost:8080/"
        },
        "id": "mssJKRkwUB9-",
        "outputId": "51967cc0-0133-452b-e754-a4a7d2c1e379"
      },
      "execution_count": 3,
      "outputs": [
        {
          "output_type": "stream",
          "name": "stdout",
          "text": [
            "4.5\n"
          ]
        }
      ]
    },
    {
      "cell_type": "code",
      "source": [
        "a[0][0] = 10\n",
        "print(a)"
      ],
      "metadata": {
        "colab": {
          "base_uri": "https://localhost:8080/"
        },
        "id": "9CIZifYDUE3K",
        "outputId": "fa65c215-37f1-4453-8f00-deaa9286e40c"
      },
      "execution_count": 5,
      "outputs": [
        {
          "output_type": "stream",
          "name": "stdout",
          "text": [
            "[[10  1  2  3  4]\n",
            " [ 5  6  7  8  9]]\n"
          ]
        }
      ]
    },
    {
      "cell_type": "code",
      "source": [
        "a[1][2] = 70\n",
        "print(a)"
      ],
      "metadata": {
        "colab": {
          "base_uri": "https://localhost:8080/"
        },
        "id": "5yX-YNXJULJD",
        "outputId": "3af913cb-a966-4ada-f406-eb78aa6ea1ab"
      },
      "execution_count": 6,
      "outputs": [
        {
          "output_type": "stream",
          "name": "stdout",
          "text": [
            "[[10  1  2  3  4]\n",
            " [ 5  6 70  8  9]]\n"
          ]
        }
      ]
    },
    {
      "cell_type": "markdown",
      "source": [
        "## 실접연습 01"
      ],
      "metadata": {
        "id": "QAVzy4yHUcfC"
      }
    },
    {
      "cell_type": "code",
      "source": [
        "import numpy as np\n",
        "점수 = np.array([80, 88, 90, 95])\n",
        "단위 = np.array([3, 2, 1, 4])\n",
        "총점 = sum(점수 * 단위)\n",
        "평균 = 총점/sum(단위)\n",
        "print(총점, 평균)"
      ],
      "metadata": {
        "colab": {
          "base_uri": "https://localhost:8080/"
        },
        "id": "8aL2BLFXUS9-",
        "outputId": "b9496f82-1433-475d-86cd-bdccff82137e"
      },
      "execution_count": 8,
      "outputs": [
        {
          "output_type": "stream",
          "name": "stdout",
          "text": [
            "886 88.6\n"
          ]
        }
      ]
    },
    {
      "cell_type": "code",
      "source": [
        "import numpy as np\n",
        "점수 = np.array([80, 88, 90, 95])\n",
        "단위 = np.array([3, 2, 1, 4])\n",
        "총점 = sum(점수 * 단위)\n",
        "평균 = np.mean(점수)\n",
        "print(총점, 평균)"
      ],
      "metadata": {
        "colab": {
          "base_uri": "https://localhost:8080/"
        },
        "id": "AaSOOBFSVOjW",
        "outputId": "e312b705-59f8-4838-cd65-97851fb70028"
      },
      "execution_count": 9,
      "outputs": [
        {
          "output_type": "stream",
          "name": "stdout",
          "text": [
            "886 88.25\n"
          ]
        }
      ]
    },
    {
      "cell_type": "code",
      "source": [
        "import numpy as np\n",
        "점수 = np.array([80, 88, 90, 95])\n",
        "단위 = np.array([3, 2, 1, 4])\n",
        "총점 = sum(점수 * 단위)\n",
        "평균 = np.mean(점수)\n",
        "print('총점은:', 총점,'평균은:', 평균)"
      ],
      "metadata": {
        "colab": {
          "base_uri": "https://localhost:8080/"
        },
        "id": "m75k5Q6jVfmX",
        "outputId": "8dcda018-7e48-425a-ad28-e897f6449b1c"
      },
      "execution_count": 11,
      "outputs": [
        {
          "output_type": "stream",
          "name": "stdout",
          "text": [
            "총점은: 886 평균은: 88.25\n"
          ]
        }
      ]
    },
    {
      "cell_type": "code",
      "source": [
        "import numpy as np\n",
        "점수 = np.array([80, 88, 90, 95])\n",
        "단위 = np.array([3, 2, 1, 4])\n",
        "총점 = sum(점수 * 단위)\n",
        "평균 = np.mean(점수)\n",
        "print('총점은:', 총점,'평균은:', 평균)\n",
        "print('총점은:{}, 평균은 {}'. format(총점, 평균))"
      ],
      "metadata": {
        "colab": {
          "base_uri": "https://localhost:8080/"
        },
        "id": "ZK_kxQBvVwbE",
        "outputId": "91f1d476-c15d-43c7-a756-6602a0e13f9b"
      },
      "execution_count": 12,
      "outputs": [
        {
          "output_type": "stream",
          "name": "stdout",
          "text": [
            "총점은: 886 평균은: 88.25\n",
            "총점은:886, 평균은 88.25\n"
          ]
        }
      ]
    },
    {
      "cell_type": "markdown",
      "source": [
        "         감    사과    귤    배\n",
        "Kcal()   90    130    100    360\n",
        "\n",
        "1. 하루 먹은 과일의 총 kacl는 몇인가? (total)\n",
        "2. 과일 4개의 평균 kcal은 몇인가?(ave)\n",
        "3. 칼로리가 가장 높은 과일은 몇 kcal인가?(H_K)\n",
        "4. 칼로리가 가장 낮은 과일은 몇 kcal인가?(L_K)"
      ],
      "metadata": {
        "id": "Vhcs2fU0WqOA"
      }
    },
    {
      "cell_type": "code",
      "source": [
        "import numpy as np\n",
        "Kcal = np.array([90, 130, 100, 360])\n",
        "total = np.sum(Kcal)\n",
        "ave = np.mean(Kcal)\n",
        "H_K = max(Kcal)\n",
        "L_K = min(Kcal)\n",
        "print('총 Kcal:', total)\n",
        "print('평균 Kcal:', ave)\n",
        "print('가장 높은 kcal:', H_K)\n",
        "print('가장 낮은 Kcal:', L_K)"
      ],
      "metadata": {
        "colab": {
          "base_uri": "https://localhost:8080/"
        },
        "id": "YaEGE0woWdpD",
        "outputId": "afc6e6ab-c413-4f69-facc-ad8218df4d36"
      },
      "execution_count": 13,
      "outputs": [
        {
          "output_type": "stream",
          "name": "stdout",
          "text": [
            "총 Kcal: 680\n",
            "평균 Kcal: 170.0\n",
            "가장 높은 kcal: 360\n",
            "가장 낮은 Kcal: 90\n"
          ]
        }
      ]
    }
  ]
}