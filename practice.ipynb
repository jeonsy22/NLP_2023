{
  "cells": [
    {
      "cell_type": "markdown",
      "metadata": {
        "id": "view-in-github",
        "colab_type": "text"
      },
      "source": [
        "<a href=\"https://colab.research.google.com/github/jeonsy22/NLP_2023/blob/main/practice.ipynb\" target=\"_parent\"><img src=\"https://colab.research.google.com/assets/colab-badge.svg\" alt=\"Open In Colab\"/></a>"
      ]
    },
    {
      "cell_type": "code",
      "execution_count": null,
      "metadata": {
        "id": "Eu5o_9hXva7D"
      },
      "outputs": [],
      "source": [
        "name = \" Jeon seo yoon \""
      ]
    },
    {
      "cell_type": "code",
      "execution_count": null,
      "metadata": {
        "id": "bCzIca9OwGpj"
      },
      "outputs": [],
      "source": [
        "age = \" 21 \""
      ]
    },
    {
      "cell_type": "code",
      "execution_count": null,
      "metadata": {
        "colab": {
          "base_uri": "https://localhost:8080/"
        },
        "id": "GayRIgNkwLWP",
        "outputId": "6f454b9e-5a12-4328-93f4-375754af2146"
      },
      "outputs": [
        {
          "name": "stdout",
          "output_type": "stream",
          "text": [
            " Jeon seo yoon \n",
            " 21 \n"
          ]
        }
      ],
      "source": [
        "print(name)\n",
        "print(age)"
      ]
    },
    {
      "cell_type": "code",
      "execution_count": 10,
      "metadata": {
        "id": "hMVM8V3twipk"
      },
      "outputs": [],
      "source": [
        "Hi = \" Hello, This is my world.\\n My name is Jeonseoyoon.\""
      ]
    },
    {
      "cell_type": "code",
      "execution_count": 11,
      "metadata": {
        "id": "lqsz-VJxxT5Q",
        "colab": {
          "base_uri": "https://localhost:8080/"
        },
        "outputId": "8381c93f-fc4f-4288-97d4-3f5a95210c46"
      },
      "outputs": [
        {
          "output_type": "stream",
          "name": "stdout",
          "text": [
            " Hello, This is my world.\n",
            " My name is Jeonseoyoon.\n"
          ]
        }
      ],
      "source": [
        "print(Hi)"
      ]
    },
    {
      "cell_type": "code",
      "source": [
        "first = \" Life is \""
      ],
      "metadata": {
        "id": "lK8BH5rrxebU"
      },
      "execution_count": 12,
      "outputs": []
    },
    {
      "cell_type": "code",
      "source": [
        "second = \" beautiful!!\""
      ],
      "metadata": {
        "id": "qEG61R9iyQrm"
      },
      "execution_count": 15,
      "outputs": []
    },
    {
      "cell_type": "code",
      "source": [
        "print(first + second)"
      ],
      "metadata": {
        "colab": {
          "base_uri": "https://localhost:8080/"
        },
        "id": "X3WwNyIGybI6",
        "outputId": "0c7c7085-1ed2-4264-a323-a8e0cf145cb6"
      },
      "execution_count": 16,
      "outputs": [
        {
          "output_type": "stream",
          "name": "stdout",
          "text": [
            " Life is  beautiful!!\n"
          ]
        }
      ]
    },
    {
      "cell_type": "code",
      "source": [
        "first + second"
      ],
      "metadata": {
        "colab": {
          "base_uri": "https://localhost:8080/",
          "height": 35
        },
        "id": "zw1EQxA7zCxT",
        "outputId": "c5a5268c-d622-4faa-96d0-0c72db5d623d"
      },
      "execution_count": 19,
      "outputs": [
        {
          "output_type": "execute_result",
          "data": {
            "text/plain": [
              "' Life is  beautiful!!'"
            ],
            "application/vnd.google.colaboratory.intrinsic+json": {
              "type": "string"
            }
          },
          "metadata": {},
          "execution_count": 19
        }
      ]
    },
    {
      "cell_type": "code",
      "source": [
        "a = \" Github \""
      ],
      "metadata": {
        "id": "RdJKPbW9yu7I"
      },
      "execution_count": 17,
      "outputs": []
    },
    {
      "cell_type": "code",
      "source": [
        "a * 2"
      ],
      "metadata": {
        "colab": {
          "base_uri": "https://localhost:8080/",
          "height": 35
        },
        "id": "aEFaeF4Xy4aO",
        "outputId": "f3862f57-7cc6-4b2a-b44b-41e57aa92425"
      },
      "execution_count": 18,
      "outputs": [
        {
          "output_type": "execute_result",
          "data": {
            "text/plain": [
              "' Github  Github '"
            ],
            "application/vnd.google.colaboratory.intrinsic+json": {
              "type": "string"
            }
          },
          "metadata": {},
          "execution_count": 18
        }
      ]
    }
  ],
  "metadata": {
    "colab": {
      "provenance": [],
      "authorship_tag": "ABX9TyPluwAEkakowomQl613tIYL",
      "include_colab_link": true
    },
    "kernelspec": {
      "display_name": "Python 3",
      "name": "python3"
    },
    "language_info": {
      "name": "python"
    }
  },
  "nbformat": 4,
  "nbformat_minor": 0
}